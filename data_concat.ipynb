{
  "nbformat": 4,
  "nbformat_minor": 0,
  "metadata": {
    "orig_nbformat": 4,
    "language_info": {
      "name": "python",
      "version": "3.9.7",
      "mimetype": "text/x-python",
      "codemirror_mode": {
        "name": "ipython",
        "version": 3
      },
      "pygments_lexer": "ipython3",
      "nbconvert_exporter": "python",
      "file_extension": ".py"
    },
    "kernelspec": {
      "name": "python3",
      "display_name": "Python 3.9.7 64-bit"
    },
    "interpreter": {
      "hash": "8f94479b2a08171ba1828a63de5ca55087d6de5ec124e7074b926f1ca5296e10"
    },
    "colab": {
      "name": "data_concat.ipynb",
      "provenance": [],
      "collapsed_sections": []
    }
  },
  "cells": [
    {
      "cell_type": "code",
      "metadata": {
        "id": "6vbsUlRqXJpU"
      },
      "source": [
        "import pandas as pd\n",
        "import numpy as np\n",
        "import matplotlib.pyplot as plt"
      ],
      "execution_count": null,
      "outputs": []
    },
    {
      "cell_type": "code",
      "metadata": {
        "id": "qbIfoPxbXJpV"
      },
      "source": [
        "# 충전소이용가능 한시간이 상이하므로, 생활인구를 시간대별로 나눴습니다.\n",
        "# 0시 ~ 9시, 9시~18시, 18시~24시, 0~24시\n",
        "df_zero2nine = pd.read_excel('zero2nine.xlsx')\n",
        "df_nine2eighteen = pd.read_excel('nine2eighteen.xlsx')\n",
        "df_eighteen224 = pd.read_excel('eighteen224.xlsx')\n",
        "df_zero224 = pd.read_excel('zero224.xlsx')\n",
        "# 서울시 고속도로 진입할 수 있는 동 데이터입니다.\n",
        "df_highway = pd.read_excel('고속도로_final.xlsx')"
      ],
      "execution_count": null,
      "outputs": []
    },
    {
      "cell_type": "code",
      "metadata": {
        "id": "JS9yGniyXJpW",
        "outputId": "b9aca8dd-049b-43bd-b887-a9209b00cebf"
      },
      "source": [
        "# 고속도로 탈 수 있는 동내를 찾고 가중치를 두었습니다.\n",
        "df_highway.set_index('dong', inplace = True)\n",
        "df_highway"
      ],
      "execution_count": null,
      "outputs": [
        {
          "output_type": "execute_result",
          "data": {
            "text/html": [
              "<div>\n",
              "<style scoped>\n",
              "    .dataframe tbody tr th:only-of-type {\n",
              "        vertical-align: middle;\n",
              "    }\n",
              "\n",
              "    .dataframe tbody tr th {\n",
              "        vertical-align: top;\n",
              "    }\n",
              "\n",
              "    .dataframe thead th {\n",
              "        text-align: right;\n",
              "    }\n",
              "</style>\n",
              "<table border=\"1\" class=\"dataframe\">\n",
              "  <thead>\n",
              "    <tr style=\"text-align: right;\">\n",
              "      <th></th>\n",
              "      <th>weight</th>\n",
              "    </tr>\n",
              "    <tr>\n",
              "      <th>dong</th>\n",
              "      <th></th>\n",
              "    </tr>\n",
              "  </thead>\n",
              "  <tbody>\n",
              "    <tr>\n",
              "      <th>세곡동</th>\n",
              "      <td>2.00</td>\n",
              "    </tr>\n",
              "    <tr>\n",
              "      <th>고덕1동</th>\n",
              "      <td>1.00</td>\n",
              "    </tr>\n",
              "    <tr>\n",
              "      <th>고덕2동</th>\n",
              "      <td>1.00</td>\n",
              "    </tr>\n",
              "    <tr>\n",
              "      <th>강일동</th>\n",
              "      <td>2.00</td>\n",
              "    </tr>\n",
              "    <tr>\n",
              "      <th>상일동</th>\n",
              "      <td>1.00</td>\n",
              "    </tr>\n",
              "    <tr>\n",
              "      <th>방화1동</th>\n",
              "      <td>1.00</td>\n",
              "    </tr>\n",
              "    <tr>\n",
              "      <th>방화2동</th>\n",
              "      <td>1.00</td>\n",
              "    </tr>\n",
              "    <tr>\n",
              "      <th>방화3동</th>\n",
              "      <td>1.00</td>\n",
              "    </tr>\n",
              "    <tr>\n",
              "      <th>시흥1동</th>\n",
              "      <td>0.35</td>\n",
              "    </tr>\n",
              "    <tr>\n",
              "      <th>시흥2동</th>\n",
              "      <td>0.35</td>\n",
              "    </tr>\n",
              "    <tr>\n",
              "      <th>시흥3동</th>\n",
              "      <td>0.35</td>\n",
              "    </tr>\n",
              "    <tr>\n",
              "      <th>독산1동</th>\n",
              "      <td>0.35</td>\n",
              "    </tr>\n",
              "    <tr>\n",
              "      <th>독산2동</th>\n",
              "      <td>0.35</td>\n",
              "    </tr>\n",
              "    <tr>\n",
              "      <th>독산3동</th>\n",
              "      <td>0.35</td>\n",
              "    </tr>\n",
              "    <tr>\n",
              "      <th>상계1동</th>\n",
              "      <td>1.00</td>\n",
              "    </tr>\n",
              "    <tr>\n",
              "      <th>내곡동</th>\n",
              "      <td>3.00</td>\n",
              "    </tr>\n",
              "    <tr>\n",
              "      <th>양재1동</th>\n",
              "      <td>0.70</td>\n",
              "    </tr>\n",
              "    <tr>\n",
              "      <th>양재2동</th>\n",
              "      <td>0.70</td>\n",
              "    </tr>\n",
              "    <tr>\n",
              "      <th>장지동</th>\n",
              "      <td>1.00</td>\n",
              "    </tr>\n",
              "    <tr>\n",
              "      <th>거여1동</th>\n",
              "      <td>0.50</td>\n",
              "    </tr>\n",
              "    <tr>\n",
              "      <th>거여2동</th>\n",
              "      <td>0.50</td>\n",
              "    </tr>\n",
              "    <tr>\n",
              "      <th>마천1동</th>\n",
              "      <td>0.50</td>\n",
              "    </tr>\n",
              "    <tr>\n",
              "      <th>마천2동</th>\n",
              "      <td>0.50</td>\n",
              "    </tr>\n",
              "  </tbody>\n",
              "</table>\n",
              "</div>"
            ],
            "text/plain": [
              "      weight\n",
              "dong        \n",
              "세곡동     2.00\n",
              "고덕1동    1.00\n",
              "고덕2동    1.00\n",
              "강일동     2.00\n",
              "상일동     1.00\n",
              "방화1동    1.00\n",
              "방화2동    1.00\n",
              "방화3동    1.00\n",
              "시흥1동    0.35\n",
              "시흥2동    0.35\n",
              "시흥3동    0.35\n",
              "독산1동    0.35\n",
              "독산2동    0.35\n",
              "독산3동    0.35\n",
              "상계1동    1.00\n",
              "내곡동     3.00\n",
              "양재1동    0.70\n",
              "양재2동    0.70\n",
              "장지동     1.00\n",
              "거여1동    0.50\n",
              "거여2동    0.50\n",
              "마천1동    0.50\n",
              "마천2동    0.50"
            ]
          },
          "metadata": {},
          "execution_count": 78
        }
      ]
    },
    {
      "cell_type": "code",
      "metadata": {
        "id": "SYp4KJQPXJpW"
      },
      "source": [
        "# 데이터 column 이름을 dong으로 바꾼후 데이터를 다루려고 합니다.\n",
        "df_9218 = df_nine2eighteen.rename(columns={'행정동명':'dong'})\n",
        "df_9218 = df_9218.set_index('dong')\n",
        "df_029 = df_zero2nine.rename(columns={'행정동명':'dong'})\n",
        "df_029 = df_029.set_index('dong')\n",
        "df_18224 = df_eighteen224.rename(columns={'행정동명':'dong'})\n",
        "df_18224 = df_18224.set_index('dong')\n",
        "df_0224 = df_zero224.rename(columns={'행정동명':'dong'})\n",
        "df_0224 = df_0224.set_index('dong')"
      ],
      "execution_count": null,
      "outputs": []
    },
    {
      "cell_type": "code",
      "metadata": {
        "id": "7RbudoZkXJpX"
      },
      "source": [
        "# merge 함수를 이용해서 고속도로 데이터와 생활인구 데이터를 합쳤습니다.\n",
        "result1 = pd.merge(df_highway,df_9218,on='dong',how='right')"
      ],
      "execution_count": null,
      "outputs": []
    },
    {
      "cell_type": "code",
      "metadata": {
        "id": "79MJJmVxXJpX"
      },
      "source": [
        "df_9to18=result1"
      ],
      "execution_count": null,
      "outputs": []
    },
    {
      "cell_type": "code",
      "metadata": {
        "id": "mWN1qJpkXJpX"
      },
      "source": [
        "df_0to9 = pd.merge(df_highway,df_029,on='dong',how='right')\n",
        "df_18to24 = pd.merge(df_highway,df_18224,on='dong',how='right')\n",
        "df_0to24 = pd.merge(df_highway,df_0224,on='dong',how='right')"
      ],
      "execution_count": null,
      "outputs": []
    },
    {
      "cell_type": "code",
      "metadata": {
        "id": "U785zGlWXJpX"
      },
      "source": [
        "# 생활인구 데이터와 고속도로 데이터를 합친 DataFrame을 저장합니다.\n",
        "df_9to18.to_excel('./9to18.xlsx')\n",
        "df_0to9.to_excel('./0to9.xlsx')\n",
        "df_18to24.to_excel('./18to24.xlsx')\n",
        "df_0to24.to_excel('./0to24.xlsx')"
      ],
      "execution_count": null,
      "outputs": []
    },
    {
      "cell_type": "code",
      "metadata": {
        "id": "kX3OLkHsXJpY"
      },
      "source": [
        "charger = pd.read_excel('./total_final (2).xlsx')\n",
        "charger.set_index('dong', inplace = True)"
      ],
      "execution_count": null,
      "outputs": []
    },
    {
      "cell_type": "code",
      "metadata": {
        "id": "BmGUzQvDXJpY",
        "outputId": "d406c553-2b2f-4c27-c9aa-4e4f0733aaf6"
      },
      "source": [
        "df_0to24.count()"
      ],
      "execution_count": null,
      "outputs": [
        {
          "output_type": "execute_result",
          "data": {
            "text/plain": [
              "weight     23\n",
              "총생활인구수    423\n",
              "dtype: int64"
            ]
          },
          "metadata": {},
          "execution_count": 95
        }
      ]
    },
    {
      "cell_type": "code",
      "metadata": {
        "id": "xiXRMw_uXJpY"
      },
      "source": [
        "#merge 함수를 이용하여 생황인구 데이터, 고속도로 데이터, 충전기 데이터를 합쳐서 하나의 DataFrame을 만들었습니다. \n",
        "df_0to9_final = pd.merge(df_0to9,charger,on='dong',how='right')\n",
        "df_9to18_final = pd.merge(df_9to18,charger,on='dong',how='right')\n",
        "df_18to24_final = pd.merge(df_18to24,charger,on='dong',how='right')\n",
        "df_0to24_final = pd.merge(df_0to24,charger,on='dong',how='right')"
      ],
      "execution_count": null,
      "outputs": []
    },
    {
      "cell_type": "code",
      "metadata": {
        "id": "KKBskoR0XJpY",
        "outputId": "72a6f724-ca9a-4cad-9574-991e7607f386"
      },
      "source": [
        "df_0to9_final.head()"
      ],
      "execution_count": null,
      "outputs": [
        {
          "output_type": "execute_result",
          "data": {
            "text/html": [
              "<div>\n",
              "<style scoped>\n",
              "    .dataframe tbody tr th:only-of-type {\n",
              "        vertical-align: middle;\n",
              "    }\n",
              "\n",
              "    .dataframe tbody tr th {\n",
              "        vertical-align: top;\n",
              "    }\n",
              "\n",
              "    .dataframe thead th {\n",
              "        text-align: right;\n",
              "    }\n",
              "</style>\n",
              "<table border=\"1\" class=\"dataframe\">\n",
              "  <thead>\n",
              "    <tr style=\"text-align: right;\">\n",
              "      <th></th>\n",
              "      <th>weight</th>\n",
              "      <th>총생활인구수</th>\n",
              "      <th>Unnamed: 0</th>\n",
              "      <th>fulltime_fch</th>\n",
              "      <th>fulltime_fch_constraint</th>\n",
              "      <th>nonfulltime_fch</th>\n",
              "      <th>nonfulltime_fch_constraint</th>\n",
              "      <th>fulltime_sch</th>\n",
              "      <th>fulltime_sch_constraint</th>\n",
              "      <th>nonfulltime_sch</th>\n",
              "      <th>nonfulltime_sch_constraint</th>\n",
              "    </tr>\n",
              "    <tr>\n",
              "      <th>dong</th>\n",
              "      <th></th>\n",
              "      <th></th>\n",
              "      <th></th>\n",
              "      <th></th>\n",
              "      <th></th>\n",
              "      <th></th>\n",
              "      <th></th>\n",
              "      <th></th>\n",
              "      <th></th>\n",
              "      <th></th>\n",
              "      <th></th>\n",
              "    </tr>\n",
              "  </thead>\n",
              "  <tbody>\n",
              "    <tr>\n",
              "      <th>개포1동</th>\n",
              "      <td>NaN</td>\n",
              "      <td>8100.326260</td>\n",
              "      <td>0</td>\n",
              "      <td>0</td>\n",
              "      <td>0</td>\n",
              "      <td>0</td>\n",
              "      <td>0</td>\n",
              "      <td>0</td>\n",
              "      <td>0</td>\n",
              "      <td>3</td>\n",
              "      <td>0</td>\n",
              "    </tr>\n",
              "    <tr>\n",
              "      <th>개포2동</th>\n",
              "      <td>NaN</td>\n",
              "      <td>18417.078356</td>\n",
              "      <td>1</td>\n",
              "      <td>1</td>\n",
              "      <td>0</td>\n",
              "      <td>0</td>\n",
              "      <td>0</td>\n",
              "      <td>0</td>\n",
              "      <td>0</td>\n",
              "      <td>0</td>\n",
              "      <td>0</td>\n",
              "    </tr>\n",
              "    <tr>\n",
              "      <th>개포4동</th>\n",
              "      <td>NaN</td>\n",
              "      <td>13918.161661</td>\n",
              "      <td>2</td>\n",
              "      <td>1</td>\n",
              "      <td>0</td>\n",
              "      <td>1</td>\n",
              "      <td>0</td>\n",
              "      <td>4</td>\n",
              "      <td>8</td>\n",
              "      <td>4</td>\n",
              "      <td>0</td>\n",
              "    </tr>\n",
              "    <tr>\n",
              "      <th>논현1동</th>\n",
              "      <td>NaN</td>\n",
              "      <td>33392.521581</td>\n",
              "      <td>3</td>\n",
              "      <td>2</td>\n",
              "      <td>0</td>\n",
              "      <td>2</td>\n",
              "      <td>0</td>\n",
              "      <td>11</td>\n",
              "      <td>0</td>\n",
              "      <td>1</td>\n",
              "      <td>0</td>\n",
              "    </tr>\n",
              "    <tr>\n",
              "      <th>논현2동</th>\n",
              "      <td>NaN</td>\n",
              "      <td>29332.099087</td>\n",
              "      <td>4</td>\n",
              "      <td>0</td>\n",
              "      <td>0</td>\n",
              "      <td>3</td>\n",
              "      <td>0</td>\n",
              "      <td>11</td>\n",
              "      <td>0</td>\n",
              "      <td>9</td>\n",
              "      <td>0</td>\n",
              "    </tr>\n",
              "  </tbody>\n",
              "</table>\n",
              "</div>"
            ],
            "text/plain": [
              "      weight        총생활인구수  Unnamed: 0  fulltime_fch  fulltime_fch_constraint  \\\n",
              "dong                                                                            \n",
              "개포1동     NaN   8100.326260           0             0                        0   \n",
              "개포2동     NaN  18417.078356           1             1                        0   \n",
              "개포4동     NaN  13918.161661           2             1                        0   \n",
              "논현1동     NaN  33392.521581           3             2                        0   \n",
              "논현2동     NaN  29332.099087           4             0                        0   \n",
              "\n",
              "      nonfulltime_fch  nonfulltime_fch_constraint  fulltime_sch  \\\n",
              "dong                                                              \n",
              "개포1동                0                           0             0   \n",
              "개포2동                0                           0             0   \n",
              "개포4동                1                           0             4   \n",
              "논현1동                2                           0            11   \n",
              "논현2동                3                           0            11   \n",
              "\n",
              "      fulltime_sch_constraint  nonfulltime_sch  nonfulltime_sch_constraint  \n",
              "dong                                                                        \n",
              "개포1동                        0                3                           0  \n",
              "개포2동                        0                0                           0  \n",
              "개포4동                        8                4                           0  \n",
              "논현1동                        0                1                           0  \n",
              "논현2동                        0                9                           0  "
            ]
          },
          "metadata": {},
          "execution_count": 98
        }
      ]
    },
    {
      "cell_type": "code",
      "metadata": {
        "id": "C80X6P2sXJpZ"
      },
      "source": [
        "df_0to9_final.to_excel('./0to9_final.xlsx')\n",
        "df_9to18_final.to_excel('./9to18_final.xlsx')\n",
        "df_18to24_final.to_excel('./18to24_final.xlsx')\n",
        "df_0to24_final.to_excel('./0to24_final.xlsx')"
      ],
      "execution_count": null,
      "outputs": []
    },
    {
      "cell_type": "code",
      "metadata": {
        "id": "IwDaiAHwXJpZ"
      },
      "source": [
        ""
      ],
      "execution_count": null,
      "outputs": []
    }
  ]
}