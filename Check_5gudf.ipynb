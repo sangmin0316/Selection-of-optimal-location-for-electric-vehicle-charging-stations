{
  "nbformat": 4,
  "nbformat_minor": 0,
  "metadata": {
    "colab": {
      "name": "Check_5gudf.ipynb",
      "provenance": [],
      "collapsed_sections": []
    },
    "kernelspec": {
      "name": "python3",
      "display_name": "Python 3"
    },
    "language_info": {
      "name": "python"
    }
  },
  "cells": [
    {
      "cell_type": "code",
      "metadata": {
        "id": "D49znuTTNI5j"
      },
      "source": [
        "import pandas as pd\n",
        "# 기존에 행정동을 법정동으로 잘못 채워논 파일을 가져옵니다.\n",
        "df1 = pd.read_excel('e_dongdaemoon_df.xlsx')\n",
        "df2 = pd.read_excel('e_dongjack_df.xlsx')\n",
        "df3 = pd.read_excel('e_mapo_df.xlsx')\n",
        "df4 = pd.read_excel('e_seocho_df.xlsx')\n",
        "df5 = pd.read_excel('e_seodaemoon_df.xlsx')"
      ],
      "execution_count": 29,
      "outputs": []
    },
    {
      "cell_type": "code",
      "metadata": {
        "id": "xXGEYEi7Nu0f"
      },
      "source": [
        "# 5개 구의 data를 하나의 dataframe으로 합쳐줍니다.\n",
        "df = pd.concat([df1,df2,df3,df4,df5])"
      ],
      "execution_count": 30,
      "outputs": []
    },
    {
      "cell_type": "code",
      "metadata": {
        "colab": {
          "base_uri": "https://localhost:8080/"
        },
        "id": "s1Xa5QbJN2GM",
        "outputId": "b8314f9f-5642-41d8-a9ee-425a73217fc8"
      },
      "source": [
        "df.info\n"
      ],
      "execution_count": 4,
      "outputs": [
        {
          "output_type": "execute_result",
          "data": {
            "text/plain": [
              "<bound method DataFrame.info of      Unnamed: 0  Unnamed: 0.1  ... Unnamed: 13 Unnamed: 13.1\n",
              "0            72          1396  ...  [1] 행정동 명칭           용신동\n",
              "1           151          2566  ...  [1] 행정동 명칭           제기동\n",
              "2           152          2567  ...  [1] 행정동 명칭           제기동\n",
              "3           234          3885  ...  [1] 행정동 명칭          이문1동\n",
              "4           250          4580  ...  [1] 행정동 명칭          전농1동\n",
              "..          ...           ...  ...         ...           ...\n",
              "304       10872         80140  ...  [1] 행정동 명칭           연희동\n",
              "305       10906         80174  ...  [1] 행정동 명칭          홍제1동\n",
              "306       10907         80175  ...  [1] 행정동 명칭          홍제1동\n",
              "307       10912         80264  ...  [1] 행정동 명칭           신촌동\n",
              "308       10913         80265  ...  [1] 행정동 명칭           신촌동\n",
              "\n",
              "[2364 rows x 15 columns]>"
            ]
          },
          "metadata": {},
          "execution_count": 4
        }
      ]
    },
    {
      "cell_type": "code",
      "metadata": {
        "colab": {
          "base_uri": "https://localhost:8080/",
          "height": 506
        },
        "id": "muqu-TwRPmsA",
        "outputId": "f9f33586-680b-495b-f358-d56e2c6e96ca"
      },
      "source": [
        "# 행정동 column이  Unnamed: 13.1으로 되어있는데 이름을 바꾸겠습니다.\n",
        "# Unnamed:0 는 excel을 열거나 저장할때 생기는데, df.to_excel('~',index = False)이 문구를 추가하면 \n",
        "# pd.read_excel(\"~\", index_col=[0])\n",
        "# Unnamed 열이 생기는것을 막을 수 있습니다.\n",
        "df = df.rename(columns={'Unnamed: 13.1':'행정동'})\n",
        "df.head()"
      ],
      "execution_count": 32,
      "outputs": [
        {
          "output_type": "execute_result",
          "data": {
            "text/html": [
              "<div>\n",
              "<style scoped>\n",
              "    .dataframe tbody tr th:only-of-type {\n",
              "        vertical-align: middle;\n",
              "    }\n",
              "\n",
              "    .dataframe tbody tr th {\n",
              "        vertical-align: top;\n",
              "    }\n",
              "\n",
              "    .dataframe thead th {\n",
              "        text-align: right;\n",
              "    }\n",
              "</style>\n",
              "<table border=\"1\" class=\"dataframe\">\n",
              "  <thead>\n",
              "    <tr style=\"text-align: right;\">\n",
              "      <th></th>\n",
              "      <th>Unnamed: 0</th>\n",
              "      <th>Unnamed: 0.1</th>\n",
              "      <th>운영기관</th>\n",
              "      <th>충전소</th>\n",
              "      <th>충전기 ID</th>\n",
              "      <th>타입</th>\n",
              "      <th>지역</th>\n",
              "      <th>시군구</th>\n",
              "      <th>주소</th>\n",
              "      <th>이용가능시간</th>\n",
              "      <th>제한</th>\n",
              "      <th>종류</th>\n",
              "      <th>비고</th>\n",
              "      <th>Unnamed: 13</th>\n",
              "      <th>행정동</th>\n",
              "    </tr>\n",
              "  </thead>\n",
              "  <tbody>\n",
              "    <tr>\n",
              "      <th>0</th>\n",
              "      <td>72</td>\n",
              "      <td>1396</td>\n",
              "      <td>환경부(한국자동차환경협회)</td>\n",
              "      <td>동대문구청</td>\n",
              "      <td>1</td>\n",
              "      <td>DC차데모+AC3상+DC콤보</td>\n",
              "      <td>서울특별시</td>\n",
              "      <td>동대문구</td>\n",
              "      <td>서울특별시 동대문구 천호대로 145 동대문구청 옥외주차장</td>\n",
              "      <td>24시간 이용가능</td>\n",
              "      <td>NaN</td>\n",
              "      <td>급속(50kW)</td>\n",
              "      <td>주차요금 별도</td>\n",
              "      <td>[1] 행정동 명칭</td>\n",
              "      <td>용신동</td>\n",
              "    </tr>\n",
              "    <tr>\n",
              "      <th>1</th>\n",
              "      <td>151</td>\n",
              "      <td>2566</td>\n",
              "      <td>환경부(한국자동차환경협회)</td>\n",
              "      <td>서울약령시 공영주차장</td>\n",
              "      <td>11</td>\n",
              "      <td>DC콤보</td>\n",
              "      <td>서울특별시</td>\n",
              "      <td>동대문구</td>\n",
              "      <td>서울특별시 동대문구 약령중앙로 26</td>\n",
              "      <td>24시간 이용가능</td>\n",
              "      <td>NaN</td>\n",
              "      <td>급속(200kW동시)</td>\n",
              "      <td>10분/300원 친환경차 50% 감면</td>\n",
              "      <td>[1] 행정동 명칭</td>\n",
              "      <td>제기동</td>\n",
              "    </tr>\n",
              "    <tr>\n",
              "      <th>2</th>\n",
              "      <td>152</td>\n",
              "      <td>2567</td>\n",
              "      <td>환경부(한국자동차환경협회)</td>\n",
              "      <td>서울약령시 공영주차장</td>\n",
              "      <td>12</td>\n",
              "      <td>DC콤보</td>\n",
              "      <td>서울특별시</td>\n",
              "      <td>동대문구</td>\n",
              "      <td>서울특별시 동대문구 약령중앙로 26</td>\n",
              "      <td>24시간 이용가능</td>\n",
              "      <td>NaN</td>\n",
              "      <td>급속(200kW동시)</td>\n",
              "      <td>10분/300원 친환경차 50% 감면</td>\n",
              "      <td>[1] 행정동 명칭</td>\n",
              "      <td>제기동</td>\n",
              "    </tr>\n",
              "    <tr>\n",
              "      <th>3</th>\n",
              "      <td>234</td>\n",
              "      <td>3885</td>\n",
              "      <td>환경부(한국자동차환경협회)</td>\n",
              "      <td>이마트 이문점</td>\n",
              "      <td>1</td>\n",
              "      <td>DC차데모+AC3상</td>\n",
              "      <td>서울특별시</td>\n",
              "      <td>동대문구</td>\n",
              "      <td>서울특별시 동대문구 이문로 136, 지하주차장 1층 D-04(이문동 292-10)</td>\n",
              "      <td>10:00~24:00</td>\n",
              "      <td>NaN</td>\n",
              "      <td>급속(50kW)</td>\n",
              "      <td>NaN</td>\n",
              "      <td>[1] 행정동 명칭</td>\n",
              "      <td>이문1동</td>\n",
              "    </tr>\n",
              "    <tr>\n",
              "      <th>4</th>\n",
              "      <td>250</td>\n",
              "      <td>4580</td>\n",
              "      <td>환경부(한국자동차환경협회)</td>\n",
              "      <td>청량리롯데백화점</td>\n",
              "      <td>1</td>\n",
              "      <td>DC차데모+AC3상</td>\n",
              "      <td>서울특별시</td>\n",
              "      <td>동대문구</td>\n",
              "      <td>서울특별시 동대문구 왕산로 214, 주차장 옥상(전농동 591-53)</td>\n",
              "      <td>24시간 이용가능</td>\n",
              "      <td>NaN</td>\n",
              "      <td>급속(50kW)</td>\n",
              "      <td>NaN</td>\n",
              "      <td>[1] 행정동 명칭</td>\n",
              "      <td>전농1동</td>\n",
              "    </tr>\n",
              "  </tbody>\n",
              "</table>\n",
              "</div>"
            ],
            "text/plain": [
              "   Unnamed: 0  Unnamed: 0.1  ... Unnamed: 13   행정동\n",
              "0          72          1396  ...  [1] 행정동 명칭   용신동\n",
              "1         151          2566  ...  [1] 행정동 명칭   제기동\n",
              "2         152          2567  ...  [1] 행정동 명칭   제기동\n",
              "3         234          3885  ...  [1] 행정동 명칭  이문1동\n",
              "4         250          4580  ...  [1] 행정동 명칭  전농1동\n",
              "\n",
              "[5 rows x 15 columns]"
            ]
          },
          "metadata": {},
          "execution_count": 32
        }
      ]
    },
    {
      "cell_type": "code",
      "metadata": {
        "id": "FJ0xKM43s08R"
      },
      "source": [
        "df.to_excel('tset.xlsx')"
      ],
      "execution_count": 44,
      "outputs": []
    },
    {
      "cell_type": "code",
      "metadata": {
        "colab": {
          "base_uri": "https://localhost:8080/"
        },
        "id": "lnoavxZXOHie",
        "outputId": "f6a0fe6c-b390-488a-ec8a-ebf69d7ae82b"
      },
      "source": [
        "# 저희가 만들었던 파일에서 총인생활인구수가 비어져있는 행을 따로 추출합니다.\n",
        "df1 = pd.read_excel('9to18_final1.xlsx')\n",
        "test_df1 = df1[df1['총생활인구수'].isnull()]\n",
        "test_df1.info"
      ],
      "execution_count": 15,
      "outputs": [
        {
          "output_type": "execute_result",
          "data": {
            "text/plain": [
              "<bound method DataFrame.info of      Unnamed: 0      dong  ...  nonfulltime_sch  nonfulltime_sch_constraint\n",
              "30           30      상일1동  ...                5                           0\n",
              "31           31      상일2동  ...                0                           0\n",
              "89           89    인헌동조원동  ...                0                           0\n",
              "123         123    오류2동항동  ...                0                           0\n",
              "128         128  독산4동시흥1동  ...                0                           0\n",
              "173         173       거여동  ...               33                           0\n",
              "180         180     금호동2가  ...                0                           0\n",
              "183         183    남대문로5가  ...                0                           0\n",
              "185         185       내수동  ...                0                           0\n",
              "190         190       당산동  ...                0                           0\n",
              "191         191     당산동3가  ...                0                           0\n",
              "198         198       돈암동  ...                0                           0\n",
              "211         211       면목동  ...                0                           0\n",
              "222         222        묵동  ...                1                           0\n",
              "224         224     문래동1가  ...                2                           0\n",
              "225         225     문래동6가  ...                0                           0\n",
              "226         226       문배동  ...                0                           0\n",
              "233         233     보문동4가  ...                1                           1\n",
              "234         234     보문동6가  ...                0                           0\n",
              "240         240       산천동  ...                0                           0\n",
              "241         241       삼각동  ...                0                           0\n",
              "247         247     상왕십리동  ...                5                           0\n",
              "255         255     성수동1가  ...                0                           0\n",
              "271         271       신내동  ...                0                           0\n",
              "283         283       신월동  ...                0                           0\n",
              "290         290       신정동  ...                0                           0\n",
              "292         292     안암동1가  ...                0                           0\n",
              "296         296     양평동1가  ...                0                           0\n",
              "297         297     양평동3가  ...                0                           0\n",
              "298         298     양평동5가  ...                0                           0\n",
              "299         299      여의도동  ...                8                           0\n",
              "303         303    영등포동8가  ...                0                           0\n",
              "318         318     을지로6가  ...                0                           0\n",
              "345         345      종로6가  ...                0                           0\n",
              "357         357        초동  ...                0                           0\n",
              "361         361       풍납동  ...                0                           0\n",
              "363         363     하왕십리동  ...                5                           0\n",
              "364         364     한강로1가  ...                1                           0\n",
              "365         365     한강로3가  ...                0                           0\n",
              "370         370       행당동  ...                0                           0\n",
              "407         407        중동  ...                0                           0\n",
              "420         420      신공덕동  ...                0                           0\n",
              "423         423       마포동  ...                0                           0\n",
              "455         455       홍은동  ...                0                           0\n",
              "\n",
              "[44 rows x 13 columns]>"
            ]
          },
          "metadata": {},
          "execution_count": 15
        }
      ]
    },
    {
      "cell_type": "code",
      "metadata": {
        "id": "msqcCasVo9-U"
      },
      "source": [
        ""
      ],
      "execution_count": 42,
      "outputs": []
    },
    {
      "cell_type": "code",
      "metadata": {
        "colab": {
          "base_uri": "https://localhost:8080/",
          "height": 35
        },
        "id": "vOr1wVcKSsSw",
        "outputId": "ab43a393-d72e-42bd-c66a-76b4d8d00cc7"
      },
      "source": [
        "# iloc를 이용하여 원하는 정보를 indexing할 수 있습니다.\n",
        "test_df1.iloc[42,1]"
      ],
      "execution_count": 17,
      "outputs": [
        {
          "output_type": "execute_result",
          "data": {
            "application/vnd.google.colaboratory.intrinsic+json": {
              "type": "string"
            },
            "text/plain": [
              "'마포동'"
            ]
          },
          "metadata": {},
          "execution_count": 17
        }
      ]
    },
    {
      "cell_type": "code",
      "metadata": {
        "colab": {
          "base_uri": "https://localhost:8080/"
        },
        "id": "A7z4Z397Qo_X",
        "outputId": "2ee0eeb8-6571-4505-c0d3-e19700cc158c"
      },
      "source": [
        "# 생활인구가 비워져있는 data에 마포동이 있는지 확인합니다.\n",
        "idx = test_df1[test_df1['dong'] == '마포동'].index\n",
        "idx"
      ],
      "execution_count": 11,
      "outputs": [
        {
          "output_type": "execute_result",
          "data": {
            "text/plain": [
              "Int64Index([423], dtype='int64')"
            ]
          },
          "metadata": {},
          "execution_count": 11
        }
      ]
    },
    {
      "cell_type": "code",
      "metadata": {
        "colab": {
          "base_uri": "https://localhost:8080/"
        },
        "id": "FYGk8Md0UAfV",
        "outputId": "a10ca7fc-4df6-46b8-a379-a5f2c2ddb440"
      },
      "source": [
        "# 제가 만들었던 data에도 마포동이 있는지 확인합니다.\n",
        "idx =df[df['행정동'] == '마포동'].index\n",
        "idx\n",
        "# 확인결과 마포동이 있습니다. 즉 제가 데이터를 만들때 마포동으로 입력했던 것입니다.\n",
        "# 마포동은 행정동이 아니라 법정동입니다.\n",
        " ignore_index=True"
      ],
      "execution_count": 43,
      "outputs": [
        {
          "output_type": "execute_result",
          "data": {
            "text/plain": [
              "Int64Index([23], dtype='int64')"
            ]
          },
          "metadata": {},
          "execution_count": 43
        }
      ]
    },
    {
      "cell_type": "code",
      "metadata": {
        "colab": {
          "base_uri": "https://localhost:8080/"
        },
        "id": "bpINTNRxt13L",
        "outputId": "2206e332-7340-4d76-e54c-633f5900b683"
      },
      "source": [
        "df.iloc[23]\n",
        "# 답십리동이 나오는것을 확인할 수있었습니다.\n",
        "# 마포동이 나오길 기대했는데 왜 이렇게 됐나 고민해봤습니다.\n",
        "# 정답은 pd.conat을 할때 기존 index를 유지시킨채로 concat했기 때문에 이런문제가 생긴것입니다.\n",
        "# 즉 마포구 data에서 23번째 데이터였던 마포동이 concat이후에 실제로는 더 아래 행에 있는데 \n",
        "# index는 그대로 23번을 가져와서 문제였습니다.\n",
        "# 그래서 concat할 때  ignore_index=True을 해줘야 합니다."
      ],
      "execution_count": 45,
      "outputs": [
        {
          "output_type": "execute_result",
          "data": {
            "text/plain": [
              "Unnamed: 0                            965\n",
              "Unnamed: 0.1                        10668\n",
              "운영기관                                 한국전력\n",
              "충전소                            래미안엘파인 아파트\n",
              "충전기 ID                                  3\n",
              "타입                                   AC완속\n",
              "지역                                 서울특별시 \n",
              "시군구                                 동대문구 \n",
              "주소              서울특별시 동대문구 답십리동 한천로37길 33\n",
              "이용가능시간                               24시간\n",
              "제한                 시설 상황에 따라 이용이 제한될 수 있음\n",
              "종류                                    NaN\n",
              "비고                                    NaN\n",
              "Unnamed: 13                    [1] 행정동 명칭\n",
              "행정동                                 답십리2동\n",
              "Name: 23, dtype: object"
            ]
          },
          "metadata": {},
          "execution_count": 45
        }
      ]
    },
    {
      "cell_type": "code",
      "metadata": {
        "colab": {
          "base_uri": "https://localhost:8080/"
        },
        "id": "WQuaCT6tul-O",
        "outputId": "b0130fdd-0954-4e03-ac2e-07b102d80908"
      },
      "source": [
        "df = pd.concat([df1,df2,df3,df4,df5],ignore_index=True)\n",
        "df = df.rename(columns={'Unnamed: 13.1':'행정동'})\n",
        "len(df)"
      ],
      "execution_count": 67,
      "outputs": [
        {
          "output_type": "execute_result",
          "data": {
            "text/plain": [
              "2364"
            ]
          },
          "metadata": {},
          "execution_count": 67
        }
      ]
    },
    {
      "cell_type": "code",
      "metadata": {
        "colab": {
          "base_uri": "https://localhost:8080/",
          "height": 66
        },
        "id": "3d1uO4N0O1-b",
        "outputId": "9b0cc4b9-69e4-4a87-fe5a-215d031c5c27"
      },
      "source": [
        "# df에서 법정동으로 입력된 친구들을 따로 추출하려고 합니다.\n",
        "# 먼저는 nulldf라는 df를 만드는데, 기존에 df에 column을 그대로 가져오게 만들었습니다.\n",
        "# 또한 이것을 for문에 넣어주면 되게끔 만들었습니다.\n",
        "x = test_df1.iloc[0,1] # 상일1동\n",
        "print(x)\n",
        "idx = df[df['행정동'] != x].index # 상일1동이 아닌 index를 받습니다.\n",
        "nulldf = df.drop(idx) # 상일1동이 아닌 index를 드랍해줍니다.\n",
        "nulldf.head()"
      ],
      "execution_count": 64,
      "outputs": [
        {
          "output_type": "stream",
          "name": "stdout",
          "text": [
            "상일1동\n"
          ]
        },
        {
          "output_type": "execute_result",
          "data": {
            "text/html": [
              "<div>\n",
              "<style scoped>\n",
              "    .dataframe tbody tr th:only-of-type {\n",
              "        vertical-align: middle;\n",
              "    }\n",
              "\n",
              "    .dataframe tbody tr th {\n",
              "        vertical-align: top;\n",
              "    }\n",
              "\n",
              "    .dataframe thead th {\n",
              "        text-align: right;\n",
              "    }\n",
              "</style>\n",
              "<table border=\"1\" class=\"dataframe\">\n",
              "  <thead>\n",
              "    <tr style=\"text-align: right;\">\n",
              "      <th></th>\n",
              "      <th>Unnamed: 0</th>\n",
              "      <th>Unnamed: 0.1</th>\n",
              "      <th>운영기관</th>\n",
              "      <th>충전소</th>\n",
              "      <th>충전기 ID</th>\n",
              "      <th>타입</th>\n",
              "      <th>지역</th>\n",
              "      <th>시군구</th>\n",
              "      <th>주소</th>\n",
              "      <th>이용가능시간</th>\n",
              "      <th>제한</th>\n",
              "      <th>종류</th>\n",
              "      <th>비고</th>\n",
              "      <th>Unnamed: 13</th>\n",
              "      <th>행정동</th>\n",
              "    </tr>\n",
              "  </thead>\n",
              "  <tbody>\n",
              "  </tbody>\n",
              "</table>\n",
              "</div>"
            ],
            "text/plain": [
              "Empty DataFrame\n",
              "Columns: [Unnamed: 0, Unnamed: 0.1, 운영기관, 충전소, 충전기 ID, 타입, 지역, 시군구, 주소, 이용가능시간, 제한, 종류, 비고, Unnamed: 13, 행정동]\n",
              "Index: []"
            ]
          },
          "metadata": {},
          "execution_count": 64
        }
      ]
    },
    {
      "cell_type": "code",
      "metadata": {
        "id": "KHdabteJvZov"
      },
      "source": [
        "for i in range(1,len(test_df1['dong'])):\n",
        "  x = test_df1.iloc[i,1]\n",
        "  idx = df[df['행정동'] != x].index\n",
        "  a = df.drop(idx)\n",
        "  # print(a.index)\n",
        "  nulldf = pd.concat([nulldf,a])\n"
      ],
      "execution_count": 65,
      "outputs": []
    },
    {
      "cell_type": "code",
      "metadata": {
        "colab": {
          "base_uri": "https://localhost:8080/"
        },
        "id": "VqOZn34XX9z7",
        "outputId": "374128b0-0c11-45a9-a541-d8feb6fc290d"
      },
      "source": [
        "nulldf.info\n",
        "# 그래도 19개밖에 없네요,,,ㅎㅎ"
      ],
      "execution_count": 62,
      "outputs": [
        {
          "output_type": "execute_result",
          "data": {
            "text/plain": [
              "<bound method DataFrame.info of       Unnamed: 0  Unnamed: 0.1  ... Unnamed: 13   행정동\n",
              "949         3988         26782  ...         NaN    중동\n",
              "950         3989         26783  ...         NaN    중동\n",
              "951         3990         26784  ...         NaN    중동\n",
              "959         4914         38073  ...         NaN  신공덕동\n",
              "960         4915         38074  ...         NaN  신공덕동\n",
              "961         4916         38075  ...         NaN  신공덕동\n",
              "962         4917         38076  ...         NaN  신공덕동\n",
              "963         4918         38077  ...         NaN  신공덕동\n",
              "964         4919         38078  ...         NaN  신공덕동\n",
              "965         4920         38079  ...         NaN  신공덕동\n",
              "966         4921         38080  ...         NaN  신공덕동\n",
              "967         4922         38081  ...         NaN  신공덕동\n",
              "968         4923         38082  ...         NaN  신공덕동\n",
              "752          181          2961  ...         NaN   마포동\n",
              "2122        3391         25975  ...         NaN   홍은동\n",
              "2123        3392         25976  ...         NaN   홍은동\n",
              "2124        3393         25977  ...         NaN   홍은동\n",
              "2125        3394         25978  ...         NaN   홍은동\n",
              "2126        3395         25979  ...         NaN   홍은동\n",
              "\n",
              "[19 rows x 15 columns]>"
            ]
          },
          "metadata": {},
          "execution_count": 62
        }
      ]
    },
    {
      "cell_type": "code",
      "metadata": {
        "colab": {
          "base_uri": "https://localhost:8080/"
        },
        "id": "YZboMMvYWHkI",
        "outputId": "30122e68-69e7-43fa-87cb-58aff7cc2521"
      },
      "source": [
        "# 잘 \n",
        "len(df)\n",
        "for i in range(0,len(test_df1['dong'])):\n",
        "  x = test_df1.iloc[i,0]\n",
        "  print(x)\n",
        "  idx = df[df['행정동'] == x].index\n",
        "  print(idx)\n"
      ],
      "execution_count": 69,
      "outputs": [
        {
          "output_type": "stream",
          "name": "stdout",
          "text": [
            "30\n",
            "Int64Index([], dtype='int64')\n",
            "31\n",
            "Int64Index([], dtype='int64')\n",
            "89\n",
            "Int64Index([], dtype='int64')\n",
            "123\n",
            "Int64Index([], dtype='int64')\n",
            "128\n",
            "Int64Index([], dtype='int64')\n",
            "173\n",
            "Int64Index([], dtype='int64')\n",
            "180\n",
            "Int64Index([], dtype='int64')\n",
            "183\n",
            "Int64Index([], dtype='int64')\n",
            "185\n",
            "Int64Index([], dtype='int64')\n",
            "190\n",
            "Int64Index([], dtype='int64')\n",
            "191\n",
            "Int64Index([], dtype='int64')\n",
            "198\n",
            "Int64Index([], dtype='int64')\n",
            "211\n",
            "Int64Index([], dtype='int64')\n",
            "222\n",
            "Int64Index([], dtype='int64')\n",
            "224\n",
            "Int64Index([], dtype='int64')\n",
            "225\n",
            "Int64Index([], dtype='int64')\n",
            "226\n",
            "Int64Index([], dtype='int64')\n",
            "233\n",
            "Int64Index([], dtype='int64')\n",
            "234\n",
            "Int64Index([], dtype='int64')\n",
            "240\n",
            "Int64Index([], dtype='int64')\n",
            "241\n",
            "Int64Index([], dtype='int64')\n",
            "247\n",
            "Int64Index([], dtype='int64')\n",
            "255\n",
            "Int64Index([], dtype='int64')\n",
            "271\n",
            "Int64Index([], dtype='int64')\n",
            "283\n",
            "Int64Index([], dtype='int64')\n",
            "290\n",
            "Int64Index([], dtype='int64')\n",
            "292\n",
            "Int64Index([], dtype='int64')\n",
            "296\n",
            "Int64Index([], dtype='int64')\n",
            "297\n",
            "Int64Index([], dtype='int64')\n",
            "298\n",
            "Int64Index([], dtype='int64')\n",
            "299\n",
            "Int64Index([], dtype='int64')\n",
            "303\n",
            "Int64Index([], dtype='int64')\n",
            "318\n",
            "Int64Index([], dtype='int64')\n",
            "345\n",
            "Int64Index([], dtype='int64')\n",
            "357\n",
            "Int64Index([], dtype='int64')\n",
            "361\n",
            "Int64Index([], dtype='int64')\n",
            "363\n",
            "Int64Index([], dtype='int64')\n",
            "364\n",
            "Int64Index([], dtype='int64')\n",
            "365\n",
            "Int64Index([], dtype='int64')\n",
            "370\n",
            "Int64Index([], dtype='int64')\n",
            "407\n",
            "Int64Index([], dtype='int64')\n",
            "420\n",
            "Int64Index([], dtype='int64')\n",
            "423\n",
            "Int64Index([], dtype='int64')\n",
            "455\n",
            "Int64Index([], dtype='int64')\n"
          ]
        }
      ]
    },
    {
      "cell_type": "code",
      "metadata": {
        "id": "BfKajyxH1SJC"
      },
      "source": [
        "test_df1.head()"
      ],
      "execution_count": null,
      "outputs": []
    },
    {
      "cell_type": "code",
      "metadata": {
        "colab": {
          "base_uri": "https://localhost:8080/",
          "height": 506
        },
        "id": "1t8T_2ewO2F1",
        "outputId": "23aadb68-2417-4425-88d9-2caa6deb28bd"
      },
      "source": [
        "df.head()"
      ],
      "execution_count": 80,
      "outputs": [
        {
          "output_type": "execute_result",
          "data": {
            "text/html": [
              "<div>\n",
              "<style scoped>\n",
              "    .dataframe tbody tr th:only-of-type {\n",
              "        vertical-align: middle;\n",
              "    }\n",
              "\n",
              "    .dataframe tbody tr th {\n",
              "        vertical-align: top;\n",
              "    }\n",
              "\n",
              "    .dataframe thead th {\n",
              "        text-align: right;\n",
              "    }\n",
              "</style>\n",
              "<table border=\"1\" class=\"dataframe\">\n",
              "  <thead>\n",
              "    <tr style=\"text-align: right;\">\n",
              "      <th></th>\n",
              "      <th>Unnamed: 0</th>\n",
              "      <th>Unnamed: 0.1</th>\n",
              "      <th>운영기관</th>\n",
              "      <th>충전소</th>\n",
              "      <th>충전기 ID</th>\n",
              "      <th>타입</th>\n",
              "      <th>지역</th>\n",
              "      <th>시군구</th>\n",
              "      <th>주소</th>\n",
              "      <th>이용가능시간</th>\n",
              "      <th>제한</th>\n",
              "      <th>종류</th>\n",
              "      <th>비고</th>\n",
              "      <th>Unnamed: 13</th>\n",
              "      <th>행정동</th>\n",
              "    </tr>\n",
              "  </thead>\n",
              "  <tbody>\n",
              "    <tr>\n",
              "      <th>0</th>\n",
              "      <td>72</td>\n",
              "      <td>1396</td>\n",
              "      <td>환경부(한국자동차환경협회)</td>\n",
              "      <td>동대문구청</td>\n",
              "      <td>1</td>\n",
              "      <td>DC차데모+AC3상+DC콤보</td>\n",
              "      <td>서울특별시</td>\n",
              "      <td>동대문구</td>\n",
              "      <td>서울특별시 동대문구 천호대로 145 동대문구청 옥외주차장</td>\n",
              "      <td>24시간 이용가능</td>\n",
              "      <td>NaN</td>\n",
              "      <td>급속(50kW)</td>\n",
              "      <td>주차요금 별도</td>\n",
              "      <td>[1] 행정동 명칭</td>\n",
              "      <td>용신동</td>\n",
              "    </tr>\n",
              "    <tr>\n",
              "      <th>1</th>\n",
              "      <td>151</td>\n",
              "      <td>2566</td>\n",
              "      <td>환경부(한국자동차환경협회)</td>\n",
              "      <td>서울약령시 공영주차장</td>\n",
              "      <td>11</td>\n",
              "      <td>DC콤보</td>\n",
              "      <td>서울특별시</td>\n",
              "      <td>동대문구</td>\n",
              "      <td>서울특별시 동대문구 약령중앙로 26</td>\n",
              "      <td>24시간 이용가능</td>\n",
              "      <td>NaN</td>\n",
              "      <td>급속(200kW동시)</td>\n",
              "      <td>10분/300원 친환경차 50% 감면</td>\n",
              "      <td>[1] 행정동 명칭</td>\n",
              "      <td>제기동</td>\n",
              "    </tr>\n",
              "    <tr>\n",
              "      <th>2</th>\n",
              "      <td>152</td>\n",
              "      <td>2567</td>\n",
              "      <td>환경부(한국자동차환경협회)</td>\n",
              "      <td>서울약령시 공영주차장</td>\n",
              "      <td>12</td>\n",
              "      <td>DC콤보</td>\n",
              "      <td>서울특별시</td>\n",
              "      <td>동대문구</td>\n",
              "      <td>서울특별시 동대문구 약령중앙로 26</td>\n",
              "      <td>24시간 이용가능</td>\n",
              "      <td>NaN</td>\n",
              "      <td>급속(200kW동시)</td>\n",
              "      <td>10분/300원 친환경차 50% 감면</td>\n",
              "      <td>[1] 행정동 명칭</td>\n",
              "      <td>제기동</td>\n",
              "    </tr>\n",
              "    <tr>\n",
              "      <th>3</th>\n",
              "      <td>234</td>\n",
              "      <td>3885</td>\n",
              "      <td>환경부(한국자동차환경협회)</td>\n",
              "      <td>이마트 이문점</td>\n",
              "      <td>1</td>\n",
              "      <td>DC차데모+AC3상</td>\n",
              "      <td>서울특별시</td>\n",
              "      <td>동대문구</td>\n",
              "      <td>서울특별시 동대문구 이문로 136, 지하주차장 1층 D-04(이문동 292-10)</td>\n",
              "      <td>10:00~24:00</td>\n",
              "      <td>NaN</td>\n",
              "      <td>급속(50kW)</td>\n",
              "      <td>NaN</td>\n",
              "      <td>[1] 행정동 명칭</td>\n",
              "      <td>이문1동</td>\n",
              "    </tr>\n",
              "    <tr>\n",
              "      <th>4</th>\n",
              "      <td>250</td>\n",
              "      <td>4580</td>\n",
              "      <td>환경부(한국자동차환경협회)</td>\n",
              "      <td>청량리롯데백화점</td>\n",
              "      <td>1</td>\n",
              "      <td>DC차데모+AC3상</td>\n",
              "      <td>서울특별시</td>\n",
              "      <td>동대문구</td>\n",
              "      <td>서울특별시 동대문구 왕산로 214, 주차장 옥상(전농동 591-53)</td>\n",
              "      <td>24시간 이용가능</td>\n",
              "      <td>NaN</td>\n",
              "      <td>급속(50kW)</td>\n",
              "      <td>NaN</td>\n",
              "      <td>[1] 행정동 명칭</td>\n",
              "      <td>전농1동</td>\n",
              "    </tr>\n",
              "  </tbody>\n",
              "</table>\n",
              "</div>"
            ],
            "text/plain": [
              "   Unnamed: 0  Unnamed: 0.1  ... Unnamed: 13   행정동\n",
              "0          72          1396  ...  [1] 행정동 명칭   용신동\n",
              "1         151          2566  ...  [1] 행정동 명칭   제기동\n",
              "2         152          2567  ...  [1] 행정동 명칭   제기동\n",
              "3         234          3885  ...  [1] 행정동 명칭  이문1동\n",
              "4         250          4580  ...  [1] 행정동 명칭  전농1동\n",
              "\n",
              "[5 rows x 15 columns]"
            ]
          },
          "metadata": {},
          "execution_count": 80
        }
      ]
    },
    {
      "cell_type": "code",
      "metadata": {
        "id": "fFP5NylBRe2U"
      },
      "source": [
        "for i in range(1,len(test_df1['dong'])):\n",
        "  x = test_df1.iloc[i,1]\n",
        "  idx = df[df['행정동'] == x].index\n",
        "  df = df.drop(idx)\n",
        "  "
      ],
      "execution_count": 71,
      "outputs": []
    },
    {
      "cell_type": "code",
      "metadata": {
        "colab": {
          "base_uri": "https://localhost:8080/"
        },
        "id": "47MEcAMK38kK",
        "outputId": "3e2058b8-577c-4981-9705-3ffe7a8b2b33"
      },
      "source": [
        "for i in range(1,len(test_df1['dong'])):\n",
        "  x = test_df1.iloc[i,1]\n",
        "  idx = df[df['행정동'] == x].index\n",
        "  print(idx)"
      ],
      "execution_count": 72,
      "outputs": [
        {
          "output_type": "stream",
          "name": "stdout",
          "text": [
            "Int64Index([], dtype='int64')\n",
            "Int64Index([], dtype='int64')\n",
            "Int64Index([], dtype='int64')\n",
            "Int64Index([], dtype='int64')\n",
            "Int64Index([], dtype='int64')\n",
            "Int64Index([], dtype='int64')\n",
            "Int64Index([], dtype='int64')\n",
            "Int64Index([], dtype='int64')\n",
            "Int64Index([], dtype='int64')\n",
            "Int64Index([], dtype='int64')\n",
            "Int64Index([], dtype='int64')\n",
            "Int64Index([], dtype='int64')\n",
            "Int64Index([], dtype='int64')\n",
            "Int64Index([], dtype='int64')\n",
            "Int64Index([], dtype='int64')\n",
            "Int64Index([], dtype='int64')\n",
            "Int64Index([], dtype='int64')\n",
            "Int64Index([], dtype='int64')\n",
            "Int64Index([], dtype='int64')\n",
            "Int64Index([], dtype='int64')\n",
            "Int64Index([], dtype='int64')\n",
            "Int64Index([], dtype='int64')\n",
            "Int64Index([], dtype='int64')\n",
            "Int64Index([], dtype='int64')\n",
            "Int64Index([], dtype='int64')\n",
            "Int64Index([], dtype='int64')\n",
            "Int64Index([], dtype='int64')\n",
            "Int64Index([], dtype='int64')\n",
            "Int64Index([], dtype='int64')\n",
            "Int64Index([], dtype='int64')\n",
            "Int64Index([], dtype='int64')\n",
            "Int64Index([], dtype='int64')\n",
            "Int64Index([], dtype='int64')\n",
            "Int64Index([], dtype='int64')\n",
            "Int64Index([], dtype='int64')\n",
            "Int64Index([], dtype='int64')\n",
            "Int64Index([], dtype='int64')\n",
            "Int64Index([], dtype='int64')\n",
            "Int64Index([], dtype='int64')\n",
            "Int64Index([], dtype='int64')\n",
            "Int64Index([], dtype='int64')\n",
            "Int64Index([], dtype='int64')\n",
            "Int64Index([], dtype='int64')\n"
          ]
        }
      ]
    },
    {
      "cell_type": "code",
      "metadata": {
        "id": "bft2UKAGRm-K"
      },
      "source": [
        "nulldf.to_excel('5guchek.xlsx')"
      ],
      "execution_count": 73,
      "outputs": []
    },
    {
      "cell_type": "code",
      "metadata": {
        "id": "vj2Kt4lb60z3"
      },
      "source": [
        "nulldf = pd.read_excel('edit_null_dong.xlsx')"
      ],
      "execution_count": 74,
      "outputs": []
    },
    {
      "cell_type": "code",
      "metadata": {
        "id": "xfTu_PF4688O"
      },
      "source": [
        "gudf = pd.concat([df, nulldf], ignore_index = True)"
      ],
      "execution_count": 77,
      "outputs": []
    },
    {
      "cell_type": "code",
      "metadata": {
        "colab": {
          "base_uri": "https://localhost:8080/"
        },
        "id": "fGAdLP4W7dsD",
        "outputId": "8a796869-d8c6-49d9-bde2-a3a6a88cd590"
      },
      "source": [
        "gudf.info\n",
        "# 행이2364로 잘 합쳐졌네요!ㅎㅎ"
      ],
      "execution_count": 78,
      "outputs": [
        {
          "output_type": "execute_result",
          "data": {
            "text/plain": [
              "<bound method DataFrame.info of       Unnamed: 0  Unnamed: 0.1  ...   행정동 Unnamed: 0.1.1\n",
              "0             72          1396  ...   용신동            NaN\n",
              "1            151          2566  ...   제기동            NaN\n",
              "2            152          2567  ...   제기동            NaN\n",
              "3            234          3885  ...  이문1동            NaN\n",
              "4            250          4580  ...  전농1동            NaN\n",
              "...          ...           ...  ...   ...            ...\n",
              "2359        2122          3391  ...  홍은1동        25975.0\n",
              "2360        2123          3392  ...  홍은1동        25976.0\n",
              "2361        2124          3393  ...  홍은1동        25977.0\n",
              "2362        2125          3394  ...  홍은1동        25978.0\n",
              "2363        2126          3395  ...  홍은1동        25979.0\n",
              "\n",
              "[2364 rows x 16 columns]>"
            ]
          },
          "metadata": {},
          "execution_count": 78
        }
      ]
    },
    {
      "cell_type": "code",
      "metadata": {
        "id": "zk9D2wqQ7oIS"
      },
      "source": [
        "# 마지막파일을 저장해둡시다.\n",
        "gudf.to_excel('chargedf2.xlsx')"
      ],
      "execution_count": 79,
      "outputs": []
    }
  ]
}