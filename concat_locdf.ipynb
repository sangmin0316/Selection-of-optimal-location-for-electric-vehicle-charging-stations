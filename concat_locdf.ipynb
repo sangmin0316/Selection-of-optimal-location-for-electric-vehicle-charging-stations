{
  "nbformat": 4,
  "nbformat_minor": 0,
  "metadata": {
    "colab": {
      "name": "concat_locdf.ipynb",
      "provenance": [],
      "collapsed_sections": [],
      "toc_visible": true
    },
    "kernelspec": {
      "name": "python3",
      "display_name": "Python 3"
    },
    "language_info": {
      "name": "python"
    }
  },
  "cells": [
    {
      "cell_type": "code",
      "metadata": {
        "id": "kh8vnqUTkkwt"
      },
      "source": [
        "import pandas as pd\n",
        "\n",
        "locdf = pd.read_excel('서울시행정동별중심좌표.xlsx')\n",
        "df1 = pd.read_excel('029_df1.xlsx')\n",
        "df2 = pd.read_excel('9218_df1.xlsx')\n",
        "df3 = pd.read_excel('18224_df1.xlsx')"
      ],
      "execution_count": null,
      "outputs": []
    },
    {
      "cell_type": "code",
      "metadata": {
        "colab": {
          "base_uri": "https://localhost:8080/",
          "height": 203
        },
        "id": "rQqcmmhYnOS7",
        "outputId": "a14d08d1-b174-42b5-f59b-6650a1d9bed1"
      },
      "source": [
        "locdf.head()"
      ],
      "execution_count": null,
      "outputs": [
        {
          "output_type": "execute_result",
          "data": {
            "text/html": [
              "<div>\n",
              "<style scoped>\n",
              "    .dataframe tbody tr th:only-of-type {\n",
              "        vertical-align: middle;\n",
              "    }\n",
              "\n",
              "    .dataframe tbody tr th {\n",
              "        vertical-align: top;\n",
              "    }\n",
              "\n",
              "    .dataframe thead th {\n",
              "        text-align: right;\n",
              "    }\n",
              "</style>\n",
              "<table border=\"1\" class=\"dataframe\">\n",
              "  <thead>\n",
              "    <tr style=\"text-align: right;\">\n",
              "      <th></th>\n",
              "      <th>Unnamed: 0</th>\n",
              "      <th>코드</th>\n",
              "      <th>시도명</th>\n",
              "      <th>시군구명</th>\n",
              "      <th>읍면동명</th>\n",
              "      <th>X</th>\n",
              "      <th>Y</th>\n",
              "    </tr>\n",
              "  </thead>\n",
              "  <tbody>\n",
              "    <tr>\n",
              "      <th>0</th>\n",
              "      <td>NaN</td>\n",
              "      <td>11110515</td>\n",
              "      <td>서울특별시</td>\n",
              "      <td>종로구</td>\n",
              "      <td>청운효자동</td>\n",
              "      <td>126.970417</td>\n",
              "      <td>37.584658</td>\n",
              "    </tr>\n",
              "    <tr>\n",
              "      <th>1</th>\n",
              "      <td>NaN</td>\n",
              "      <td>11110530</td>\n",
              "      <td>서울특별시</td>\n",
              "      <td>종로구</td>\n",
              "      <td>사직동</td>\n",
              "      <td>126.970144</td>\n",
              "      <td>37.574108</td>\n",
              "    </tr>\n",
              "    <tr>\n",
              "      <th>2</th>\n",
              "      <td>NaN</td>\n",
              "      <td>11110540</td>\n",
              "      <td>서울특별시</td>\n",
              "      <td>종로구</td>\n",
              "      <td>삼청동</td>\n",
              "      <td>126.981114</td>\n",
              "      <td>37.588013</td>\n",
              "    </tr>\n",
              "    <tr>\n",
              "      <th>3</th>\n",
              "      <td>NaN</td>\n",
              "      <td>11110550</td>\n",
              "      <td>서울특별시</td>\n",
              "      <td>종로구</td>\n",
              "      <td>부암동</td>\n",
              "      <td>126.962557</td>\n",
              "      <td>37.596699</td>\n",
              "    </tr>\n",
              "    <tr>\n",
              "      <th>4</th>\n",
              "      <td>NaN</td>\n",
              "      <td>11110560</td>\n",
              "      <td>서울특별시</td>\n",
              "      <td>종로구</td>\n",
              "      <td>평창동</td>\n",
              "      <td>126.969274</td>\n",
              "      <td>37.613965</td>\n",
              "    </tr>\n",
              "  </tbody>\n",
              "</table>\n",
              "</div>"
            ],
            "text/plain": [
              "   Unnamed: 0        코드    시도명 시군구명   읍면동명           X          Y\n",
              "0         NaN  11110515  서울특별시  종로구  청운효자동  126.970417  37.584658\n",
              "1         NaN  11110530  서울특별시  종로구    사직동  126.970144  37.574108\n",
              "2         NaN  11110540  서울특별시  종로구    삼청동  126.981114  37.588013\n",
              "3         NaN  11110550  서울특별시  종로구    부암동  126.962557  37.596699\n",
              "4         NaN  11110560  서울특별시  종로구    평창동  126.969274  37.613965"
            ]
          },
          "metadata": {},
          "execution_count": 2
        }
      ]
    },
    {
      "cell_type": "code",
      "metadata": {
        "id": "lwQj-8WWobB8"
      },
      "source": [
        "# 필요없는 column을 날려봅시다.\n",
        "locdf = locdf.drop('Unnamed: 0',axis = 1)\n",
        "\n",
        "locdf = locdf.drop('코드',axis = 1)\n",
        "\n",
        "locdf = locdf.drop('시도명',axis = 1)\n",
        "\n",
        "locdf = locdf.drop('시군구명',axis = 1)\n"
      ],
      "execution_count": null,
      "outputs": []
    },
    {
      "cell_type": "code",
      "metadata": {
        "colab": {
          "base_uri": "https://localhost:8080/"
        },
        "id": "j3Hw1hGco__n",
        "outputId": "5735c3fb-70ed-4580-a1b2-2f2204662703"
      },
      "source": [
        "locdf.info()"
      ],
      "execution_count": null,
      "outputs": [
        {
          "output_type": "stream",
          "name": "stdout",
          "text": [
            "<class 'pandas.core.frame.DataFrame'>\n",
            "RangeIndex: 424 entries, 0 to 423\n",
            "Data columns (total 3 columns):\n",
            " #   Column  Non-Null Count  Dtype  \n",
            "---  ------  --------------  -----  \n",
            " 0   읍면동명    424 non-null    object \n",
            " 1   X       424 non-null    float64\n",
            " 2   Y       424 non-null    float64\n",
            "dtypes: float64(2), object(1)\n",
            "memory usage: 10.1+ KB\n"
          ]
        }
      ]
    },
    {
      "cell_type": "code",
      "metadata": {
        "id": "7tIZwP00r921"
      },
      "source": [
        "locdf = locdf.rename(columns = {'읍면동명': 'dong'} )"
      ],
      "execution_count": null,
      "outputs": []
    },
    {
      "cell_type": "code",
      "metadata": {
        "id": "pXX8gjUkobKa"
      },
      "source": [
        "tdf1 = pd.merge(locdf , df1 , how = 'right')"
      ],
      "execution_count": null,
      "outputs": []
    },
    {
      "cell_type": "code",
      "metadata": {
        "colab": {
          "base_uri": "https://localhost:8080/"
        },
        "id": "boRdj8S0obUJ",
        "outputId": "0f399106-b865-461e-d013-46cbc7214602"
      },
      "source": [
        "tdf1.info() \n",
        "#위도 경도의 null값이 존재하네요 왜그런지 알아보야겠네여"
      ],
      "execution_count": null,
      "outputs": [
        {
          "output_type": "stream",
          "name": "stdout",
          "text": [
            "<class 'pandas.core.frame.DataFrame'>\n",
            "Int64Index: 425 entries, 0 to 424\n",
            "Data columns (total 13 columns):\n",
            " #   Column   Non-Null Count  Dtype  \n",
            "---  ------   --------------  -----  \n",
            " 0   dong     425 non-null    object \n",
            " 1   X        239 non-null    float64\n",
            " 2   Y        239 non-null    float64\n",
            " 3   highway  425 non-null    float64\n",
            " 4   ffnc     425 non-null    float64\n",
            " 5   ffc      425 non-null    float64\n",
            " 6   nfnc     425 non-null    float64\n",
            " 7   nfc      425 non-null    float64\n",
            " 8   fsnc     425 non-null    float64\n",
            " 9   fsc      425 non-null    float64\n",
            " 10  nsnc     425 non-null    float64\n",
            " 11  nsc      425 non-null    float64\n",
            " 12  총생활인구수   425 non-null    float64\n",
            "dtypes: float64(12), object(1)\n",
            "memory usage: 46.5+ KB\n"
          ]
        }
      ]
    },
    {
      "cell_type": "code",
      "metadata": {
        "id": "iY2wGFHp2J0L"
      },
      "source": [
        "# 데이터를 확인해본결과 저희가 만든 데이터는 청산1동 이런식으로 되어있는데\n",
        "# 위도 경도 데이터는 청산제1동 이렇게 되어있네요 이걸 수정해야될것 같습니다.\n",
        "locdf = pd.read_excel('서울시행정동별중심좌표.xlsx')  "
      ],
      "execution_count": null,
      "outputs": []
    },
    {
      "cell_type": "code",
      "metadata": {
        "colab": {
          "base_uri": "https://localhost:8080/",
          "height": 203
        },
        "id": "d79pLldR60zb",
        "outputId": "4790b27b-933b-4e6b-e191-eb4ed1b68edb"
      },
      "source": [
        "locdf.head()"
      ],
      "execution_count": null,
      "outputs": [
        {
          "output_type": "execute_result",
          "data": {
            "text/html": [
              "<div>\n",
              "<style scoped>\n",
              "    .dataframe tbody tr th:only-of-type {\n",
              "        vertical-align: middle;\n",
              "    }\n",
              "\n",
              "    .dataframe tbody tr th {\n",
              "        vertical-align: top;\n",
              "    }\n",
              "\n",
              "    .dataframe thead th {\n",
              "        text-align: right;\n",
              "    }\n",
              "</style>\n",
              "<table border=\"1\" class=\"dataframe\">\n",
              "  <thead>\n",
              "    <tr style=\"text-align: right;\">\n",
              "      <th></th>\n",
              "      <th>Unnamed: 0</th>\n",
              "      <th>코드</th>\n",
              "      <th>시도명</th>\n",
              "      <th>시군구명</th>\n",
              "      <th>읍면동명</th>\n",
              "      <th>X</th>\n",
              "      <th>Y</th>\n",
              "    </tr>\n",
              "  </thead>\n",
              "  <tbody>\n",
              "    <tr>\n",
              "      <th>0</th>\n",
              "      <td>NaN</td>\n",
              "      <td>11110515</td>\n",
              "      <td>서울특별시</td>\n",
              "      <td>종로구</td>\n",
              "      <td>청운효자동</td>\n",
              "      <td>126.970417</td>\n",
              "      <td>37.584658</td>\n",
              "    </tr>\n",
              "    <tr>\n",
              "      <th>1</th>\n",
              "      <td>NaN</td>\n",
              "      <td>11110530</td>\n",
              "      <td>서울특별시</td>\n",
              "      <td>종로구</td>\n",
              "      <td>사직동</td>\n",
              "      <td>126.970144</td>\n",
              "      <td>37.574108</td>\n",
              "    </tr>\n",
              "    <tr>\n",
              "      <th>2</th>\n",
              "      <td>NaN</td>\n",
              "      <td>11110540</td>\n",
              "      <td>서울특별시</td>\n",
              "      <td>종로구</td>\n",
              "      <td>삼청동</td>\n",
              "      <td>126.981114</td>\n",
              "      <td>37.588013</td>\n",
              "    </tr>\n",
              "    <tr>\n",
              "      <th>3</th>\n",
              "      <td>NaN</td>\n",
              "      <td>11110550</td>\n",
              "      <td>서울특별시</td>\n",
              "      <td>종로구</td>\n",
              "      <td>부암동</td>\n",
              "      <td>126.962557</td>\n",
              "      <td>37.596699</td>\n",
              "    </tr>\n",
              "    <tr>\n",
              "      <th>4</th>\n",
              "      <td>NaN</td>\n",
              "      <td>11110560</td>\n",
              "      <td>서울특별시</td>\n",
              "      <td>종로구</td>\n",
              "      <td>평창동</td>\n",
              "      <td>126.969274</td>\n",
              "      <td>37.613965</td>\n",
              "    </tr>\n",
              "  </tbody>\n",
              "</table>\n",
              "</div>"
            ],
            "text/plain": [
              "   Unnamed: 0        코드    시도명 시군구명   읍면동명           X          Y\n",
              "0         NaN  11110515  서울특별시  종로구  청운효자동  126.970417  37.584658\n",
              "1         NaN  11110530  서울특별시  종로구    사직동  126.970144  37.574108\n",
              "2         NaN  11110540  서울특별시  종로구    삼청동  126.981114  37.588013\n",
              "3         NaN  11110550  서울특별시  종로구    부암동  126.962557  37.596699\n",
              "4         NaN  11110560  서울특별시  종로구    평창동  126.969274  37.613965"
            ]
          },
          "metadata": {},
          "execution_count": 17
        }
      ]
    },
    {
      "cell_type": "code",
      "metadata": {
        "id": "spbpRaVo9T6V"
      },
      "source": [
        "# 필요없는 column을 날려봅시다.\n",
        "locdf = locdf.drop('Unnamed: 0',axis = 1)\n",
        "\n",
        "locdf = locdf.drop('코드',axis = 1)\n",
        "\n",
        "locdf = locdf.drop('시도명',axis = 1)\n",
        "\n",
        "locdf = locdf.drop('시군구명',axis = 1)"
      ],
      "execution_count": null,
      "outputs": []
    },
    {
      "cell_type": "code",
      "metadata": {
        "id": "6TB_o63L9aIV"
      },
      "source": [
        "locdf = locdf.rename(columns = {'읍면동명': 'dong'} )"
      ],
      "execution_count": null,
      "outputs": []
    },
    {
      "cell_type": "code",
      "metadata": {
        "id": "368YeTBW605E"
      },
      "source": [
        "tdf1 = pd.merge(locdf , df1 , how = 'right')"
      ],
      "execution_count": null,
      "outputs": []
    },
    {
      "cell_type": "code",
      "metadata": {
        "colab": {
          "base_uri": "https://localhost:8080/"
        },
        "id": "Nt1nBgkR7Q3U",
        "outputId": "760698b4-e2de-4600-83b4-dd52d4ae7ee8"
      },
      "source": [
        "tdf1.info()"
      ],
      "execution_count": null,
      "outputs": [
        {
          "output_type": "stream",
          "name": "stdout",
          "text": [
            "<class 'pandas.core.frame.DataFrame'>\n",
            "Int64Index: 424 entries, 0 to 423\n",
            "Data columns (total 13 columns):\n",
            " #   Column   Non-Null Count  Dtype  \n",
            "---  ------   --------------  -----  \n",
            " 0   dong     424 non-null    object \n",
            " 1   X        424 non-null    float64\n",
            " 2   Y        424 non-null    float64\n",
            " 3   highway  424 non-null    float64\n",
            " 4   ffnc     424 non-null    float64\n",
            " 5   ffc      424 non-null    float64\n",
            " 6   nfnc     424 non-null    float64\n",
            " 7   nfc      424 non-null    float64\n",
            " 8   fsnc     424 non-null    float64\n",
            " 9   fsc      424 non-null    float64\n",
            " 10  nsnc     424 non-null    float64\n",
            " 11  nsc      424 non-null    float64\n",
            " 12  총생활인구수   424 non-null    float64\n",
            "dtypes: float64(12), object(1)\n",
            "memory usage: 46.4+ KB\n"
          ]
        }
      ]
    },
    {
      "cell_type": "code",
      "metadata": {
        "id": "Az8m5Zr9tAJI"
      },
      "source": [
        "# df2와 df3에도 똑같이 적용해줍니다.\n",
        "tdf2 = pd.merge(locdf , df2 , how = 'right')\n",
        "tdf3 = pd.merge(locdf , df3 , how = 'right')"
      ],
      "execution_count": null,
      "outputs": []
    },
    {
      "cell_type": "code",
      "metadata": {
        "id": "z-sDBFHXtAMt"
      },
      "source": [
        "#마지막으로 파일을 저장합니다.\n",
        "tdf1.to_excel('loc_029_df.xlsx')\n",
        "tdf2.to_excel('loc_9218_df.xlsx')\n",
        "tdf3.to_excel('loc_18224_df.xlsx')\n"
      ],
      "execution_count": null,
      "outputs": []
    },
    {
      "cell_type": "code",
      "metadata": {
        "colab": {
          "base_uri": "https://localhost:8080/"
        },
        "id": "MjpN3loM-XYf",
        "outputId": "e62ea722-c92a-4f72-981c-27033eb9a3a4"
      },
      "source": [
        "tdf2.info()"
      ],
      "execution_count": null,
      "outputs": [
        {
          "output_type": "stream",
          "name": "stdout",
          "text": [
            "<class 'pandas.core.frame.DataFrame'>\n",
            "Int64Index: 424 entries, 0 to 423\n",
            "Data columns (total 14 columns):\n",
            " #   Column      Non-Null Count  Dtype  \n",
            "---  ------      --------------  -----  \n",
            " 0   dong        424 non-null    object \n",
            " 1   X           424 non-null    float64\n",
            " 2   Y           424 non-null    float64\n",
            " 3   highway     0 non-null      float64\n",
            " 4   Unnamed: 0  424 non-null    int64  \n",
            " 5   ffnc        276 non-null    float64\n",
            " 6   ffc         0 non-null      float64\n",
            " 7   nfnc        0 non-null      float64\n",
            " 8   nfc         0 non-null      float64\n",
            " 9   fsnc        327 non-null    float64\n",
            " 10  fsc         0 non-null      float64\n",
            " 11  nsnc        299 non-null    float64\n",
            " 12  nsc         0 non-null      float64\n",
            " 13  총생활인구수      424 non-null    float64\n",
            "dtypes: float64(12), int64(1), object(1)\n",
            "memory usage: 49.7+ KB\n"
          ]
        }
      ]
    },
    {
      "cell_type": "code",
      "metadata": {
        "colab": {
          "base_uri": "https://localhost:8080/",
          "height": 357
        },
        "id": "LNdznI9Z-dOx",
        "outputId": "6dd0023f-95a9-48ef-ff62-2c94bf83ef3a"
      },
      "source": [
        "tdf3.head(10)"
      ],
      "execution_count": null,
      "outputs": [
        {
          "output_type": "execute_result",
          "data": {
            "text/html": [
              "<div>\n",
              "<style scoped>\n",
              "    .dataframe tbody tr th:only-of-type {\n",
              "        vertical-align: middle;\n",
              "    }\n",
              "\n",
              "    .dataframe tbody tr th {\n",
              "        vertical-align: top;\n",
              "    }\n",
              "\n",
              "    .dataframe thead th {\n",
              "        text-align: right;\n",
              "    }\n",
              "</style>\n",
              "<table border=\"1\" class=\"dataframe\">\n",
              "  <thead>\n",
              "    <tr style=\"text-align: right;\">\n",
              "      <th></th>\n",
              "      <th>dong</th>\n",
              "      <th>X</th>\n",
              "      <th>Y</th>\n",
              "      <th>highway</th>\n",
              "      <th>Unnamed: 0</th>\n",
              "      <th>ffnc</th>\n",
              "      <th>ffc</th>\n",
              "      <th>nfnc</th>\n",
              "      <th>nfc</th>\n",
              "      <th>fsnc</th>\n",
              "      <th>fsc</th>\n",
              "      <th>nsnc</th>\n",
              "      <th>nsc</th>\n",
              "      <th>총생활인구수</th>\n",
              "    </tr>\n",
              "  </thead>\n",
              "  <tbody>\n",
              "    <tr>\n",
              "      <th>0</th>\n",
              "      <td>가락1동</td>\n",
              "      <td>127.108235</td>\n",
              "      <td>37.495329</td>\n",
              "      <td>NaN</td>\n",
              "      <td>0</td>\n",
              "      <td>0.200000</td>\n",
              "      <td>NaN</td>\n",
              "      <td>NaN</td>\n",
              "      <td>NaN</td>\n",
              "      <td>0.159509</td>\n",
              "      <td>NaN</td>\n",
              "      <td>0.000000</td>\n",
              "      <td>NaN</td>\n",
              "      <td>0.277379</td>\n",
              "    </tr>\n",
              "    <tr>\n",
              "      <th>1</th>\n",
              "      <td>가락2동</td>\n",
              "      <td>127.130643</td>\n",
              "      <td>37.495860</td>\n",
              "      <td>NaN</td>\n",
              "      <td>1</td>\n",
              "      <td>0.133333</td>\n",
              "      <td>NaN</td>\n",
              "      <td>NaN</td>\n",
              "      <td>NaN</td>\n",
              "      <td>0.018405</td>\n",
              "      <td>NaN</td>\n",
              "      <td>0.061224</td>\n",
              "      <td>NaN</td>\n",
              "      <td>0.287096</td>\n",
              "    </tr>\n",
              "    <tr>\n",
              "      <th>2</th>\n",
              "      <td>가락본동</td>\n",
              "      <td>127.121640</td>\n",
              "      <td>37.497217</td>\n",
              "      <td>NaN</td>\n",
              "      <td>2</td>\n",
              "      <td>0.000000</td>\n",
              "      <td>NaN</td>\n",
              "      <td>NaN</td>\n",
              "      <td>NaN</td>\n",
              "      <td>0.141104</td>\n",
              "      <td>NaN</td>\n",
              "      <td>0.020408</td>\n",
              "      <td>NaN</td>\n",
              "      <td>0.407595</td>\n",
              "    </tr>\n",
              "    <tr>\n",
              "      <th>3</th>\n",
              "      <td>가리봉동</td>\n",
              "      <td>126.888257</td>\n",
              "      <td>37.482555</td>\n",
              "      <td>NaN</td>\n",
              "      <td>3</td>\n",
              "      <td>0.000000</td>\n",
              "      <td>NaN</td>\n",
              "      <td>NaN</td>\n",
              "      <td>NaN</td>\n",
              "      <td>0.000000</td>\n",
              "      <td>NaN</td>\n",
              "      <td>0.734694</td>\n",
              "      <td>NaN</td>\n",
              "      <td>0.102105</td>\n",
              "    </tr>\n",
              "    <tr>\n",
              "      <th>4</th>\n",
              "      <td>가산동</td>\n",
              "      <td>126.884341</td>\n",
              "      <td>37.476835</td>\n",
              "      <td>NaN</td>\n",
              "      <td>4</td>\n",
              "      <td>1.000000</td>\n",
              "      <td>NaN</td>\n",
              "      <td>NaN</td>\n",
              "      <td>NaN</td>\n",
              "      <td>1.000000</td>\n",
              "      <td>NaN</td>\n",
              "      <td>0.857143</td>\n",
              "      <td>NaN</td>\n",
              "      <td>0.536664</td>\n",
              "    </tr>\n",
              "    <tr>\n",
              "      <th>5</th>\n",
              "      <td>가양1동</td>\n",
              "      <td>126.834347</td>\n",
              "      <td>37.573101</td>\n",
              "      <td>NaN</td>\n",
              "      <td>5</td>\n",
              "      <td>0.033333</td>\n",
              "      <td>NaN</td>\n",
              "      <td>NaN</td>\n",
              "      <td>NaN</td>\n",
              "      <td>0.331288</td>\n",
              "      <td>NaN</td>\n",
              "      <td>0.306122</td>\n",
              "      <td>NaN</td>\n",
              "      <td>0.511891</td>\n",
              "    </tr>\n",
              "    <tr>\n",
              "      <th>6</th>\n",
              "      <td>가양2동</td>\n",
              "      <td>126.854007</td>\n",
              "      <td>37.568657</td>\n",
              "      <td>NaN</td>\n",
              "      <td>6</td>\n",
              "      <td>NaN</td>\n",
              "      <td>NaN</td>\n",
              "      <td>NaN</td>\n",
              "      <td>NaN</td>\n",
              "      <td>0.024540</td>\n",
              "      <td>NaN</td>\n",
              "      <td>NaN</td>\n",
              "      <td>NaN</td>\n",
              "      <td>0.153992</td>\n",
              "    </tr>\n",
              "    <tr>\n",
              "      <th>7</th>\n",
              "      <td>가양3동</td>\n",
              "      <td>126.862297</td>\n",
              "      <td>37.562682</td>\n",
              "      <td>NaN</td>\n",
              "      <td>7</td>\n",
              "      <td>0.000000</td>\n",
              "      <td>NaN</td>\n",
              "      <td>NaN</td>\n",
              "      <td>NaN</td>\n",
              "      <td>0.006135</td>\n",
              "      <td>NaN</td>\n",
              "      <td>0.020408</td>\n",
              "      <td>NaN</td>\n",
              "      <td>0.088571</td>\n",
              "    </tr>\n",
              "    <tr>\n",
              "      <th>8</th>\n",
              "      <td>가회동</td>\n",
              "      <td>126.986618</td>\n",
              "      <td>37.582676</td>\n",
              "      <td>NaN</td>\n",
              "      <td>8</td>\n",
              "      <td>0.100000</td>\n",
              "      <td>NaN</td>\n",
              "      <td>NaN</td>\n",
              "      <td>NaN</td>\n",
              "      <td>NaN</td>\n",
              "      <td>NaN</td>\n",
              "      <td>0.000000</td>\n",
              "      <td>NaN</td>\n",
              "      <td>0.013440</td>\n",
              "    </tr>\n",
              "    <tr>\n",
              "      <th>9</th>\n",
              "      <td>갈현1동</td>\n",
              "      <td>126.914887</td>\n",
              "      <td>37.625353</td>\n",
              "      <td>NaN</td>\n",
              "      <td>9</td>\n",
              "      <td>NaN</td>\n",
              "      <td>NaN</td>\n",
              "      <td>NaN</td>\n",
              "      <td>NaN</td>\n",
              "      <td>NaN</td>\n",
              "      <td>NaN</td>\n",
              "      <td>NaN</td>\n",
              "      <td>NaN</td>\n",
              "      <td>0.260107</td>\n",
              "    </tr>\n",
              "  </tbody>\n",
              "</table>\n",
              "</div>"
            ],
            "text/plain": [
              "   dong           X          Y  highway  ...  fsc      nsnc  nsc    총생활인구수\n",
              "0  가락1동  127.108235  37.495329      NaN  ...  NaN  0.000000  NaN  0.277379\n",
              "1  가락2동  127.130643  37.495860      NaN  ...  NaN  0.061224  NaN  0.287096\n",
              "2  가락본동  127.121640  37.497217      NaN  ...  NaN  0.020408  NaN  0.407595\n",
              "3  가리봉동  126.888257  37.482555      NaN  ...  NaN  0.734694  NaN  0.102105\n",
              "4   가산동  126.884341  37.476835      NaN  ...  NaN  0.857143  NaN  0.536664\n",
              "5  가양1동  126.834347  37.573101      NaN  ...  NaN  0.306122  NaN  0.511891\n",
              "6  가양2동  126.854007  37.568657      NaN  ...  NaN       NaN  NaN  0.153992\n",
              "7  가양3동  126.862297  37.562682      NaN  ...  NaN  0.020408  NaN  0.088571\n",
              "8   가회동  126.986618  37.582676      NaN  ...  NaN  0.000000  NaN  0.013440\n",
              "9  갈현1동  126.914887  37.625353      NaN  ...  NaN       NaN  NaN  0.260107\n",
              "\n",
              "[10 rows x 14 columns]"
            ]
          },
          "metadata": {},
          "execution_count": 28
        }
      ]
    }
  ]
}