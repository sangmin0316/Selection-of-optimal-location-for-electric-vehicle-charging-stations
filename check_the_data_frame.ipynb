{
  "nbformat": 4,
  "nbformat_minor": 0,
  "metadata": {
    "colab": {
      "name": "check the data frame.ipynb",
      "provenance": [],
      "collapsed_sections": []
    },
    "kernelspec": {
      "name": "python3",
      "display_name": "Python 3"
    },
    "language_info": {
      "name": "python"
    }
  },
  "cells": [
    {
      "cell_type": "code",
      "metadata": {
        "id": "YUtR9i2co9TJ"
      },
      "source": [
        "import pandas as pd\n",
        "# Check the data frame"
      ],
      "execution_count": 2,
      "outputs": []
    },
    {
      "cell_type": "code",
      "metadata": {
        "id": "HUwle-ZqpF4m"
      },
      "source": [
        "df1 = pd.read_excel('9to18_final1.xlsx')\n",
        "df2 = pd.read_excel('18to24_final1.xlsx')"
      ],
      "execution_count": 11,
      "outputs": []
    },
    {
      "cell_type": "code",
      "metadata": {
        "colab": {
          "base_uri": "https://localhost:8080/",
          "height": 324
        },
        "id": "-8MN7lsXpeaN",
        "outputId": "bd1da3a8-8591-44da-ae7e-9a8c8166bbaa"
      },
      "source": [
        "df1.head()\n",
        "# column에 Unnamed column들이 존재하네여.. 이 거슬리는 column부터 없애주겠습니다."
      ],
      "execution_count": 12,
      "outputs": [
        {
          "output_type": "execute_result",
          "data": {
            "text/html": [
              "<div>\n",
              "<style scoped>\n",
              "    .dataframe tbody tr th:only-of-type {\n",
              "        vertical-align: middle;\n",
              "    }\n",
              "\n",
              "    .dataframe tbody tr th {\n",
              "        vertical-align: top;\n",
              "    }\n",
              "\n",
              "    .dataframe thead th {\n",
              "        text-align: right;\n",
              "    }\n",
              "</style>\n",
              "<table border=\"1\" class=\"dataframe\">\n",
              "  <thead>\n",
              "    <tr style=\"text-align: right;\">\n",
              "      <th></th>\n",
              "      <th>Unnamed: 0</th>\n",
              "      <th>dong</th>\n",
              "      <th>weight</th>\n",
              "      <th>총생활인구수</th>\n",
              "      <th>Unnamed: 0.1</th>\n",
              "      <th>fulltime_fch</th>\n",
              "      <th>fulltime_fch_constraint</th>\n",
              "      <th>nonfulltime_fch</th>\n",
              "      <th>nonfulltime_fch_constraint</th>\n",
              "      <th>fulltime_sch</th>\n",
              "      <th>fulltime_sch_constraint</th>\n",
              "      <th>nonfulltime_sch</th>\n",
              "      <th>nonfulltime_sch_constraint</th>\n",
              "    </tr>\n",
              "  </thead>\n",
              "  <tbody>\n",
              "    <tr>\n",
              "      <th>0</th>\n",
              "      <td>0</td>\n",
              "      <td>개포1동</td>\n",
              "      <td>0.0</td>\n",
              "      <td>6496.041680</td>\n",
              "      <td>0</td>\n",
              "      <td>0</td>\n",
              "      <td>0</td>\n",
              "      <td>0</td>\n",
              "      <td>0</td>\n",
              "      <td>0</td>\n",
              "      <td>0</td>\n",
              "      <td>3</td>\n",
              "      <td>0</td>\n",
              "    </tr>\n",
              "    <tr>\n",
              "      <th>1</th>\n",
              "      <td>1</td>\n",
              "      <td>개포2동</td>\n",
              "      <td>0.0</td>\n",
              "      <td>17861.523073</td>\n",
              "      <td>1</td>\n",
              "      <td>1</td>\n",
              "      <td>0</td>\n",
              "      <td>0</td>\n",
              "      <td>0</td>\n",
              "      <td>0</td>\n",
              "      <td>0</td>\n",
              "      <td>0</td>\n",
              "      <td>0</td>\n",
              "    </tr>\n",
              "    <tr>\n",
              "      <th>2</th>\n",
              "      <td>2</td>\n",
              "      <td>개포4동</td>\n",
              "      <td>0.0</td>\n",
              "      <td>12768.624280</td>\n",
              "      <td>2</td>\n",
              "      <td>1</td>\n",
              "      <td>0</td>\n",
              "      <td>1</td>\n",
              "      <td>0</td>\n",
              "      <td>4</td>\n",
              "      <td>8</td>\n",
              "      <td>4</td>\n",
              "      <td>0</td>\n",
              "    </tr>\n",
              "    <tr>\n",
              "      <th>3</th>\n",
              "      <td>3</td>\n",
              "      <td>논현1동</td>\n",
              "      <td>0.0</td>\n",
              "      <td>47310.909044</td>\n",
              "      <td>3</td>\n",
              "      <td>2</td>\n",
              "      <td>0</td>\n",
              "      <td>2</td>\n",
              "      <td>0</td>\n",
              "      <td>11</td>\n",
              "      <td>0</td>\n",
              "      <td>1</td>\n",
              "      <td>0</td>\n",
              "    </tr>\n",
              "    <tr>\n",
              "      <th>4</th>\n",
              "      <td>4</td>\n",
              "      <td>논현2동</td>\n",
              "      <td>0.0</td>\n",
              "      <td>50220.163767</td>\n",
              "      <td>4</td>\n",
              "      <td>0</td>\n",
              "      <td>0</td>\n",
              "      <td>3</td>\n",
              "      <td>0</td>\n",
              "      <td>11</td>\n",
              "      <td>0</td>\n",
              "      <td>9</td>\n",
              "      <td>0</td>\n",
              "    </tr>\n",
              "  </tbody>\n",
              "</table>\n",
              "</div>"
            ],
            "text/plain": [
              "   Unnamed: 0  dong  ...  nonfulltime_sch  nonfulltime_sch_constraint\n",
              "0           0  개포1동  ...                3                           0\n",
              "1           1  개포2동  ...                0                           0\n",
              "2           2  개포4동  ...                4                           0\n",
              "3           3  논현1동  ...                1                           0\n",
              "4           4  논현2동  ...                9                           0\n",
              "\n",
              "[5 rows x 13 columns]"
            ]
          },
          "metadata": {},
          "execution_count": 12
        }
      ]
    },
    {
      "cell_type": "code",
      "metadata": {
        "id": "0s1G_DdspehS"
      },
      "source": [
        "df1 = df1.drop(['Unnamed: 0.1','Unnamed: 0'], axis = 1)\n",
        "df2 = df2.drop(['Unnamed: 0.1','Unnamed: 0'], axis = 1)"
      ],
      "execution_count": 13,
      "outputs": []
    },
    {
      "cell_type": "code",
      "metadata": {
        "colab": {
          "base_uri": "https://localhost:8080/",
          "height": 307
        },
        "id": "2Eo8Ly8-pekz",
        "outputId": "5b2ca5d3-7e5c-42aa-9e7c-d145ce8d14fe"
      },
      "source": [
        "df2.head()"
      ],
      "execution_count": 14,
      "outputs": [
        {
          "output_type": "execute_result",
          "data": {
            "text/html": [
              "<div>\n",
              "<style scoped>\n",
              "    .dataframe tbody tr th:only-of-type {\n",
              "        vertical-align: middle;\n",
              "    }\n",
              "\n",
              "    .dataframe tbody tr th {\n",
              "        vertical-align: top;\n",
              "    }\n",
              "\n",
              "    .dataframe thead th {\n",
              "        text-align: right;\n",
              "    }\n",
              "</style>\n",
              "<table border=\"1\" class=\"dataframe\">\n",
              "  <thead>\n",
              "    <tr style=\"text-align: right;\">\n",
              "      <th></th>\n",
              "      <th>dong</th>\n",
              "      <th>weight</th>\n",
              "      <th>총생활인구수</th>\n",
              "      <th>fulltime_fch</th>\n",
              "      <th>fulltime_fch_constraint</th>\n",
              "      <th>nonfulltime_fch</th>\n",
              "      <th>nonfulltime_fch_constraint</th>\n",
              "      <th>fulltime_sch</th>\n",
              "      <th>fulltime_sch_constraint</th>\n",
              "      <th>nonfulltime_sch</th>\n",
              "      <th>nonfulltime_sch_constraint</th>\n",
              "    </tr>\n",
              "  </thead>\n",
              "  <tbody>\n",
              "    <tr>\n",
              "      <th>0</th>\n",
              "      <td>개포1동</td>\n",
              "      <td>0.0</td>\n",
              "      <td>6985.432986</td>\n",
              "      <td>0</td>\n",
              "      <td>0</td>\n",
              "      <td>0</td>\n",
              "      <td>0</td>\n",
              "      <td>0</td>\n",
              "      <td>0</td>\n",
              "      <td>3</td>\n",
              "      <td>0</td>\n",
              "    </tr>\n",
              "    <tr>\n",
              "      <th>1</th>\n",
              "      <td>개포2동</td>\n",
              "      <td>0.0</td>\n",
              "      <td>17808.359021</td>\n",
              "      <td>1</td>\n",
              "      <td>0</td>\n",
              "      <td>0</td>\n",
              "      <td>0</td>\n",
              "      <td>0</td>\n",
              "      <td>0</td>\n",
              "      <td>0</td>\n",
              "      <td>0</td>\n",
              "    </tr>\n",
              "    <tr>\n",
              "      <th>2</th>\n",
              "      <td>개포4동</td>\n",
              "      <td>0.0</td>\n",
              "      <td>12306.124143</td>\n",
              "      <td>1</td>\n",
              "      <td>0</td>\n",
              "      <td>1</td>\n",
              "      <td>0</td>\n",
              "      <td>4</td>\n",
              "      <td>8</td>\n",
              "      <td>4</td>\n",
              "      <td>0</td>\n",
              "    </tr>\n",
              "    <tr>\n",
              "      <th>3</th>\n",
              "      <td>논현1동</td>\n",
              "      <td>0.0</td>\n",
              "      <td>36165.571262</td>\n",
              "      <td>2</td>\n",
              "      <td>0</td>\n",
              "      <td>2</td>\n",
              "      <td>0</td>\n",
              "      <td>11</td>\n",
              "      <td>0</td>\n",
              "      <td>1</td>\n",
              "      <td>0</td>\n",
              "    </tr>\n",
              "    <tr>\n",
              "      <th>4</th>\n",
              "      <td>논현2동</td>\n",
              "      <td>0.0</td>\n",
              "      <td>33044.652502</td>\n",
              "      <td>0</td>\n",
              "      <td>0</td>\n",
              "      <td>3</td>\n",
              "      <td>0</td>\n",
              "      <td>11</td>\n",
              "      <td>0</td>\n",
              "      <td>9</td>\n",
              "      <td>0</td>\n",
              "    </tr>\n",
              "  </tbody>\n",
              "</table>\n",
              "</div>"
            ],
            "text/plain": [
              "   dong  weight  ...  nonfulltime_sch  nonfulltime_sch_constraint\n",
              "0  개포1동     0.0  ...                3                           0\n",
              "1  개포2동     0.0  ...                0                           0\n",
              "2  개포4동     0.0  ...                4                           0\n",
              "3  논현1동     0.0  ...                1                           0\n",
              "4  논현2동     0.0  ...                9                           0\n",
              "\n",
              "[5 rows x 11 columns]"
            ]
          },
          "metadata": {},
          "execution_count": 14
        }
      ]
    },
    {
      "cell_type": "code",
      "metadata": {
        "colab": {
          "base_uri": "https://localhost:8080/"
        },
        "id": "8qLWdf9Gtpyv",
        "outputId": "5ee91f33-ebc3-4516-99ec-92c2928a98ec"
      },
      "source": [
        "df1.isnull().sum()\n",
        "# 생활인구 데이터가 매칭이 안된 동이 44개나 존재 하네요..\n",
        "# 다음과 같은 문제로 null 값이 존재 하지 않을까 싶습니다.\n",
        "# 생활인구 데이터와 충전기 데이터가 같은 행정동명을 쓰지 않아서 \n",
        "# 생활인구 데이터와 충전기 데이터를 합칠때 오류 \n",
        "# 생활인구데이터 가공시 행정동명에 오류가 생겼을 경우 등등..\n"
      ],
      "execution_count": 15,
      "outputs": [
        {
          "output_type": "execute_result",
          "data": {
            "text/plain": [
              "dong                           0\n",
              "weight                         0\n",
              "총생활인구수                        44\n",
              "fulltime_fch                   0\n",
              "fulltime_fch_constraint        0\n",
              "nonfulltime_fch                0\n",
              "nonfulltime_fch_constraint     0\n",
              "fulltime_sch                   0\n",
              "fulltime_sch_constraint        0\n",
              "nonfulltime_sch                0\n",
              "nonfulltime_sch_constraint     0\n",
              "dtype: int64"
            ]
          },
          "metadata": {},
          "execution_count": 15
        }
      ]
    },
    {
      "cell_type": "code",
      "metadata": {
        "colab": {
          "base_uri": "https://localhost:8080/"
        },
        "id": "MWzAIHFqwpCd",
        "outputId": "1303a6aa-7b73-42cc-cd94-3ab0e40c3569"
      },
      "source": [
        "df1['총생활인구수'].value_counts\n",
        "df1.isnull"
      ],
      "execution_count": 16,
      "outputs": [
        {
          "output_type": "execute_result",
          "data": {
            "text/plain": [
              "<bound method DataFrame.isnull of       dong  weight  ...  nonfulltime_sch  nonfulltime_sch_constraint\n",
              "0     개포1동     0.0  ...                3                           0\n",
              "1     개포2동     0.0  ...                0                           0\n",
              "2     개포4동     0.0  ...                4                           0\n",
              "3     논현1동     0.0  ...                1                           0\n",
              "4     논현2동     0.0  ...                9                           0\n",
              "..     ...     ...  ...              ...                         ...\n",
              "455    홍은동     0.0  ...                0                           0\n",
              "456   홍제1동     0.0  ...                0                           0\n",
              "457  남가좌2동     0.0  ...               11                           7\n",
              "458  북가좌2동     0.0  ...                1                           0\n",
              "459   응암1동     0.0  ...                0                           2\n",
              "\n",
              "[460 rows x 11 columns]>"
            ]
          },
          "metadata": {},
          "execution_count": 16
        }
      ]
    },
    {
      "cell_type": "code",
      "metadata": {
        "colab": {
          "base_uri": "https://localhost:8080/"
        },
        "id": "s33I27FBtp36",
        "outputId": "02c5651e-4599-4017-fbfd-d67fa09e3626"
      },
      "source": [
        "# 행정동명으로 변환된 생활인구 데이터를 불러와서 무엇이 문제인지 확인해 봐야겠습니다.\n",
        "# null값이 존재하는 행만 뽑은 후 어떤 동인지 확인해 보겠습니다.\n",
        "test_df1 = df1[df1['총생활인구수'].isnull()]\n",
        "test_df1['dong'].value_counts"
      ],
      "execution_count": 17,
      "outputs": [
        {
          "output_type": "execute_result",
          "data": {
            "text/plain": [
              "<bound method IndexOpsMixin.value_counts of 30         상일1동\n",
              "31         상일2동\n",
              "89       인헌동조원동\n",
              "123      오류2동항동\n",
              "128    독산4동시흥1동\n",
              "173         거여동\n",
              "180       금호동2가\n",
              "183      남대문로5가\n",
              "185         내수동\n",
              "190         당산동\n",
              "191       당산동3가\n",
              "198         돈암동\n",
              "211         면목동\n",
              "222          묵동\n",
              "224       문래동1가\n",
              "225       문래동6가\n",
              "226         문배동\n",
              "233       보문동4가\n",
              "234       보문동6가\n",
              "240         산천동\n",
              "241         삼각동\n",
              "247       상왕십리동\n",
              "255       성수동1가\n",
              "271         신내동\n",
              "283         신월동\n",
              "290         신정동\n",
              "292       안암동1가\n",
              "296       양평동1가\n",
              "297       양평동3가\n",
              "298       양평동5가\n",
              "299        여의도동\n",
              "303      영등포동8가\n",
              "318       을지로6가\n",
              "345        종로6가\n",
              "357          초동\n",
              "361         풍납동\n",
              "363       하왕십리동\n",
              "364       한강로1가\n",
              "365       한강로3가\n",
              "370         행당동\n",
              "407          중동\n",
              "420        신공덕동\n",
              "423         마포동\n",
              "455         홍은동\n",
              "Name: dong, dtype: object>"
            ]
          },
          "metadata": {},
          "execution_count": 17
        }
      ]
    },
    {
      "cell_type": "code",
      "metadata": {
        "id": "UDTxVzH1ADWO"
      },
      "source": [
        ""
      ],
      "execution_count": 59,
      "outputs": []
    },
    {
      "cell_type": "code",
      "metadata": {
        "colab": {
          "base_uri": "https://localhost:8080/",
          "height": 248
        },
        "id": "rpC8yNqox78R",
        "outputId": "f4c5a7b1-0b41-4d08-9128-305cf7d910df"
      },
      "source": [
        "test_df1.iloc[[1,0]]"
      ],
      "execution_count": 41,
      "outputs": [
        {
          "output_type": "execute_result",
          "data": {
            "text/html": [
              "<div>\n",
              "<style scoped>\n",
              "    .dataframe tbody tr th:only-of-type {\n",
              "        vertical-align: middle;\n",
              "    }\n",
              "\n",
              "    .dataframe tbody tr th {\n",
              "        vertical-align: top;\n",
              "    }\n",
              "\n",
              "    .dataframe thead th {\n",
              "        text-align: right;\n",
              "    }\n",
              "</style>\n",
              "<table border=\"1\" class=\"dataframe\">\n",
              "  <thead>\n",
              "    <tr style=\"text-align: right;\">\n",
              "      <th></th>\n",
              "      <th>dong</th>\n",
              "      <th>weight</th>\n",
              "      <th>총생활인구수</th>\n",
              "      <th>fulltime_fch</th>\n",
              "      <th>fulltime_fch_constraint</th>\n",
              "      <th>nonfulltime_fch</th>\n",
              "      <th>nonfulltime_fch_constraint</th>\n",
              "      <th>fulltime_sch</th>\n",
              "      <th>fulltime_sch_constraint</th>\n",
              "      <th>nonfulltime_sch</th>\n",
              "      <th>nonfulltime_sch_constraint</th>\n",
              "    </tr>\n",
              "  </thead>\n",
              "  <tbody>\n",
              "    <tr>\n",
              "      <th>31</th>\n",
              "      <td>상일2동</td>\n",
              "      <td>0.0</td>\n",
              "      <td>NaN</td>\n",
              "      <td>5</td>\n",
              "      <td>0</td>\n",
              "      <td>0</td>\n",
              "      <td>0</td>\n",
              "      <td>6</td>\n",
              "      <td>0</td>\n",
              "      <td>0</td>\n",
              "      <td>0</td>\n",
              "    </tr>\n",
              "    <tr>\n",
              "      <th>30</th>\n",
              "      <td>상일1동</td>\n",
              "      <td>0.0</td>\n",
              "      <td>NaN</td>\n",
              "      <td>2</td>\n",
              "      <td>0</td>\n",
              "      <td>0</td>\n",
              "      <td>0</td>\n",
              "      <td>5</td>\n",
              "      <td>0</td>\n",
              "      <td>5</td>\n",
              "      <td>0</td>\n",
              "    </tr>\n",
              "  </tbody>\n",
              "</table>\n",
              "</div>"
            ],
            "text/plain": [
              "    dong  weight  ...  nonfulltime_sch  nonfulltime_sch_constraint\n",
              "31  상일2동     0.0  ...                0                           0\n",
              "30  상일1동     0.0  ...                5                           0\n",
              "\n",
              "[2 rows x 11 columns]"
            ]
          },
          "metadata": {},
          "execution_count": 41
        }
      ]
    },
    {
      "cell_type": "code",
      "metadata": {
        "id": "MPpjUSfRAEHi"
      },
      "source": [
        "df = pd.read_excel('seoul_list.xlsx') "
      ],
      "execution_count": 3,
      "outputs": []
    },
    {
      "cell_type": "code",
      "metadata": {
        "colab": {
          "base_uri": "https://localhost:8080/"
        },
        "id": "tc-J5vbrwthN",
        "outputId": "60c12a7e-cb4e-466a-937b-d0689ee4257a"
      },
      "source": [
        "for i in range(0,len(test_df1['dong'])):\n",
        "  x = test_df1.iloc[i,0]\n",
        "  idx = df[df['Unnamed: 13'] == x].index\n",
        "  print(idx)\n",
        "#충격적이게도 기존의 seoul list에는 상일1동, 상일2동을 제외한 null값에 해당하는 동이 없었다.\n",
        "#즉 손으로 직접 행정동을 입력할 당시 행정동 대신 법정동을 입력해서 이런 문제가 생긴것 같다.\n",
        "#생활인구에 있는 데이터, 서울에 있는 전기차 충전소 데이터는 행정동 기준인데 법정동으로 매꿨던것 같다."
      ],
      "execution_count": 43,
      "outputs": [
        {
          "output_type": "stream",
          "name": "stdout",
          "text": [
            "Int64Index([361, 362, 4639, 5681, 5682, 5683, 5684, 5685, 9734, 9735, 9736,\n",
            "            9737],\n",
            "           dtype='int64')\n",
            "Int64Index([624, 625, 626, 627, 628, 629, 630, 631, 5986, 5987, 5988], dtype='int64')\n",
            "Int64Index([], dtype='int64')\n",
            "Int64Index([], dtype='int64')\n",
            "Int64Index([], dtype='int64')\n",
            "Int64Index([], dtype='int64')\n",
            "Int64Index([], dtype='int64')\n",
            "Int64Index([], dtype='int64')\n",
            "Int64Index([], dtype='int64')\n",
            "Int64Index([], dtype='int64')\n",
            "Int64Index([], dtype='int64')\n",
            "Int64Index([], dtype='int64')\n",
            "Int64Index([], dtype='int64')\n",
            "Int64Index([], dtype='int64')\n",
            "Int64Index([], dtype='int64')\n",
            "Int64Index([], dtype='int64')\n",
            "Int64Index([], dtype='int64')\n",
            "Int64Index([], dtype='int64')\n",
            "Int64Index([], dtype='int64')\n",
            "Int64Index([], dtype='int64')\n",
            "Int64Index([], dtype='int64')\n",
            "Int64Index([], dtype='int64')\n",
            "Int64Index([], dtype='int64')\n",
            "Int64Index([], dtype='int64')\n",
            "Int64Index([], dtype='int64')\n",
            "Int64Index([], dtype='int64')\n",
            "Int64Index([], dtype='int64')\n",
            "Int64Index([], dtype='int64')\n",
            "Int64Index([], dtype='int64')\n",
            "Int64Index([], dtype='int64')\n",
            "Int64Index([], dtype='int64')\n",
            "Int64Index([], dtype='int64')\n",
            "Int64Index([], dtype='int64')\n",
            "Int64Index([], dtype='int64')\n",
            "Int64Index([], dtype='int64')\n",
            "Int64Index([], dtype='int64')\n",
            "Int64Index([], dtype='int64')\n",
            "Int64Index([], dtype='int64')\n",
            "Int64Index([], dtype='int64')\n",
            "Int64Index([], dtype='int64')\n",
            "Int64Index([], dtype='int64')\n",
            "Int64Index([], dtype='int64')\n",
            "Int64Index([], dtype='int64')\n",
            "Int64Index([], dtype='int64')\n"
          ]
        }
      ]
    },
    {
      "cell_type": "code",
      "metadata": {
        "id": "W05TKRwa3srO"
      },
      "source": [
        ""
      ],
      "execution_count": null,
      "outputs": []
    },
    {
      "cell_type": "code",
      "metadata": {
        "id": "WsdAiZGnwtjX"
      },
      "source": [
        "#다시 매꾸는 작업을 해야겠다.ㅠ "
      ],
      "execution_count": null,
      "outputs": []
    },
    {
      "cell_type": "code",
      "metadata": {
        "colab": {
          "base_uri": "https://localhost:8080/",
          "height": 304
        },
        "id": "g3bQbZ9Nwtm-",
        "outputId": "22313fe9-ba82-4d48-d6f8-94a99d8da790"
      },
      "source": [
        "# 다음 파일은 같은 팀원이 10개 구를 정리한 충전소 파일입니다.\n",
        "gudf1= pd.read_excel('hangjungdong.xlsx')\n",
        "gudf1.head()"
      ],
      "execution_count": 51,
      "outputs": [
        {
          "output_type": "execute_result",
          "data": {
            "text/html": [
              "<div>\n",
              "<style scoped>\n",
              "    .dataframe tbody tr th:only-of-type {\n",
              "        vertical-align: middle;\n",
              "    }\n",
              "\n",
              "    .dataframe tbody tr th {\n",
              "        vertical-align: top;\n",
              "    }\n",
              "\n",
              "    .dataframe thead th {\n",
              "        text-align: right;\n",
              "    }\n",
              "</style>\n",
              "<table border=\"1\" class=\"dataframe\">\n",
              "  <thead>\n",
              "    <tr style=\"text-align: right;\">\n",
              "      <th></th>\n",
              "      <th>Unnamed: 0</th>\n",
              "      <th>Unnamed: 0.1</th>\n",
              "      <th>운영기관</th>\n",
              "      <th>충전소</th>\n",
              "      <th>타입</th>\n",
              "      <th>시군구</th>\n",
              "      <th>주소</th>\n",
              "      <th>이용가능시간</th>\n",
              "      <th>종류</th>\n",
              "      <th>비고</th>\n",
              "      <th>행정동</th>\n",
              "    </tr>\n",
              "  </thead>\n",
              "  <tbody>\n",
              "    <tr>\n",
              "      <th>0</th>\n",
              "      <td>6</td>\n",
              "      <td>83</td>\n",
              "      <td>환경부(한국자동차환경협회)</td>\n",
              "      <td>가락시장</td>\n",
              "      <td>DC콤보</td>\n",
              "      <td>송파구</td>\n",
              "      <td>서울특별시 송파구 양재대로 932</td>\n",
              "      <td>24시간 이용가능</td>\n",
              "      <td>급속(100kW단독)</td>\n",
              "      <td>15분무료 / 2시간1000원 /이후 10분당 500원</td>\n",
              "      <td>가락1동</td>\n",
              "    </tr>\n",
              "    <tr>\n",
              "      <th>1</th>\n",
              "      <td>7</td>\n",
              "      <td>84</td>\n",
              "      <td>환경부(한국자동차환경협회)</td>\n",
              "      <td>가락시장</td>\n",
              "      <td>DC콤보</td>\n",
              "      <td>송파구</td>\n",
              "      <td>서울특별시 송파구 양재대로 932</td>\n",
              "      <td>24시간 이용가능</td>\n",
              "      <td>급속(100kW단독)</td>\n",
              "      <td>15분무료 / 2시간1000원 /이후 10분당 500원</td>\n",
              "      <td>가락1동</td>\n",
              "    </tr>\n",
              "    <tr>\n",
              "      <th>2</th>\n",
              "      <td>507</td>\n",
              "      <td>8085</td>\n",
              "      <td>한국전력</td>\n",
              "      <td>가락시장</td>\n",
              "      <td>DC차데모+AC3상+DC콤보</td>\n",
              "      <td>송파구</td>\n",
              "      <td>서울특별시 송파구 양재대로 932</td>\n",
              "      <td>주중/주말 : 24시간</td>\n",
              "      <td>NaN</td>\n",
              "      <td>NaN</td>\n",
              "      <td>가락1동</td>\n",
              "    </tr>\n",
              "    <tr>\n",
              "      <th>3</th>\n",
              "      <td>508</td>\n",
              "      <td>8086</td>\n",
              "      <td>한국전력</td>\n",
              "      <td>가락시장</td>\n",
              "      <td>DC차데모+AC3상+DC콤보</td>\n",
              "      <td>송파구</td>\n",
              "      <td>서울특별시 송파구 양재대로 932</td>\n",
              "      <td>주중/주말 : 24시간</td>\n",
              "      <td>NaN</td>\n",
              "      <td>NaN</td>\n",
              "      <td>가락1동</td>\n",
              "    </tr>\n",
              "    <tr>\n",
              "      <th>4</th>\n",
              "      <td>509</td>\n",
              "      <td>8087</td>\n",
              "      <td>한국전력</td>\n",
              "      <td>가락시장</td>\n",
              "      <td>DC차데모+AC3상+DC콤보</td>\n",
              "      <td>송파구</td>\n",
              "      <td>서울특별시 송파구 양재대로 932</td>\n",
              "      <td>주중/주말 : 24시간</td>\n",
              "      <td>NaN</td>\n",
              "      <td>NaN</td>\n",
              "      <td>가락1동</td>\n",
              "    </tr>\n",
              "  </tbody>\n",
              "</table>\n",
              "</div>"
            ],
            "text/plain": [
              "   Unnamed: 0  Unnamed: 0.1  ...                              비고   행정동\n",
              "0           6            83  ...  15분무료 / 2시간1000원 /이후 10분당 500원  가락1동\n",
              "1           7            84  ...  15분무료 / 2시간1000원 /이후 10분당 500원  가락1동\n",
              "2         507          8085  ...                             NaN  가락1동\n",
              "3         508          8086  ...                             NaN  가락1동\n",
              "4         509          8087  ...                             NaN  가락1동\n",
              "\n",
              "[5 rows x 11 columns]"
            ]
          },
          "metadata": {},
          "execution_count": 51
        }
      ]
    },
    {
      "cell_type": "code",
      "metadata": {
        "id": "vBkX_q6R3n5J"
      },
      "source": [
        "# null값으로 되있는 동(법정동)으로 입력된 행을 찾아서 gudf11으로 따로저장합시다. \n",
        "# 먼저 gudff11이라는 데이터프레임을 기존에 있던 데이터프레임과 같이 만듭니다.\n",
        "\n",
        "x = test_df1.iloc[i,0]\n",
        "idx = gudf1[gudf1['행정동'] != x].index\n",
        "gudf11 = gudf1.drop(idx)\n",
        " \n",
        "for i in range(1,len(test_df1['dong'])):\n",
        "  x = test_df1.iloc[i,0]\n",
        "  idx = gudf1[gudf1['행정동'] != x].index\n",
        "  a = gudf1.drop(idx)\n",
        "  gudf11 = pd.concat([gudf11,a])\n"
      ],
      "execution_count": 62,
      "outputs": []
    },
    {
      "cell_type": "code",
      "metadata": {
        "colab": {
          "base_uri": "https://localhost:8080/",
          "height": 304
        },
        "id": "S8lILzcy6NR9",
        "outputId": "badc057b-c3e1-4239-962b-01852b5e879d"
      },
      "source": [
        "gudf11.head()"
      ],
      "execution_count": 63,
      "outputs": [
        {
          "output_type": "execute_result",
          "data": {
            "text/html": [
              "<div>\n",
              "<style scoped>\n",
              "    .dataframe tbody tr th:only-of-type {\n",
              "        vertical-align: middle;\n",
              "    }\n",
              "\n",
              "    .dataframe tbody tr th {\n",
              "        vertical-align: top;\n",
              "    }\n",
              "\n",
              "    .dataframe thead th {\n",
              "        text-align: right;\n",
              "    }\n",
              "</style>\n",
              "<table border=\"1\" class=\"dataframe\">\n",
              "  <thead>\n",
              "    <tr style=\"text-align: right;\">\n",
              "      <th></th>\n",
              "      <th>Unnamed: 0</th>\n",
              "      <th>Unnamed: 0.1</th>\n",
              "      <th>운영기관</th>\n",
              "      <th>충전소</th>\n",
              "      <th>타입</th>\n",
              "      <th>시군구</th>\n",
              "      <th>주소</th>\n",
              "      <th>이용가능시간</th>\n",
              "      <th>종류</th>\n",
              "      <th>비고</th>\n",
              "      <th>행정동</th>\n",
              "    </tr>\n",
              "  </thead>\n",
              "  <tbody>\n",
              "    <tr>\n",
              "      <th>4174</th>\n",
              "      <td>10432</td>\n",
              "      <td>76896</td>\n",
              "      <td>스타코프</td>\n",
              "      <td>위례 A1-5BL</td>\n",
              "      <td>AC완속</td>\n",
              "      <td>송파구</td>\n",
              "      <td>서울특별시 송파구 위례북로 30위례 A1-5BL(위례포레샤인 17단지)</td>\n",
              "      <td>09:00~18:00</td>\n",
              "      <td>NaN</td>\n",
              "      <td>NaN</td>\n",
              "      <td>거여동</td>\n",
              "    </tr>\n",
              "    <tr>\n",
              "      <th>4175</th>\n",
              "      <td>10433</td>\n",
              "      <td>76897</td>\n",
              "      <td>스타코프</td>\n",
              "      <td>위례 A1-5BL</td>\n",
              "      <td>AC완속</td>\n",
              "      <td>송파구</td>\n",
              "      <td>서울특별시 송파구 위례북로 30위례 A1-5BL(위례포레샤인 17단지)</td>\n",
              "      <td>09:00~18:00</td>\n",
              "      <td>NaN</td>\n",
              "      <td>NaN</td>\n",
              "      <td>거여동</td>\n",
              "    </tr>\n",
              "    <tr>\n",
              "      <th>4176</th>\n",
              "      <td>10434</td>\n",
              "      <td>76898</td>\n",
              "      <td>스타코프</td>\n",
              "      <td>위례 A1-5BL</td>\n",
              "      <td>AC완속</td>\n",
              "      <td>송파구</td>\n",
              "      <td>서울특별시 송파구 위례북로 30위례 A1-5BL(위례포레샤인 17단지)</td>\n",
              "      <td>09:00~18:00</td>\n",
              "      <td>NaN</td>\n",
              "      <td>NaN</td>\n",
              "      <td>거여동</td>\n",
              "    </tr>\n",
              "    <tr>\n",
              "      <th>4177</th>\n",
              "      <td>10435</td>\n",
              "      <td>76899</td>\n",
              "      <td>스타코프</td>\n",
              "      <td>위례 A1-5BL</td>\n",
              "      <td>AC완속</td>\n",
              "      <td>송파구</td>\n",
              "      <td>서울특별시 송파구 위례북로 30위례 A1-5BL(위례포레샤인 17단지)</td>\n",
              "      <td>09:00~18:00</td>\n",
              "      <td>NaN</td>\n",
              "      <td>NaN</td>\n",
              "      <td>거여동</td>\n",
              "    </tr>\n",
              "    <tr>\n",
              "      <th>4178</th>\n",
              "      <td>10436</td>\n",
              "      <td>76900</td>\n",
              "      <td>스타코프</td>\n",
              "      <td>위례 A1-5BL</td>\n",
              "      <td>AC완속</td>\n",
              "      <td>송파구</td>\n",
              "      <td>서울특별시 송파구 위례북로 30위례 A1-5BL(위례포레샤인 17단지)</td>\n",
              "      <td>09:00~18:00</td>\n",
              "      <td>NaN</td>\n",
              "      <td>NaN</td>\n",
              "      <td>거여동</td>\n",
              "    </tr>\n",
              "  </tbody>\n",
              "</table>\n",
              "</div>"
            ],
            "text/plain": [
              "      Unnamed: 0  Unnamed: 0.1  운영기관        충전소  ...       이용가능시간   종류   비고  행정동\n",
              "4174       10432         76896  스타코프  위례 A1-5BL  ...  09:00~18:00  NaN  NaN  거여동\n",
              "4175       10433         76897  스타코프  위례 A1-5BL  ...  09:00~18:00  NaN  NaN  거여동\n",
              "4176       10434         76898  스타코프  위례 A1-5BL  ...  09:00~18:00  NaN  NaN  거여동\n",
              "4177       10435         76899  스타코프  위례 A1-5BL  ...  09:00~18:00  NaN  NaN  거여동\n",
              "4178       10436         76900  스타코프  위례 A1-5BL  ...  09:00~18:00  NaN  NaN  거여동\n",
              "\n",
              "[5 rows x 11 columns]"
            ]
          },
          "metadata": {},
          "execution_count": 63
        }
      ]
    },
    {
      "cell_type": "code",
      "metadata": {
        "id": "B8JoZl-27kzU"
      },
      "source": [
        "gudf11.to_excel('gudf1_check.xlsx')"
      ],
      "execution_count": 64,
      "outputs": []
    },
    {
      "cell_type": "code",
      "metadata": {
        "id": "xZY2L8Gy7TYd"
      },
      "source": [
        "# 법정동이었던 행을 기존에 있던 dataframe에서 제거합니다.\n",
        "for i in range(1,len(test_df1['dong'])):\n",
        "  x = test_df1.iloc[i,0]\n",
        "  idx = gudf1[gudf1['행정동'] == x].index\n",
        "  gudf1 = gudf1.drop(idx)"
      ],
      "execution_count": 65,
      "outputs": []
    },
    {
      "cell_type": "code",
      "metadata": {
        "colab": {
          "base_uri": "https://localhost:8080/"
        },
        "id": "pIlzLbvg8D6F",
        "outputId": "6113bed4-44e1-44b9-8341-54fa9c95425a"
      },
      "source": [
        "# 잘 제거 되었는지 확인해보기\n",
        "for i in range(1,len(test_df1['dong'])):\n",
        "  x = test_df1.iloc[i,0]\n",
        "  idx = gudf1[gudf1['행정동'] == x].index\n",
        "  print(idx)\n",
        "# 잘 제거가 되었네요"
      ],
      "execution_count": 67,
      "outputs": [
        {
          "output_type": "stream",
          "name": "stdout",
          "text": [
            "Int64Index([], dtype='int64')\n",
            "Int64Index([], dtype='int64')\n",
            "Int64Index([], dtype='int64')\n",
            "Int64Index([], dtype='int64')\n",
            "Int64Index([], dtype='int64')\n",
            "Int64Index([], dtype='int64')\n",
            "Int64Index([], dtype='int64')\n",
            "Int64Index([], dtype='int64')\n",
            "Int64Index([], dtype='int64')\n",
            "Int64Index([], dtype='int64')\n",
            "Int64Index([], dtype='int64')\n",
            "Int64Index([], dtype='int64')\n",
            "Int64Index([], dtype='int64')\n",
            "Int64Index([], dtype='int64')\n",
            "Int64Index([], dtype='int64')\n",
            "Int64Index([], dtype='int64')\n",
            "Int64Index([], dtype='int64')\n",
            "Int64Index([], dtype='int64')\n",
            "Int64Index([], dtype='int64')\n",
            "Int64Index([], dtype='int64')\n",
            "Int64Index([], dtype='int64')\n",
            "Int64Index([], dtype='int64')\n",
            "Int64Index([], dtype='int64')\n",
            "Int64Index([], dtype='int64')\n",
            "Int64Index([], dtype='int64')\n",
            "Int64Index([], dtype='int64')\n",
            "Int64Index([], dtype='int64')\n",
            "Int64Index([], dtype='int64')\n",
            "Int64Index([], dtype='int64')\n",
            "Int64Index([], dtype='int64')\n",
            "Int64Index([], dtype='int64')\n",
            "Int64Index([], dtype='int64')\n",
            "Int64Index([], dtype='int64')\n",
            "Int64Index([], dtype='int64')\n",
            "Int64Index([], dtype='int64')\n",
            "Int64Index([], dtype='int64')\n",
            "Int64Index([], dtype='int64')\n",
            "Int64Index([], dtype='int64')\n",
            "Int64Index([], dtype='int64')\n",
            "Int64Index([], dtype='int64')\n",
            "Int64Index([], dtype='int64')\n",
            "Int64Index([], dtype='int64')\n",
            "Int64Index([], dtype='int64')\n"
          ]
        }
      ]
    },
    {
      "cell_type": "code",
      "metadata": {
        "id": "snuPW0PQ8D9p"
      },
      "source": [
        "#이것 또한 다시 저장해두고, 법정동을 해정동으로 바꾼 후 두 파이을 합치겠습니다.\n",
        "gudf1.to_excel('gudf1_hangjung.xlsx')"
      ],
      "execution_count": 68,
      "outputs": []
    }
  ]
}