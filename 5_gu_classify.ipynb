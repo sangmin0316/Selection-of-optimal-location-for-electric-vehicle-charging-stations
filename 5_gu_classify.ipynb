{
  "nbformat": 4,
  "nbformat_minor": 0,
  "metadata": {
    "colab": {
      "name": "5_gu_classify.ipynb",
      "provenance": []
    },
    "kernelspec": {
      "name": "python3",
      "display_name": "Python 3"
    },
    "language_info": {
      "name": "python"
    }
  },
  "cells": [
    {
      "cell_type": "code",
      "metadata": {
        "id": "PhCFVqEK1Txo"
      },
      "source": [
        "# seoul_lsit를 구별로 나누어 하기로 했습니다.\n",
        "# 리스트에 도로명 주소를 지번주소로 바꿔 행정동을 구했었는데\n",
        "# 안바뀌는 도로명이 있어서, 제가 맡은 구를 뽑아 직접 행정동을 구하려고 합니다.\n",
        "import pandas as pd\n",
        "df = pd.read_excel('seoul_list.xlsx')\n",
        "\n"
      ],
      "execution_count": 12,
      "outputs": []
    },
    {
      "cell_type": "code",
      "metadata": {
        "id": "QH9MwxRA1l5p"
      },
      "source": [
        "def classify_gu(df,a):\n",
        "  idx1 = df[df['시군구'] != a].index\n",
        "  gu_df = df.drop(idx1)\n",
        "  return gu_df "
      ],
      "execution_count": 13,
      "outputs": []
    },
    {
      "cell_type": "code",
      "metadata": {
        "id": "4jVFb_nj1ug5"
      },
      "source": [
        "a = '동작구 '\n",
        "b = '마포구 '\n",
        "c = '서대문구 '\n",
        "d = '서초구 '\n",
        "e = '동대문구 '\n",
        "aa = classify_gu(df,a)\n",
        "aa.to_excel('dongjack_df.xlsx')\n",
        "bb = classify_gu(df,b)\n",
        "bb.to_excel('mapo_df.xlsx')\n",
        "cc = classify_gu(df,c)\n",
        "cc.to_excel('seodaemoon_df.xlsx')\n",
        "dd = classify_gu(df,d)\n",
        "dd.to_excel('seocho_df.xlsx')\n",
        "ee = classify_gu(df,e)\n",
        "ee.to_excel('dongdaemoon_df.xlsx')\n",
        "\n"
      ],
      "execution_count": 11,
      "outputs": []
    },
    {
      "cell_type": "code",
      "metadata": {
        "id": "piNeIZbr1ujY"
      },
      "source": [
        "# 수작업 완료"
      ],
      "execution_count": null,
      "outputs": []
    },
    {
      "cell_type": "code",
      "metadata": {
        "id": "tihKcOVu1uls"
      },
      "source": [
        ""
      ],
      "execution_count": null,
      "outputs": []
    },
    {
      "cell_type": "code",
      "metadata": {
        "id": "0eFZz6VVB9NH"
      },
      "source": [
        "def classify_gu(df,a):\n",
        "  idx1 = df[df['시군구'] != a].index\n",
        "  gu_df = df.drop(idx1)\n",
        "  return gu_df "
      ],
      "execution_count": 17,
      "outputs": []
    },
    {
      "cell_type": "code",
      "metadata": {
        "id": "xj2kN3A7HKy2"
      },
      "source": [
        "def classify_fast(df):\n",
        "  f_df = df[df['타입'] != 'AC완속']\n",
        "  idxs = f_df.index\n",
        "  s_df = df.drop(idxs)\n",
        "  return f_df, s_df"
      ],
      "execution_count": 18,
      "outputs": []
    },
    {
      "cell_type": "code",
      "metadata": {
        "id": "-5qEr29TIHk-"
      },
      "source": [
        "# 이 함수에 기준은 구마다 다른 것 같아서 수정할 필요가 있습니다.\n",
        "def classify_time(df):\n",
        "  f1 = df[df['이용가능시간'] == '24시간 이용가능' ]\n",
        "  f2 = df[df['이용가능시간'] == '주증/주말 : 24시간' ]\n",
        "  f3 = df[df['이용가능시간'] == '24시간' ]\n",
        "  f4 = df[df['이용가능시간'] == '~' ]\n",
        "  f5 = df[df['이용가능시간'] == '00:00 ~ 23:59' ]\n",
        "  f6 = df[df['이용가능시간'] == 'NaN' ]\n",
        "  #이용 가능 시간 column에 시간 말고 다른 제한조건이 같이 있는 raw도 있습니다.\n",
        "  c1 = df[df['이용가능시간'] == '24시간 이용가능,입주민만 사용가능 거주자외출입제한' ]\n",
        "  c2 = df[df['이용가능시간'] == '24시간 이용가능,입주민만 사용가능 거주자 외 출입제' ]\n",
        "\n",
        "  full = pd.concat([f1,f2,f3,f4,f5,f6])\n",
        "  temporary_c = pd.concat([c1, c2])\n",
        "  fullfc = pd.concat([full, temporary_c])\n",
        "  idx = fullfc.index\n",
        "  nonfull = df.drop(idx)\n",
        "  return full, nonfull, temporary_c"
      ],
      "execution_count": 19,
      "outputs": []
    },
    {
      "cell_type": "code",
      "metadata": {
        "id": "VVF2b3f9IHnj"
      },
      "source": [
        "def classify_constraints(df,temporary_c):\n",
        "  c1 = df[df['비고'] == '입주민만 사용가능 거주자외 출입제한' ]\n",
        "  c2 = df[df['비고'] == '입주민만 사용가능 거주자 외 출입제한' ]\n",
        "  c = pd.concat([temporary_c,c1,c2])\n",
        "  nonc1 = df.drop(c1.index)\n",
        "  nonc2 = nonc1.drop(c2.index)\n",
        "  return c,nonc2"
      ],
      "execution_count": 20,
      "outputs": []
    },
    {
      "cell_type": "code",
      "metadata": {
        "id": "EofN9-cJIHp6"
      },
      "source": [
        "def classify_all(df,a):\n",
        "  dfgu = classify_gu(df,a)\n",
        "  # fast slow classify\n",
        "  fast, slow = classify_fast(dfgu)\n",
        "  # time classify\n",
        "  fast_full , fast_nonfull , temporary_fast_cons = classify_time(fast) \n",
        "  slow_full , slow_nonfull , temporary_slow_cons = classify_time(slow)\n",
        "  # constraints classify\n",
        "  ffc, ffnc = classify_constraints(fast_full,temporary_fast_cons)\n",
        "  nfc, nfnc = classify_constraints(fast_nonfull,temporary_fast_cons)\n",
        "  fsc, fsnc = classify_constraints(slow_full, temporary_slow_cons)\n",
        "  nsc, nsnc = classify_constraints(slow_nonfull, temporary_slow_cons)\n",
        "  return ffc,ffnc, nfc, nfnc, fsc, fsnc, nsc, nsnc\n"
      ],
      "execution_count": 21,
      "outputs": []
    },
    {
      "cell_type": "code",
      "metadata": {
        "id": "BrIiuoncIHtP",
        "colab": {
          "base_uri": "https://localhost:8080/",
          "height": 590
        },
        "outputId": "6df24e4e-e219-46c7-b5ec-6a3aa5642222"
      },
      "source": [
        "#수작업된 파일을 불러와 위에 있는 함수를 적용해보겠습니다.\n",
        "df = pd.read_excel('e_dongdaemoon_df.xlsx')\n",
        "a = '동대문구 '\n",
        "df.head()"
      ],
      "execution_count": 31,
      "outputs": [
        {
          "output_type": "execute_result",
          "data": {
            "text/html": [
              "<div>\n",
              "<style scoped>\n",
              "    .dataframe tbody tr th:only-of-type {\n",
              "        vertical-align: middle;\n",
              "    }\n",
              "\n",
              "    .dataframe tbody tr th {\n",
              "        vertical-align: top;\n",
              "    }\n",
              "\n",
              "    .dataframe thead th {\n",
              "        text-align: right;\n",
              "    }\n",
              "</style>\n",
              "<table border=\"1\" class=\"dataframe\">\n",
              "  <thead>\n",
              "    <tr style=\"text-align: right;\">\n",
              "      <th></th>\n",
              "      <th>Unnamed: 0</th>\n",
              "      <th>Unnamed: 0.1</th>\n",
              "      <th>운영기관</th>\n",
              "      <th>충전소</th>\n",
              "      <th>충전기 ID</th>\n",
              "      <th>타입</th>\n",
              "      <th>지역</th>\n",
              "      <th>시군구</th>\n",
              "      <th>주소</th>\n",
              "      <th>이용가능시간</th>\n",
              "      <th>제한</th>\n",
              "      <th>종류</th>\n",
              "      <th>비고</th>\n",
              "      <th>Unnamed: 13</th>\n",
              "      <th>Unnamed: 13.1</th>\n",
              "    </tr>\n",
              "  </thead>\n",
              "  <tbody>\n",
              "    <tr>\n",
              "      <th>0</th>\n",
              "      <td>72</td>\n",
              "      <td>1396</td>\n",
              "      <td>환경부(한국자동차환경협회)</td>\n",
              "      <td>동대문구청</td>\n",
              "      <td>1</td>\n",
              "      <td>DC차데모+AC3상+DC콤보</td>\n",
              "      <td>서울특별시</td>\n",
              "      <td>동대문구</td>\n",
              "      <td>서울특별시 동대문구 천호대로 145 동대문구청 옥외주차장</td>\n",
              "      <td>24시간 이용가능</td>\n",
              "      <td>NaN</td>\n",
              "      <td>급속(50kW)</td>\n",
              "      <td>주차요금 별도</td>\n",
              "      <td>[1] 행정동 명칭</td>\n",
              "      <td>용신동</td>\n",
              "    </tr>\n",
              "    <tr>\n",
              "      <th>1</th>\n",
              "      <td>151</td>\n",
              "      <td>2566</td>\n",
              "      <td>환경부(한국자동차환경협회)</td>\n",
              "      <td>서울약령시 공영주차장</td>\n",
              "      <td>11</td>\n",
              "      <td>DC콤보</td>\n",
              "      <td>서울특별시</td>\n",
              "      <td>동대문구</td>\n",
              "      <td>서울특별시 동대문구 약령중앙로 26</td>\n",
              "      <td>24시간 이용가능</td>\n",
              "      <td>NaN</td>\n",
              "      <td>급속(200kW동시)</td>\n",
              "      <td>10분/300원 친환경차 50% 감면</td>\n",
              "      <td>[1] 행정동 명칭</td>\n",
              "      <td>제기동</td>\n",
              "    </tr>\n",
              "    <tr>\n",
              "      <th>2</th>\n",
              "      <td>152</td>\n",
              "      <td>2567</td>\n",
              "      <td>환경부(한국자동차환경협회)</td>\n",
              "      <td>서울약령시 공영주차장</td>\n",
              "      <td>12</td>\n",
              "      <td>DC콤보</td>\n",
              "      <td>서울특별시</td>\n",
              "      <td>동대문구</td>\n",
              "      <td>서울특별시 동대문구 약령중앙로 26</td>\n",
              "      <td>24시간 이용가능</td>\n",
              "      <td>NaN</td>\n",
              "      <td>급속(200kW동시)</td>\n",
              "      <td>10분/300원 친환경차 50% 감면</td>\n",
              "      <td>[1] 행정동 명칭</td>\n",
              "      <td>제기동</td>\n",
              "    </tr>\n",
              "    <tr>\n",
              "      <th>3</th>\n",
              "      <td>234</td>\n",
              "      <td>3885</td>\n",
              "      <td>환경부(한국자동차환경협회)</td>\n",
              "      <td>이마트 이문점</td>\n",
              "      <td>1</td>\n",
              "      <td>DC차데모+AC3상</td>\n",
              "      <td>서울특별시</td>\n",
              "      <td>동대문구</td>\n",
              "      <td>서울특별시 동대문구 이문로 136, 지하주차장 1층 D-04(이문동 292-10)</td>\n",
              "      <td>10:00~24:00</td>\n",
              "      <td>NaN</td>\n",
              "      <td>급속(50kW)</td>\n",
              "      <td>NaN</td>\n",
              "      <td>[1] 행정동 명칭</td>\n",
              "      <td>이문1동</td>\n",
              "    </tr>\n",
              "    <tr>\n",
              "      <th>4</th>\n",
              "      <td>250</td>\n",
              "      <td>4580</td>\n",
              "      <td>환경부(한국자동차환경협회)</td>\n",
              "      <td>청량리롯데백화점</td>\n",
              "      <td>1</td>\n",
              "      <td>DC차데모+AC3상</td>\n",
              "      <td>서울특별시</td>\n",
              "      <td>동대문구</td>\n",
              "      <td>서울특별시 동대문구 왕산로 214, 주차장 옥상(전농동 591-53)</td>\n",
              "      <td>24시간 이용가능</td>\n",
              "      <td>NaN</td>\n",
              "      <td>급속(50kW)</td>\n",
              "      <td>NaN</td>\n",
              "      <td>[1] 행정동 명칭</td>\n",
              "      <td>전농1동</td>\n",
              "    </tr>\n",
              "  </tbody>\n",
              "</table>\n",
              "</div>"
            ],
            "text/plain": [
              "   Unnamed: 0  Unnamed: 0.1  ... Unnamed: 13 Unnamed: 13.1\n",
              "0          72          1396  ...  [1] 행정동 명칭           용신동\n",
              "1         151          2566  ...  [1] 행정동 명칭           제기동\n",
              "2         152          2567  ...  [1] 행정동 명칭           제기동\n",
              "3         234          3885  ...  [1] 행정동 명칭          이문1동\n",
              "4         250          4580  ...  [1] 행정동 명칭          전농1동\n",
              "\n",
              "[5 rows x 15 columns]"
            ]
          },
          "metadata": {},
          "execution_count": 31
        }
      ]
    },
    {
      "cell_type": "markdown",
      "metadata": {
        "id": "kQ-1dhghKoVp"
      },
      "source": [
        ""
      ]
    },
    {
      "cell_type": "code",
      "metadata": {
        "id": "VVT0pgFFJc0O"
      },
      "source": [
        "# 위 함수는 동대문구를 기준으로 만든것임으로 따로 함수정없이 사용하겠습니다.\n",
        "# classify에서 구를 구분하는 함수는 이미 처리해서 필요없을것같네용\n",
        "ffc,ffnc, nfc, nfnc, fsc, fsnc, nsc, nsnc = classify_all(df,a)"
      ],
      "execution_count": 27,
      "outputs": []
    },
    {
      "cell_type": "code",
      "metadata": {
        "id": "hLanjnQsJc0P"
      },
      "source": [
        "gu_df = pd.DataFrame()\n",
        "gu_df['ffc'] =  ffc['Unnamed: 13.1'].value_counts(sort = True)\n",
        "gu_df['ffnc'] =  ffnc['Unnamed: 13.1'].value_counts(sort = True)\n",
        "gu_df['nfc'] =  nfc['Unnamed: 13.1'].value_counts(sort = True)\n",
        "gu_df['nfnc'] =  nfnc['Unnamed: 13.1'].value_counts(sort = True)\n",
        "gu_df['fsc'] =  fsc['Unnamed: 13.1'].value_counts(sort = True)\n",
        "gu_df['fsnc'] =  fsnc['Unnamed: 13.1'].value_counts(sort = True)\n",
        "gu_df['nsc'] =  nsc['Unnamed: 13.1'].value_counts(sort = True)\n",
        "gu_df['nsnc'] =  nsnc['Unnamed: 13.1'].value_counts(sort = True)"
      ],
      "execution_count": 32,
      "outputs": []
    },
    {
      "cell_type": "code",
      "metadata": {
        "colab": {
          "base_uri": "https://localhost:8080/",
          "height": 203
        },
        "id": "zhiFoaF4KOVQ",
        "outputId": "75e1625a-c322-4eb7-e7dd-fe404f3369f2"
      },
      "source": [
        "#동대문구 완료!\n",
        "gu_df.to_excel('f_dong_df.xlsx')\n",
        "gu_df.head()"
      ],
      "execution_count": 34,
      "outputs": [
        {
          "output_type": "execute_result",
          "data": {
            "text/html": [
              "<div>\n",
              "<style scoped>\n",
              "    .dataframe tbody tr th:only-of-type {\n",
              "        vertical-align: middle;\n",
              "    }\n",
              "\n",
              "    .dataframe tbody tr th {\n",
              "        vertical-align: top;\n",
              "    }\n",
              "\n",
              "    .dataframe thead th {\n",
              "        text-align: right;\n",
              "    }\n",
              "</style>\n",
              "<table border=\"1\" class=\"dataframe\">\n",
              "  <thead>\n",
              "    <tr style=\"text-align: right;\">\n",
              "      <th></th>\n",
              "      <th>ffc</th>\n",
              "      <th>ffnc</th>\n",
              "      <th>nfc</th>\n",
              "      <th>nfnc</th>\n",
              "      <th>fsc</th>\n",
              "      <th>fsnc</th>\n",
              "      <th>nsc</th>\n",
              "      <th>nsnc</th>\n",
              "    </tr>\n",
              "  </thead>\n",
              "  <tbody>\n",
              "    <tr>\n",
              "      <th>청량리동</th>\n",
              "      <td>NaN</td>\n",
              "      <td>4</td>\n",
              "      <td>NaN</td>\n",
              "      <td>NaN</td>\n",
              "      <td>5.0</td>\n",
              "      <td>6.0</td>\n",
              "      <td>5.0</td>\n",
              "      <td>NaN</td>\n",
              "    </tr>\n",
              "    <tr>\n",
              "      <th>답십리2동</th>\n",
              "      <td>NaN</td>\n",
              "      <td>2</td>\n",
              "      <td>NaN</td>\n",
              "      <td>1.0</td>\n",
              "      <td>NaN</td>\n",
              "      <td>7.0</td>\n",
              "      <td>NaN</td>\n",
              "      <td>7.0</td>\n",
              "    </tr>\n",
              "    <tr>\n",
              "      <th>답십리1동</th>\n",
              "      <td>NaN</td>\n",
              "      <td>2</td>\n",
              "      <td>NaN</td>\n",
              "      <td>1.0</td>\n",
              "      <td>NaN</td>\n",
              "      <td>36.0</td>\n",
              "      <td>NaN</td>\n",
              "      <td>NaN</td>\n",
              "    </tr>\n",
              "    <tr>\n",
              "      <th>휘경2동</th>\n",
              "      <td>NaN</td>\n",
              "      <td>2</td>\n",
              "      <td>NaN</td>\n",
              "      <td>5.0</td>\n",
              "      <td>4.0</td>\n",
              "      <td>10.0</td>\n",
              "      <td>4.0</td>\n",
              "      <td>6.0</td>\n",
              "    </tr>\n",
              "    <tr>\n",
              "      <th>제기동</th>\n",
              "      <td>NaN</td>\n",
              "      <td>2</td>\n",
              "      <td>NaN</td>\n",
              "      <td>NaN</td>\n",
              "      <td>10.0</td>\n",
              "      <td>6.0</td>\n",
              "      <td>10.0</td>\n",
              "      <td>2.0</td>\n",
              "    </tr>\n",
              "  </tbody>\n",
              "</table>\n",
              "</div>"
            ],
            "text/plain": [
              "       ffc  ffnc  nfc  nfnc   fsc  fsnc   nsc  nsnc\n",
              "청량리동   NaN     4  NaN   NaN   5.0   6.0   5.0   NaN\n",
              "답십리2동  NaN     2  NaN   1.0   NaN   7.0   NaN   7.0\n",
              "답십리1동  NaN     2  NaN   1.0   NaN  36.0   NaN   NaN\n",
              "휘경2동   NaN     2  NaN   5.0   4.0  10.0   4.0   6.0\n",
              "제기동    NaN     2  NaN   NaN  10.0   6.0  10.0   2.0"
            ]
          },
          "metadata": {},
          "execution_count": 34
        }
      ]
    },
    {
      "cell_type": "code",
      "metadata": {
        "id": "MPmzdp6CKOb3"
      },
      "source": [
        "df = pd.read_excel('e_dongjack_df.xlsx')\n",
        "a = '동작구 '\n"
      ],
      "execution_count": 35,
      "outputs": []
    },
    {
      "cell_type": "code",
      "metadata": {
        "colab": {
          "base_uri": "https://localhost:8080/"
        },
        "id": "vYoOwPUVKOf8",
        "outputId": "a9757519-5a80-4cfe-f46d-6ae9d2ec9194"
      },
      "source": [
        "df['이용가능시간'].value_counts()\n",
        "# 24시간(단, 22시루근무자운영)이라는 기준이 하나 더 축가된것을 알수 있네요\n",
        "# classify_time함수를 수정해야겠습니다."
      ],
      "execution_count": 36,
      "outputs": [
        {
          "output_type": "execute_result",
          "data": {
            "text/plain": [
              "24시간 이용가능                        187\n",
              "09:00~18:00                       38\n",
              "24시간 이용가능,입주민만 사용가능 거주자외출입제한      35\n",
              "24시간                              11\n",
              "~                                  8\n",
              "주중/주말 : 06시~23시                    6\n",
              "06:00~24:00                        5\n",
              "09시~18시                            2\n",
              "비개방(주차장협소, 관용차전용)                  2\n",
              "24시간 이용가능,입주민만 사용가능 거주자 외 출입제      2\n",
              "평일 09:00~18:00                     1\n",
              "24시간(단, 22시이후근무자운영                 1\n",
              "Name: 이용가능시간, dtype: int64"
            ]
          },
          "metadata": {},
          "execution_count": 36
        }
      ]
    },
    {
      "cell_type": "code",
      "metadata": {
        "colab": {
          "base_uri": "https://localhost:8080/"
        },
        "id": "IKJxsuoELqfK",
        "outputId": "3f863609-e692-4ca3-c32e-3018e00bd036"
      },
      "source": [
        "df['비고'].value_counts()\n",
        "# 비고에도 기준이 더 추가되어있음을 알 수 있습니다."
      ],
      "execution_count": 37,
      "outputs": [
        {
          "output_type": "execute_result",
          "data": {
            "text/plain": [
              "입주민만 사용가능 거주자외 출입제한          35\n",
              "입주민 등 거주자 외 출입 제한             8\n",
              "공동주택 입주민 전용                   3\n",
              "최초1시간 무료, 1시간 초과시 50%감면       1\n",
              "주차요금 별도                       1\n",
              "주차비 10분 100원(친환경차 50% 감면)     1\n",
              "Name: 비고, dtype: int64"
            ]
          },
          "metadata": {},
          "execution_count": 37
        }
      ]
    },
    {
      "cell_type": "code",
      "metadata": {
        "id": "o667IlbjLqh5"
      },
      "source": [
        ""
      ],
      "execution_count": null,
      "outputs": []
    },
    {
      "cell_type": "code",
      "metadata": {
        "id": "yOmyXZCkMFcb"
      },
      "source": [
        "# 함수 수정\n",
        "def classify_time(df):\n",
        "  f1 = df[df['이용가능시간'] == '24시간 이용가능' ]\n",
        "  f2 = df[df['이용가능시간'] == '주증/주말 : 24시간' ]\n",
        "  f3 = df[df['이용가능시간'] == '24시간' ]\n",
        "  f4 = df[df['이용가능시간'] == '~' ]\n",
        "  f5 = df[df['이용가능시간'] == '00:00 ~ 23:59' ]\n",
        "  f6 = df[df['이용가능시간'] == 'NaN' ]\n",
        "  f7 = df[df['이용가능시간'] == '24시간(단, 22시이후근무자운영' ]\n",
        "   \n",
        "  #이용 가능 시간 column에 시간 말고 다른 제한조건이 같이 있는 raw도 있습니다.\n",
        "  c1 = df[df['이용가능시간'] == '24시간 이용가능,입주민만 사용가능 거주자외출입제한' ]\n",
        "  c2 = df[df['이용가능시간'] == '24시간 이용가능,입주민만 사용가능 거주자 외 출입제' ]\n",
        "  \n",
        " \n",
        "  full = pd.concat([f1,f2,f3,f4,f5,f6])\n",
        "  temporary_c = pd.concat([c1, c2])\n",
        "  fullfc = pd.concat([full, temporary_c])\n",
        "  idx = fullfc.index\n",
        "  nonfull = df.drop(idx)\n",
        "  return full, nonfull, temporary_c"
      ],
      "execution_count": 46,
      "outputs": []
    },
    {
      "cell_type": "code",
      "metadata": {
        "id": "JEWxySPoMFcc"
      },
      "source": [
        "def classify_constraints(df,temporary_c):\n",
        "  c1 = df[df['비고'] == '입주민만 사용가능 거주자외 출입제한' ]\n",
        "  c2 = df[df['비고'] == '입주민만 사용가능 거주자 외 출입제한' ]\n",
        "  c3 = df[df['비고'] == '입주민 등 거주자 외 출입 제한' ]\n",
        "  c4 = df[df['비고'] == '공동주택 입주민 전용' ]\n",
        " \n",
        "  c = pd.concat([temporary_c,c1,c2,c3,c4])\n",
        "  nonc1 = df.drop(c1.index)\n",
        "  nonc2 = nonc1.drop(c2.index)\n",
        "  return c,nonc2"
      ],
      "execution_count": 38,
      "outputs": []
    },
    {
      "cell_type": "code",
      "metadata": {
        "id": "cdDpU7NKLqk1"
      },
      "source": [
        "ffc,ffnc, nfc, nfnc, fsc, fsnc, nsc, nsnc = classify_all(df,a)"
      ],
      "execution_count": 40,
      "outputs": []
    },
    {
      "cell_type": "code",
      "metadata": {
        "id": "nV3X8UlvM8Hx"
      },
      "source": [
        "gu_df = pd.DataFrame()\n",
        "gu_df['ffc'] =  ffc['Unnamed: 13.1'].value_counts(sort = True)\n",
        "gu_df['ffnc'] =  ffnc['Unnamed: 13.1'].value_counts(sort = True)\n",
        "gu_df['nfc'] =  nfc['Unnamed: 13.1'].value_counts(sort = True)\n",
        "gu_df['nfnc'] =  nfnc['Unnamed: 13.1'].value_counts(sort = True)\n",
        "gu_df['fsc'] =  fsc['Unnamed: 13.1'].value_counts(sort = True)\n",
        "gu_df['fsnc'] =  fsnc['Unnamed: 13.1'].value_counts(sort = True)\n",
        "gu_df['nsc'] =  nsc['Unnamed: 13.1'].value_counts(sort = True)\n",
        "gu_df['nsnc'] =  nsnc['Unnamed: 13.1'].value_counts(sort = True)"
      ],
      "execution_count": 41,
      "outputs": []
    },
    {
      "cell_type": "code",
      "metadata": {
        "colab": {
          "base_uri": "https://localhost:8080/",
          "height": 203
        },
        "id": "N2u2412IM8H4",
        "outputId": "ba9d8cc8-e11a-4729-fb9a-710815cce42b"
      },
      "source": [
        "#동작구 완료!\n",
        "gu_df.to_excel('f_dongjack_df.xlsx')\n",
        "gu_df.head()"
      ],
      "execution_count": 42,
      "outputs": [
        {
          "output_type": "execute_result",
          "data": {
            "text/html": [
              "<div>\n",
              "<style scoped>\n",
              "    .dataframe tbody tr th:only-of-type {\n",
              "        vertical-align: middle;\n",
              "    }\n",
              "\n",
              "    .dataframe tbody tr th {\n",
              "        vertical-align: top;\n",
              "    }\n",
              "\n",
              "    .dataframe thead th {\n",
              "        text-align: right;\n",
              "    }\n",
              "</style>\n",
              "<table border=\"1\" class=\"dataframe\">\n",
              "  <thead>\n",
              "    <tr style=\"text-align: right;\">\n",
              "      <th></th>\n",
              "      <th>ffc</th>\n",
              "      <th>ffnc</th>\n",
              "      <th>nfc</th>\n",
              "      <th>nfnc</th>\n",
              "      <th>fsc</th>\n",
              "      <th>fsnc</th>\n",
              "      <th>nsc</th>\n",
              "      <th>nsnc</th>\n",
              "    </tr>\n",
              "  </thead>\n",
              "  <tbody>\n",
              "    <tr>\n",
              "      <th>대방동</th>\n",
              "      <td>NaN</td>\n",
              "      <td>4</td>\n",
              "      <td>NaN</td>\n",
              "      <td>4.0</td>\n",
              "      <td>7.0</td>\n",
              "      <td>3.0</td>\n",
              "      <td>7.0</td>\n",
              "      <td>11.0</td>\n",
              "    </tr>\n",
              "    <tr>\n",
              "      <th>흑석동</th>\n",
              "      <td>NaN</td>\n",
              "      <td>2</td>\n",
              "      <td>NaN</td>\n",
              "      <td>1.0</td>\n",
              "      <td>NaN</td>\n",
              "      <td>16.0</td>\n",
              "      <td>NaN</td>\n",
              "      <td>13.0</td>\n",
              "    </tr>\n",
              "    <tr>\n",
              "      <th>사당2동</th>\n",
              "      <td>NaN</td>\n",
              "      <td>2</td>\n",
              "      <td>NaN</td>\n",
              "      <td>NaN</td>\n",
              "      <td>2.0</td>\n",
              "      <td>1.0</td>\n",
              "      <td>2.0</td>\n",
              "      <td>NaN</td>\n",
              "    </tr>\n",
              "    <tr>\n",
              "      <th>사당3동</th>\n",
              "      <td>NaN</td>\n",
              "      <td>1</td>\n",
              "      <td>NaN</td>\n",
              "      <td>NaN</td>\n",
              "      <td>NaN</td>\n",
              "      <td>28.0</td>\n",
              "      <td>3.0</td>\n",
              "      <td>6.0</td>\n",
              "    </tr>\n",
              "    <tr>\n",
              "      <th>상도3동</th>\n",
              "      <td>NaN</td>\n",
              "      <td>1</td>\n",
              "      <td>NaN</td>\n",
              "      <td>NaN</td>\n",
              "      <td>NaN</td>\n",
              "      <td>NaN</td>\n",
              "      <td>NaN</td>\n",
              "      <td>NaN</td>\n",
              "    </tr>\n",
              "  </tbody>\n",
              "</table>\n",
              "</div>"
            ],
            "text/plain": [
              "      ffc  ffnc  nfc  nfnc  fsc  fsnc  nsc  nsnc\n",
              "대방동   NaN     4  NaN   4.0  7.0   3.0  7.0  11.0\n",
              "흑석동   NaN     2  NaN   1.0  NaN  16.0  NaN  13.0\n",
              "사당2동  NaN     2  NaN   NaN  2.0   1.0  2.0   NaN\n",
              "사당3동  NaN     1  NaN   NaN  NaN  28.0  3.0   6.0\n",
              "상도3동  NaN     1  NaN   NaN  NaN   NaN  NaN   NaN"
            ]
          },
          "metadata": {},
          "execution_count": 42
        }
      ]
    },
    {
      "cell_type": "code",
      "metadata": {
        "id": "RQ4FVLuONRMM"
      },
      "source": [
        ""
      ],
      "execution_count": null,
      "outputs": []
    },
    {
      "cell_type": "code",
      "metadata": {
        "id": "lI8My-vJNRej"
      },
      "source": [
        "df = pd.read_excel('e_mapo_df.xlsx')\n",
        "a = '마포구 '\n"
      ],
      "execution_count": 43,
      "outputs": []
    },
    {
      "cell_type": "code",
      "metadata": {
        "colab": {
          "base_uri": "https://localhost:8080/"
        },
        "id": "tJI7_RnLNRej",
        "outputId": "a5949f9c-908a-4849-94de-d375b11cfa8e"
      },
      "source": [
        "df['이용가능시간'].value_counts()\n",
        "# 입주민 전용 24시간,주중/주말 : 24시간 라는 기준이 하나 더 축가된것을 알수 있네요\n",
        "# classify_time함수를 수정해야겠습니다."
      ],
      "execution_count": 44,
      "outputs": [
        {
          "output_type": "execute_result",
          "data": {
            "text/plain": [
              "24시간 이용가능                       202\n",
              "09:00~18:00                     102\n",
              "24시간 이용가능,입주민만 사용가능 거주자외출입제한     61\n",
              "24시간                             26\n",
              "주중/주말 : 24시간                     10\n",
              "주중 08~20시, 주말 09~18시              7\n",
              "관계자전용 09:00~18:00                 6\n",
              "입주민 전용 24시간                       4\n",
              "06:00~18:00                       2\n",
              "~                                 2\n",
              "평일 09시~18시 이용가능                   2\n",
              "08:00~24:00                       1\n",
              "09:00~20:00                       1\n",
              "Name: 이용가능시간, dtype: int64"
            ]
          },
          "metadata": {},
          "execution_count": 44
        }
      ]
    },
    {
      "cell_type": "code",
      "metadata": {
        "colab": {
          "base_uri": "https://localhost:8080/"
        },
        "id": "1iOgmCGfNgrG",
        "outputId": "965fda26-9830-4142-ff77-2a41f657fb4d"
      },
      "source": [
        "df['비고'].value_counts()\n",
        "#거주자외 출입제한이라는 기준이 더 있네여\n",
        "# 24시간 이용가능은, 이용가능 시간에 NaN으로 주어져 있고\n",
        "# 이것은 이미 24시간으로 처리함"
      ],
      "execution_count": 45,
      "outputs": [
        {
          "output_type": "execute_result",
          "data": {
            "text/plain": [
              "입주민만 사용가능 거주자외 출입제한                     43\n",
              "입주민만 사용가능 거주자 외 출입제한                    18\n",
              "입주민 등 거주자 외 출입 제한                        8\n",
              "24시간 이용가능                                8\n",
              "5분당150원 저공해차량 50% 할인                     6\n",
              "최초5분 250원/ 5분당 250원 친환경차 50% 감면          4\n",
              "1시간 무료후 10분 초과마다 500원 부과                 4\n",
              "5분당 200원 저공해차량 50% 할인                    3\n",
              "공동주택 입주민 전용                              3\n",
              "500분당 100원 저공해차량 50%할인                   2\n",
              "주차요금 별도                                  2\n",
              "최초30분 1500원, 10분당 500원 주민센터이용 50% 할인     2\n",
              "거주자외 출입제한                                2\n",
              "1시간 무료,5분 200원                           1\n",
              "주차비 10분 300원                             1\n",
              "10분/500원                                 1\n",
              "주차비 10분 250원(친환경차 50% 감면)                1\n",
              "Name: 비고, dtype: int64"
            ]
          },
          "metadata": {},
          "execution_count": 45
        }
      ]
    },
    {
      "cell_type": "code",
      "metadata": {
        "id": "h2gCcanFNz7R"
      },
      "source": [
        ""
      ],
      "execution_count": null,
      "outputs": []
    },
    {
      "cell_type": "code",
      "metadata": {
        "id": "8_yMFOcqN0JB"
      },
      "source": [
        "# 함수 수정\n",
        "def classify_time(df):\n",
        "  f1 = df[df['이용가능시간'] == '24시간 이용가능' ]\n",
        "  f2 = df[df['이용가능시간'] == '주증/주말 : 24시간' ]\n",
        "  f3 = df[df['이용가능시간'] == '24시간' ]\n",
        "  f4 = df[df['이용가능시간'] == '~' ]\n",
        "  f5 = df[df['이용가능시간'] == '00:00 ~ 23:59' ]\n",
        "  f6 = df[df['이용가능시간'] == 'NaN' ]\n",
        "  f7 = df[df['이용가능시간'] == '24시간(단, 22시이후근무자운영' ]\n",
        "  f7 = df[df['이용가능시간'] == '주중/주말 : 24시간'] \n",
        "   \n",
        "  #이용 가능 시간 column에 시간 말고 다른 제한조건이 같이 있는 raw도 있습니다.\n",
        "  c1 = df[df['이용가능시간'] == '24시간 이용가능,입주민만 사용가능 거주자외출입제한' ]\n",
        "  c2 = df[df['이용가능시간'] == '24시간 이용가능,입주민만 사용가능 거주자 외 출입제' ]\n",
        "  c3 = df[df['이용가능시간'] == '입주민 전용 24시간' ]\n",
        "  \n",
        " \n",
        "  full = pd.concat([f1,f2,f3,f4,f5,f6,f7])\n",
        "  temporary_c = pd.concat([c1, c2, c3])\n",
        "  fullfc = pd.concat([full, temporary_c])\n",
        "  idx = fullfc.index\n",
        "  nonfull = df.drop(idx)\n",
        "  return full, nonfull, temporary_c"
      ],
      "execution_count": 69,
      "outputs": []
    },
    {
      "cell_type": "code",
      "metadata": {
        "id": "qX9dDsygN0JC"
      },
      "source": [
        "def classify_constraints(df,temporary_c):\n",
        "  c1 = df[df['비고'] == '입주민만 사용가능 거주자외 출입제한' ]\n",
        "  c2 = df[df['비고'] == '입주민만 사용가능 거주자 외 출입제한' ]\n",
        "  c3 = df[df['비고'] == '입주민 등 거주자 외 출입 제한' ]\n",
        "  c4 = df[df['비고'] == '공동주택 입주민 전용' ]\n",
        "  c5 = df[df['비고'] == '거주자외 출입제한' ]\n",
        " \n",
        "\n",
        "  c = pd.concat([temporary_c,c1,c2,c3,c4,c5])\n",
        "  nonc1 = df.drop(c1.index)\n",
        "  nonc2 = nonc1.drop(c2.index)\n",
        "  return c,nonc2"
      ],
      "execution_count": 70,
      "outputs": []
    },
    {
      "cell_type": "code",
      "metadata": {
        "id": "CskaMJgOOqL_"
      },
      "source": [
        "ffc,ffnc, nfc, nfnc, fsc, fsnc, nsc, nsnc = classify_all(df,a)"
      ],
      "execution_count": 71,
      "outputs": []
    },
    {
      "cell_type": "code",
      "metadata": {
        "id": "6IQwgSIDOqbG"
      },
      "source": [
        "gu_df = pd.DataFrame()\n",
        "gu_df['ffc'] =  ffc['Unnamed: 13.1'].value_counts(sort = True)\n",
        "gu_df['ffnc'] =  ffnc['Unnamed: 13.1'].value_counts(sort = True)\n",
        "gu_df['nfc'] =  nfc['Unnamed: 13.1'].value_counts(sort = True)\n",
        "gu_df['nfnc'] =  nfnc['Unnamed: 13.1'].value_counts(sort = True)\n",
        "gu_df['fsc'] =  fsc['Unnamed: 13.1'].value_counts(sort = True)\n",
        "gu_df['fsnc'] =  fsnc['Unnamed: 13.1'].value_counts(sort = True)\n",
        "gu_df['nsc'] =  nsc['Unnamed: 13.1'].value_counts(sort = True)\n",
        "gu_df['nsnc'] =  nsnc['Unnamed: 13.1'].value_counts(sort = True)"
      ],
      "execution_count": 72,
      "outputs": []
    },
    {
      "cell_type": "code",
      "metadata": {
        "colab": {
          "base_uri": "https://localhost:8080/",
          "height": 203
        },
        "id": "ZhijEFemOqbH",
        "outputId": "73e4abf6-8d6d-437d-af9c-709379d3dcf0"
      },
      "source": [
        "#마포구 완료!\n",
        "gu_df.to_excel('f_mapo_df.xlsx')\n",
        "gu_df.head()"
      ],
      "execution_count": 73,
      "outputs": [
        {
          "output_type": "execute_result",
          "data": {
            "text/html": [
              "<div>\n",
              "<style scoped>\n",
              "    .dataframe tbody tr th:only-of-type {\n",
              "        vertical-align: middle;\n",
              "    }\n",
              "\n",
              "    .dataframe tbody tr th {\n",
              "        vertical-align: top;\n",
              "    }\n",
              "\n",
              "    .dataframe thead th {\n",
              "        text-align: right;\n",
              "    }\n",
              "</style>\n",
              "<table border=\"1\" class=\"dataframe\">\n",
              "  <thead>\n",
              "    <tr style=\"text-align: right;\">\n",
              "      <th></th>\n",
              "      <th>ffc</th>\n",
              "      <th>ffnc</th>\n",
              "      <th>nfc</th>\n",
              "      <th>nfnc</th>\n",
              "      <th>fsc</th>\n",
              "      <th>fsnc</th>\n",
              "      <th>nsc</th>\n",
              "      <th>nsnc</th>\n",
              "    </tr>\n",
              "  </thead>\n",
              "  <tbody>\n",
              "    <tr>\n",
              "      <th>홍제1동</th>\n",
              "      <td>NaN</td>\n",
              "      <td>6</td>\n",
              "      <td>NaN</td>\n",
              "      <td>NaN</td>\n",
              "      <td>5.0</td>\n",
              "      <td>32</td>\n",
              "      <td>NaN</td>\n",
              "      <td>NaN</td>\n",
              "    </tr>\n",
              "    <tr>\n",
              "      <th>북가좌2동</th>\n",
              "      <td>NaN</td>\n",
              "      <td>4</td>\n",
              "      <td>NaN</td>\n",
              "      <td>NaN</td>\n",
              "      <td>NaN</td>\n",
              "      <td>14</td>\n",
              "      <td>NaN</td>\n",
              "      <td>1.0</td>\n",
              "    </tr>\n",
              "    <tr>\n",
              "      <th>남가좌2동</th>\n",
              "      <td>NaN</td>\n",
              "      <td>1</td>\n",
              "      <td>NaN</td>\n",
              "      <td>1.0</td>\n",
              "      <td>4.0</td>\n",
              "      <td>12</td>\n",
              "      <td>7.0</td>\n",
              "      <td>11.0</td>\n",
              "    </tr>\n",
              "    <tr>\n",
              "      <th>홍은1동</th>\n",
              "      <td>NaN</td>\n",
              "      <td>1</td>\n",
              "      <td>NaN</td>\n",
              "      <td>NaN</td>\n",
              "      <td>5.0</td>\n",
              "      <td>5</td>\n",
              "      <td>5.0</td>\n",
              "      <td>1.0</td>\n",
              "    </tr>\n",
              "    <tr>\n",
              "      <th>천연동</th>\n",
              "      <td>NaN</td>\n",
              "      <td>1</td>\n",
              "      <td>NaN</td>\n",
              "      <td>NaN</td>\n",
              "      <td>3.0</td>\n",
              "      <td>9</td>\n",
              "      <td>3.0</td>\n",
              "      <td>2.0</td>\n",
              "    </tr>\n",
              "  </tbody>\n",
              "</table>\n",
              "</div>"
            ],
            "text/plain": [
              "       ffc  ffnc  nfc  nfnc  fsc  fsnc  nsc  nsnc\n",
              "홍제1동   NaN     6  NaN   NaN  5.0    32  NaN   NaN\n",
              "북가좌2동  NaN     4  NaN   NaN  NaN    14  NaN   1.0\n",
              "남가좌2동  NaN     1  NaN   1.0  4.0    12  7.0  11.0\n",
              "홍은1동   NaN     1  NaN   NaN  5.0     5  5.0   1.0\n",
              "천연동    NaN     1  NaN   NaN  3.0     9  3.0   2.0"
            ]
          },
          "metadata": {},
          "execution_count": 73
        }
      ]
    },
    {
      "cell_type": "code",
      "metadata": {
        "id": "v8zAP7DyO2U5"
      },
      "source": [
        "# 서초구\n",
        "df = pd.read_excel('e_seocho_df.xlsx')\n",
        "a = '서초구 '\n"
      ],
      "execution_count": 74,
      "outputs": []
    },
    {
      "cell_type": "code",
      "metadata": {
        "colab": {
          "base_uri": "https://localhost:8080/"
        },
        "id": "VK_YpKe2PA3i",
        "outputId": "78b67f54-e80c-473b-e89d-86345b1f84c8"
      },
      "source": [
        "df['이용가능시간'].value_counts()\n",
        "# 24시간 이용가능(외부인 미개방) 이런 기준이 더 생겼네요"
      ],
      "execution_count": 75,
      "outputs": [
        {
          "output_type": "execute_result",
          "data": {
            "text/plain": [
              "24시간 이용가능                           440\n",
              "24시간 이용가능,입주민만 사용가능 거주자외출입제한        113\n",
              "09:00~18:00                          97\n",
              "24시간                                 46\n",
              "12:00~13:00                          13\n",
              "주중 08:00~19:00, 주말 09:00~18:00       12\n",
              "주중/주말 : 06시~23시                      12\n",
              "평일 09:00 ~ 18:00                     11\n",
              "평일 09:00~18:00                        4\n",
              "10:00~23:00                           4\n",
              "06:30:00~22:30:59(휴일 불가)              3\n",
              "24시간 이용가능(외부인 미개방)                    3\n",
              "평일 09시~18시 이용가능, 소유주제한에따름             3\n",
              "주중/주말 : 24시간                          2\n",
              "평일 08:30~18:00 / 토요일 08:30~15:30      1\n",
              "23시간 이용(09:00~08:00)                  1\n",
              "09:00~24:00                           1\n",
              "Name: 이용가능시간, dtype: int64"
            ]
          },
          "metadata": {},
          "execution_count": 75
        }
      ]
    },
    {
      "cell_type": "code",
      "metadata": {
        "colab": {
          "base_uri": "https://localhost:8080/"
        },
        "id": "T_fBEZ9rPA63",
        "outputId": "b710160e-81e4-4ec0-be8a-cbb9c760c56c"
      },
      "source": [
        "df['비고'].value_counts()\n",
        "# 입주민으로 사용제한 이라는 기준이 추가됐네용\n"
      ],
      "execution_count": 76,
      "outputs": [
        {
          "output_type": "execute_result",
          "data": {
            "text/plain": [
              "입주민만 사용가능 거주자외 출입제한       60\n",
              "입주민만 사용가능 거주자 외 출입제한      53\n",
              "입주민 등 거주자 외 출입 제한         12\n",
              "10분당 300원 저공해차량 50% 할인     5\n",
              "공동주택 입주민전용                 4\n",
              "입주민으로 사용제한                 3\n",
              "주차요금 별도                    2\n",
              "24시간 이용가능                  2\n",
              "기아차고객 주차비무료                1\n",
              "10분/500원 친환경차 50% 감면       1\n",
              "주차비 1시간 무료                 1\n",
              "1시간 무료후 전기차 이용시 50% 할인     1\n",
              "없음                         1\n",
              "Name: 비고, dtype: int64"
            ]
          },
          "metadata": {},
          "execution_count": 76
        }
      ]
    },
    {
      "cell_type": "code",
      "metadata": {
        "id": "kTPIOA-APg-z"
      },
      "source": [
        ""
      ],
      "execution_count": null,
      "outputs": []
    },
    {
      "cell_type": "code",
      "metadata": {
        "id": "xu8nRGzZPhPg"
      },
      "source": [
        "# 함수 수정\n",
        "def classify_time(df):\n",
        "  f1 = df[df['이용가능시간'] == '24시간 이용가능' ]\n",
        "  f2 = df[df['이용가능시간'] == '주증/주말 : 24시간' ]\n",
        "  f3 = df[df['이용가능시간'] == '24시간' ]\n",
        "  f4 = df[df['이용가능시간'] == '~' ]\n",
        "  f5 = df[df['이용가능시간'] == '00:00 ~ 23:59' ]\n",
        "  f6 = df[df['이용가능시간'] == 'NaN' ]\n",
        "  f7 = df[df['이용가능시간'] == '주중/주말 : 24시간']\n",
        "  f8 = df[df['이용가능시간'] == '24시간(단, 22시이후근무자운영' ]\n",
        "   \n",
        "  #이용 가능 시간 column에 시간 말고 다른 제한조건이 같이 있는 raw도 있습니다.\n",
        "  c1 = df[df['이용가능시간'] == '24시간 이용가능,입주민만 사용가능 거주자외출입제한' ]\n",
        "  c2 = df[df['이용가능시간'] == '24시간 이용가능,입주민만 사용가능 거주자 외 출입제' ]\n",
        "  c3 = df[df['이용가능시간'] == '입주민 전용 24시간' ]\n",
        "  c4 = df[df['이용가능시간'] == '24시간 이용가능(외부인 미개방)' ]\n",
        " \n",
        "  full = pd.concat([f1,f2,f3,f4,f5,f6,f7,f8])\n",
        "  temporary_c = pd.concat([c1, c2, c3,c4])\n",
        "  fullfc = pd.concat([full, temporary_c])\n",
        "  idx = fullfc.index\n",
        "  nonfull = df.drop(idx)\n",
        "  return full, nonfull, temporary_c"
      ],
      "execution_count": 77,
      "outputs": []
    },
    {
      "cell_type": "code",
      "metadata": {
        "id": "kUdDfDqsPhPg"
      },
      "source": [
        "def classify_constraints(df,temporary_c):\n",
        "  c1 = df[df['비고'] == '입주민만 사용가능 거주자외 출입제한' ]\n",
        "  c2 = df[df['비고'] == '입주민만 사용가능 거주자 외 출입제한' ]\n",
        "  c3 = df[df['비고'] == '입주민 등 거주자 외 출입 제한' ]\n",
        "  c4 = df[df['비고'] == '공동주택 입주민 전용' ]\n",
        "  c5 = df[df['비고'] == '거주자외 출입제한' ]\n",
        "  c6 = df[df['비고'] == '입주민으로 사용제한' ]\n",
        "  \n",
        "\n",
        "  c = pd.concat([temporary_c,c1,c2,c3,c4,c5,c6])\n",
        "  nonc1 = df.drop(c1.index)\n",
        "  nonc2 = nonc1.drop(c2.index)\n",
        "  return c,nonc2"
      ],
      "execution_count": 78,
      "outputs": []
    },
    {
      "cell_type": "code",
      "metadata": {
        "id": "UPLb9x6MP9_9"
      },
      "source": [
        ""
      ],
      "execution_count": null,
      "outputs": []
    },
    {
      "cell_type": "code",
      "metadata": {
        "id": "a5F-PFH8P-QZ"
      },
      "source": [
        "ffc,ffnc, nfc, nfnc, fsc, fsnc, nsc, nsnc = classify_all(df,a)"
      ],
      "execution_count": 85,
      "outputs": []
    },
    {
      "cell_type": "code",
      "metadata": {
        "id": "RztJQYKRP-QZ"
      },
      "source": [
        "gu_df = pd.DataFrame()\n",
        "gu_df['ffc'] =  ffc['Unnamed: 13.1'].value_counts(sort = True)\n",
        "gu_df['ffnc'] =  ffnc['Unnamed: 13.1'].value_counts(sort = True)\n",
        "gu_df['nfc'] =  nfc['Unnamed: 13.1'].value_counts(sort = True)\n",
        "gu_df['nfnc'] =  nfnc['Unnamed: 13.1'].value_counts(sort = True)\n",
        "gu_df['fsc'] =  fsc['Unnamed: 13.1'].value_counts(sort = True)\n",
        "gu_df['fsnc'] =  fsnc['Unnamed: 13.1'].value_counts(sort = True)\n",
        "gu_df['nsc'] =  nsc['Unnamed: 13.1'].value_counts(sort = True)\n",
        "gu_df['nsnc'] =  nsnc['Unnamed: 13.1'].value_counts(sort = True)"
      ],
      "execution_count": 80,
      "outputs": []
    },
    {
      "cell_type": "code",
      "metadata": {
        "colab": {
          "base_uri": "https://localhost:8080/",
          "height": 203
        },
        "id": "DmjKVMkGP-QZ",
        "outputId": "638bbe1d-299e-4d74-c228-60d80714c0c3"
      },
      "source": [
        "# 서초구 완료!\n",
        "gu_df.to_excel('f_seocho_df.xlsx')\n",
        "gu_df.head()"
      ],
      "execution_count": 81,
      "outputs": [
        {
          "output_type": "execute_result",
          "data": {
            "text/html": [
              "<div>\n",
              "<style scoped>\n",
              "    .dataframe tbody tr th:only-of-type {\n",
              "        vertical-align: middle;\n",
              "    }\n",
              "\n",
              "    .dataframe tbody tr th {\n",
              "        vertical-align: top;\n",
              "    }\n",
              "\n",
              "    .dataframe thead th {\n",
              "        text-align: right;\n",
              "    }\n",
              "</style>\n",
              "<table border=\"1\" class=\"dataframe\">\n",
              "  <thead>\n",
              "    <tr style=\"text-align: right;\">\n",
              "      <th></th>\n",
              "      <th>ffc</th>\n",
              "      <th>ffnc</th>\n",
              "      <th>nfc</th>\n",
              "      <th>nfnc</th>\n",
              "      <th>fsc</th>\n",
              "      <th>fsnc</th>\n",
              "      <th>nsc</th>\n",
              "      <th>nsnc</th>\n",
              "    </tr>\n",
              "  </thead>\n",
              "  <tbody>\n",
              "    <tr>\n",
              "      <th>서초4동</th>\n",
              "      <td>NaN</td>\n",
              "      <td>13</td>\n",
              "      <td>NaN</td>\n",
              "      <td>NaN</td>\n",
              "      <td>22.0</td>\n",
              "      <td>28</td>\n",
              "      <td>22.0</td>\n",
              "      <td>11</td>\n",
              "    </tr>\n",
              "    <tr>\n",
              "      <th>양재2동</th>\n",
              "      <td>NaN</td>\n",
              "      <td>10</td>\n",
              "      <td>NaN</td>\n",
              "      <td>17.0</td>\n",
              "      <td>NaN</td>\n",
              "      <td>22</td>\n",
              "      <td>NaN</td>\n",
              "      <td>6</td>\n",
              "    </tr>\n",
              "    <tr>\n",
              "      <th>서초3동</th>\n",
              "      <td>NaN</td>\n",
              "      <td>7</td>\n",
              "      <td>NaN</td>\n",
              "      <td>1.0</td>\n",
              "      <td>NaN</td>\n",
              "      <td>73</td>\n",
              "      <td>NaN</td>\n",
              "      <td>19</td>\n",
              "    </tr>\n",
              "    <tr>\n",
              "      <th>반포1동</th>\n",
              "      <td>NaN</td>\n",
              "      <td>6</td>\n",
              "      <td>NaN</td>\n",
              "      <td>1.0</td>\n",
              "      <td>57.0</td>\n",
              "      <td>69</td>\n",
              "      <td>54.0</td>\n",
              "      <td>7</td>\n",
              "    </tr>\n",
              "    <tr>\n",
              "      <th>내곡동</th>\n",
              "      <td>NaN</td>\n",
              "      <td>5</td>\n",
              "      <td>NaN</td>\n",
              "      <td>2.0</td>\n",
              "      <td>6.0</td>\n",
              "      <td>24</td>\n",
              "      <td>6.0</td>\n",
              "      <td>5</td>\n",
              "    </tr>\n",
              "  </tbody>\n",
              "</table>\n",
              "</div>"
            ],
            "text/plain": [
              "      ffc  ffnc  nfc  nfnc   fsc  fsnc   nsc  nsnc\n",
              "서초4동  NaN    13  NaN   NaN  22.0    28  22.0    11\n",
              "양재2동  NaN    10  NaN  17.0   NaN    22   NaN     6\n",
              "서초3동  NaN     7  NaN   1.0   NaN    73   NaN    19\n",
              "반포1동  NaN     6  NaN   1.0  57.0    69  54.0     7\n",
              "내곡동   NaN     5  NaN   2.0   6.0    24   6.0     5"
            ]
          },
          "metadata": {},
          "execution_count": 81
        }
      ]
    },
    {
      "cell_type": "code",
      "metadata": {
        "id": "cSH3cfQkQGeA"
      },
      "source": [
        "# 마지막 서대문구~!\n",
        "df = pd.read_excel('e_seodaemoon_df.xlsx')\n",
        "a = '서대문구 '\n",
        "\n"
      ],
      "execution_count": 62,
      "outputs": []
    },
    {
      "cell_type": "code",
      "metadata": {
        "colab": {
          "base_uri": "https://localhost:8080/"
        },
        "id": "ChlF918xQUY6",
        "outputId": "2662cbc0-3a0a-48c6-f17a-fcf4d8a864ff"
      },
      "source": [
        "df['이용가능시간'].value_counts()\n",
        "#새로운 기준이 없네요 ㅎㅎ"
      ],
      "execution_count": 63,
      "outputs": [
        {
          "output_type": "execute_result",
          "data": {
            "text/plain": [
              "24시간 이용가능                       163\n",
              "24시간 이용가능,입주민만 사용가능 거주자외출입제한     82\n",
              "09:00~18:00                      16\n",
              "24시간                             10\n",
              "평일 09:00~18:00                    8\n",
              "06:00-24:00                       7\n",
              "관계자전용 09:00~18:00                 1\n",
              "08:00~24:00                       1\n",
              "비개방, 관용차 전용, 주차장협소                1\n",
              "주중/주말 : 24시간                      1\n",
              "Name: 이용가능시간, dtype: int64"
            ]
          },
          "metadata": {},
          "execution_count": 63
        }
      ]
    },
    {
      "cell_type": "code",
      "metadata": {
        "colab": {
          "base_uri": "https://localhost:8080/"
        },
        "id": "E9biXu28QUb4",
        "outputId": "25159ecf-9e13-4f29-aa4c-99a7aff635ba"
      },
      "source": [
        "df['비고'].value_counts()\n",
        "#이것도 새로운 기준이 없으니 함수 수정없이 바로 할 수 있겠다~ 무야호~!"
      ],
      "execution_count": 82,
      "outputs": [
        {
          "output_type": "execute_result",
          "data": {
            "text/plain": [
              "입주민만 사용가능 거주자외 출입제한       60\n",
              "입주민만 사용가능 거주자 외 출입제한      53\n",
              "입주민 등 거주자 외 출입 제한         12\n",
              "10분당 300원 저공해차량 50% 할인     5\n",
              "공동주택 입주민전용                 4\n",
              "입주민으로 사용제한                 3\n",
              "주차요금 별도                    2\n",
              "24시간 이용가능                  2\n",
              "기아차고객 주차비무료                1\n",
              "10분/500원 친환경차 50% 감면       1\n",
              "주차비 1시간 무료                 1\n",
              "1시간 무료후 전기차 이용시 50% 할인     1\n",
              "없음                         1\n",
              "Name: 비고, dtype: int64"
            ]
          },
          "metadata": {},
          "execution_count": 82
        }
      ]
    },
    {
      "cell_type": "code",
      "metadata": {
        "id": "VJF12wtkRZjr"
      },
      "source": [
        ""
      ],
      "execution_count": null,
      "outputs": []
    },
    {
      "cell_type": "code",
      "metadata": {
        "id": "bovma74HRhLg"
      },
      "source": [
        "ffc,ffnc, nfc, nfnc, fsc, fsnc, nsc, nsnc = classify_all(df,a)"
      ],
      "execution_count": 86,
      "outputs": []
    },
    {
      "cell_type": "code",
      "metadata": {
        "id": "8Byu7KRXRhLh"
      },
      "source": [
        "gu_df = pd.DataFrame()\n",
        "gu_df['ffc'] =  ffc['Unnamed: 13.1'].value_counts(sort = True)\n",
        "gu_df['ffnc'] =  ffnc['Unnamed: 13.1'].value_counts(sort = True)\n",
        "gu_df['nfc'] =  nfc['Unnamed: 13.1'].value_counts(sort = True)\n",
        "gu_df['nfnc'] =  nfnc['Unnamed: 13.1'].value_counts(sort = True)\n",
        "gu_df['fsc'] =  fsc['Unnamed: 13.1'].value_counts(sort = True)\n",
        "gu_df['fsnc'] =  fsnc['Unnamed: 13.1'].value_counts(sort = True)\n",
        "gu_df['nsc'] =  nsc['Unnamed: 13.1'].value_counts(sort = True)\n",
        "gu_df['nsnc'] =  nsnc['Unnamed: 13.1'].value_counts(sort = True)"
      ],
      "execution_count": 87,
      "outputs": []
    },
    {
      "cell_type": "code",
      "metadata": {
        "colab": {
          "base_uri": "https://localhost:8080/",
          "height": 203
        },
        "id": "FlAi2o_xRhLh",
        "outputId": "3121a298-3613-47db-88af-47661a6f1ed4"
      },
      "source": [
        "# 서대문구 완료!\n",
        "gu_df.to_excel('f_seodaemoon_df.xlsx')\n",
        "gu_df.head()"
      ],
      "execution_count": 88,
      "outputs": [
        {
          "output_type": "execute_result",
          "data": {
            "text/html": [
              "<div>\n",
              "<style scoped>\n",
              "    .dataframe tbody tr th:only-of-type {\n",
              "        vertical-align: middle;\n",
              "    }\n",
              "\n",
              "    .dataframe tbody tr th {\n",
              "        vertical-align: top;\n",
              "    }\n",
              "\n",
              "    .dataframe thead th {\n",
              "        text-align: right;\n",
              "    }\n",
              "</style>\n",
              "<table border=\"1\" class=\"dataframe\">\n",
              "  <thead>\n",
              "    <tr style=\"text-align: right;\">\n",
              "      <th></th>\n",
              "      <th>ffc</th>\n",
              "      <th>ffnc</th>\n",
              "      <th>nfc</th>\n",
              "      <th>nfnc</th>\n",
              "      <th>fsc</th>\n",
              "      <th>fsnc</th>\n",
              "      <th>nsc</th>\n",
              "      <th>nsnc</th>\n",
              "    </tr>\n",
              "  </thead>\n",
              "  <tbody>\n",
              "    <tr>\n",
              "      <th>서초4동</th>\n",
              "      <td>NaN</td>\n",
              "      <td>13</td>\n",
              "      <td>NaN</td>\n",
              "      <td>NaN</td>\n",
              "      <td>22.0</td>\n",
              "      <td>28</td>\n",
              "      <td>22.0</td>\n",
              "      <td>11</td>\n",
              "    </tr>\n",
              "    <tr>\n",
              "      <th>양재2동</th>\n",
              "      <td>NaN</td>\n",
              "      <td>10</td>\n",
              "      <td>NaN</td>\n",
              "      <td>17.0</td>\n",
              "      <td>NaN</td>\n",
              "      <td>22</td>\n",
              "      <td>NaN</td>\n",
              "      <td>6</td>\n",
              "    </tr>\n",
              "    <tr>\n",
              "      <th>서초3동</th>\n",
              "      <td>NaN</td>\n",
              "      <td>7</td>\n",
              "      <td>NaN</td>\n",
              "      <td>1.0</td>\n",
              "      <td>NaN</td>\n",
              "      <td>73</td>\n",
              "      <td>NaN</td>\n",
              "      <td>19</td>\n",
              "    </tr>\n",
              "    <tr>\n",
              "      <th>반포1동</th>\n",
              "      <td>NaN</td>\n",
              "      <td>6</td>\n",
              "      <td>NaN</td>\n",
              "      <td>1.0</td>\n",
              "      <td>57.0</td>\n",
              "      <td>69</td>\n",
              "      <td>54.0</td>\n",
              "      <td>7</td>\n",
              "    </tr>\n",
              "    <tr>\n",
              "      <th>내곡동</th>\n",
              "      <td>NaN</td>\n",
              "      <td>5</td>\n",
              "      <td>NaN</td>\n",
              "      <td>2.0</td>\n",
              "      <td>6.0</td>\n",
              "      <td>24</td>\n",
              "      <td>6.0</td>\n",
              "      <td>5</td>\n",
              "    </tr>\n",
              "  </tbody>\n",
              "</table>\n",
              "</div>"
            ],
            "text/plain": [
              "      ffc  ffnc  nfc  nfnc   fsc  fsnc   nsc  nsnc\n",
              "서초4동  NaN    13  NaN   NaN  22.0    28  22.0    11\n",
              "양재2동  NaN    10  NaN  17.0   NaN    22   NaN     6\n",
              "서초3동  NaN     7  NaN   1.0   NaN    73   NaN    19\n",
              "반포1동  NaN     6  NaN   1.0  57.0    69  54.0     7\n",
              "내곡동   NaN     5  NaN   2.0   6.0    24   6.0     5"
            ]
          },
          "metadata": {},
          "execution_count": 88
        }
      ]
    },
    {
      "cell_type": "code",
      "metadata": {
        "id": "YjL3phxvRnR7"
      },
      "source": [
        "# 여태 만들었던 DataFrame을 하나로 합쳐봅시다!"
      ],
      "execution_count": null,
      "outputs": []
    },
    {
      "cell_type": "code",
      "metadata": {
        "id": "DPKZ6z2uRnco"
      },
      "source": [
        "a = pd.read_excel('f_dong_df.xlsx')\n",
        "b = pd.read_excel('f_dongjack_df.xlsx')\n",
        "c = pd.read_excel('f_mapo_df.xlsx')\n",
        "d = pd.read_excel('f_seocho_df.xlsx')\n",
        "e = pd.read_excel('f_seodaemoon_df.xlsx')"
      ],
      "execution_count": 90,
      "outputs": []
    },
    {
      "cell_type": "code",
      "metadata": {
        "id": "mkXPzaR8TMsJ"
      },
      "source": [
        "final_df = pd.concat([a,b,c,d,e])"
      ],
      "execution_count": 92,
      "outputs": []
    },
    {
      "cell_type": "code",
      "metadata": {
        "colab": {
          "base_uri": "https://localhost:8080/",
          "height": 203
        },
        "id": "fFxZ1dOiTWPL",
        "outputId": "a1f82fc0-57d5-44d1-cd03-75cafd13349a"
      },
      "source": [
        "final_df.to_excel('5gu_df.xlsx')\n",
        "final_df.head()"
      ],
      "execution_count": 94,
      "outputs": [
        {
          "output_type": "execute_result",
          "data": {
            "text/html": [
              "<div>\n",
              "<style scoped>\n",
              "    .dataframe tbody tr th:only-of-type {\n",
              "        vertical-align: middle;\n",
              "    }\n",
              "\n",
              "    .dataframe tbody tr th {\n",
              "        vertical-align: top;\n",
              "    }\n",
              "\n",
              "    .dataframe thead th {\n",
              "        text-align: right;\n",
              "    }\n",
              "</style>\n",
              "<table border=\"1\" class=\"dataframe\">\n",
              "  <thead>\n",
              "    <tr style=\"text-align: right;\">\n",
              "      <th></th>\n",
              "      <th>Unnamed: 0</th>\n",
              "      <th>ffc</th>\n",
              "      <th>ffnc</th>\n",
              "      <th>nfc</th>\n",
              "      <th>nfnc</th>\n",
              "      <th>fsc</th>\n",
              "      <th>fsnc</th>\n",
              "      <th>nsc</th>\n",
              "      <th>nsnc</th>\n",
              "    </tr>\n",
              "  </thead>\n",
              "  <tbody>\n",
              "    <tr>\n",
              "      <th>0</th>\n",
              "      <td>청량리동</td>\n",
              "      <td>NaN</td>\n",
              "      <td>4</td>\n",
              "      <td>NaN</td>\n",
              "      <td>NaN</td>\n",
              "      <td>5.0</td>\n",
              "      <td>6.0</td>\n",
              "      <td>5.0</td>\n",
              "      <td>NaN</td>\n",
              "    </tr>\n",
              "    <tr>\n",
              "      <th>1</th>\n",
              "      <td>답십리2동</td>\n",
              "      <td>NaN</td>\n",
              "      <td>2</td>\n",
              "      <td>NaN</td>\n",
              "      <td>1.0</td>\n",
              "      <td>NaN</td>\n",
              "      <td>7.0</td>\n",
              "      <td>NaN</td>\n",
              "      <td>7.0</td>\n",
              "    </tr>\n",
              "    <tr>\n",
              "      <th>2</th>\n",
              "      <td>답십리1동</td>\n",
              "      <td>NaN</td>\n",
              "      <td>2</td>\n",
              "      <td>NaN</td>\n",
              "      <td>1.0</td>\n",
              "      <td>NaN</td>\n",
              "      <td>36.0</td>\n",
              "      <td>NaN</td>\n",
              "      <td>NaN</td>\n",
              "    </tr>\n",
              "    <tr>\n",
              "      <th>3</th>\n",
              "      <td>휘경2동</td>\n",
              "      <td>NaN</td>\n",
              "      <td>2</td>\n",
              "      <td>NaN</td>\n",
              "      <td>5.0</td>\n",
              "      <td>4.0</td>\n",
              "      <td>10.0</td>\n",
              "      <td>4.0</td>\n",
              "      <td>6.0</td>\n",
              "    </tr>\n",
              "    <tr>\n",
              "      <th>4</th>\n",
              "      <td>제기동</td>\n",
              "      <td>NaN</td>\n",
              "      <td>2</td>\n",
              "      <td>NaN</td>\n",
              "      <td>NaN</td>\n",
              "      <td>10.0</td>\n",
              "      <td>6.0</td>\n",
              "      <td>10.0</td>\n",
              "      <td>2.0</td>\n",
              "    </tr>\n",
              "  </tbody>\n",
              "</table>\n",
              "</div>"
            ],
            "text/plain": [
              "  Unnamed: 0  ffc  ffnc  nfc  nfnc   fsc  fsnc   nsc  nsnc\n",
              "0       청량리동  NaN     4  NaN   NaN   5.0   6.0   5.0   NaN\n",
              "1      답십리2동  NaN     2  NaN   1.0   NaN   7.0   NaN   7.0\n",
              "2      답십리1동  NaN     2  NaN   1.0   NaN  36.0   NaN   NaN\n",
              "3       휘경2동  NaN     2  NaN   5.0   4.0  10.0   4.0   6.0\n",
              "4        제기동  NaN     2  NaN   NaN  10.0   6.0  10.0   2.0"
            ]
          },
          "metadata": {},
          "execution_count": 94
        }
      ]
    }
  ]
}