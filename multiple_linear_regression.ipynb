{
  "nbformat": 4,
  "nbformat_minor": 0,
  "metadata": {
    "colab": {
      "name": "multiple_linear_regression.ipynb",
      "provenance": [],
      "collapsed_sections": []
    },
    "kernelspec": {
      "name": "python3",
      "display_name": "Python 3"
    },
    "language_info": {
      "name": "python"
    }
  },
  "cells": [
    {
      "cell_type": "code",
      "metadata": {
        "id": "x85oa8X9Xzqj"
      },
      "source": [
        "import pandas as pd\n",
        "\n",
        "df1 = pd.read_excel('f_029df.xlsx')\n",
        "df2 = pd.read_excel('f_9218df.xlsx')\n",
        "df3 = pd.read_excel('f_18224df.xlsx')\n"
      ],
      "execution_count": 91,
      "outputs": []
    },
    {
      "cell_type": "code",
      "metadata": {
        "colab": {
          "base_uri": "https://localhost:8080/",
          "height": 324
        },
        "id": "Nhd-R_lpgvmt",
        "outputId": "411cc3ae-1258-4b94-949d-c3a49a847569"
      },
      "source": [
        "df1.head()"
      ],
      "execution_count": 92,
      "outputs": [
        {
          "output_type": "execute_result",
          "data": {
            "text/html": [
              "<div>\n",
              "<style scoped>\n",
              "    .dataframe tbody tr th:only-of-type {\n",
              "        vertical-align: middle;\n",
              "    }\n",
              "\n",
              "    .dataframe tbody tr th {\n",
              "        vertical-align: top;\n",
              "    }\n",
              "\n",
              "    .dataframe thead th {\n",
              "        text-align: right;\n",
              "    }\n",
              "</style>\n",
              "<table border=\"1\" class=\"dataframe\">\n",
              "  <thead>\n",
              "    <tr style=\"text-align: right;\">\n",
              "      <th></th>\n",
              "      <th>Unnamed: 0</th>\n",
              "      <th>Unnamed: 0.1</th>\n",
              "      <th>dong</th>\n",
              "      <th>X</th>\n",
              "      <th>Y</th>\n",
              "      <th>highway</th>\n",
              "      <th>ffnc</th>\n",
              "      <th>ffc</th>\n",
              "      <th>nfnc</th>\n",
              "      <th>nfc</th>\n",
              "      <th>fsnc</th>\n",
              "      <th>fsc</th>\n",
              "      <th>nsnc</th>\n",
              "      <th>nsc</th>\n",
              "      <th>총생활인구수</th>\n",
              "      <th>affnc</th>\n",
              "      <th>affc</th>\n",
              "      <th>anfnc</th>\n",
              "      <th>anfc</th>\n",
              "      <th>afsnc</th>\n",
              "      <th>afsc</th>\n",
              "      <th>ansnc</th>\n",
              "      <th>ansc</th>\n",
              "    </tr>\n",
              "  </thead>\n",
              "  <tbody>\n",
              "    <tr>\n",
              "      <th>0</th>\n",
              "      <td>0</td>\n",
              "      <td>0</td>\n",
              "      <td>가락1동</td>\n",
              "      <td>127.108235</td>\n",
              "      <td>37.495329</td>\n",
              "      <td>0.0</td>\n",
              "      <td>0.225806</td>\n",
              "      <td>0.000000</td>\n",
              "      <td>0.00</td>\n",
              "      <td>0.0</td>\n",
              "      <td>0.164634</td>\n",
              "      <td>0.000000</td>\n",
              "      <td>0.02</td>\n",
              "      <td>0.000000</td>\n",
              "      <td>0.322362</td>\n",
              "      <td>0.077419</td>\n",
              "      <td>0.000000</td>\n",
              "      <td>0.00</td>\n",
              "      <td>0.000000</td>\n",
              "      <td>0.047561</td>\n",
              "      <td>0.022764</td>\n",
              "      <td>0.012</td>\n",
              "      <td>0.034783</td>\n",
              "    </tr>\n",
              "    <tr>\n",
              "      <th>1</th>\n",
              "      <td>1</td>\n",
              "      <td>1</td>\n",
              "      <td>가락2동</td>\n",
              "      <td>127.130643</td>\n",
              "      <td>37.495860</td>\n",
              "      <td>0.0</td>\n",
              "      <td>0.161290</td>\n",
              "      <td>0.166667</td>\n",
              "      <td>0.00</td>\n",
              "      <td>0.0</td>\n",
              "      <td>0.024390</td>\n",
              "      <td>0.016260</td>\n",
              "      <td>0.08</td>\n",
              "      <td>0.000000</td>\n",
              "      <td>0.320622</td>\n",
              "      <td>0.038710</td>\n",
              "      <td>0.033333</td>\n",
              "      <td>0.01</td>\n",
              "      <td>0.033333</td>\n",
              "      <td>0.056098</td>\n",
              "      <td>0.043902</td>\n",
              "      <td>0.064</td>\n",
              "      <td>0.130435</td>\n",
              "    </tr>\n",
              "    <tr>\n",
              "      <th>2</th>\n",
              "      <td>2</td>\n",
              "      <td>2</td>\n",
              "      <td>가락본동</td>\n",
              "      <td>127.121640</td>\n",
              "      <td>37.497217</td>\n",
              "      <td>0.0</td>\n",
              "      <td>0.032258</td>\n",
              "      <td>0.000000</td>\n",
              "      <td>0.00</td>\n",
              "      <td>0.0</td>\n",
              "      <td>0.146341</td>\n",
              "      <td>0.154472</td>\n",
              "      <td>0.04</td>\n",
              "      <td>0.260870</td>\n",
              "      <td>0.445918</td>\n",
              "      <td>0.045161</td>\n",
              "      <td>0.033333</td>\n",
              "      <td>0.01</td>\n",
              "      <td>0.033333</td>\n",
              "      <td>0.040244</td>\n",
              "      <td>0.040650</td>\n",
              "      <td>0.064</td>\n",
              "      <td>0.078261</td>\n",
              "    </tr>\n",
              "    <tr>\n",
              "      <th>3</th>\n",
              "      <td>3</td>\n",
              "      <td>3</td>\n",
              "      <td>가리봉동</td>\n",
              "      <td>126.888257</td>\n",
              "      <td>37.482555</td>\n",
              "      <td>0.0</td>\n",
              "      <td>0.032258</td>\n",
              "      <td>0.000000</td>\n",
              "      <td>0.05</td>\n",
              "      <td>0.0</td>\n",
              "      <td>0.006098</td>\n",
              "      <td>0.000000</td>\n",
              "      <td>0.74</td>\n",
              "      <td>0.000000</td>\n",
              "      <td>0.108998</td>\n",
              "      <td>0.283871</td>\n",
              "      <td>0.000000</td>\n",
              "      <td>0.08</td>\n",
              "      <td>0.233333</td>\n",
              "      <td>0.293902</td>\n",
              "      <td>0.034146</td>\n",
              "      <td>0.392</td>\n",
              "      <td>0.234783</td>\n",
              "    </tr>\n",
              "    <tr>\n",
              "      <th>4</th>\n",
              "      <td>4</td>\n",
              "      <td>4</td>\n",
              "      <td>가산동</td>\n",
              "      <td>126.884341</td>\n",
              "      <td>37.476835</td>\n",
              "      <td>0.0</td>\n",
              "      <td>1.000000</td>\n",
              "      <td>0.000000</td>\n",
              "      <td>0.20</td>\n",
              "      <td>1.0</td>\n",
              "      <td>1.000000</td>\n",
              "      <td>0.065041</td>\n",
              "      <td>0.86</td>\n",
              "      <td>0.913043</td>\n",
              "      <td>0.562965</td>\n",
              "      <td>0.335484</td>\n",
              "      <td>0.000000</td>\n",
              "      <td>0.12</td>\n",
              "      <td>0.233333</td>\n",
              "      <td>0.343902</td>\n",
              "      <td>0.058537</td>\n",
              "      <td>0.408</td>\n",
              "      <td>0.286957</td>\n",
              "    </tr>\n",
              "  </tbody>\n",
              "</table>\n",
              "</div>"
            ],
            "text/plain": [
              "   Unnamed: 0  Unnamed: 0.1  dong  ...      afsc  ansnc      ansc\n",
              "0           0             0  가락1동  ...  0.022764  0.012  0.034783\n",
              "1           1             1  가락2동  ...  0.043902  0.064  0.130435\n",
              "2           2             2  가락본동  ...  0.040650  0.064  0.078261\n",
              "3           3             3  가리봉동  ...  0.034146  0.392  0.234783\n",
              "4           4             4   가산동  ...  0.058537  0.408  0.286957\n",
              "\n",
              "[5 rows x 23 columns]"
            ]
          },
          "metadata": {},
          "execution_count": 92
        }
      ]
    },
    {
      "cell_type": "code",
      "metadata": {
        "id": "z50DrnmGgvu_"
      },
      "source": [
        "df1 = df1.drop('Unnamed: 0', axis = 1)\n",
        "df1 = df1.drop('Unnamed: 0.1', axis = 1)\n",
        "df1 = df1.drop('X', axis = 1)\n",
        "df1 = df1.drop('Y', axis = 1)\n",
        "\n",
        "df2 = df2.drop('Unnamed: 0', axis = 1)\n",
        "df2 = df2.drop('Unnamed: 0.1', axis = 1)\n",
        "df2 = df2.drop('X', axis = 1)\n",
        "df2 = df2.drop('Y', axis = 1)\n",
        "\n",
        "df3 = df3.drop('Unnamed: 0', axis = 1)\n",
        "df3 = df3.drop('Unnamed: 0.1', axis = 1)\n",
        "df3 = df3.drop('X', axis = 1)\n",
        "df3 = df3.drop('Y', axis = 1)"
      ],
      "execution_count": 93,
      "outputs": []
    },
    {
      "cell_type": "code",
      "metadata": {
        "colab": {
          "base_uri": "https://localhost:8080/"
        },
        "id": "zzx9Hg7Hh0dt",
        "outputId": "e4dcc205-c858-469f-a2f2-4c7bfae033f6"
      },
      "source": [
        "# 총생활인구수를 마지막 칼럼에 위치하게 끔하겠습니다.\n",
        "# 먼저 a로 총생활인구수 값들을 받아줍니다.\n",
        "a = df2['총생활인구수'].values\n",
        "type(a)"
      ],
      "execution_count": 94,
      "outputs": [
        {
          "output_type": "execute_result",
          "data": {
            "text/plain": [
              "numpy.ndarray"
            ]
          },
          "metadata": {},
          "execution_count": 94
        }
      ]
    },
    {
      "cell_type": "code",
      "metadata": {
        "id": "4qU8VG_TiQmM"
      },
      "source": [
        ""
      ],
      "execution_count": 94,
      "outputs": []
    },
    {
      "cell_type": "code",
      "metadata": {
        "id": "j3n3c0f0h0np"
      },
      "source": [
        "# 총생활인구수 칼럼을 drop 시키고 population이라는 column을 추가합니다.\n",
        "df2 = df2.drop('총생활인구수', axis = 1)\n",
        "df2['population'] = a"
      ],
      "execution_count": 95,
      "outputs": []
    },
    {
      "cell_type": "code",
      "metadata": {
        "colab": {
          "base_uri": "https://localhost:8080/",
          "height": 307
        },
        "id": "OBK-Hr8eh0rP",
        "outputId": "84b81a70-b361-43e2-af2a-865280ceb71a"
      },
      "source": [
        "df2.head()"
      ],
      "execution_count": 96,
      "outputs": [
        {
          "output_type": "execute_result",
          "data": {
            "text/html": [
              "<div>\n",
              "<style scoped>\n",
              "    .dataframe tbody tr th:only-of-type {\n",
              "        vertical-align: middle;\n",
              "    }\n",
              "\n",
              "    .dataframe tbody tr th {\n",
              "        vertical-align: top;\n",
              "    }\n",
              "\n",
              "    .dataframe thead th {\n",
              "        text-align: right;\n",
              "    }\n",
              "</style>\n",
              "<table border=\"1\" class=\"dataframe\">\n",
              "  <thead>\n",
              "    <tr style=\"text-align: right;\">\n",
              "      <th></th>\n",
              "      <th>dong</th>\n",
              "      <th>highway</th>\n",
              "      <th>ffnc</th>\n",
              "      <th>ffc</th>\n",
              "      <th>nfnc</th>\n",
              "      <th>nfc</th>\n",
              "      <th>fsnc</th>\n",
              "      <th>fsc</th>\n",
              "      <th>nsnc</th>\n",
              "      <th>nsc</th>\n",
              "      <th>affnc</th>\n",
              "      <th>affc</th>\n",
              "      <th>anfnc</th>\n",
              "      <th>anfc</th>\n",
              "      <th>afsnc</th>\n",
              "      <th>afsc</th>\n",
              "      <th>ansnc</th>\n",
              "      <th>ansc</th>\n",
              "      <th>population</th>\n",
              "    </tr>\n",
              "  </thead>\n",
              "  <tbody>\n",
              "    <tr>\n",
              "      <th>0</th>\n",
              "      <td>가락1동</td>\n",
              "      <td>NaN</td>\n",
              "      <td>0.225806</td>\n",
              "      <td>0.000000</td>\n",
              "      <td>0.00</td>\n",
              "      <td>0.0</td>\n",
              "      <td>0.164634</td>\n",
              "      <td>0.000000</td>\n",
              "      <td>0.02</td>\n",
              "      <td>0.000000</td>\n",
              "      <td>0.077419</td>\n",
              "      <td>0.000000</td>\n",
              "      <td>0.00</td>\n",
              "      <td>0.000000</td>\n",
              "      <td>0.047561</td>\n",
              "      <td>0.022764</td>\n",
              "      <td>0.012</td>\n",
              "      <td>0.034783</td>\n",
              "      <td>0.155581</td>\n",
              "    </tr>\n",
              "    <tr>\n",
              "      <th>1</th>\n",
              "      <td>가락2동</td>\n",
              "      <td>NaN</td>\n",
              "      <td>0.161290</td>\n",
              "      <td>0.166667</td>\n",
              "      <td>0.00</td>\n",
              "      <td>0.0</td>\n",
              "      <td>0.024390</td>\n",
              "      <td>0.016260</td>\n",
              "      <td>0.08</td>\n",
              "      <td>0.000000</td>\n",
              "      <td>0.038710</td>\n",
              "      <td>0.033333</td>\n",
              "      <td>0.01</td>\n",
              "      <td>0.033333</td>\n",
              "      <td>0.056098</td>\n",
              "      <td>0.043902</td>\n",
              "      <td>0.064</td>\n",
              "      <td>0.130435</td>\n",
              "      <td>0.154967</td>\n",
              "    </tr>\n",
              "    <tr>\n",
              "      <th>2</th>\n",
              "      <td>가락본동</td>\n",
              "      <td>NaN</td>\n",
              "      <td>0.032258</td>\n",
              "      <td>0.000000</td>\n",
              "      <td>0.00</td>\n",
              "      <td>0.0</td>\n",
              "      <td>0.146341</td>\n",
              "      <td>0.154472</td>\n",
              "      <td>0.04</td>\n",
              "      <td>0.260870</td>\n",
              "      <td>0.045161</td>\n",
              "      <td>0.033333</td>\n",
              "      <td>0.01</td>\n",
              "      <td>0.033333</td>\n",
              "      <td>0.040244</td>\n",
              "      <td>0.040650</td>\n",
              "      <td>0.064</td>\n",
              "      <td>0.078261</td>\n",
              "      <td>0.264574</td>\n",
              "    </tr>\n",
              "    <tr>\n",
              "      <th>3</th>\n",
              "      <td>가리봉동</td>\n",
              "      <td>NaN</td>\n",
              "      <td>0.032258</td>\n",
              "      <td>0.000000</td>\n",
              "      <td>0.05</td>\n",
              "      <td>0.0</td>\n",
              "      <td>0.006098</td>\n",
              "      <td>0.000000</td>\n",
              "      <td>0.74</td>\n",
              "      <td>0.000000</td>\n",
              "      <td>0.283871</td>\n",
              "      <td>0.000000</td>\n",
              "      <td>0.08</td>\n",
              "      <td>0.233333</td>\n",
              "      <td>0.293902</td>\n",
              "      <td>0.034146</td>\n",
              "      <td>0.392</td>\n",
              "      <td>0.234783</td>\n",
              "      <td>0.062857</td>\n",
              "    </tr>\n",
              "    <tr>\n",
              "      <th>4</th>\n",
              "      <td>가산동</td>\n",
              "      <td>NaN</td>\n",
              "      <td>1.000000</td>\n",
              "      <td>0.000000</td>\n",
              "      <td>0.20</td>\n",
              "      <td>1.0</td>\n",
              "      <td>1.000000</td>\n",
              "      <td>0.065041</td>\n",
              "      <td>0.86</td>\n",
              "      <td>0.913043</td>\n",
              "      <td>0.335484</td>\n",
              "      <td>0.000000</td>\n",
              "      <td>0.12</td>\n",
              "      <td>0.233333</td>\n",
              "      <td>0.343902</td>\n",
              "      <td>0.058537</td>\n",
              "      <td>0.408</td>\n",
              "      <td>0.286957</td>\n",
              "      <td>0.636785</td>\n",
              "    </tr>\n",
              "  </tbody>\n",
              "</table>\n",
              "</div>"
            ],
            "text/plain": [
              "   dong  highway      ffnc       ffc  ...      afsc  ansnc      ansc  population\n",
              "0  가락1동      NaN  0.225806  0.000000  ...  0.022764  0.012  0.034783    0.155581\n",
              "1  가락2동      NaN  0.161290  0.166667  ...  0.043902  0.064  0.130435    0.154967\n",
              "2  가락본동      NaN  0.032258  0.000000  ...  0.040650  0.064  0.078261    0.264574\n",
              "3  가리봉동      NaN  0.032258  0.000000  ...  0.034146  0.392  0.234783    0.062857\n",
              "4   가산동      NaN  1.000000  0.000000  ...  0.058537  0.408  0.286957    0.636785\n",
              "\n",
              "[5 rows x 19 columns]"
            ]
          },
          "metadata": {},
          "execution_count": 96
        }
      ]
    },
    {
      "cell_type": "code",
      "metadata": {
        "id": "k_hUaB84q5fI"
      },
      "source": [
        "# 전에 heatmap을 그린거 보면 ffc는 데이터가 너무 없어서 -값 내지는 매우 작은값을 보였다.\n",
        "# 머신러닝돌릴때 ffc와 affc도 drop하자.\n",
        "df2 = df2.drop('ffc', axis = 1)\n",
        "df2 = df2.drop('affc', axis = 1)"
      ],
      "execution_count": 97,
      "outputs": []
    },
    {
      "cell_type": "code",
      "metadata": {
        "id": "BmY7fPN0scg-"
      },
      "source": [
        "# null값을 0으로 채워둡니다.\n",
        "df2  = df2.fillna(0)"
      ],
      "execution_count": 98,
      "outputs": []
    },
    {
      "cell_type": "code",
      "metadata": {
        "id": "dNrAEHm3h0up"
      },
      "source": [
        "# 다중선형회귀 돌리기\n",
        "# 먼저 데이터 셋을 트레인 셋과 test set으로 분리시키자.\n",
        "from sklearn.model_selection import train_test_split\n",
        "seed = 316\n",
        "data = df2.values\n",
        "x = data[:,1:16]\n",
        "y = data[:,16]\n",
        "x_train, x_test, y_train, y_test = train_test_split(x, y, train_size=0.8, test_size=0.2, random_state = seed)\n"
      ],
      "execution_count": 84,
      "outputs": []
    },
    {
      "cell_type": "code",
      "metadata": {
        "colab": {
          "base_uri": "https://localhost:8080/"
        },
        "id": "JVpCilNgq41o",
        "outputId": "63d2dda9-9086-4b41-c362-0cbfde35a7fe"
      },
      "source": [
        "from sklearn.linear_model import LinearRegression\n",
        "lin_reg = LinearRegression()\n",
        "lin_reg.fit(x_train, y_train)"
      ],
      "execution_count": 85,
      "outputs": [
        {
          "output_type": "execute_result",
          "data": {
            "text/plain": [
              "LinearRegression(copy_X=True, fit_intercept=True, n_jobs=None, normalize=False)"
            ]
          },
          "metadata": {},
          "execution_count": 85
        }
      ]
    },
    {
      "cell_type": "code",
      "metadata": {
        "colab": {
          "base_uri": "https://localhost:8080/",
          "height": 313
        },
        "id": "80GU8Owvta5-",
        "outputId": "f37df494-10c8-4203-8cf1-50b370106218"
      },
      "source": [
        "y_predict = lin_reg.predict(x_test)\n",
        "\n",
        "import matplotlib.pyplot as plt\n",
        "plt.scatter(y_test, y_predict, alpha=0.4)\n",
        "plt.plot([0,1],[0,1], c = 'red')\n",
        "plt.xlabel(\"Actual population\")\n",
        "plt.ylabel(\"Predicted population\")\n",
        "plt.title(\"MULTIPLE LINEAR REGRESSION\")\n",
        "plt.show()\n",
        "plt.savefig('LR1.jpg')\n",
        "# feature가 너무 많아서 오차가 많이 발생하는 것 같습니다."
      ],
      "execution_count": 75,
      "outputs": [
        {
          "output_type": "display_data",
          "data": {
            "image/png": "[encoded data removed]",
            "text/plain": [
              "<Figure size 432x288 with 1 Axes>"
            ]
          },
          "metadata": {
            "needs_background": "light"
          }
        },
        {
          "output_type": "display_data",
          "data": {
            "text/plain": [
              "<Figure size 432x288 with 0 Axes>"
            ]
          },
          "metadata": {}
        }
      ]
    },
    {
      "cell_type": "code",
      "metadata": {
        "colab": {
          "base_uri": "https://localhost:8080/"
        },
        "id": "RLxQswfU6EF5",
        "outputId": "f47fa573-b95d-4f54-ffe5-1738232fe620"
      },
      "source": [
        "# 이번에는 전체 데이터 셋에 대해서 학습을 시킵시다.\n",
        "from sklearn.linear_model import LinearRegression\n",
        "lin_reg = LinearRegression()\n",
        "lin_reg.fit(x, y)"
      ],
      "execution_count": 99,
      "outputs": [
        {
          "output_type": "execute_result",
          "data": {
            "text/plain": [
              "LinearRegression(copy_X=True, fit_intercept=True, n_jobs=None, normalize=False)"
            ]
          },
          "metadata": {},
          "execution_count": 99
        }
      ]
    },
    {
      "cell_type": "code",
      "metadata": {
        "colab": {
          "base_uri": "https://localhost:8080/",
          "height": 313
        },
        "id": "RPQZo7xW6EIg",
        "outputId": "b1fff1fb-66ad-4936-b546-7c879a85bab8"
      },
      "source": [
        "y_predict = lin_reg.predict(x)\n",
        "import matplotlib.pyplot as plt\n",
        "plt.scatter(y, y_predict, alpha=0.4)\n",
        "plt.plot([0,1],[0,1], c = 'red')\n",
        "plt.xlabel(\"Actual population\")\n",
        "plt.ylabel(\"Predicted population\")\n",
        "plt.title(\"MULTIPLE LINEAR REGRESSION\")\n",
        "plt.show()\n",
        "plt.savefig('LR1.jpg')\n"
      ],
      "execution_count": 102,
      "outputs": [
        {
          "output_type": "display_data",
          "data": {
            "image/png": "[encoded data removed]",
            "text/plain": [
              "<Figure size 432x288 with 1 Axes>"
            ]
          },
          "metadata": {
            "needs_background": "light"
          }
        },
        {
          "output_type": "display_data",
          "data": {
            "text/plain": [
              "<Figure size 432x288 with 0 Axes>"
            ]
          },
          "metadata": {}
        }
      ]
    },
    {
      "cell_type": "code",
      "metadata": {
        "id": "HBrMdVPb6ELv"
      },
      "source": [
        ""
      ],
      "execution_count": null,
      "outputs": []
    },
    {
      "cell_type": "code",
      "metadata": {
        "id": "g8pcVZLWta9i"
      },
      "source": [
        "# 주변동내 데이터를 삭제해봅시다.\n",
        "# affnc\taffc\tanfnc\tanfc\tafsnc\tafsc\tansnc\tansc\t\n",
        "df2 = df2.drop('affnc', axis = 1)\n",
        "df2 = df2.drop('anfnc', axis = 1)\n",
        "df2 = df2.drop('anfc', axis = 1)\n",
        "df2 = df2.drop('afsnc', axis = 1)\n",
        "df2 = df2.drop('afsc', axis = 1)\n",
        "df2 = df2.drop('ansnc', axis = 1)\n",
        "df2 = df2.drop('ansc', axis = 1)\n",
        "\n"
      ],
      "execution_count": 86,
      "outputs": []
    },
    {
      "cell_type": "code",
      "metadata": {
        "colab": {
          "base_uri": "https://localhost:8080/",
          "height": 203
        },
        "id": "f9vSrwGszo3F",
        "outputId": "2ee01002-11c4-47c7-ff76-b8f9da274545"
      },
      "source": [
        "df2.head()"
      ],
      "execution_count": 87,
      "outputs": [
        {
          "output_type": "execute_result",
          "data": {
            "text/html": [
              "<div>\n",
              "<style scoped>\n",
              "    .dataframe tbody tr th:only-of-type {\n",
              "        vertical-align: middle;\n",
              "    }\n",
              "\n",
              "    .dataframe tbody tr th {\n",
              "        vertical-align: top;\n",
              "    }\n",
              "\n",
              "    .dataframe thead th {\n",
              "        text-align: right;\n",
              "    }\n",
              "</style>\n",
              "<table border=\"1\" class=\"dataframe\">\n",
              "  <thead>\n",
              "    <tr style=\"text-align: right;\">\n",
              "      <th></th>\n",
              "      <th>dong</th>\n",
              "      <th>highway</th>\n",
              "      <th>ffnc</th>\n",
              "      <th>nfnc</th>\n",
              "      <th>nfc</th>\n",
              "      <th>fsnc</th>\n",
              "      <th>fsc</th>\n",
              "      <th>nsnc</th>\n",
              "      <th>nsc</th>\n",
              "      <th>population</th>\n",
              "    </tr>\n",
              "  </thead>\n",
              "  <tbody>\n",
              "    <tr>\n",
              "      <th>0</th>\n",
              "      <td>가락1동</td>\n",
              "      <td>0.0</td>\n",
              "      <td>0.225806</td>\n",
              "      <td>0.00</td>\n",
              "      <td>0.0</td>\n",
              "      <td>0.164634</td>\n",
              "      <td>0.000000</td>\n",
              "      <td>0.02</td>\n",
              "      <td>0.000000</td>\n",
              "      <td>0.155581</td>\n",
              "    </tr>\n",
              "    <tr>\n",
              "      <th>1</th>\n",
              "      <td>가락2동</td>\n",
              "      <td>0.0</td>\n",
              "      <td>0.161290</td>\n",
              "      <td>0.00</td>\n",
              "      <td>0.0</td>\n",
              "      <td>0.024390</td>\n",
              "      <td>0.016260</td>\n",
              "      <td>0.08</td>\n",
              "      <td>0.000000</td>\n",
              "      <td>0.154967</td>\n",
              "    </tr>\n",
              "    <tr>\n",
              "      <th>2</th>\n",
              "      <td>가락본동</td>\n",
              "      <td>0.0</td>\n",
              "      <td>0.032258</td>\n",
              "      <td>0.00</td>\n",
              "      <td>0.0</td>\n",
              "      <td>0.146341</td>\n",
              "      <td>0.154472</td>\n",
              "      <td>0.04</td>\n",
              "      <td>0.260870</td>\n",
              "      <td>0.264574</td>\n",
              "    </tr>\n",
              "    <tr>\n",
              "      <th>3</th>\n",
              "      <td>가리봉동</td>\n",
              "      <td>0.0</td>\n",
              "      <td>0.032258</td>\n",
              "      <td>0.05</td>\n",
              "      <td>0.0</td>\n",
              "      <td>0.006098</td>\n",
              "      <td>0.000000</td>\n",
              "      <td>0.74</td>\n",
              "      <td>0.000000</td>\n",
              "      <td>0.062857</td>\n",
              "    </tr>\n",
              "    <tr>\n",
              "      <th>4</th>\n",
              "      <td>가산동</td>\n",
              "      <td>0.0</td>\n",
              "      <td>1.000000</td>\n",
              "      <td>0.20</td>\n",
              "      <td>1.0</td>\n",
              "      <td>1.000000</td>\n",
              "      <td>0.065041</td>\n",
              "      <td>0.86</td>\n",
              "      <td>0.913043</td>\n",
              "      <td>0.636785</td>\n",
              "    </tr>\n",
              "  </tbody>\n",
              "</table>\n",
              "</div>"
            ],
            "text/plain": [
              "   dong  highway      ffnc  nfnc  ...       fsc  nsnc       nsc  population\n",
              "0  가락1동      0.0  0.225806  0.00  ...  0.000000  0.02  0.000000    0.155581\n",
              "1  가락2동      0.0  0.161290  0.00  ...  0.016260  0.08  0.000000    0.154967\n",
              "2  가락본동      0.0  0.032258  0.00  ...  0.154472  0.04  0.260870    0.264574\n",
              "3  가리봉동      0.0  0.032258  0.05  ...  0.000000  0.74  0.000000    0.062857\n",
              "4   가산동      0.0  1.000000  0.20  ...  0.065041  0.86  0.913043    0.636785\n",
              "\n",
              "[5 rows x 10 columns]"
            ]
          },
          "metadata": {},
          "execution_count": 87
        }
      ]
    },
    {
      "cell_type": "code",
      "metadata": {
        "id": "YM1IUxewzeD2"
      },
      "source": [
        "from sklearn.model_selection import train_test_split\n",
        "seed = 316\n",
        "data = df2.values\n",
        "x = data[:,1:9]\n",
        "y = data[:,9]\n",
        "x_train, x_test, y_train, y_test = train_test_split(x, y, train_size=0.8, test_size=0.2, random_state = seed)\n"
      ],
      "execution_count": 88,
      "outputs": []
    },
    {
      "cell_type": "code",
      "metadata": {
        "colab": {
          "base_uri": "https://localhost:8080/"
        },
        "id": "76L44i-rzeRg",
        "outputId": "5f92be04-ef75-49dc-80ac-7410149fc543"
      },
      "source": [
        "from sklearn.linear_model import LinearRegression\n",
        "lin_reg = LinearRegression()\n",
        "lin_reg.fit(x_train, y_train)"
      ],
      "execution_count": 89,
      "outputs": [
        {
          "output_type": "execute_result",
          "data": {
            "text/plain": [
              "LinearRegression(copy_X=True, fit_intercept=True, n_jobs=None, normalize=False)"
            ]
          },
          "metadata": {},
          "execution_count": 89
        }
      ]
    },
    {
      "cell_type": "code",
      "metadata": {
        "colab": {
          "base_uri": "https://localhost:8080/",
          "height": 295
        },
        "id": "G2qFbwONzmhU",
        "outputId": "245f28b8-4140-4992-a41e-be993fb19dd5"
      },
      "source": [
        "y_predict = lin_reg.predict(x_test)\n",
        "\n",
        "import matplotlib.pyplot as plt\n",
        "plt.scatter(y_test, y_predict, alpha=0.4)\n",
        "plt.plot([0,1],[0,1], c = 'red')\n",
        "plt.xlabel(\"Actual population\")\n",
        "plt.ylabel(\"Predicted population\")\n",
        "plt.title(\"MULTIPLE LINEAR REGRESSION\")\n",
        "plt.savefig('LR2.jpg')\n",
        "plt.show()\n",
        "\n"
      ],
      "execution_count": 90,
      "outputs": [
        {
          "output_type": "display_data",
          "data": {
            "image/png": "[encoded data removed]",
            "text/plain": [
              "<Figure size 432x288 with 1 Axes>"
            ]
          },
          "metadata": {
            "needs_background": "light"
          }
        }
      ]
    }
  ]
}