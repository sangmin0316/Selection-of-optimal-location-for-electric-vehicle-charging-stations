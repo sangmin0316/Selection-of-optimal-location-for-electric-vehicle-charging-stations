{
  "nbformat": 4,
  "nbformat_minor": 0,
  "metadata": {
    "colab": {
      "name": "conat_lpdf_EVstockdf2.ipynb",
      "provenance": [],
      "collapsed_sections": []
    },
    "kernelspec": {
      "name": "python3",
      "display_name": "Python 3"
    },
    "language_info": {
      "name": "python"
    }
  },
  "cells": [
    {
      "cell_type": "code",
      "metadata": {
        "id": "pXq43AqzM7bm"
      },
      "source": [
        "import pandas as pd\n",
        "\n",
        "df = pd.read_excel('EVstock1.xlsx')\n",
        "lpdf1 = pd.read_excel('029.xlsx')\n",
        "lpdf2 = pd.read_excel('9218.xlsx')\n",
        "lpdf3 = pd.read_excel('182224.xlsx')\n"
      ],
      "execution_count": 13,
      "outputs": []
    },
    {
      "cell_type": "code",
      "metadata": {
        "colab": {
          "base_uri": "https://localhost:8080/",
          "height": 203
        },
        "id": "s3appvU1NiIA",
        "outputId": "304dc139-1bbd-42a1-e4c2-98faee9bce9d"
      },
      "source": [
        "df.head()"
      ],
      "execution_count": 14,
      "outputs": [
        {
          "output_type": "execute_result",
          "data": {
            "text/html": [
              "<div>\n",
              "<style scoped>\n",
              "    .dataframe tbody tr th:only-of-type {\n",
              "        vertical-align: middle;\n",
              "    }\n",
              "\n",
              "    .dataframe tbody tr th {\n",
              "        vertical-align: top;\n",
              "    }\n",
              "\n",
              "    .dataframe thead th {\n",
              "        text-align: right;\n",
              "    }\n",
              "</style>\n",
              "<table border=\"1\" class=\"dataframe\">\n",
              "  <thead>\n",
              "    <tr style=\"text-align: right;\">\n",
              "      <th></th>\n",
              "      <th>Unnamed: 0</th>\n",
              "      <th>ffnc</th>\n",
              "      <th>ffc</th>\n",
              "      <th>nfnc</th>\n",
              "      <th>nfc</th>\n",
              "      <th>fsnc</th>\n",
              "      <th>fsc</th>\n",
              "      <th>nsnc</th>\n",
              "      <th>nsc</th>\n",
              "    </tr>\n",
              "  </thead>\n",
              "  <tbody>\n",
              "    <tr>\n",
              "      <th>0</th>\n",
              "      <td>신대방1동</td>\n",
              "      <td>1.0</td>\n",
              "      <td>NaN</td>\n",
              "      <td>1.0</td>\n",
              "      <td>NaN</td>\n",
              "      <td>5.0</td>\n",
              "      <td>13.0</td>\n",
              "      <td>5.0</td>\n",
              "      <td>13.0</td>\n",
              "    </tr>\n",
              "    <tr>\n",
              "      <th>1</th>\n",
              "      <td>시흥5동</td>\n",
              "      <td>NaN</td>\n",
              "      <td>NaN</td>\n",
              "      <td>NaN</td>\n",
              "      <td>NaN</td>\n",
              "      <td>NaN</td>\n",
              "      <td>2.0</td>\n",
              "      <td>1.0</td>\n",
              "      <td>NaN</td>\n",
              "    </tr>\n",
              "    <tr>\n",
              "      <th>2</th>\n",
              "      <td>청담동</td>\n",
              "      <td>1.0</td>\n",
              "      <td>NaN</td>\n",
              "      <td>NaN</td>\n",
              "      <td>2.0</td>\n",
              "      <td>13.0</td>\n",
              "      <td>19.0</td>\n",
              "      <td>26.0</td>\n",
              "      <td>NaN</td>\n",
              "    </tr>\n",
              "    <tr>\n",
              "      <th>3</th>\n",
              "      <td>신정4동</td>\n",
              "      <td>NaN</td>\n",
              "      <td>NaN</td>\n",
              "      <td>2.0</td>\n",
              "      <td>NaN</td>\n",
              "      <td>9.0</td>\n",
              "      <td>2.0</td>\n",
              "      <td>NaN</td>\n",
              "      <td>NaN</td>\n",
              "    </tr>\n",
              "    <tr>\n",
              "      <th>4</th>\n",
              "      <td>항동</td>\n",
              "      <td>NaN</td>\n",
              "      <td>NaN</td>\n",
              "      <td>NaN</td>\n",
              "      <td>NaN</td>\n",
              "      <td>NaN</td>\n",
              "      <td>11.0</td>\n",
              "      <td>9.0</td>\n",
              "      <td>10.0</td>\n",
              "    </tr>\n",
              "  </tbody>\n",
              "</table>\n",
              "</div>"
            ],
            "text/plain": [
              "  Unnamed: 0  ffnc  ffc  nfnc  nfc  fsnc   fsc  nsnc   nsc\n",
              "0      신대방1동   1.0  NaN   1.0  NaN   5.0  13.0   5.0  13.0\n",
              "1       시흥5동   NaN  NaN   NaN  NaN   NaN   2.0   1.0   NaN\n",
              "2        청담동   1.0  NaN   NaN  2.0  13.0  19.0  26.0   NaN\n",
              "3       신정4동   NaN  NaN   2.0  NaN   9.0   2.0   NaN   NaN\n",
              "4         항동   NaN  NaN   NaN  NaN   NaN  11.0   9.0  10.0"
            ]
          },
          "metadata": {},
          "execution_count": 14
        }
      ]
    },
    {
      "cell_type": "code",
      "metadata": {
        "id": "EFeAPRYCNiUs"
      },
      "source": [
        "df = df.rename(columns = {'Unnamed: 0' : 'dong'})"
      ],
      "execution_count": 15,
      "outputs": []
    },
    {
      "cell_type": "code",
      "metadata": {
        "colab": {
          "base_uri": "https://localhost:8080/",
          "height": 203
        },
        "id": "bVhe9m7tOAnE",
        "outputId": "0f4cf010-c3dc-4ba6-9702-0c938572befb"
      },
      "source": [
        "lpdf1.head()"
      ],
      "execution_count": 16,
      "outputs": [
        {
          "output_type": "execute_result",
          "data": {
            "text/html": [
              "<div>\n",
              "<style scoped>\n",
              "    .dataframe tbody tr th:only-of-type {\n",
              "        vertical-align: middle;\n",
              "    }\n",
              "\n",
              "    .dataframe tbody tr th {\n",
              "        vertical-align: top;\n",
              "    }\n",
              "\n",
              "    .dataframe thead th {\n",
              "        text-align: right;\n",
              "    }\n",
              "</style>\n",
              "<table border=\"1\" class=\"dataframe\">\n",
              "  <thead>\n",
              "    <tr style=\"text-align: right;\">\n",
              "      <th></th>\n",
              "      <th>행정동명</th>\n",
              "      <th>총생활인구수</th>\n",
              "    </tr>\n",
              "  </thead>\n",
              "  <tbody>\n",
              "    <tr>\n",
              "      <th>0</th>\n",
              "      <td>가락1동</td>\n",
              "      <td>25049.834033</td>\n",
              "    </tr>\n",
              "    <tr>\n",
              "      <th>1</th>\n",
              "      <td>가락2동</td>\n",
              "      <td>24935.653890</td>\n",
              "    </tr>\n",
              "    <tr>\n",
              "      <th>2</th>\n",
              "      <td>가락본동</td>\n",
              "      <td>33157.590517</td>\n",
              "    </tr>\n",
              "    <tr>\n",
              "      <th>3</th>\n",
              "      <td>가리봉동</td>\n",
              "      <td>11048.837409</td>\n",
              "    </tr>\n",
              "    <tr>\n",
              "      <th>4</th>\n",
              "      <td>가산동</td>\n",
              "      <td>40838.242876</td>\n",
              "    </tr>\n",
              "  </tbody>\n",
              "</table>\n",
              "</div>"
            ],
            "text/plain": [
              "   행정동명        총생활인구수\n",
              "0  가락1동  25049.834033\n",
              "1  가락2동  24935.653890\n",
              "2  가락본동  33157.590517\n",
              "3  가리봉동  11048.837409\n",
              "4   가산동  40838.242876"
            ]
          },
          "metadata": {},
          "execution_count": 16
        }
      ]
    },
    {
      "cell_type": "code",
      "metadata": {
        "id": "asWa7p4-OAqY"
      },
      "source": [
        "lpdf1 = lpdf1.rename(columns= {'행정동명' : 'dong'})\n",
        "lpdf2 = lpdf2.rename(columns= {'행정동명' : 'dong'})\n",
        "lpdf3 = lpdf3.rename(columns= {'행정동명' : 'dong'})"
      ],
      "execution_count": 17,
      "outputs": []
    },
    {
      "cell_type": "code",
      "metadata": {
        "id": "-5wQEwZ-OSYV"
      },
      "source": [
        "df1 = pd.merge(df, lpdf1, how = 'right')"
      ],
      "execution_count": 18,
      "outputs": []
    },
    {
      "cell_type": "code",
      "metadata": {
        "colab": {
          "base_uri": "https://localhost:8080/"
        },
        "id": "SWlgZsYGOSgs",
        "outputId": "828239d2-8717-435f-f506-744e82d2deb0"
      },
      "source": [
        "df1.info()\n",
        "# 424개로 잘 저장되어있는것을 확인 할수 있습니다."
      ],
      "execution_count": 19,
      "outputs": [
        {
          "output_type": "stream",
          "name": "stdout",
          "text": [
            "<class 'pandas.core.frame.DataFrame'>\n",
            "Int64Index: 424 entries, 0 to 423\n",
            "Data columns (total 10 columns):\n",
            " #   Column  Non-Null Count  Dtype  \n",
            "---  ------  --------------  -----  \n",
            " 0   dong    424 non-null    object \n",
            " 1   ffnc    276 non-null    float64\n",
            " 2   ffc     20 non-null     float64\n",
            " 3   nfnc    147 non-null    float64\n",
            " 4   nfc     50 non-null     float64\n",
            " 5   fsnc    327 non-null    float64\n",
            " 6   fsc     284 non-null    float64\n",
            " 7   nsnc    299 non-null    float64\n",
            " 8   nsc     195 non-null    float64\n",
            " 9   총생활인구수  424 non-null    float64\n",
            "dtypes: float64(9), object(1)\n",
            "memory usage: 36.4+ KB\n"
          ]
        }
      ]
    },
    {
      "cell_type": "code",
      "metadata": {
        "id": "oATSdix4OSj_"
      },
      "source": [
        "df2 = pd.merge(df, lpdf2, how = 'right')\n",
        "df3 = pd.merge(df, lpdf3, how = 'right')"
      ],
      "execution_count": 20,
      "outputs": []
    },
    {
      "cell_type": "code",
      "metadata": {
        "colab": {
          "base_uri": "https://localhost:8080/"
        },
        "id": "c72Lj5m4OoHC",
        "outputId": "f974e3ce-9345-49f3-8b1c-d737d7946d45"
      },
      "source": [
        "df2.info()"
      ],
      "execution_count": 21,
      "outputs": [
        {
          "output_type": "stream",
          "name": "stdout",
          "text": [
            "<class 'pandas.core.frame.DataFrame'>\n",
            "Int64Index: 424 entries, 0 to 423\n",
            "Data columns (total 10 columns):\n",
            " #   Column  Non-Null Count  Dtype  \n",
            "---  ------  --------------  -----  \n",
            " 0   dong    424 non-null    object \n",
            " 1   ffnc    276 non-null    float64\n",
            " 2   ffc     20 non-null     float64\n",
            " 3   nfnc    147 non-null    float64\n",
            " 4   nfc     50 non-null     float64\n",
            " 5   fsnc    327 non-null    float64\n",
            " 6   fsc     284 non-null    float64\n",
            " 7   nsnc    299 non-null    float64\n",
            " 8   nsc     195 non-null    float64\n",
            " 9   총생활인구수  424 non-null    float64\n",
            "dtypes: float64(9), object(1)\n",
            "memory usage: 36.4+ KB\n"
          ]
        }
      ]
    },
    {
      "cell_type": "code",
      "metadata": {
        "colab": {
          "base_uri": "https://localhost:8080/"
        },
        "id": "nBvGuzq_OxJ2",
        "outputId": "d0497c12-8c39-4fb0-dba6-eb709d034c62"
      },
      "source": [
        "df3.info()"
      ],
      "execution_count": 22,
      "outputs": [
        {
          "output_type": "stream",
          "name": "stdout",
          "text": [
            "<class 'pandas.core.frame.DataFrame'>\n",
            "Int64Index: 424 entries, 0 to 423\n",
            "Data columns (total 10 columns):\n",
            " #   Column  Non-Null Count  Dtype  \n",
            "---  ------  --------------  -----  \n",
            " 0   dong    424 non-null    object \n",
            " 1   ffnc    276 non-null    float64\n",
            " 2   ffc     20 non-null     float64\n",
            " 3   nfnc    147 non-null    float64\n",
            " 4   nfc     50 non-null     float64\n",
            " 5   fsnc    327 non-null    float64\n",
            " 6   fsc     284 non-null    float64\n",
            " 7   nsnc    299 non-null    float64\n",
            " 8   nsc     195 non-null    float64\n",
            " 9   총생활인구수  424 non-null    float64\n",
            "dtypes: float64(9), object(1)\n",
            "memory usage: 36.4+ KB\n"
          ]
        }
      ]
    },
    {
      "cell_type": "code",
      "metadata": {
        "id": "YL3jiQ3qOxMa"
      },
      "source": [
        "# 할렐루야!\n",
        "# 3 파일다 242개로 잘 저장되어네요!\n",
        "# 이제 만든 파일을 저장해두십니다.\n",
        "df1.to_excel('029df.xlsx')\n",
        "df2.to_excel('9218df.xlsx')\n",
        "df3.to_excel('18224df.xlsx')"
      ],
      "execution_count": 23,
      "outputs": []
    },
    {
      "cell_type": "code",
      "metadata": {
        "id": "ZJCXRHVxOxOw"
      },
      "source": [
        ""
      ],
      "execution_count": null,
      "outputs": []
    },
    {
      "cell_type": "code",
      "metadata": {
        "id": "HIHzP6BkOxSC"
      },
      "source": [
        ""
      ],
      "execution_count": null,
      "outputs": []
    },
    {
      "cell_type": "code",
      "metadata": {
        "id": "QsVZSfe-OoKX"
      },
      "source": [
        ""
      ],
      "execution_count": null,
      "outputs": []
    }
  ]
}