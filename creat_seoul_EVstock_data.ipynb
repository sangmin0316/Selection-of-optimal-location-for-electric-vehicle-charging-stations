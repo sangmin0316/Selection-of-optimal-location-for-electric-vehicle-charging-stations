{
  "nbformat": 4,
  "nbformat_minor": 0,
  "metadata": {
    "colab": {
      "name": "creat_seoul_EVstock_data.ipynb",
      "provenance": [],
      "collapsed_sections": []
    },
    "kernelspec": {
      "name": "python3",
      "display_name": "Python 3"
    },
    "language_info": {
      "name": "python"
    }
  },
  "cells": [
    {
      "cell_type": "code",
      "metadata": {
        "id": "VAOsPR5PFcFq"
      },
      "source": [
        "import pandas as pd"
      ],
      "execution_count": 1,
      "outputs": []
    },
    {
      "cell_type": "code",
      "metadata": {
        "id": "0hYz6z8DGFVH"
      },
      "source": [
        "df = pd.read_excel('seoul_list.xlsx')\n"
      ],
      "execution_count": 64,
      "outputs": []
    },
    {
      "cell_type": "code",
      "metadata": {
        "colab": {
          "base_uri": "https://localhost:8080/",
          "height": 147
        },
        "id": "Y-FhACr6GSxH",
        "outputId": "2815ed28-aa34-49ea-cb59-9e2c8f92a547"
      },
      "source": [
        "df.head(1)"
      ],
      "execution_count": 4,
      "outputs": [
        {
          "output_type": "execute_result",
          "data": {
            "text/html": [
              "<div>\n",
              "<style scoped>\n",
              "    .dataframe tbody tr th:only-of-type {\n",
              "        vertical-align: middle;\n",
              "    }\n",
              "\n",
              "    .dataframe tbody tr th {\n",
              "        vertical-align: top;\n",
              "    }\n",
              "\n",
              "    .dataframe thead th {\n",
              "        text-align: right;\n",
              "    }\n",
              "</style>\n",
              "<table border=\"1\" class=\"dataframe\">\n",
              "  <thead>\n",
              "    <tr style=\"text-align: right;\">\n",
              "      <th></th>\n",
              "      <th>Unnamed: 0</th>\n",
              "      <th>운영기관</th>\n",
              "      <th>충전소</th>\n",
              "      <th>충전기 ID</th>\n",
              "      <th>타입</th>\n",
              "      <th>지역</th>\n",
              "      <th>시군구</th>\n",
              "      <th>주소</th>\n",
              "      <th>이용가능시간</th>\n",
              "      <th>제한</th>\n",
              "      <th>종류</th>\n",
              "      <th>비고</th>\n",
              "      <th>NaN</th>\n",
              "      <th>Unnamed: 13</th>\n",
              "    </tr>\n",
              "  </thead>\n",
              "  <tbody>\n",
              "    <tr>\n",
              "      <th>0</th>\n",
              "      <td>23</td>\n",
              "      <td>환경부(한국자동차환경협회)</td>\n",
              "      <td>DMC 산학협력연구센터</td>\n",
              "      <td>1</td>\n",
              "      <td>DC차데모+AC3상+DC콤보</td>\n",
              "      <td>서울특별시</td>\n",
              "      <td>마포구</td>\n",
              "      <td>서울특별시 마포구 매봉산로 37</td>\n",
              "      <td>24시간 이용가능</td>\n",
              "      <td>NaN</td>\n",
              "      <td>급속(100kW멀티)</td>\n",
              "      <td>10분/500원</td>\n",
              "      <td>[1] 행정동 명칭</td>\n",
              "      <td>상암동</td>\n",
              "    </tr>\n",
              "  </tbody>\n",
              "</table>\n",
              "</div>"
            ],
            "text/plain": [
              "   Unnamed: 0            운영기관           충전소  ...        비고         NaN Unnamed: 13\n",
              "0          23  환경부(한국자동차환경협회)  DMC 산학협력연구센터  ...  10분/500원  [1] 행정동 명칭         상암동\n",
              "\n",
              "[1 rows x 14 columns]"
            ]
          },
          "metadata": {},
          "execution_count": 4
        }
      ]
    },
    {
      "cell_type": "code",
      "metadata": {
        "colab": {
          "base_uri": "https://localhost:8080/",
          "height": 147
        },
        "id": "YGyeNjbkGSz_",
        "outputId": "df742b49-e3d3-4668-e3b5-625c0c0d8e3b"
      },
      "source": [
        "# 서울에 충전기 자료중에서 아래 구에 해당하는 데이터만 따로 뽑아주겠습니다.\n",
        "#  강남구 강동구 강북구 강서구 관악구 광진구 구로구 금천구 노원구 도봉구\n",
        "gulist = ['강남구 ', '강동구 ','강북구 ', '강서구 ',  '관악구 ', '광진구 ','구로구 ','금천구 ','노원구 ','도봉구 ']\n",
        "# 먼저 강남구 부터 하겠습니다. 이후에는 for문을 돌릴것인데,\n",
        "# 먼저 강남구 부터하는 이유는 데이터 프레임을 만들기 위함입니다.\n",
        "idx = df[df['시군구'] !='강남구 '].index \n",
        "gudf = df.drop(idx)\n",
        "gudf.head(1)"
      ],
      "execution_count": 65,
      "outputs": [
        {
          "output_type": "execute_result",
          "data": {
            "text/html": [
              "<div>\n",
              "<style scoped>\n",
              "    .dataframe tbody tr th:only-of-type {\n",
              "        vertical-align: middle;\n",
              "    }\n",
              "\n",
              "    .dataframe tbody tr th {\n",
              "        vertical-align: top;\n",
              "    }\n",
              "\n",
              "    .dataframe thead th {\n",
              "        text-align: right;\n",
              "    }\n",
              "</style>\n",
              "<table border=\"1\" class=\"dataframe\">\n",
              "  <thead>\n",
              "    <tr style=\"text-align: right;\">\n",
              "      <th></th>\n",
              "      <th>Unnamed: 0</th>\n",
              "      <th>운영기관</th>\n",
              "      <th>충전소</th>\n",
              "      <th>충전기 ID</th>\n",
              "      <th>타입</th>\n",
              "      <th>지역</th>\n",
              "      <th>시군구</th>\n",
              "      <th>주소</th>\n",
              "      <th>이용가능시간</th>\n",
              "      <th>제한</th>\n",
              "      <th>종류</th>\n",
              "      <th>비고</th>\n",
              "      <th>NaN</th>\n",
              "      <th>Unnamed: 13</th>\n",
              "    </tr>\n",
              "  </thead>\n",
              "  <tbody>\n",
              "    <tr>\n",
              "      <th>3</th>\n",
              "      <td>52</td>\n",
              "      <td>환경부(한국자동차환경협회)</td>\n",
              "      <td>SETEC</td>\n",
              "      <td>1</td>\n",
              "      <td>DC차데모+AC3상+DC콤보</td>\n",
              "      <td>서울특별시</td>\n",
              "      <td>강남구</td>\n",
              "      <td>서울특별시 강남구 남부순환로3104</td>\n",
              "      <td>24시간 이용가능</td>\n",
              "      <td>NaN</td>\n",
              "      <td>급속(100kW멀티)</td>\n",
              "      <td>충전차량에한하여 1시간무료 10분당500월 일주차15,000원</td>\n",
              "      <td>[1] 행정동 명칭</td>\n",
              "      <td>대치2동</td>\n",
              "    </tr>\n",
              "  </tbody>\n",
              "</table>\n",
              "</div>"
            ],
            "text/plain": [
              "   Unnamed: 0            운영기관  ...         NaN  Unnamed: 13\n",
              "3          52  환경부(한국자동차환경협회)  ...  [1] 행정동 명칭         대치2동\n",
              "\n",
              "[1 rows x 14 columns]"
            ]
          },
          "metadata": {},
          "execution_count": 65
        }
      ]
    },
    {
      "cell_type": "code",
      "metadata": {
        "id": "UVYHbl3hGS3g",
        "colab": {
          "base_uri": "https://localhost:8080/"
        },
        "outputId": "d675ed85-802a-43f4-c5ba-3c67aa2ecf3d"
      },
      "source": [
        "for i in range(1,len(gulist)):\n",
        "  idx = df[df['시군구'] != str(gulist[i])].index\n",
        "  a = df.drop(idx)\n",
        "  gudf = pd.concat([gudf,a], ignore_index = True)\n",
        "print(len(gudf))"
      ],
      "execution_count": 66,
      "outputs": [
        {
          "output_type": "stream",
          "name": "stdout",
          "text": [
            "4141\n"
          ]
        }
      ]
    },
    {
      "cell_type": "code",
      "metadata": {
        "colab": {
          "base_uri": "https://localhost:8080/"
        },
        "id": "ZFHzLqiUIepG",
        "outputId": "dce794f3-2f74-498f-fa22-8aa80347de54"
      },
      "source": [
        "gudf['시군구'].value_counts()\n",
        "\n",
        "# 10개구가 잘 저장되었는것을 확인할 수 있다."
      ],
      "execution_count": 68,
      "outputs": [
        {
          "output_type": "execute_result",
          "data": {
            "text/plain": [
              "강남구     790\n",
              "강서구     690\n",
              "구로구     560\n",
              "노원구     447\n",
              "금천구     414\n",
              "강동구     330\n",
              "관악구     273\n",
              "도봉구     260\n",
              "광진구     206\n",
              "강북구     171\n",
              "Name: 시군구, dtype: int64"
            ]
          },
          "metadata": {},
          "execution_count": 68
        }
      ]
    },
    {
      "cell_type": "code",
      "metadata": {
        "colab": {
          "base_uri": "https://localhost:8080/"
        },
        "id": "Q85SP1cuIew-",
        "outputId": "cf0fe089-5ff9-48c8-d7c7-b420ff1e6407"
      },
      "source": [
        "# gudf는 법정동으로 채우기 전 자료라서 법정동으로 표기한 동은 없고\n",
        "# 그냥 null값이 존재합니다. \n",
        "nulldf = gudf[gudf['Unnamed: 13'].isnull()]\n",
        "nulldf['Unnamed: 13'].value_counts(dropna=False)\n",
        "# nulldf에NaN값으로 표현된 행정동만 잘 저장되었는 것을 확인할 수 있네요."
      ],
      "execution_count": 69,
      "outputs": [
        {
          "output_type": "execute_result",
          "data": {
            "text/plain": [
              "NaN    514\n",
              "Name: Unnamed: 13, dtype: int64"
            ]
          },
          "metadata": {},
          "execution_count": 69
        }
      ]
    },
    {
      "cell_type": "code",
      "metadata": {
        "id": "9WKVG8tYM0Ml",
        "colab": {
          "base_uri": "https://localhost:8080/"
        },
        "outputId": "8f3ad4d9-06b8-40df-ff7d-b54a27b2ccfb"
      },
      "source": [
        "# 따로 저장후 null값을 직접 채워야겠습니다...ㅎㅎ\n",
        "nulldf.to_excel('null_df.xlsx',index = False)\n",
        "len(nulldf)"
      ],
      "execution_count": 75,
      "outputs": [
        {
          "output_type": "execute_result",
          "data": {
            "text/plain": [
              "514"
            ]
          },
          "metadata": {},
          "execution_count": 75
        }
      ]
    },
    {
      "cell_type": "code",
      "metadata": {
        "colab": {
          "base_uri": "https://localhost:8080/"
        },
        "id": "uJmIVQE4ttR3",
        "outputId": "92f98fc1-eda9-4ae6-f103-e71f0634a8c5"
      },
      "source": [
        "# null값을 제외한 데이터를 따로 만들어줍니다.\n",
        "idx = gudf[gudf['Unnamed: 13'].isnull()].index\n",
        "gudf = gudf.drop(idx)\n",
        "len(gudf)"
      ],
      "execution_count": 71,
      "outputs": [
        {
          "output_type": "execute_result",
          "data": {
            "text/plain": [
              "3627"
            ]
          },
          "metadata": {},
          "execution_count": 71
        }
      ]
    },
    {
      "cell_type": "code",
      "metadata": {
        "id": "Ed3vCJutNHQV",
        "colab": {
          "base_uri": "https://localhost:8080/"
        },
        "outputId": "afa25a2a-2078-4d4d-c38e-cc1ed17a44ed"
      },
      "source": [
        "# 행정동으로 채운 nulldf를 불러옵니다.\n",
        "enulldf = pd.read_excel('enull_df.xlsx',index_col=[0] )\n",
        "len(enulldf)"
      ],
      "execution_count": 79,
      "outputs": [
        {
          "output_type": "execute_result",
          "data": {
            "text/plain": [
              "514"
            ]
          },
          "metadata": {},
          "execution_count": 79
        }
      ]
    },
    {
      "cell_type": "code",
      "metadata": {
        "colab": {
          "base_uri": "https://localhost:8080/"
        },
        "id": "LlyIhEpNR0NW",
        "outputId": "fa60360b-9672-414a-c33c-4760b9e94602"
      },
      "source": [
        "df3 = pd.concat([enulldf,gudf],ignore_index = True)\n",
        "len(df3)"
      ],
      "execution_count": 80,
      "outputs": [
        {
          "output_type": "execute_result",
          "data": {
            "text/plain": [
              "4141"
            ]
          },
          "metadata": {},
          "execution_count": 80
        }
      ]
    },
    {
      "cell_type": "code",
      "metadata": {
        "id": "duMMk5RjSCJ8"
      },
      "source": [
        "# column을 수정해줍니다.\n",
        "df3 = df3.rename(columns={\"Unnamed: 12\" : \"dong\"})\n",
        "df3 = df3.drop(\"Unnamed: 13\",axis = 1)\n",
        "df3 = df3.drop(\"Unnamed: 0\",axis = 1)\n",
        "# df3 = df3.drop(\"NaN\",axis = 1)"
      ],
      "execution_count": 81,
      "outputs": []
    },
    {
      "cell_type": "code",
      "metadata": {
        "colab": {
          "base_uri": "https://localhost:8080/",
          "height": 304
        },
        "id": "dHsG1zp9YXa1",
        "outputId": "e84d1ca9-9c85-4325-ee5e-ed564b9afe2f"
      },
      "source": [
        "df3.head()"
      ],
      "execution_count": 82,
      "outputs": [
        {
          "output_type": "execute_result",
          "data": {
            "text/html": [
              "<div>\n",
              "<style scoped>\n",
              "    .dataframe tbody tr th:only-of-type {\n",
              "        vertical-align: middle;\n",
              "    }\n",
              "\n",
              "    .dataframe tbody tr th {\n",
              "        vertical-align: top;\n",
              "    }\n",
              "\n",
              "    .dataframe thead th {\n",
              "        text-align: right;\n",
              "    }\n",
              "</style>\n",
              "<table border=\"1\" class=\"dataframe\">\n",
              "  <thead>\n",
              "    <tr style=\"text-align: right;\">\n",
              "      <th></th>\n",
              "      <th>운영기관</th>\n",
              "      <th>충전소</th>\n",
              "      <th>충전기 ID</th>\n",
              "      <th>타입</th>\n",
              "      <th>지역</th>\n",
              "      <th>시군구</th>\n",
              "      <th>주소</th>\n",
              "      <th>이용가능시간</th>\n",
              "      <th>제한</th>\n",
              "      <th>종류</th>\n",
              "      <th>비고</th>\n",
              "      <th>dong</th>\n",
              "      <th>NaN</th>\n",
              "    </tr>\n",
              "  </thead>\n",
              "  <tbody>\n",
              "    <tr>\n",
              "      <th>0</th>\n",
              "      <td>차지비</td>\n",
              "      <td>삼성롯데캐슬킹덤아파트</td>\n",
              "      <td>1</td>\n",
              "      <td>AC완속</td>\n",
              "      <td>서울특별시</td>\n",
              "      <td>강남구</td>\n",
              "      <td>서울특별시 강남구 선릉로112길 53101동 B2-1 기둥</td>\n",
              "      <td>24시간 이용가능</td>\n",
              "      <td>거주자외 출입제한</td>\n",
              "      <td>NaN</td>\n",
              "      <td>공동주택 입주민전용</td>\n",
              "      <td>삼성2동</td>\n",
              "      <td>NaN</td>\n",
              "    </tr>\n",
              "    <tr>\n",
              "      <th>1</th>\n",
              "      <td>차지비</td>\n",
              "      <td>삼성롯데캐슬킹덤아파트</td>\n",
              "      <td>2</td>\n",
              "      <td>AC완속</td>\n",
              "      <td>서울특별시</td>\n",
              "      <td>강남구</td>\n",
              "      <td>서울특별시 강남구 선릉로112길 53101동 B2-1 기둥</td>\n",
              "      <td>24시간 이용가능</td>\n",
              "      <td>거주자외 출입제한</td>\n",
              "      <td>s</td>\n",
              "      <td>공동주택 입주민전용</td>\n",
              "      <td>삼성2동</td>\n",
              "      <td>NaN</td>\n",
              "    </tr>\n",
              "    <tr>\n",
              "      <th>2</th>\n",
              "      <td>차지비</td>\n",
              "      <td>삼성롯데캐슬킹덤아파트</td>\n",
              "      <td>3</td>\n",
              "      <td>AC완속</td>\n",
              "      <td>서울특별시</td>\n",
              "      <td>강남구</td>\n",
              "      <td>서울특별시 강남구 선릉로112길 53101동 B2-1 기둥</td>\n",
              "      <td>24시간 이용가능</td>\n",
              "      <td>거주자외 출입제한</td>\n",
              "      <td>NaN</td>\n",
              "      <td>공동주택 입주민전용</td>\n",
              "      <td>삼성2동</td>\n",
              "      <td>NaN</td>\n",
              "    </tr>\n",
              "    <tr>\n",
              "      <th>3</th>\n",
              "      <td>차지비</td>\n",
              "      <td>삼성롯데캐슬킹덤아파트</td>\n",
              "      <td>4</td>\n",
              "      <td>AC완속</td>\n",
              "      <td>서울특별시</td>\n",
              "      <td>강남구</td>\n",
              "      <td>서울특별시 강남구 선릉로112길 53101동 B2-1 기둥</td>\n",
              "      <td>24시간 이용가능</td>\n",
              "      <td>거주자외 출입제한</td>\n",
              "      <td>NaN</td>\n",
              "      <td>공동주택 입주민전용</td>\n",
              "      <td>삼성2동</td>\n",
              "      <td>NaN</td>\n",
              "    </tr>\n",
              "    <tr>\n",
              "      <th>4</th>\n",
              "      <td>차지비</td>\n",
              "      <td>삼성롯데캐슬킹덤아파트</td>\n",
              "      <td>5</td>\n",
              "      <td>AC완속</td>\n",
              "      <td>서울특별시</td>\n",
              "      <td>강남구</td>\n",
              "      <td>서울특별시 강남구 선릉로112길 53101동 B2-1 기둥</td>\n",
              "      <td>24시간 이용가능</td>\n",
              "      <td>거주자외 출입제한</td>\n",
              "      <td>NaN</td>\n",
              "      <td>공동주택 입주민전용</td>\n",
              "      <td>삼성2동</td>\n",
              "      <td>NaN</td>\n",
              "    </tr>\n",
              "  </tbody>\n",
              "</table>\n",
              "</div>"
            ],
            "text/plain": [
              "  운영기관          충전소  충전기 ID    타입  ...   종류          비고  dong  NaN\n",
              "0  차지비  삼성롯데캐슬킹덤아파트       1  AC완속  ...  NaN  공동주택 입주민전용  삼성2동  NaN\n",
              "1  차지비  삼성롯데캐슬킹덤아파트       2  AC완속  ...    s  공동주택 입주민전용  삼성2동  NaN\n",
              "2  차지비  삼성롯데캐슬킹덤아파트       3  AC완속  ...  NaN  공동주택 입주민전용  삼성2동  NaN\n",
              "3  차지비  삼성롯데캐슬킹덤아파트       4  AC완속  ...  NaN  공동주택 입주민전용  삼성2동  NaN\n",
              "4  차지비  삼성롯데캐슬킹덤아파트       5  AC완속  ...  NaN  공동주택 입주민전용  삼성2동  NaN\n",
              "\n",
              "[5 rows x 13 columns]"
            ]
          },
          "metadata": {},
          "execution_count": 82
        }
      ]
    },
    {
      "cell_type": "code",
      "metadata": {
        "id": "6FnHLeBLSO6F"
      },
      "source": [
        ""
      ],
      "execution_count": 171,
      "outputs": []
    },
    {
      "cell_type": "code",
      "metadata": {
        "id": "lHh5A0CZSO8h"
      },
      "source": [
        "# 이 데이터와 이전에 만든 15개의 데이터를 합치면 되겠습니다. ㅎ"
      ],
      "execution_count": 31,
      "outputs": []
    },
    {
      "cell_type": "code",
      "metadata": {
        "id": "-Gwzi5hZR0Q3"
      },
      "source": [
        "df1 = pd.read_excel(\"chargedf1.xlsx\",index_col=[0] )\n",
        "df2 = pd.read_excel(\"chargedf2.xlsx\",index_col=[0] )\n",
        "# df = pd.conat([df1,df2,enulldf],ignore_index)"
      ],
      "execution_count": 83,
      "outputs": []
    },
    {
      "cell_type": "code",
      "metadata": {
        "colab": {
          "base_uri": "https://localhost:8080/",
          "height": 114
        },
        "id": "b-wOjT5uV6LK",
        "outputId": "59f1a083-af6b-4ea2-b926-848ebf88b7a1"
      },
      "source": [
        "df1.head(1)"
      ],
      "execution_count": 84,
      "outputs": [
        {
          "output_type": "execute_result",
          "data": {
            "text/html": [
              "<div>\n",
              "<style scoped>\n",
              "    .dataframe tbody tr th:only-of-type {\n",
              "        vertical-align: middle;\n",
              "    }\n",
              "\n",
              "    .dataframe tbody tr th {\n",
              "        vertical-align: top;\n",
              "    }\n",
              "\n",
              "    .dataframe thead th {\n",
              "        text-align: right;\n",
              "    }\n",
              "</style>\n",
              "<table border=\"1\" class=\"dataframe\">\n",
              "  <thead>\n",
              "    <tr style=\"text-align: right;\">\n",
              "      <th></th>\n",
              "      <th>Unnamed: 0.1</th>\n",
              "      <th>Unnamed: 0.1.1</th>\n",
              "      <th>운영기관</th>\n",
              "      <th>충전소</th>\n",
              "      <th>타입</th>\n",
              "      <th>시군구</th>\n",
              "      <th>주소</th>\n",
              "      <th>이용가능시간</th>\n",
              "      <th>종류</th>\n",
              "      <th>비고</th>\n",
              "      <th>행정동</th>\n",
              "      <th>Unnamed: 0.1.1.1</th>\n",
              "    </tr>\n",
              "  </thead>\n",
              "  <tbody>\n",
              "    <tr>\n",
              "      <th>0</th>\n",
              "      <td>6</td>\n",
              "      <td>83</td>\n",
              "      <td>환경부(한국자동차환경협회)</td>\n",
              "      <td>가락시장</td>\n",
              "      <td>DC콤보</td>\n",
              "      <td>송파구</td>\n",
              "      <td>서울특별시 송파구 양재대로 932</td>\n",
              "      <td>24시간 이용가능</td>\n",
              "      <td>급속(100kW단독)</td>\n",
              "      <td>15분무료 / 2시간1000원 /이후 10분당 500원</td>\n",
              "      <td>가락1동</td>\n",
              "      <td>NaN</td>\n",
              "    </tr>\n",
              "  </tbody>\n",
              "</table>\n",
              "</div>"
            ],
            "text/plain": [
              "   Unnamed: 0.1  Unnamed: 0.1.1  ...   행정동 Unnamed: 0.1.1.1\n",
              "0             6              83  ...  가락1동              NaN\n",
              "\n",
              "[1 rows x 12 columns]"
            ]
          },
          "metadata": {},
          "execution_count": 84
        }
      ]
    },
    {
      "cell_type": "code",
      "metadata": {
        "id": "jAOKjEN7V0Js"
      },
      "source": [
        "# unnamed를 없애줍시다..\n",
        "df1 = df1.drop(\"Unnamed: 0.1\", axis = 1)\n",
        "df1 = df1.drop(\"Unnamed: 0.1.1\", axis = 1)\n",
        "df1 = df1.drop(\"Unnamed: 0.1.1.1\", axis= 1)\n",
        "df1 = df1.rename(columns = {\"행정동\" : \"dong\"} )\n"
      ],
      "execution_count": 85,
      "outputs": []
    },
    {
      "cell_type": "code",
      "metadata": {
        "colab": {
          "base_uri": "https://localhost:8080/",
          "height": 114
        },
        "id": "qwZjYcG4Wrcz",
        "outputId": "57ff42ba-1e4d-4656-955d-55e44e86ec24"
      },
      "source": [
        "df1.head(1)"
      ],
      "execution_count": 86,
      "outputs": [
        {
          "output_type": "execute_result",
          "data": {
            "text/html": [
              "<div>\n",
              "<style scoped>\n",
              "    .dataframe tbody tr th:only-of-type {\n",
              "        vertical-align: middle;\n",
              "    }\n",
              "\n",
              "    .dataframe tbody tr th {\n",
              "        vertical-align: top;\n",
              "    }\n",
              "\n",
              "    .dataframe thead th {\n",
              "        text-align: right;\n",
              "    }\n",
              "</style>\n",
              "<table border=\"1\" class=\"dataframe\">\n",
              "  <thead>\n",
              "    <tr style=\"text-align: right;\">\n",
              "      <th></th>\n",
              "      <th>운영기관</th>\n",
              "      <th>충전소</th>\n",
              "      <th>타입</th>\n",
              "      <th>시군구</th>\n",
              "      <th>주소</th>\n",
              "      <th>이용가능시간</th>\n",
              "      <th>종류</th>\n",
              "      <th>비고</th>\n",
              "      <th>dong</th>\n",
              "    </tr>\n",
              "  </thead>\n",
              "  <tbody>\n",
              "    <tr>\n",
              "      <th>0</th>\n",
              "      <td>환경부(한국자동차환경협회)</td>\n",
              "      <td>가락시장</td>\n",
              "      <td>DC콤보</td>\n",
              "      <td>송파구</td>\n",
              "      <td>서울특별시 송파구 양재대로 932</td>\n",
              "      <td>24시간 이용가능</td>\n",
              "      <td>급속(100kW단독)</td>\n",
              "      <td>15분무료 / 2시간1000원 /이후 10분당 500원</td>\n",
              "      <td>가락1동</td>\n",
              "    </tr>\n",
              "  </tbody>\n",
              "</table>\n",
              "</div>"
            ],
            "text/plain": [
              "             운영기관   충전소  ...                              비고  dong\n",
              "0  환경부(한국자동차환경협회)  가락시장  ...  15분무료 / 2시간1000원 /이후 10분당 500원  가락1동\n",
              "\n",
              "[1 rows x 9 columns]"
            ]
          },
          "metadata": {},
          "execution_count": 86
        }
      ]
    },
    {
      "cell_type": "code",
      "metadata": {
        "colab": {
          "base_uri": "https://localhost:8080/",
          "height": 164
        },
        "id": "X9tPQpr1Wu3Z",
        "outputId": "294ce517-faae-4c2b-a9ce-99d2b62a20f4"
      },
      "source": [
        "df2.head(1)"
      ],
      "execution_count": 87,
      "outputs": [
        {
          "output_type": "execute_result",
          "data": {
            "text/html": [
              "<div>\n",
              "<style scoped>\n",
              "    .dataframe tbody tr th:only-of-type {\n",
              "        vertical-align: middle;\n",
              "    }\n",
              "\n",
              "    .dataframe tbody tr th {\n",
              "        vertical-align: top;\n",
              "    }\n",
              "\n",
              "    .dataframe thead th {\n",
              "        text-align: right;\n",
              "    }\n",
              "</style>\n",
              "<table border=\"1\" class=\"dataframe\">\n",
              "  <thead>\n",
              "    <tr style=\"text-align: right;\">\n",
              "      <th></th>\n",
              "      <th>Unnamed: 0.1</th>\n",
              "      <th>Unnamed: 0.1.1</th>\n",
              "      <th>운영기관</th>\n",
              "      <th>충전소</th>\n",
              "      <th>충전기 ID</th>\n",
              "      <th>타입</th>\n",
              "      <th>지역</th>\n",
              "      <th>시군구</th>\n",
              "      <th>주소</th>\n",
              "      <th>이용가능시간</th>\n",
              "      <th>제한</th>\n",
              "      <th>종류</th>\n",
              "      <th>비고</th>\n",
              "      <th>Unnamed: 13</th>\n",
              "      <th>행정동</th>\n",
              "      <th>Unnamed: 0.1.1.1</th>\n",
              "    </tr>\n",
              "  </thead>\n",
              "  <tbody>\n",
              "    <tr>\n",
              "      <th>0</th>\n",
              "      <td>72</td>\n",
              "      <td>1396</td>\n",
              "      <td>환경부(한국자동차환경협회)</td>\n",
              "      <td>동대문구청</td>\n",
              "      <td>1</td>\n",
              "      <td>DC차데모+AC3상+DC콤보</td>\n",
              "      <td>서울특별시</td>\n",
              "      <td>동대문구</td>\n",
              "      <td>서울특별시 동대문구 천호대로 145 동대문구청 옥외주차장</td>\n",
              "      <td>24시간 이용가능</td>\n",
              "      <td>NaN</td>\n",
              "      <td>급속(50kW)</td>\n",
              "      <td>주차요금 별도</td>\n",
              "      <td>[1] 행정동 명칭</td>\n",
              "      <td>용신동</td>\n",
              "      <td>NaN</td>\n",
              "    </tr>\n",
              "  </tbody>\n",
              "</table>\n",
              "</div>"
            ],
            "text/plain": [
              "   Unnamed: 0.1  Unnamed: 0.1.1  ...  행정동 Unnamed: 0.1.1.1\n",
              "0            72            1396  ...  용신동              NaN\n",
              "\n",
              "[1 rows x 16 columns]"
            ]
          },
          "metadata": {},
          "execution_count": 87
        }
      ]
    },
    {
      "cell_type": "code",
      "metadata": {
        "id": "TQH4oMQUWu5n"
      },
      "source": [
        "df2 = df2.drop(\"Unnamed: 0.1\", axis = 1)\n",
        "df2 = df2.drop(\"Unnamed: 0.1.1\", axis = 1)\n",
        "df2 = df2.drop(\"Unnamed: 0.1.1.1\", axis= 1)\n",
        "df2 = df2.drop(\"Unnamed: 13\", axis= 1)\n",
        "df2 = df2.rename(columns = {\"행정동\" : \"dong\"} )"
      ],
      "execution_count": 88,
      "outputs": []
    },
    {
      "cell_type": "code",
      "metadata": {
        "colab": {
          "base_uri": "https://localhost:8080/",
          "height": 114
        },
        "id": "zmExjtIqWu9G",
        "outputId": "be7a8a6c-1cfe-40e3-cf40-8f32283956f2"
      },
      "source": [
        "df2.head(1)"
      ],
      "execution_count": 89,
      "outputs": [
        {
          "output_type": "execute_result",
          "data": {
            "text/html": [
              "<div>\n",
              "<style scoped>\n",
              "    .dataframe tbody tr th:only-of-type {\n",
              "        vertical-align: middle;\n",
              "    }\n",
              "\n",
              "    .dataframe tbody tr th {\n",
              "        vertical-align: top;\n",
              "    }\n",
              "\n",
              "    .dataframe thead th {\n",
              "        text-align: right;\n",
              "    }\n",
              "</style>\n",
              "<table border=\"1\" class=\"dataframe\">\n",
              "  <thead>\n",
              "    <tr style=\"text-align: right;\">\n",
              "      <th></th>\n",
              "      <th>운영기관</th>\n",
              "      <th>충전소</th>\n",
              "      <th>충전기 ID</th>\n",
              "      <th>타입</th>\n",
              "      <th>지역</th>\n",
              "      <th>시군구</th>\n",
              "      <th>주소</th>\n",
              "      <th>이용가능시간</th>\n",
              "      <th>제한</th>\n",
              "      <th>종류</th>\n",
              "      <th>비고</th>\n",
              "      <th>dong</th>\n",
              "    </tr>\n",
              "  </thead>\n",
              "  <tbody>\n",
              "    <tr>\n",
              "      <th>0</th>\n",
              "      <td>환경부(한국자동차환경협회)</td>\n",
              "      <td>동대문구청</td>\n",
              "      <td>1</td>\n",
              "      <td>DC차데모+AC3상+DC콤보</td>\n",
              "      <td>서울특별시</td>\n",
              "      <td>동대문구</td>\n",
              "      <td>서울특별시 동대문구 천호대로 145 동대문구청 옥외주차장</td>\n",
              "      <td>24시간 이용가능</td>\n",
              "      <td>NaN</td>\n",
              "      <td>급속(50kW)</td>\n",
              "      <td>주차요금 별도</td>\n",
              "      <td>용신동</td>\n",
              "    </tr>\n",
              "  </tbody>\n",
              "</table>\n",
              "</div>"
            ],
            "text/plain": [
              "             운영기관    충전소  충전기 ID               타입  ...   제한        종류       비고 dong\n",
              "0  환경부(한국자동차환경협회)  동대문구청       1  DC차데모+AC3상+DC콤보  ...  NaN  급속(50kW)  주차요금 별도  용신동\n",
              "\n",
              "[1 rows x 12 columns]"
            ]
          },
          "metadata": {},
          "execution_count": 89
        }
      ]
    },
    {
      "cell_type": "code",
      "metadata": {
        "id": "k18WoIG8ZtSl"
      },
      "source": [
        "fdf = pd.concat([df1,df2,df3], ignore_index=True)"
      ],
      "execution_count": 90,
      "outputs": []
    },
    {
      "cell_type": "code",
      "metadata": {
        "colab": {
          "base_uri": "https://localhost:8080/",
          "height": 304
        },
        "id": "biF7UrtYZtWZ",
        "outputId": "ca8f434e-b1ff-4c8a-84b1-42d7c55385c6"
      },
      "source": [
        "fdf.head()"
      ],
      "execution_count": 91,
      "outputs": [
        {
          "output_type": "execute_result",
          "data": {
            "text/html": [
              "<div>\n",
              "<style scoped>\n",
              "    .dataframe tbody tr th:only-of-type {\n",
              "        vertical-align: middle;\n",
              "    }\n",
              "\n",
              "    .dataframe tbody tr th {\n",
              "        vertical-align: top;\n",
              "    }\n",
              "\n",
              "    .dataframe thead th {\n",
              "        text-align: right;\n",
              "    }\n",
              "</style>\n",
              "<table border=\"1\" class=\"dataframe\">\n",
              "  <thead>\n",
              "    <tr style=\"text-align: right;\">\n",
              "      <th></th>\n",
              "      <th>운영기관</th>\n",
              "      <th>충전소</th>\n",
              "      <th>타입</th>\n",
              "      <th>시군구</th>\n",
              "      <th>주소</th>\n",
              "      <th>이용가능시간</th>\n",
              "      <th>종류</th>\n",
              "      <th>비고</th>\n",
              "      <th>dong</th>\n",
              "      <th>충전기 ID</th>\n",
              "      <th>지역</th>\n",
              "      <th>제한</th>\n",
              "      <th>NaN</th>\n",
              "    </tr>\n",
              "  </thead>\n",
              "  <tbody>\n",
              "    <tr>\n",
              "      <th>0</th>\n",
              "      <td>환경부(한국자동차환경협회)</td>\n",
              "      <td>가락시장</td>\n",
              "      <td>DC콤보</td>\n",
              "      <td>송파구</td>\n",
              "      <td>서울특별시 송파구 양재대로 932</td>\n",
              "      <td>24시간 이용가능</td>\n",
              "      <td>급속(100kW단독)</td>\n",
              "      <td>15분무료 / 2시간1000원 /이후 10분당 500원</td>\n",
              "      <td>가락1동</td>\n",
              "      <td>NaN</td>\n",
              "      <td>NaN</td>\n",
              "      <td>NaN</td>\n",
              "      <td>NaN</td>\n",
              "    </tr>\n",
              "    <tr>\n",
              "      <th>1</th>\n",
              "      <td>환경부(한국자동차환경협회)</td>\n",
              "      <td>가락시장</td>\n",
              "      <td>DC콤보</td>\n",
              "      <td>송파구</td>\n",
              "      <td>서울특별시 송파구 양재대로 932</td>\n",
              "      <td>24시간 이용가능</td>\n",
              "      <td>급속(100kW단독)</td>\n",
              "      <td>15분무료 / 2시간1000원 /이후 10분당 500원</td>\n",
              "      <td>가락1동</td>\n",
              "      <td>NaN</td>\n",
              "      <td>NaN</td>\n",
              "      <td>NaN</td>\n",
              "      <td>NaN</td>\n",
              "    </tr>\n",
              "    <tr>\n",
              "      <th>2</th>\n",
              "      <td>한국전력</td>\n",
              "      <td>가락시장</td>\n",
              "      <td>DC차데모+AC3상+DC콤보</td>\n",
              "      <td>송파구</td>\n",
              "      <td>서울특별시 송파구 양재대로 932</td>\n",
              "      <td>주중/주말 : 24시간</td>\n",
              "      <td>NaN</td>\n",
              "      <td>NaN</td>\n",
              "      <td>가락1동</td>\n",
              "      <td>NaN</td>\n",
              "      <td>NaN</td>\n",
              "      <td>NaN</td>\n",
              "      <td>NaN</td>\n",
              "    </tr>\n",
              "    <tr>\n",
              "      <th>3</th>\n",
              "      <td>한국전력</td>\n",
              "      <td>가락시장</td>\n",
              "      <td>DC차데모+AC3상+DC콤보</td>\n",
              "      <td>송파구</td>\n",
              "      <td>서울특별시 송파구 양재대로 932</td>\n",
              "      <td>주중/주말 : 24시간</td>\n",
              "      <td>NaN</td>\n",
              "      <td>NaN</td>\n",
              "      <td>가락1동</td>\n",
              "      <td>NaN</td>\n",
              "      <td>NaN</td>\n",
              "      <td>NaN</td>\n",
              "      <td>NaN</td>\n",
              "    </tr>\n",
              "    <tr>\n",
              "      <th>4</th>\n",
              "      <td>한국전력</td>\n",
              "      <td>가락시장</td>\n",
              "      <td>DC차데모+AC3상+DC콤보</td>\n",
              "      <td>송파구</td>\n",
              "      <td>서울특별시 송파구 양재대로 932</td>\n",
              "      <td>주중/주말 : 24시간</td>\n",
              "      <td>NaN</td>\n",
              "      <td>NaN</td>\n",
              "      <td>가락1동</td>\n",
              "      <td>NaN</td>\n",
              "      <td>NaN</td>\n",
              "      <td>NaN</td>\n",
              "      <td>NaN</td>\n",
              "    </tr>\n",
              "  </tbody>\n",
              "</table>\n",
              "</div>"
            ],
            "text/plain": [
              "             운영기관   충전소               타입   시군구  ... 충전기 ID   지역   제한  NaN\n",
              "0  환경부(한국자동차환경협회)  가락시장             DC콤보  송파구   ...    NaN  NaN  NaN  NaN\n",
              "1  환경부(한국자동차환경협회)  가락시장             DC콤보  송파구   ...    NaN  NaN  NaN  NaN\n",
              "2            한국전력  가락시장  DC차데모+AC3상+DC콤보  송파구   ...    NaN  NaN  NaN  NaN\n",
              "3            한국전력  가락시장  DC차데모+AC3상+DC콤보  송파구   ...    NaN  NaN  NaN  NaN\n",
              "4            한국전력  가락시장  DC차데모+AC3상+DC콤보  송파구   ...    NaN  NaN  NaN  NaN\n",
              "\n",
              "[5 rows x 13 columns]"
            ]
          },
          "metadata": {},
          "execution_count": 91
        }
      ]
    },
    {
      "cell_type": "code",
      "metadata": {
        "id": "i4f-s07ITM27"
      },
      "source": [
        "# 지역과 충전기 아이디는 상관이 없는데, 제한은 중요한 column입니다.\n",
        "# 제한이 마지막 column에 배치되었다는 것은 제한이라는 colunmn이 없는 df가 있었다는 겁니다.\n",
        "# 확인해보니 10개 구의 데이터를 조사했던 'hangjungdong.xlsx'파일에 제한이 빠져있었습니다... ㅠ\n",
        "# 다시 제한을 살려야겠습니다..."
      ],
      "execution_count": 42,
      "outputs": []
    },
    {
      "cell_type": "code",
      "metadata": {
        "id": "fkITS3XLZtbw"
      },
      "source": [
        "# 'hangjungdong.xlsx' 파일에 있는 데이터는 아래 10개 구에 해당하는 데이터입니다.\n",
        "# 성동구 성북구 송파구 양천구 영등포구 용산구 은평구 종로구 중구 중랑구\n",
        "# seoul_list에서 위에 있는 구를 빼낸뒤 'chargedf1.xlsx'에서 동 column을 매칭 시켜야겠습니다. "
      ],
      "execution_count": 43,
      "outputs": []
    },
    {
      "cell_type": "code",
      "metadata": {
        "id": "FYwDgiQPeFBJ"
      },
      "source": [
        "df = pd.read_excel(\"seoul_list.xlsx\")"
      ],
      "execution_count": 92,
      "outputs": []
    },
    {
      "cell_type": "code",
      "metadata": {
        "id": "5ZyQH3SaPVJp"
      },
      "source": [
        "gulist = ['성북구 ', '송파구 ','양천구 ', '영등포구 ', '용산구 ','은평구 ','종로구 ','중구 ','중랑구 ']  \n",
        "# 먼저 gudf라는 df를 만들어야하는데, 데이터프레임을 df에서 그대로 가져옵니다.\n",
        "idx = df[df['시군구'] != \"성동구 \"].index\n",
        "gudf = df.drop(idx)\n",
        "# for문을 돌려 나머지 9개구의 데이터도 받아옵니다.\n",
        "for i in range(0,len(gulist)):\n",
        "  idx = df[df['시군구'] != str(gulist[i])].index\n",
        "  a = df.drop(idx)\n",
        "  gudf = pd.concat([gudf,a], ignore_index = True)"
      ],
      "execution_count": 93,
      "outputs": []
    },
    {
      "cell_type": "code",
      "metadata": {
        "colab": {
          "base_uri": "https://localhost:8080/"
        },
        "id": "9c7mz5pQeDP8",
        "outputId": "12519afa-41c5-47d6-eae4-77825a799a48"
      },
      "source": [
        "gudf[\"시군구\"].value_counts()\n",
        "#10개 구가 잘 추출되었네요!"
      ],
      "execution_count": 94,
      "outputs": [
        {
          "output_type": "execute_result",
          "data": {
            "text/plain": [
              "송파구      772\n",
              "성동구      544\n",
              "성북구      509\n",
              "영등포구     505\n",
              "양천구      473\n",
              "은평구      415\n",
              "중랑구      391\n",
              "용산구      386\n",
              "중구       332\n",
              "종로구      239\n",
              "Name: 시군구, dtype: int64"
            ]
          },
          "metadata": {},
          "execution_count": 94
        }
      ]
    },
    {
      "cell_type": "code",
      "metadata": {
        "colab": {
          "base_uri": "https://localhost:8080/"
        },
        "id": "xsnTciauiv3W",
        "outputId": "03be025d-b0e3-432a-dab2-92d07337ebfc"
      },
      "source": [
        "gudf['Unnamed: 13'].isnull().sum()\n",
        "# 609개의 null값이 존재하네요"
      ],
      "execution_count": 95,
      "outputs": [
        {
          "output_type": "execute_result",
          "data": {
            "text/plain": [
              "609"
            ]
          },
          "metadata": {},
          "execution_count": 95
        }
      ]
    },
    {
      "cell_type": "code",
      "metadata": {
        "id": "tKFYABBgqn7k"
      },
      "source": [
        "# 나중에 나온결과와 비교하기 위해 gudf를 copy해줍니다.\n",
        "origingudf = gudf.copy()"
      ],
      "execution_count": 96,
      "outputs": []
    },
    {
      "cell_type": "code",
      "metadata": {
        "colab": {
          "base_uri": "https://localhost:8080/",
          "height": 114
        },
        "id": "xjTLLaeai6UB",
        "outputId": "d98963f2-30dc-4e3a-c1a2-d757de9aca34"
      },
      "source": [
        "df1.head(1)"
      ],
      "execution_count": 97,
      "outputs": [
        {
          "output_type": "execute_result",
          "data": {
            "text/html": [
              "<div>\n",
              "<style scoped>\n",
              "    .dataframe tbody tr th:only-of-type {\n",
              "        vertical-align: middle;\n",
              "    }\n",
              "\n",
              "    .dataframe tbody tr th {\n",
              "        vertical-align: top;\n",
              "    }\n",
              "\n",
              "    .dataframe thead th {\n",
              "        text-align: right;\n",
              "    }\n",
              "</style>\n",
              "<table border=\"1\" class=\"dataframe\">\n",
              "  <thead>\n",
              "    <tr style=\"text-align: right;\">\n",
              "      <th></th>\n",
              "      <th>운영기관</th>\n",
              "      <th>충전소</th>\n",
              "      <th>타입</th>\n",
              "      <th>시군구</th>\n",
              "      <th>주소</th>\n",
              "      <th>이용가능시간</th>\n",
              "      <th>종류</th>\n",
              "      <th>비고</th>\n",
              "      <th>dong</th>\n",
              "    </tr>\n",
              "  </thead>\n",
              "  <tbody>\n",
              "    <tr>\n",
              "      <th>0</th>\n",
              "      <td>환경부(한국자동차환경협회)</td>\n",
              "      <td>가락시장</td>\n",
              "      <td>DC콤보</td>\n",
              "      <td>송파구</td>\n",
              "      <td>서울특별시 송파구 양재대로 932</td>\n",
              "      <td>24시간 이용가능</td>\n",
              "      <td>급속(100kW단독)</td>\n",
              "      <td>15분무료 / 2시간1000원 /이후 10분당 500원</td>\n",
              "      <td>가락1동</td>\n",
              "    </tr>\n",
              "  </tbody>\n",
              "</table>\n",
              "</div>"
            ],
            "text/plain": [
              "             운영기관   충전소  ...                              비고  dong\n",
              "0  환경부(한국자동차환경협회)  가락시장  ...  15분무료 / 2시간1000원 /이후 10분당 500원  가락1동\n",
              "\n",
              "[1 rows x 9 columns]"
            ]
          },
          "metadata": {},
          "execution_count": 97
        }
      ]
    },
    {
      "cell_type": "code",
      "metadata": {
        "colab": {
          "base_uri": "https://localhost:8080/",
          "height": 203
        },
        "id": "2ezEQPNfjh3B",
        "outputId": "fb16e5c4-4313-48c7-c65c-b12dcf056095"
      },
      "source": [
        "#주소만 따로 저장해서 주소를 dong으로 바꿀것입니다. \n",
        "#주소 칼럼은 필요없는 데이터이며, 두 데이터에서 같은 데이터인지 비교할때 주소가 기준이되기 때문입니다.\n",
        "\n",
        "agudf = gudf[\"주소\"]\n",
        "agudf = pd.DataFrame(agudf)\n",
        "agudf.head()"
      ],
      "execution_count": 50,
      "outputs": [
        {
          "output_type": "execute_result",
          "data": {
            "text/html": [
              "<div>\n",
              "<style scoped>\n",
              "    .dataframe tbody tr th:only-of-type {\n",
              "        vertical-align: middle;\n",
              "    }\n",
              "\n",
              "    .dataframe tbody tr th {\n",
              "        vertical-align: top;\n",
              "    }\n",
              "\n",
              "    .dataframe thead th {\n",
              "        text-align: right;\n",
              "    }\n",
              "</style>\n",
              "<table border=\"1\" class=\"dataframe\">\n",
              "  <thead>\n",
              "    <tr style=\"text-align: right;\">\n",
              "      <th></th>\n",
              "      <th>주소</th>\n",
              "    </tr>\n",
              "  </thead>\n",
              "  <tbody>\n",
              "    <tr>\n",
              "      <th>0</th>\n",
              "      <td>서울특별시 성동구 둘레길 47-5</td>\n",
              "    </tr>\n",
              "    <tr>\n",
              "      <th>1</th>\n",
              "      <td>서울특별시 성동구 둘레길 47-5</td>\n",
              "    </tr>\n",
              "    <tr>\n",
              "      <th>2</th>\n",
              "      <td>서울특별시 성동구 마장동 808(마장동 808)</td>\n",
              "    </tr>\n",
              "    <tr>\n",
              "      <th>3</th>\n",
              "      <td>서울특별시 성동구 고산자로 26길 6</td>\n",
              "    </tr>\n",
              "    <tr>\n",
              "      <th>4</th>\n",
              "      <td>서울특별시 성동구 고산자로 26길 6</td>\n",
              "    </tr>\n",
              "  </tbody>\n",
              "</table>\n",
              "</div>"
            ],
            "text/plain": [
              "                           주소\n",
              "0          서울특별시 성동구 둘레길 47-5\n",
              "1          서울특별시 성동구 둘레길 47-5\n",
              "2  서울특별시 성동구 마장동 808(마장동 808)\n",
              "3        서울특별시 성동구 고산자로 26길 6\n",
              "4        서울특별시 성동구 고산자로 26길 6"
            ]
          },
          "metadata": {},
          "execution_count": 50
        }
      ]
    },
    {
      "cell_type": "code",
      "metadata": {
        "colab": {
          "base_uri": "https://localhost:8080/",
          "height": 203
        },
        "id": "NcxTWqpNfJIB",
        "outputId": "733c04a8-d747-4cd3-b13e-30834df71548"
      },
      "source": [
        "#이제 매칭을 해보겠습니다.\n",
        "\n",
        "for i in range(0,len(df1)):\n",
        "  a = df1['주소'][i]\n",
        "  b = df1['dong'][i]\n",
        "  agudf[(agudf['주소'] == str(a))] = b\n",
        "agudf.head()"
      ],
      "execution_count": 98,
      "outputs": [
        {
          "output_type": "execute_result",
          "data": {
            "text/html": [
              "<div>\n",
              "<style scoped>\n",
              "    .dataframe tbody tr th:only-of-type {\n",
              "        vertical-align: middle;\n",
              "    }\n",
              "\n",
              "    .dataframe tbody tr th {\n",
              "        vertical-align: top;\n",
              "    }\n",
              "\n",
              "    .dataframe thead th {\n",
              "        text-align: right;\n",
              "    }\n",
              "</style>\n",
              "<table border=\"1\" class=\"dataframe\">\n",
              "  <thead>\n",
              "    <tr style=\"text-align: right;\">\n",
              "      <th></th>\n",
              "      <th>주소</th>\n",
              "    </tr>\n",
              "  </thead>\n",
              "  <tbody>\n",
              "    <tr>\n",
              "      <th>0</th>\n",
              "      <td>성수1가1동</td>\n",
              "    </tr>\n",
              "    <tr>\n",
              "      <th>1</th>\n",
              "      <td>성수1가1동</td>\n",
              "    </tr>\n",
              "    <tr>\n",
              "      <th>2</th>\n",
              "      <td>마장동</td>\n",
              "    </tr>\n",
              "    <tr>\n",
              "      <th>3</th>\n",
              "      <td>마장동</td>\n",
              "    </tr>\n",
              "    <tr>\n",
              "      <th>4</th>\n",
              "      <td>마장동</td>\n",
              "    </tr>\n",
              "  </tbody>\n",
              "</table>\n",
              "</div>"
            ],
            "text/plain": [
              "       주소\n",
              "0  성수1가1동\n",
              "1  성수1가1동\n",
              "2     마장동\n",
              "3     마장동\n",
              "4     마장동"
            ]
          },
          "metadata": {},
          "execution_count": 98
        }
      ]
    },
    {
      "cell_type": "code",
      "metadata": {
        "colab": {
          "base_uri": "https://localhost:8080/",
          "height": 405
        },
        "id": "ZQ6I11ICi5nZ",
        "outputId": "772e3a49-c667-4abd-cb00-606eaee155b3"
      },
      "source": [
        "# agudf를 gudf에 붙여줍니다.\n",
        "gudf['Unnamed: 13'] = agudf['주소']\n",
        "gudf.head()"
      ],
      "execution_count": 99,
      "outputs": [
        {
          "output_type": "execute_result",
          "data": {
            "text/html": [
              "<div>\n",
              "<style scoped>\n",
              "    .dataframe tbody tr th:only-of-type {\n",
              "        vertical-align: middle;\n",
              "    }\n",
              "\n",
              "    .dataframe tbody tr th {\n",
              "        vertical-align: top;\n",
              "    }\n",
              "\n",
              "    .dataframe thead th {\n",
              "        text-align: right;\n",
              "    }\n",
              "</style>\n",
              "<table border=\"1\" class=\"dataframe\">\n",
              "  <thead>\n",
              "    <tr style=\"text-align: right;\">\n",
              "      <th></th>\n",
              "      <th>Unnamed: 0</th>\n",
              "      <th>운영기관</th>\n",
              "      <th>충전소</th>\n",
              "      <th>충전기 ID</th>\n",
              "      <th>타입</th>\n",
              "      <th>지역</th>\n",
              "      <th>시군구</th>\n",
              "      <th>주소</th>\n",
              "      <th>이용가능시간</th>\n",
              "      <th>제한</th>\n",
              "      <th>종류</th>\n",
              "      <th>비고</th>\n",
              "      <th>NaN</th>\n",
              "      <th>Unnamed: 13</th>\n",
              "    </tr>\n",
              "  </thead>\n",
              "  <tbody>\n",
              "    <tr>\n",
              "      <th>0</th>\n",
              "      <td>164</td>\n",
              "      <td>환경부(한국자동차환경협회)</td>\n",
              "      <td>강변 공영주차장</td>\n",
              "      <td>21</td>\n",
              "      <td>DC콤보</td>\n",
              "      <td>서울특별시</td>\n",
              "      <td>성동구</td>\n",
              "      <td>서울특별시 성동구 둘레길 47-5</td>\n",
              "      <td>24시간 이용가능</td>\n",
              "      <td>NaN</td>\n",
              "      <td>급속(200kW동시)</td>\n",
              "      <td>5분당 100원 저공해차량 50% 할인</td>\n",
              "      <td>[1] 행정동 명칭</td>\n",
              "      <td>성수1가1동</td>\n",
              "    </tr>\n",
              "    <tr>\n",
              "      <th>1</th>\n",
              "      <td>165</td>\n",
              "      <td>환경부(한국자동차환경협회)</td>\n",
              "      <td>강변 공영주차장</td>\n",
              "      <td>22</td>\n",
              "      <td>DC콤보</td>\n",
              "      <td>서울특별시</td>\n",
              "      <td>성동구</td>\n",
              "      <td>서울특별시 성동구 둘레길 47-5</td>\n",
              "      <td>24시간 이용가능</td>\n",
              "      <td>NaN</td>\n",
              "      <td>급속(200kW동시)</td>\n",
              "      <td>5분당 100원 저공해차량 50% 할인</td>\n",
              "      <td>[1] 행정동 명칭</td>\n",
              "      <td>성수1가1동</td>\n",
              "    </tr>\n",
              "    <tr>\n",
              "      <th>2</th>\n",
              "      <td>1731</td>\n",
              "      <td>환경부(한국자동차환경협회)</td>\n",
              "      <td>마장동사무소 앞(공중전화부스)</td>\n",
              "      <td>1</td>\n",
              "      <td>DC차데모+AC3상+DC콤보</td>\n",
              "      <td>서울특별시</td>\n",
              "      <td>성동구</td>\n",
              "      <td>서울특별시 성동구 마장동 808(마장동 808)</td>\n",
              "      <td>24시간 이용가능</td>\n",
              "      <td>NaN</td>\n",
              "      <td>급속(50kW)</td>\n",
              "      <td>NaN</td>\n",
              "      <td>[1] 행정동 명칭</td>\n",
              "      <td>마장동</td>\n",
              "    </tr>\n",
              "    <tr>\n",
              "      <th>3</th>\n",
              "      <td>1733</td>\n",
              "      <td>환경부(한국자동차환경협회)</td>\n",
              "      <td>마장축산물시장 서문 공영주차장</td>\n",
              "      <td>11</td>\n",
              "      <td>DC콤보</td>\n",
              "      <td>서울특별시</td>\n",
              "      <td>성동구</td>\n",
              "      <td>서울특별시 성동구 고산자로 26길 6</td>\n",
              "      <td>24시간 이용가능</td>\n",
              "      <td>NaN</td>\n",
              "      <td>급속(200kW동시)</td>\n",
              "      <td>1시간 무료 친환경차 50% 감면</td>\n",
              "      <td>[1] 행정동 명칭</td>\n",
              "      <td>마장동</td>\n",
              "    </tr>\n",
              "    <tr>\n",
              "      <th>4</th>\n",
              "      <td>1734</td>\n",
              "      <td>환경부(한국자동차환경협회)</td>\n",
              "      <td>마장축산물시장 서문 공영주차장</td>\n",
              "      <td>12</td>\n",
              "      <td>DC콤보</td>\n",
              "      <td>서울특별시</td>\n",
              "      <td>성동구</td>\n",
              "      <td>서울특별시 성동구 고산자로 26길 6</td>\n",
              "      <td>24시간 이용가능</td>\n",
              "      <td>NaN</td>\n",
              "      <td>급속(200kW동시)</td>\n",
              "      <td>1시간 무료 친환경차 50% 감면</td>\n",
              "      <td>[1] 행정동 명칭</td>\n",
              "      <td>마장동</td>\n",
              "    </tr>\n",
              "  </tbody>\n",
              "</table>\n",
              "</div>"
            ],
            "text/plain": [
              "   Unnamed: 0            운영기관  ...         NaN  Unnamed: 13\n",
              "0         164  환경부(한국자동차환경협회)  ...  [1] 행정동 명칭       성수1가1동\n",
              "1         165  환경부(한국자동차환경협회)  ...  [1] 행정동 명칭       성수1가1동\n",
              "2        1731  환경부(한국자동차환경협회)  ...  [1] 행정동 명칭          마장동\n",
              "3        1733  환경부(한국자동차환경협회)  ...  [1] 행정동 명칭          마장동\n",
              "4        1734  환경부(한국자동차환경협회)  ...  [1] 행정동 명칭          마장동\n",
              "\n",
              "[5 rows x 14 columns]"
            ]
          },
          "metadata": {},
          "execution_count": 99
        }
      ]
    },
    {
      "cell_type": "code",
      "metadata": {
        "id": "ngDylbzpfJLb"
      },
      "source": [
        "#잘 되었는지 확인해봅시다.\n",
        "# 우선 'Unnamed: 13'부터 이름을 바꿔줍시다.\n",
        "gudf = gudf.rename(columns={'Unnamed: 13' : 'dong'})\n",
        "origingudf = origingudf.rename(columns = {'Unnamed: 13' : 'dong'})"
      ],
      "execution_count": 100,
      "outputs": []
    },
    {
      "cell_type": "code",
      "metadata": {
        "colab": {
          "base_uri": "https://localhost:8080/"
        },
        "id": "JBA7UXsMnuav",
        "outputId": "6da3dcaa-a03b-44db-f0b5-23fd2e2d8412"
      },
      "source": [
        "# gudf에 null값이 없이 잘 매칭 되었네요\n",
        "gudf['dong'].isnull().sum()"
      ],
      "execution_count": 101,
      "outputs": [
        {
          "output_type": "execute_result",
          "data": {
            "text/plain": [
              "0"
            ]
          },
          "metadata": {},
          "execution_count": 101
        }
      ]
    },
    {
      "cell_type": "code",
      "metadata": {
        "colab": {
          "base_uri": "https://localhost:8080/"
        },
        "id": "ibW3u39qp_s1",
        "outputId": "5696d5f0-236a-4092-b0db-6defc8569da8"
      },
      "source": [
        "origingudf['dong'].isnull().sum()"
      ],
      "execution_count": 102,
      "outputs": [
        {
          "output_type": "execute_result",
          "data": {
            "text/plain": [
              "609"
            ]
          },
          "metadata": {},
          "execution_count": 102
        }
      ]
    },
    {
      "cell_type": "code",
      "metadata": {
        "colab": {
          "base_uri": "https://localhost:8080/"
        },
        "id": "lzHFrLScrJA3",
        "outputId": "fdef8958-18b0-4c25-c0fb-44c6b840b4e4"
      },
      "source": [
        "# gudf와 origingudf에서 일치하지 않는 값이 null값들 밖에 없다면 잘 정리된것입니다.\n",
        "# 결과를 보니 잘 정리되었네요!\n",
        "a = gudf[gudf['dong'] != origingudf['dong']].index\n",
        "print(len(a))"
      ],
      "execution_count": 103,
      "outputs": [
        {
          "output_type": "stream",
          "name": "stdout",
          "text": [
            "609\n"
          ]
        }
      ]
    },
    {
      "cell_type": "code",
      "metadata": {
        "colab": {
          "base_uri": "https://localhost:8080/",
          "height": 114
        },
        "id": "eSYWDQscrJEQ",
        "outputId": "67f80687-98a4-4bb6-ee74-dadecf6d5733"
      },
      "source": [
        "gudf.head(1)"
      ],
      "execution_count": 104,
      "outputs": [
        {
          "output_type": "execute_result",
          "data": {
            "text/html": [
              "<div>\n",
              "<style scoped>\n",
              "    .dataframe tbody tr th:only-of-type {\n",
              "        vertical-align: middle;\n",
              "    }\n",
              "\n",
              "    .dataframe tbody tr th {\n",
              "        vertical-align: top;\n",
              "    }\n",
              "\n",
              "    .dataframe thead th {\n",
              "        text-align: right;\n",
              "    }\n",
              "</style>\n",
              "<table border=\"1\" class=\"dataframe\">\n",
              "  <thead>\n",
              "    <tr style=\"text-align: right;\">\n",
              "      <th></th>\n",
              "      <th>Unnamed: 0</th>\n",
              "      <th>운영기관</th>\n",
              "      <th>충전소</th>\n",
              "      <th>충전기 ID</th>\n",
              "      <th>타입</th>\n",
              "      <th>지역</th>\n",
              "      <th>시군구</th>\n",
              "      <th>주소</th>\n",
              "      <th>이용가능시간</th>\n",
              "      <th>제한</th>\n",
              "      <th>종류</th>\n",
              "      <th>비고</th>\n",
              "      <th>NaN</th>\n",
              "      <th>dong</th>\n",
              "    </tr>\n",
              "  </thead>\n",
              "  <tbody>\n",
              "    <tr>\n",
              "      <th>0</th>\n",
              "      <td>164</td>\n",
              "      <td>환경부(한국자동차환경협회)</td>\n",
              "      <td>강변 공영주차장</td>\n",
              "      <td>21</td>\n",
              "      <td>DC콤보</td>\n",
              "      <td>서울특별시</td>\n",
              "      <td>성동구</td>\n",
              "      <td>서울특별시 성동구 둘레길 47-5</td>\n",
              "      <td>24시간 이용가능</td>\n",
              "      <td>NaN</td>\n",
              "      <td>급속(200kW동시)</td>\n",
              "      <td>5분당 100원 저공해차량 50% 할인</td>\n",
              "      <td>[1] 행정동 명칭</td>\n",
              "      <td>성수1가1동</td>\n",
              "    </tr>\n",
              "  </tbody>\n",
              "</table>\n",
              "</div>"
            ],
            "text/plain": [
              "   Unnamed: 0            운영기관  ...         NaN    dong\n",
              "0         164  환경부(한국자동차환경협회)  ...  [1] 행정동 명칭  성수1가1동\n",
              "\n",
              "[1 rows x 14 columns]"
            ]
          },
          "metadata": {},
          "execution_count": 104
        }
      ]
    },
    {
      "cell_type": "code",
      "metadata": {
        "colab": {
          "base_uri": "https://localhost:8080/"
        },
        "id": "dPPoWDmxp_wV",
        "outputId": "0dd6be0f-5241-4087-e56f-2b18ea2d5202"
      },
      "source": [
        "gudf.info"
      ],
      "execution_count": 105,
      "outputs": [
        {
          "output_type": "execute_result",
          "data": {
            "text/plain": [
              "<bound method DataFrame.info of       Unnamed: 0            운영기관  ...         NaN    dong\n",
              "0            164  환경부(한국자동차환경협회)  ...  [1] 행정동 명칭  성수1가1동\n",
              "1            165  환경부(한국자동차환경협회)  ...  [1] 행정동 명칭  성수1가1동\n",
              "2           1731  환경부(한국자동차환경협회)  ...  [1] 행정동 명칭     마장동\n",
              "3           1733  환경부(한국자동차환경협회)  ...  [1] 행정동 명칭     마장동\n",
              "4           1734  환경부(한국자동차환경협회)  ...  [1] 행정동 명칭     마장동\n",
              "...          ...             ...  ...         ...     ...\n",
              "4561       80137         서울에너지공사  ...  [1] 행정동 명칭    망우본동\n",
              "4562       80169         서울에너지공사  ...  [1] 행정동 명칭    신내2동\n",
              "4563       80170         서울에너지공사  ...  [1] 행정동 명칭    신내2동\n",
              "4564       80171         서울에너지공사  ...  [1] 행정동 명칭    중화1동\n",
              "4565       80295              기타  ...  [1] 행정동 명칭    중화2동\n",
              "\n",
              "[4566 rows x 14 columns]>"
            ]
          },
          "metadata": {},
          "execution_count": 105
        }
      ]
    },
    {
      "cell_type": "code",
      "metadata": {
        "colab": {
          "base_uri": "https://localhost:8080/"
        },
        "id": "scsT6Fkdrylw",
        "outputId": "fb766fc4-0f65-42fd-a2b2-67c790f9b507"
      },
      "source": [
        "l"
      ],
      "execution_count": 106,
      "outputs": [
        {
          "output_type": "execute_result",
          "data": {
            "text/plain": [
              "4141"
            ]
          },
          "metadata": {},
          "execution_count": 106
        }
      ]
    },
    {
      "cell_type": "code",
      "metadata": {
        "id": "spKTKou6sWnw"
      },
      "source": [
        "# 이제 합쳐줍시다.\n",
        "fdf = pd.concat([gudf, df2, df3], ignore_index=True)"
      ],
      "execution_count": 107,
      "outputs": []
    },
    {
      "cell_type": "code",
      "metadata": {
        "colab": {
          "base_uri": "https://localhost:8080/"
        },
        "id": "jJLh1WurszrJ",
        "outputId": "51e54fab-52b9-446f-9339-4bc8adf72fcc"
      },
      "source": [
        "fdf.info"
      ],
      "execution_count": 108,
      "outputs": [
        {
          "output_type": "execute_result",
          "data": {
            "text/plain": [
              "<bound method DataFrame.info of        Unnamed: 0            운영기관  ...         NaN    dong\n",
              "0           164.0  환경부(한국자동차환경협회)  ...  [1] 행정동 명칭  성수1가1동\n",
              "1           165.0  환경부(한국자동차환경협회)  ...  [1] 행정동 명칭  성수1가1동\n",
              "2          1731.0  환경부(한국자동차환경협회)  ...  [1] 행정동 명칭     마장동\n",
              "3          1733.0  환경부(한국자동차환경협회)  ...  [1] 행정동 명칭     마장동\n",
              "4          1734.0  환경부(한국자동차환경협회)  ...  [1] 행정동 명칭     마장동\n",
              "...           ...             ...  ...         ...     ...\n",
              "11066         NaN      한국전기차인프라기술  ...  [1] 행정동 명칭     NaN\n",
              "11067         NaN      한국전기차인프라기술  ...  [1] 행정동 명칭     NaN\n",
              "11068         NaN      한국전기차인프라기술  ...  [1] 행정동 명칭     NaN\n",
              "11069         NaN      한국전기차인프라기술  ...  [1] 행정동 명칭     NaN\n",
              "11070         NaN         서울에너지공사  ...  [1] 행정동 명칭     NaN\n",
              "\n",
              "[11071 rows x 14 columns]>"
            ]
          },
          "metadata": {},
          "execution_count": 108
        }
      ]
    },
    {
      "cell_type": "code",
      "metadata": {
        "colab": {
          "base_uri": "https://localhost:8080/"
        },
        "id": "y8W0fuSBszwn",
        "outputId": "461c5edc-5e28-4017-b6b6-125eb4576cad"
      },
      "source": [
        "df.info"
      ],
      "execution_count": 109,
      "outputs": [
        {
          "output_type": "execute_result",
          "data": {
            "text/plain": [
              "<bound method DataFrame.info of        Unnamed: 0            운영기관  ...         NaN  Unnamed: 13\n",
              "0              23  환경부(한국자동차환경협회)  ...  [1] 행정동 명칭          상암동\n",
              "1              47  환경부(한국자동차환경협회)  ...  [1] 행정동 명칭          상암동\n",
              "2              48  환경부(한국자동차환경협회)  ...  [1] 행정동 명칭          상암동\n",
              "3              52  환경부(한국자동차환경협회)  ...  [1] 행정동 명칭         대치2동\n",
              "4              67  환경부(한국자동차환경협회)  ...  [1] 행정동 명칭         일원2동\n",
              "...           ...             ...  ...         ...          ...\n",
              "11071       80571              기타  ...  [1] 행정동 명칭         월곡1동\n",
              "11072       80572              기타  ...  [1] 행정동 명칭         월곡1동\n",
              "11073       80573              기타  ...  [1] 행정동 명칭         월곡1동\n",
              "11074       80574              기타  ...  [1] 행정동 명칭         월곡1동\n",
              "11075       80575              기타  ...  [1] 행정동 명칭         월곡1동\n",
              "\n",
              "[11076 rows x 14 columns]>"
            ]
          },
          "metadata": {},
          "execution_count": 109
        }
      ]
    },
    {
      "cell_type": "code",
      "metadata": {
        "colab": {
          "base_uri": "https://localhost:8080/"
        },
        "id": "CNAGLGBAwQs9",
        "outputId": "6ebf00dc-2010-4a21-ddde-9c9a6f5cc75f"
      },
      "source": [
        "# 5개가 차이나네요, 혹시 null값이 있는 지 확인해봅시다\n",
        "df['시군구'].isnull().sum()\n",
        "#정확히 5개의 눌값이 존재했군요.."
      ],
      "execution_count": 110,
      "outputs": [
        {
          "output_type": "execute_result",
          "data": {
            "text/plain": [
              "5"
            ]
          },
          "metadata": {},
          "execution_count": 110
        }
      ]
    },
    {
      "cell_type": "code",
      "metadata": {
        "colab": {
          "base_uri": "https://localhost:8080/",
          "height": 318
        },
        "id": "Re1v9gZTsz0G",
        "outputId": "c15ca6bd-986d-497f-f7dc-4d1cb7975bb9"
      },
      "source": [
        "#데이터 프레임을 기존과 같이 만들어준다.\n",
        "idx = df[df['시군구'].isnull()].index\n",
        "nulldf = pd.DataFrame(df.iloc[0:1])\n",
        "nulldf.head()\n",
        "# 만들어진 프레임에 null값에 해당하는 data들을 받고 확인한다.\n",
        "for i in idx:\n",
        "  a = df.iloc[i]\n",
        "  a = pd.concat([nulldf, a],ignore_index= True)\n",
        "a.head(6)\n",
        "\n",
        "# 확인결과 시군구 데이터만 누락된게 아니였다.\n",
        "# 이 5개의 데이터는 누락시키겠다.\n"
      ],
      "execution_count": 121,
      "outputs": [
        {
          "output_type": "execute_result",
          "data": {
            "text/html": [
              "<div>\n",
              "<style scoped>\n",
              "    .dataframe tbody tr th:only-of-type {\n",
              "        vertical-align: middle;\n",
              "    }\n",
              "\n",
              "    .dataframe tbody tr th {\n",
              "        vertical-align: top;\n",
              "    }\n",
              "\n",
              "    .dataframe thead th {\n",
              "        text-align: right;\n",
              "    }\n",
              "</style>\n",
              "<table border=\"1\" class=\"dataframe\">\n",
              "  <thead>\n",
              "    <tr style=\"text-align: right;\">\n",
              "      <th></th>\n",
              "      <th>NaN</th>\n",
              "      <th>0</th>\n",
              "      <th>Unnamed: 0</th>\n",
              "      <th>Unnamed: 13</th>\n",
              "      <th>비고</th>\n",
              "      <th>시군구</th>\n",
              "      <th>운영기관</th>\n",
              "      <th>이용가능시간</th>\n",
              "      <th>제한</th>\n",
              "      <th>종류</th>\n",
              "      <th>주소</th>\n",
              "      <th>지역</th>\n",
              "      <th>충전기 ID</th>\n",
              "      <th>충전소</th>\n",
              "      <th>타입</th>\n",
              "    </tr>\n",
              "  </thead>\n",
              "  <tbody>\n",
              "    <tr>\n",
              "      <th>0</th>\n",
              "      <td>[1] 행정동 명칭</td>\n",
              "      <td>NaN</td>\n",
              "      <td>23.0</td>\n",
              "      <td>상암동</td>\n",
              "      <td>10분/500원</td>\n",
              "      <td>마포구</td>\n",
              "      <td>환경부(한국자동차환경협회)</td>\n",
              "      <td>24시간 이용가능</td>\n",
              "      <td>NaN</td>\n",
              "      <td>급속(100kW멀티)</td>\n",
              "      <td>서울특별시 마포구 매봉산로 37</td>\n",
              "      <td>서울특별시</td>\n",
              "      <td>1.0</td>\n",
              "      <td>DMC 산학협력연구센터</td>\n",
              "      <td>DC차데모+AC3상+DC콤보</td>\n",
              "    </tr>\n",
              "    <tr>\n",
              "      <th>1</th>\n",
              "      <td>NaN</td>\n",
              "      <td>21247</td>\n",
              "      <td>NaN</td>\n",
              "      <td>NaN</td>\n",
              "      <td>NaN</td>\n",
              "      <td>NaN</td>\n",
              "      <td>NaN</td>\n",
              "      <td>NaN</td>\n",
              "      <td>NaN</td>\n",
              "      <td>NaN</td>\n",
              "      <td>NaN</td>\n",
              "      <td>NaN</td>\n",
              "      <td>NaN</td>\n",
              "      <td>NaN</td>\n",
              "      <td>NaN</td>\n",
              "    </tr>\n",
              "    <tr>\n",
              "      <th>2</th>\n",
              "      <td>NaN</td>\n",
              "      <td>한국전기차충전서비스</td>\n",
              "      <td>NaN</td>\n",
              "      <td>NaN</td>\n",
              "      <td>NaN</td>\n",
              "      <td>NaN</td>\n",
              "      <td>NaN</td>\n",
              "      <td>NaN</td>\n",
              "      <td>NaN</td>\n",
              "      <td>NaN</td>\n",
              "      <td>NaN</td>\n",
              "      <td>NaN</td>\n",
              "      <td>NaN</td>\n",
              "      <td>NaN</td>\n",
              "      <td>NaN</td>\n",
              "    </tr>\n",
              "    <tr>\n",
              "      <th>3</th>\n",
              "      <td>NaN</td>\n",
              "      <td>한강진역 공영주차장</td>\n",
              "      <td>NaN</td>\n",
              "      <td>NaN</td>\n",
              "      <td>NaN</td>\n",
              "      <td>NaN</td>\n",
              "      <td>NaN</td>\n",
              "      <td>NaN</td>\n",
              "      <td>NaN</td>\n",
              "      <td>NaN</td>\n",
              "      <td>NaN</td>\n",
              "      <td>NaN</td>\n",
              "      <td>NaN</td>\n",
              "      <td>NaN</td>\n",
              "      <td>NaN</td>\n",
              "    </tr>\n",
              "    <tr>\n",
              "      <th>4</th>\n",
              "      <td>NaN</td>\n",
              "      <td>3</td>\n",
              "      <td>NaN</td>\n",
              "      <td>NaN</td>\n",
              "      <td>NaN</td>\n",
              "      <td>NaN</td>\n",
              "      <td>NaN</td>\n",
              "      <td>NaN</td>\n",
              "      <td>NaN</td>\n",
              "      <td>NaN</td>\n",
              "      <td>NaN</td>\n",
              "      <td>NaN</td>\n",
              "      <td>NaN</td>\n",
              "      <td>NaN</td>\n",
              "      <td>NaN</td>\n",
              "    </tr>\n",
              "    <tr>\n",
              "      <th>5</th>\n",
              "      <td>NaN</td>\n",
              "      <td>AC완속</td>\n",
              "      <td>NaN</td>\n",
              "      <td>NaN</td>\n",
              "      <td>NaN</td>\n",
              "      <td>NaN</td>\n",
              "      <td>NaN</td>\n",
              "      <td>NaN</td>\n",
              "      <td>NaN</td>\n",
              "      <td>NaN</td>\n",
              "      <td>NaN</td>\n",
              "      <td>NaN</td>\n",
              "      <td>NaN</td>\n",
              "      <td>NaN</td>\n",
              "      <td>NaN</td>\n",
              "    </tr>\n",
              "  </tbody>\n",
              "</table>\n",
              "</div>"
            ],
            "text/plain": [
              "          NaN           0  Unnamed: 0  ... 충전기 ID           충전소               타입\n",
              "0  [1] 행정동 명칭         NaN        23.0  ...    1.0  DMC 산학협력연구센터  DC차데모+AC3상+DC콤보\n",
              "1         NaN       21247         NaN  ...    NaN           NaN              NaN\n",
              "2         NaN  한국전기차충전서비스         NaN  ...    NaN           NaN              NaN\n",
              "3         NaN  한강진역 공영주차장         NaN  ...    NaN           NaN              NaN\n",
              "4         NaN           3         NaN  ...    NaN           NaN              NaN\n",
              "5         NaN        AC완속         NaN  ...    NaN           NaN              NaN\n",
              "\n",
              "[6 rows x 15 columns]"
            ]
          },
          "metadata": {},
          "execution_count": 121
        }
      ]
    },
    {
      "cell_type": "code",
      "metadata": {
        "id": "-UPcpY5N1W8o"
      },
      "source": [
        "# 최종적으로 fdf를 저장한다.\n",
        "# fdf는 서울시에 있는 전기차 충전소 데이터에 행정동을추가한 데이터이다.\n",
        "fdf.to_excel('seoul_EVstock.xlsx',index=False)"
      ],
      "execution_count": 122,
      "outputs": []
    },
    {
      "cell_type": "code",
      "metadata": {
        "id": "BbNirdjp1XAM"
      },
      "source": [
        ""
      ],
      "execution_count": null,
      "outputs": []
    }
  ]
}