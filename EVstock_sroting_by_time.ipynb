{
  "nbformat": 4,
  "nbformat_minor": 0,
  "metadata": {
    "colab": {
      "name": "EVstock_sroting_by_time.ipynb",
      "provenance": [],
      "collapsed_sections": []
    },
    "kernelspec": {
      "name": "python3",
      "display_name": "Python 3"
    },
    "language_info": {
      "name": "python"
    }
  },
  "cells": [
    {
      "cell_type": "code",
      "metadata": {
        "id": "x_KoXCI82Sid"
      },
      "source": [
        "import pandas as pd\n",
        "\n",
        "df = pd.read_excel('seoul_EVstock.xlsx')"
      ],
      "execution_count": 91,
      "outputs": []
    },
    {
      "cell_type": "code",
      "metadata": {
        "colab": {
          "base_uri": "https://localhost:8080/",
          "height": 147
        },
        "id": "bGEmAWbp2kBx",
        "outputId": "4598a3e8-5de5-4f35-8dc6-8d34f420102a"
      },
      "source": [
        "df.head(1)"
      ],
      "execution_count": 92,
      "outputs": [
        {
          "output_type": "execute_result",
          "data": {
            "text/html": [
              "<div>\n",
              "<style scoped>\n",
              "    .dataframe tbody tr th:only-of-type {\n",
              "        vertical-align: middle;\n",
              "    }\n",
              "\n",
              "    .dataframe tbody tr th {\n",
              "        vertical-align: top;\n",
              "    }\n",
              "\n",
              "    .dataframe thead th {\n",
              "        text-align: right;\n",
              "    }\n",
              "</style>\n",
              "<table border=\"1\" class=\"dataframe\">\n",
              "  <thead>\n",
              "    <tr style=\"text-align: right;\">\n",
              "      <th></th>\n",
              "      <th>Unnamed: 0</th>\n",
              "      <th>운영기관</th>\n",
              "      <th>충전소</th>\n",
              "      <th>충전기 ID</th>\n",
              "      <th>타입</th>\n",
              "      <th>지역</th>\n",
              "      <th>시군구</th>\n",
              "      <th>주소</th>\n",
              "      <th>이용가능시간</th>\n",
              "      <th>제한</th>\n",
              "      <th>종류</th>\n",
              "      <th>비고</th>\n",
              "      <th>Unnamed: 12</th>\n",
              "      <th>dong</th>\n",
              "    </tr>\n",
              "  </thead>\n",
              "  <tbody>\n",
              "    <tr>\n",
              "      <th>0</th>\n",
              "      <td>164.0</td>\n",
              "      <td>환경부(한국자동차환경협회)</td>\n",
              "      <td>강변 공영주차장</td>\n",
              "      <td>21</td>\n",
              "      <td>DC콤보</td>\n",
              "      <td>서울특별시</td>\n",
              "      <td>성동구</td>\n",
              "      <td>서울특별시 성동구 둘레길 47-5</td>\n",
              "      <td>24시간 이용가능</td>\n",
              "      <td>NaN</td>\n",
              "      <td>급속(200kW동시)</td>\n",
              "      <td>5분당 100원 저공해차량 50% 할인</td>\n",
              "      <td>[1] 행정동 명칭</td>\n",
              "      <td>성수1가1동</td>\n",
              "    </tr>\n",
              "  </tbody>\n",
              "</table>\n",
              "</div>"
            ],
            "text/plain": [
              "   Unnamed: 0            운영기관  ... Unnamed: 12    dong\n",
              "0       164.0  환경부(한국자동차환경협회)  ...  [1] 행정동 명칭  성수1가1동\n",
              "\n",
              "[1 rows x 14 columns]"
            ]
          },
          "metadata": {},
          "execution_count": 92
        }
      ]
    },
    {
      "cell_type": "code",
      "metadata": {
        "colab": {
          "base_uri": "https://localhost:8080/"
        },
        "id": "2gNZkb272kEO",
        "outputId": "fb6da1b1-8313-45f3-c0e2-3a47519e0dcc"
      },
      "source": [
        "df['이용가능시간'].value_counts(10)\n",
        "# 대부분이 24시간 이용가능이네요"
      ],
      "execution_count": 93,
      "outputs": [
        {
          "output_type": "execute_result",
          "data": {
            "text/plain": [
              "24시간 이용가능                        0.563651\n",
              "09:00~18:00                      0.165579\n",
              "24시간 이용가능,입주민만 사용가능 거주자외출입제한     0.097205\n",
              "24시간                             0.057953\n",
              "24시간 이용가능,입주민만 사용가능 거주자 외 출입제    0.013928\n",
              "                                   ...   \n",
              "주중/주말 : 06~22시                   0.000097\n",
              "09:00~24:00                      0.000097\n",
              "06:00~12:00                      0.000097\n",
              "주중 09:00~18:00 [주말 이용불가]         0.000097\n",
              "10시~21시                          0.000097\n",
              "Name: 이용가능시간, Length: 117, dtype: float64"
            ]
          },
          "metadata": {},
          "execution_count": 93
        }
      ]
    },
    {
      "cell_type": "code",
      "metadata": {
        "id": "K43y0xww3tsJ"
      },
      "source": [
        "stockdf = df.copy()"
      ],
      "execution_count": 94,
      "outputs": []
    },
    {
      "cell_type": "code",
      "metadata": {
        "colab": {
          "base_uri": "https://localhost:8080/"
        },
        "id": "q-pFbhcJ2kGi",
        "outputId": "9ad408dd-309e-4fd1-cacd-5a67c4b041d5"
      },
      "source": [
        "# 24시간 이용가능한 충전기가 몇퍼센트 차지하는지 확인해보고자합니다\n",
        "# 먼저 24시간 가능한 충전기를 제외시켜보겠습니다.\n",
        "# value_counts()에서 더 많은 정보를 보면 좋겠지만 그렇게 하는 방법을 찾지 못했습니다.\n",
        "\n",
        "idx1 = df[df['이용가능시간'] == '24시간 이용가능'].index\n",
        "idx2 = df[df['이용가능시간'] == '24시간'].index\n",
        "idx3 = df[df['이용가능시간'] == '24시간 이용가능,입주민만 사용가능 거주자외출입제한'].index\n",
        "idx4 = df[df['이용가능시간'] == '24시간 이용가능,입주민만 사용가능 거주자 외 출입제'].index\n",
        "df = df.drop(idx1)\n",
        "df = df.drop(idx2)\n",
        "df = df.drop(idx3)\n",
        "df = df.drop(idx4)\n",
        "fulltime_len = len(idx1) + len(idx2) + len(idx3) + len(idx4)\n",
        "print(fulltime_len)"
      ],
      "execution_count": 95,
      "outputs": [
        {
          "output_type": "stream",
          "name": "stdout",
          "text": [
            "7523\n"
          ]
        }
      ]
    },
    {
      "cell_type": "code",
      "metadata": {
        "colab": {
          "base_uri": "https://localhost:8080/"
        },
        "id": "fHuL4xzN383d",
        "outputId": "892cc4a7-8a35-4bd1-b653-6adf2e65173c"
      },
      "source": [
        "df['이용가능시간'].value_counts()"
      ],
      "execution_count": 96,
      "outputs": [
        {
          "output_type": "execute_result",
          "data": {
            "text/plain": [
              "09:00~18:00                             1700\n",
              "~                                        115\n",
              "주중/주말 : 24시간                              87\n",
              "주중/주말 : 06시~23시                           68\n",
              "평일 09:00~18:00                            60\n",
              "                                        ... \n",
              "평일 10:00-17:00/토,휴일 10:00-20:00            1\n",
              "평일 06:00~22:00, 토 09:00~17:00, 일 비개방       1\n",
              "10:00~22:00                                1\n",
              "23시간 이용(09:00~08:00)                       1\n",
              "05:00~익일01:00                              1\n",
              "Name: 이용가능시간, Length: 113, dtype: int64"
            ]
          },
          "metadata": {},
          "execution_count": 96
        }
      ]
    },
    {
      "cell_type": "code",
      "metadata": {
        "colab": {
          "base_uri": "https://localhost:8080/"
        },
        "id": "C6yyJxPm388E",
        "outputId": "85c6f008-8dc5-4827-a4a5-a3bec435d1c4"
      },
      "source": [
        "idx5 = df[df['이용가능시간'] == '~'].index\n",
        "idx6 = df[df['이용가능시간'] == '주중/주말 : 24시간'].index\n",
        "\n",
        "df = df.drop(idx5)\n",
        "df = df.drop(idx6)\n",
        "fulltime_len = fulltime_len + len(idx5) + len(idx6)\n",
        "print(fulltime_len)"
      ],
      "execution_count": 97,
      "outputs": [
        {
          "output_type": "stream",
          "name": "stdout",
          "text": [
            "7725\n"
          ]
        }
      ]
    },
    {
      "cell_type": "code",
      "metadata": {
        "colab": {
          "base_uri": "https://localhost:8080/"
        },
        "id": "2gqopzKA38-X",
        "outputId": "d8c20408-1e7a-4955-a1c2-d590b4220318"
      },
      "source": [
        "df['이용가능시간'].value_counts(dropna = False)"
      ],
      "execution_count": 98,
      "outputs": [
        {
          "output_type": "execute_result",
          "data": {
            "text/plain": [
              "09:00~18:00                         1700\n",
              "NaN                                  804\n",
              "주중/주말 : 06시~23시                       68\n",
              "평일 09:00~18:00                        60\n",
              "주중 08:00~19:00, 주말 09:00~18:00        59\n",
              "                                    ... \n",
              "평일 09시~18시 이용가능, 주말/공휴일 이용불가           1\n",
              "외부인 출입제한                               1\n",
              "평일 08:30~18:00 / 토요일 08:30~15:30       1\n",
              "주중09시~18시                              1\n",
              "06:00~12:00                            1\n",
              "Name: 이용가능시간, Length: 112, dtype: int64"
            ]
          },
          "metadata": {},
          "execution_count": 98
        }
      ]
    },
    {
      "cell_type": "code",
      "metadata": {
        "colab": {
          "base_uri": "https://localhost:8080/"
        },
        "id": "VAdGkHRh39B0",
        "outputId": "cc8ca7cc-c266-4079-fd07-d64be23efab3"
      },
      "source": [
        "df = df.fillna(0)\n",
        "idx = df[df['이용가능시간'] != 0].index\n",
        "nandf = df.drop(idx)\n",
        "nandf['이용가능시간'].value_counts(dropna = False)\n",
        "# 이용가능시간이 NaN값이 곳만 잘 추출되었네요!"
      ],
      "execution_count": 99,
      "outputs": [
        {
          "output_type": "execute_result",
          "data": {
            "text/plain": [
              "0    804\n",
              "Name: 이용가능시간, dtype: int64"
            ]
          },
          "metadata": {},
          "execution_count": 99
        }
      ]
    },
    {
      "cell_type": "code",
      "metadata": {
        "colab": {
          "base_uri": "https://localhost:8080/",
          "height": 405
        },
        "id": "L5GN715h6azp",
        "outputId": "01ae152c-9868-4dca-908a-34543221afa5"
      },
      "source": [
        "nandf.head(5)"
      ],
      "execution_count": 100,
      "outputs": [
        {
          "output_type": "execute_result",
          "data": {
            "text/html": [
              "<div>\n",
              "<style scoped>\n",
              "    .dataframe tbody tr th:only-of-type {\n",
              "        vertical-align: middle;\n",
              "    }\n",
              "\n",
              "    .dataframe tbody tr th {\n",
              "        vertical-align: top;\n",
              "    }\n",
              "\n",
              "    .dataframe thead th {\n",
              "        text-align: right;\n",
              "    }\n",
              "</style>\n",
              "<table border=\"1\" class=\"dataframe\">\n",
              "  <thead>\n",
              "    <tr style=\"text-align: right;\">\n",
              "      <th></th>\n",
              "      <th>Unnamed: 0</th>\n",
              "      <th>운영기관</th>\n",
              "      <th>충전소</th>\n",
              "      <th>충전기 ID</th>\n",
              "      <th>타입</th>\n",
              "      <th>지역</th>\n",
              "      <th>시군구</th>\n",
              "      <th>주소</th>\n",
              "      <th>이용가능시간</th>\n",
              "      <th>제한</th>\n",
              "      <th>종류</th>\n",
              "      <th>비고</th>\n",
              "      <th>Unnamed: 12</th>\n",
              "      <th>dong</th>\n",
              "    </tr>\n",
              "  </thead>\n",
              "  <tbody>\n",
              "    <tr>\n",
              "      <th>21</th>\n",
              "      <td>7973.0</td>\n",
              "      <td>한국전력</td>\n",
              "      <td>e편한세상 금호파크힐스</td>\n",
              "      <td>1</td>\n",
              "      <td>DC차데모+AC3상+DC콤보</td>\n",
              "      <td>서울특별시</td>\n",
              "      <td>성동구</td>\n",
              "      <td>서울특별시 성동구 금호동1가 금호로 140</td>\n",
              "      <td>0</td>\n",
              "      <td>입주자외 출입제한 (긴급상황 이용가능)</td>\n",
              "      <td>0</td>\n",
              "      <td>0</td>\n",
              "      <td>[1] 행정동 명칭</td>\n",
              "      <td>금호1가동</td>\n",
              "    </tr>\n",
              "    <tr>\n",
              "      <th>22</th>\n",
              "      <td>7974.0</td>\n",
              "      <td>한국전력</td>\n",
              "      <td>e편한세상 금호파크힐스</td>\n",
              "      <td>2</td>\n",
              "      <td>AC완속</td>\n",
              "      <td>서울특별시</td>\n",
              "      <td>성동구</td>\n",
              "      <td>서울특별시 성동구 금호동1가 금호로 140</td>\n",
              "      <td>0</td>\n",
              "      <td>입주자외 출입제한 (긴급상황 이용가능)</td>\n",
              "      <td>0</td>\n",
              "      <td>0</td>\n",
              "      <td>[1] 행정동 명칭</td>\n",
              "      <td>금호1가동</td>\n",
              "    </tr>\n",
              "    <tr>\n",
              "      <th>23</th>\n",
              "      <td>7975.0</td>\n",
              "      <td>한국전력</td>\n",
              "      <td>e편한세상 금호파크힐스</td>\n",
              "      <td>3</td>\n",
              "      <td>AC완속</td>\n",
              "      <td>서울특별시</td>\n",
              "      <td>성동구</td>\n",
              "      <td>서울특별시 성동구 금호동1가 금호로 140</td>\n",
              "      <td>0</td>\n",
              "      <td>입주자외 출입제한 (긴급상황 이용가능)</td>\n",
              "      <td>0</td>\n",
              "      <td>0</td>\n",
              "      <td>[1] 행정동 명칭</td>\n",
              "      <td>금호1가동</td>\n",
              "    </tr>\n",
              "    <tr>\n",
              "      <th>24</th>\n",
              "      <td>7976.0</td>\n",
              "      <td>한국전력</td>\n",
              "      <td>e편한세상 금호파크힐스</td>\n",
              "      <td>4</td>\n",
              "      <td>AC완속</td>\n",
              "      <td>서울특별시</td>\n",
              "      <td>성동구</td>\n",
              "      <td>서울특별시 성동구 금호동1가 금호로 140</td>\n",
              "      <td>0</td>\n",
              "      <td>입주자외 출입제한 (긴급상황 이용가능)</td>\n",
              "      <td>0</td>\n",
              "      <td>0</td>\n",
              "      <td>[1] 행정동 명칭</td>\n",
              "      <td>금호1가동</td>\n",
              "    </tr>\n",
              "    <tr>\n",
              "      <th>43</th>\n",
              "      <td>12642.0</td>\n",
              "      <td>한국전력</td>\n",
              "      <td>성수2차대우 아파트</td>\n",
              "      <td>1</td>\n",
              "      <td>AC완속</td>\n",
              "      <td>서울특별시</td>\n",
              "      <td>성동구</td>\n",
              "      <td>서울특별시 성동구 성수동1가 상원6길 16</td>\n",
              "      <td>0</td>\n",
              "      <td>입주자외 출입제한 (긴급상황 이용가능)</td>\n",
              "      <td>0</td>\n",
              "      <td>0</td>\n",
              "      <td>[1] 행정동 명칭</td>\n",
              "      <td>성수1가2동</td>\n",
              "    </tr>\n",
              "  </tbody>\n",
              "</table>\n",
              "</div>"
            ],
            "text/plain": [
              "    Unnamed: 0  운영기관           충전소  충전기 ID  ... 종류 비고 Unnamed: 12    dong\n",
              "21      7973.0  한국전력  e편한세상 금호파크힐스       1  ...  0  0  [1] 행정동 명칭   금호1가동\n",
              "22      7974.0  한국전력  e편한세상 금호파크힐스       2  ...  0  0  [1] 행정동 명칭   금호1가동\n",
              "23      7975.0  한국전력  e편한세상 금호파크힐스       3  ...  0  0  [1] 행정동 명칭   금호1가동\n",
              "24      7976.0  한국전력  e편한세상 금호파크힐스       4  ...  0  0  [1] 행정동 명칭   금호1가동\n",
              "43     12642.0  한국전력    성수2차대우 아파트       1  ...  0  0  [1] 행정동 명칭  성수1가2동\n",
              "\n",
              "[5 rows x 14 columns]"
            ]
          },
          "metadata": {},
          "execution_count": 100
        }
      ]
    },
    {
      "cell_type": "code",
      "metadata": {
        "colab": {
          "base_uri": "https://localhost:8080/"
        },
        "id": "tGJfb_j12kJ8",
        "outputId": "250d387f-fb56-470d-ce77-ba888d17c119"
      },
      "source": [
        "#비고나 제한 열에 시간정보가 있는지 확인해봅시다.\n",
        "nandf['제한'].value_counts(dropna = False)"
      ],
      "execution_count": 101,
      "outputs": [
        {
          "output_type": "execute_result",
          "data": {
            "text/plain": [
              "입주자외 출입제한 (긴급상황 이용가능)     388\n",
              "시설 상황에 따라 이용이 제한될 수 있음    187\n",
              "0                         145\n",
              "사업장 거주자외 출입제한              83\n",
              "숙박 시설 이용자로 제한               1\n",
              "Name: 제한, dtype: int64"
            ]
          },
          "metadata": {},
          "execution_count": 101
        }
      ]
    },
    {
      "cell_type": "code",
      "metadata": {
        "colab": {
          "base_uri": "https://localhost:8080/"
        },
        "id": "DLUxWs_M6Lbt",
        "outputId": "63c9df11-c313-4b85-bd5f-961f39d3fdee"
      },
      "source": [
        "nandf['제한'].value_counts(dropna = False)\n",
        "# 비고나 제한 열에도 시간 정보가 들어있지 않네요"
      ],
      "execution_count": 102,
      "outputs": [
        {
          "output_type": "execute_result",
          "data": {
            "text/plain": [
              "입주자외 출입제한 (긴급상황 이용가능)     388\n",
              "시설 상황에 따라 이용이 제한될 수 있음    187\n",
              "0                         145\n",
              "사업장 거주자외 출입제한              83\n",
              "숙박 시설 이용자로 제한               1\n",
              "Name: 제한, dtype: int64"
            ]
          },
          "metadata": {},
          "execution_count": 102
        }
      ]
    },
    {
      "cell_type": "code",
      "metadata": {
        "colab": {
          "base_uri": "https://localhost:8080/"
        },
        "id": "z1-IcVyv6Ld5",
        "outputId": "bc3f1044-432b-4a78-934f-88b19a2f5735"
      },
      "source": [
        "#NaN값들에서 일부를 조사해보았는데 전부 아파트 단지 내에 있는 충전기 였습니다.\n",
        "# 아파트 단지내에 있는 충전기들을 24시간 이용가능하므로 NaN도 24시간 이용가능으로 두겠습니다.\n",
        "idx7 = df[df['이용가능시간'] == 0].index\n",
        "df = df.drop(idx7)\n",
        "fulltime_len = fulltime_len + len(idx7) \n",
        "print(fulltime_len)"
      ],
      "execution_count": 103,
      "outputs": [
        {
          "output_type": "stream",
          "name": "stdout",
          "text": [
            "8529\n"
          ]
        }
      ]
    },
    {
      "cell_type": "code",
      "metadata": {
        "colab": {
          "base_uri": "https://localhost:8080/"
        },
        "id": "PlkxVp9t-kPT",
        "outputId": "28971176-75ae-477b-eccc-e9f05ea7b58c"
      },
      "source": [
        "df['이용가능시간'].value_counts()\n",
        "# 24시간이 8529개로 가장 많고\n",
        "# 09~18시가 1700개로 그 다음으로 많습니다. "
      ],
      "execution_count": 104,
      "outputs": [
        {
          "output_type": "execute_result",
          "data": {
            "text/plain": [
              "09:00~18:00                        1700\n",
              "주중/주말 : 06시~23시                      68\n",
              "평일 09:00~18:00                       60\n",
              "주중 08:00~19:00, 주말 09:00~18:00       59\n",
              "10:00~23:00                          56\n",
              "                                   ... \n",
              "09:00~20:00                           1\n",
              "평일 10:00-17:00/토,휴일 10:00-20:00       1\n",
              "06:00~12:00                           1\n",
              "평일09시~18시                             1\n",
              "주중/주말 : 09시~18시                       1\n",
              "Name: 이용가능시간, Length: 111, dtype: int64"
            ]
          },
          "metadata": {},
          "execution_count": 104
        }
      ]
    },
    {
      "cell_type": "code",
      "metadata": {
        "id": "kSE4vONiCZKu"
      },
      "source": [
        "idx8 = df[df['이용가능시간'] == '09:00~18:00'].index\n",
        "idx9 = df[df['이용가능시간'] == '평일 09:00~18:00'].index\n",
        "idx10 = df[df['이용가능시간'] == '주중 08:00~19:00, 주말 09:00~18:00'].index\n",
        "\n",
        "df = df.drop(idx8)\n",
        "df = df.drop(idx9)\n",
        "df = df.drop(idx10)\n",
        "\n",
        "h = len(idx8) + len(idx9) + len(idx10)"
      ],
      "execution_count": 105,
      "outputs": []
    },
    {
      "cell_type": "code",
      "metadata": {
        "colab": {
          "base_uri": "https://localhost:8080/"
        },
        "id": "KebLyHWRCZOL",
        "outputId": "aaf59c1a-3bd2-4126-f051-20acf9e4ecc1"
      },
      "source": [
        "df['이용가능시간'].value_counts()"
      ],
      "execution_count": 106,
      "outputs": [
        {
          "output_type": "execute_result",
          "data": {
            "text/plain": [
              "주중/주말 : 06시~23시       68\n",
              "10:00~23:00           56\n",
              "평일 09:00 ~ 18:00      39\n",
              "평일 09시~18시 이용가능       36\n",
              "비개방                   34\n",
              "                      ..\n",
              "09:30~17:30            1\n",
              "비개방, 관용차 전용, 주차장협소     1\n",
              "10:00~22:00            1\n",
              "06:00~12:00            1\n",
              "24시간(단, 22시이후근무자운영     1\n",
              "Name: 이용가능시간, Length: 108, dtype: int64"
            ]
          },
          "metadata": {},
          "execution_count": 106
        }
      ]
    },
    {
      "cell_type": "code",
      "metadata": {
        "colab": {
          "base_uri": "https://localhost:8080/"
        },
        "id": "3Ga82h-nAHbv",
        "outputId": "c4f9cac9-7963-4c39-afcc-78e0c63e3ae1"
      },
      "source": [
        "len(stockdf)"
      ],
      "execution_count": 107,
      "outputs": [
        {
          "output_type": "execute_result",
          "data": {
            "text/plain": [
              "11071"
            ]
          },
          "metadata": {},
          "execution_count": 107
        }
      ]
    },
    {
      "cell_type": "code",
      "metadata": {
        "colab": {
          "base_uri": "https://localhost:8080/",
          "height": 482
        },
        "id": "fLt7PqRh6LhN",
        "outputId": "197174d4-87ba-464a-d116-ad3fac7e03ce"
      },
      "source": [
        "# 이용가능한 시간대를 원형그래프로 그려봅시다.\n",
        "import matplotlib.pyplot as plt\n",
        " \n",
        "fig = plt.figure(figsize=(8,8)) ## 캔버스 생성\n",
        "fig.set_facecolor('white') ## 캔버스 색상 하얀색\n",
        " \n",
        "ax = fig.add_subplot() ## 프래임 생성\n",
        "h = h + 39 + 46\n",
        "o = len(stockdf) - fulltime_len - h \n",
        "\n",
        "x = [fulltime_len, h, o ]\n",
        "labels = ['0:00 ~ 24:00','09:00 ~ 18:00','the others'] \n",
        "ax.pie(x=x,labels=labels,autopct=lambda p : '{:.2f}%'.format(p)) ## 파이 차트 출력\n",
        "plt.title('Available time')\n",
        "plt.savefig('Available time.png',bbox_inches='tight', pad_inches=1)\n",
        "plt.show()"
      ],
      "execution_count": 109,
      "outputs": [
        {
          "output_type": "display_data",
          "data": {
            "image/png": "[encoded data removed]",
            "text/plain": [
              "<Figure size 576x576 with 1 Axes>"
            ]
          },
          "metadata": {}
        }
      ]
    },
    {
      "cell_type": "code",
      "metadata": {
        "id": "Bc509H2WDMWS"
      },
      "source": [
        "# 충전기를 분류할때 이용가능한 시간에 따라서도 분류하려고한다.\n",
        "# 그때이 기준을 24시간 이용가능하지 않는다면 09:00~18:00시에 운영한다는 데이터로 두겠다\n",
        "# 그래프는 따로 저장을 해야겠습니다.\n"
      ],
      "execution_count": null,
      "outputs": []
    }
  ]
}