{
  "nbformat": 4,
  "nbformat_minor": 0,
  "metadata": {
    "colab": {
      "name": "conat_lpdf_EVstockdf.ipynb",
      "provenance": [],
      "collapsed_sections": []
    },
    "kernelspec": {
      "name": "python3",
      "display_name": "Python 3"
    },
    "language_info": {
      "name": "python"
    }
  },
  "cells": [
    {
      "cell_type": "code",
      "metadata": {
        "id": "fUzN6wD3mWX8"
      },
      "source": [
        "import pandas as pd\n",
        "\n",
        "df = pd.read_excel('EVstock.xlsx')\n",
        "lpdf1 = pd.read_excel('zero2nine.xlsx')\n",
        "lpdf2 = pd.read_excel('nine2eighteen.xlsx')\n",
        "lpdf3 = pd.read_excel('eighteen224.xlsx')"
      ],
      "execution_count": null,
      "outputs": []
    },
    {
      "cell_type": "code",
      "metadata": {
        "colab": {
          "base_uri": "https://localhost:8080/"
        },
        "id": "G-xHrdTYpp32",
        "outputId": "af64c410-f0e3-4fc8-9cfb-614ec86fc871"
      },
      "source": [
        "lpdf1.info()"
      ],
      "execution_count": null,
      "outputs": [
        {
          "output_type": "stream",
          "name": "stdout",
          "text": [
            "<class 'pandas.core.frame.DataFrame'>\n",
            "RangeIndex: 423 entries, 0 to 422\n",
            "Data columns (total 2 columns):\n",
            " #   Column  Non-Null Count  Dtype  \n",
            "---  ------  --------------  -----  \n",
            " 0   행정동명    423 non-null    object \n",
            " 1   총생활인구수  423 non-null    float64\n",
            "dtypes: float64(1), object(1)\n",
            "memory usage: 6.7+ KB\n"
          ]
        }
      ]
    },
    {
      "cell_type": "code",
      "metadata": {
        "colab": {
          "base_uri": "https://localhost:8080/",
          "height": 80
        },
        "id": "59LALqbyp5up",
        "outputId": "bc3d9a67-08cb-4483-c9f1-165dea3861dc"
      },
      "source": [
        "lpdf1.head(1)"
      ],
      "execution_count": null,
      "outputs": [
        {
          "output_type": "execute_result",
          "data": {
            "text/html": [
              "<div>\n",
              "<style scoped>\n",
              "    .dataframe tbody tr th:only-of-type {\n",
              "        vertical-align: middle;\n",
              "    }\n",
              "\n",
              "    .dataframe tbody tr th {\n",
              "        vertical-align: top;\n",
              "    }\n",
              "\n",
              "    .dataframe thead th {\n",
              "        text-align: right;\n",
              "    }\n",
              "</style>\n",
              "<table border=\"1\" class=\"dataframe\">\n",
              "  <thead>\n",
              "    <tr style=\"text-align: right;\">\n",
              "      <th></th>\n",
              "      <th>행정동명</th>\n",
              "      <th>총생활인구수</th>\n",
              "    </tr>\n",
              "  </thead>\n",
              "  <tbody>\n",
              "    <tr>\n",
              "      <th>0</th>\n",
              "      <td>가락1동</td>\n",
              "      <td>25049.834033</td>\n",
              "    </tr>\n",
              "  </tbody>\n",
              "</table>\n",
              "</div>"
            ],
            "text/plain": [
              "   행정동명        총생활인구수\n",
              "0  가락1동  25049.834033"
            ]
          },
          "metadata": {},
          "execution_count": 4
        }
      ]
    },
    {
      "cell_type": "code",
      "metadata": {
        "id": "NzjRA5o4p-IR"
      },
      "source": [
        "# 생활인구데이터에서 column의 이름을 수정해주십다.\n",
        "lpdf1 = lpdf1.rename(columns={'행정동명' : 'dong'})\n",
        "lpdf2 = lpdf2.rename(columns={'행정동명' : 'dong'})\n",
        "lpdf3 = lpdf3.rename(columns={'행정동명' : 'dong'})"
      ],
      "execution_count": null,
      "outputs": []
    },
    {
      "cell_type": "code",
      "metadata": {
        "colab": {
          "base_uri": "https://localhost:8080/",
          "height": 80
        },
        "id": "2GC7vTWzqi_Q",
        "outputId": "00844871-a390-4f8b-e128-d65ba304fa08"
      },
      "source": [
        "# 잘바뀌었네요\n",
        "lpdf2.head(1)"
      ],
      "execution_count": null,
      "outputs": [
        {
          "output_type": "execute_result",
          "data": {
            "text/html": [
              "<div>\n",
              "<style scoped>\n",
              "    .dataframe tbody tr th:only-of-type {\n",
              "        vertical-align: middle;\n",
              "    }\n",
              "\n",
              "    .dataframe tbody tr th {\n",
              "        vertical-align: top;\n",
              "    }\n",
              "\n",
              "    .dataframe thead th {\n",
              "        text-align: right;\n",
              "    }\n",
              "</style>\n",
              "<table border=\"1\" class=\"dataframe\">\n",
              "  <thead>\n",
              "    <tr style=\"text-align: right;\">\n",
              "      <th></th>\n",
              "      <th>dong</th>\n",
              "      <th>총생활인구수</th>\n",
              "    </tr>\n",
              "  </thead>\n",
              "  <tbody>\n",
              "    <tr>\n",
              "      <th>0</th>\n",
              "      <td>가락1동</td>\n",
              "      <td>22118.931969</td>\n",
              "    </tr>\n",
              "  </tbody>\n",
              "</table>\n",
              "</div>"
            ],
            "text/plain": [
              "   dong        총생활인구수\n",
              "0  가락1동  22118.931969"
            ]
          },
          "metadata": {},
          "execution_count": 8
        }
      ]
    },
    {
      "cell_type": "code",
      "metadata": {
        "colab": {
          "base_uri": "https://localhost:8080/"
        },
        "id": "4wnecD4QqjBw",
        "outputId": "12af6c1c-e605-4f5e-93a6-c4fd971ce034"
      },
      "source": [
        "df.info()"
      ],
      "execution_count": null,
      "outputs": [
        {
          "output_type": "stream",
          "name": "stdout",
          "text": [
            "<class 'pandas.core.frame.DataFrame'>\n",
            "RangeIndex: 428 entries, 0 to 427\n",
            "Data columns (total 9 columns):\n",
            " #   Column      Non-Null Count  Dtype  \n",
            "---  ------      --------------  -----  \n",
            " 0   Unnamed: 0  428 non-null    object \n",
            " 1   ffnc        277 non-null    float64\n",
            " 2   ffc         20 non-null     float64\n",
            " 3   nfnc        146 non-null    float64\n",
            " 4   nfc         50 non-null     float64\n",
            " 5   fsnc        336 non-null    float64\n",
            " 6   fsc         287 non-null    float64\n",
            " 7   nsnc        299 non-null    float64\n",
            " 8   nsc         196 non-null    float64\n",
            "dtypes: float64(8), object(1)\n",
            "memory usage: 30.2+ KB\n"
          ]
        }
      ]
    },
    {
      "cell_type": "code",
      "metadata": {
        "colab": {
          "base_uri": "https://localhost:8080/",
          "height": 203
        },
        "id": "H7UAsL7qqjFN",
        "outputId": "ba69faa6-e75d-47e9-80b3-ce0397540fc3"
      },
      "source": [
        "df.head()"
      ],
      "execution_count": null,
      "outputs": [
        {
          "output_type": "execute_result",
          "data": {
            "text/html": [
              "<div>\n",
              "<style scoped>\n",
              "    .dataframe tbody tr th:only-of-type {\n",
              "        vertical-align: middle;\n",
              "    }\n",
              "\n",
              "    .dataframe tbody tr th {\n",
              "        vertical-align: top;\n",
              "    }\n",
              "\n",
              "    .dataframe thead th {\n",
              "        text-align: right;\n",
              "    }\n",
              "</style>\n",
              "<table border=\"1\" class=\"dataframe\">\n",
              "  <thead>\n",
              "    <tr style=\"text-align: right;\">\n",
              "      <th></th>\n",
              "      <th>Unnamed: 0</th>\n",
              "      <th>ffnc</th>\n",
              "      <th>ffc</th>\n",
              "      <th>nfnc</th>\n",
              "      <th>nfc</th>\n",
              "      <th>fsnc</th>\n",
              "      <th>fsc</th>\n",
              "      <th>nsnc</th>\n",
              "      <th>nsc</th>\n",
              "    </tr>\n",
              "  </thead>\n",
              "  <tbody>\n",
              "    <tr>\n",
              "      <th>0</th>\n",
              "      <td>공덕동</td>\n",
              "      <td>1.0</td>\n",
              "      <td>NaN</td>\n",
              "      <td>NaN</td>\n",
              "      <td>NaN</td>\n",
              "      <td>25.0</td>\n",
              "      <td>10.0</td>\n",
              "      <td>8.0</td>\n",
              "      <td>17.0</td>\n",
              "    </tr>\n",
              "    <tr>\n",
              "      <th>1</th>\n",
              "      <td>삼성8동</td>\n",
              "      <td>NaN</td>\n",
              "      <td>NaN</td>\n",
              "      <td>NaN</td>\n",
              "      <td>NaN</td>\n",
              "      <td>1.0</td>\n",
              "      <td>NaN</td>\n",
              "      <td>NaN</td>\n",
              "      <td>NaN</td>\n",
              "    </tr>\n",
              "    <tr>\n",
              "      <th>2</th>\n",
              "      <td>가산동</td>\n",
              "      <td>31.0</td>\n",
              "      <td>NaN</td>\n",
              "      <td>4.0</td>\n",
              "      <td>6.0</td>\n",
              "      <td>164.0</td>\n",
              "      <td>8.0</td>\n",
              "      <td>43.0</td>\n",
              "      <td>21.0</td>\n",
              "    </tr>\n",
              "    <tr>\n",
              "      <th>3</th>\n",
              "      <td>일원1동</td>\n",
              "      <td>1.0</td>\n",
              "      <td>NaN</td>\n",
              "      <td>NaN</td>\n",
              "      <td>NaN</td>\n",
              "      <td>NaN</td>\n",
              "      <td>NaN</td>\n",
              "      <td>1.0</td>\n",
              "      <td>NaN</td>\n",
              "    </tr>\n",
              "    <tr>\n",
              "      <th>4</th>\n",
              "      <td>방이1동</td>\n",
              "      <td>NaN</td>\n",
              "      <td>NaN</td>\n",
              "      <td>NaN</td>\n",
              "      <td>NaN</td>\n",
              "      <td>NaN</td>\n",
              "      <td>4.0</td>\n",
              "      <td>8.0</td>\n",
              "      <td>NaN</td>\n",
              "    </tr>\n",
              "  </tbody>\n",
              "</table>\n",
              "</div>"
            ],
            "text/plain": [
              "  Unnamed: 0  ffnc  ffc  nfnc  nfc   fsnc   fsc  nsnc   nsc\n",
              "0        공덕동   1.0  NaN   NaN  NaN   25.0  10.0   8.0  17.0\n",
              "1       삼성8동   NaN  NaN   NaN  NaN    1.0   NaN   NaN   NaN\n",
              "2        가산동  31.0  NaN   4.0  6.0  164.0   8.0  43.0  21.0\n",
              "3       일원1동   1.0  NaN   NaN  NaN    NaN   NaN   1.0   NaN\n",
              "4       방이1동   NaN  NaN   NaN  NaN    NaN   4.0   8.0   NaN"
            ]
          },
          "metadata": {},
          "execution_count": 10
        }
      ]
    },
    {
      "cell_type": "code",
      "metadata": {
        "id": "bsB6lgP2pp7Q"
      },
      "source": [
        "df = df.rename(columns = {'Unnamed: 0' : 'dong' })"
      ],
      "execution_count": null,
      "outputs": []
    },
    {
      "cell_type": "code",
      "metadata": {
        "colab": {
          "base_uri": "https://localhost:8080/",
          "height": 80
        },
        "id": "aC_xv3GNpqCV",
        "outputId": "96eb8e2d-69fb-4469-e164-930a0afd5981"
      },
      "source": [
        "df.head(1)"
      ],
      "execution_count": null,
      "outputs": [
        {
          "output_type": "execute_result",
          "data": {
            "text/html": [
              "<div>\n",
              "<style scoped>\n",
              "    .dataframe tbody tr th:only-of-type {\n",
              "        vertical-align: middle;\n",
              "    }\n",
              "\n",
              "    .dataframe tbody tr th {\n",
              "        vertical-align: top;\n",
              "    }\n",
              "\n",
              "    .dataframe thead th {\n",
              "        text-align: right;\n",
              "    }\n",
              "</style>\n",
              "<table border=\"1\" class=\"dataframe\">\n",
              "  <thead>\n",
              "    <tr style=\"text-align: right;\">\n",
              "      <th></th>\n",
              "      <th>dong</th>\n",
              "      <th>ffnc</th>\n",
              "      <th>ffc</th>\n",
              "      <th>nfnc</th>\n",
              "      <th>nfc</th>\n",
              "      <th>fsnc</th>\n",
              "      <th>fsc</th>\n",
              "      <th>nsnc</th>\n",
              "      <th>nsc</th>\n",
              "    </tr>\n",
              "  </thead>\n",
              "  <tbody>\n",
              "    <tr>\n",
              "      <th>0</th>\n",
              "      <td>공덕동</td>\n",
              "      <td>1.0</td>\n",
              "      <td>NaN</td>\n",
              "      <td>NaN</td>\n",
              "      <td>NaN</td>\n",
              "      <td>25.0</td>\n",
              "      <td>10.0</td>\n",
              "      <td>8.0</td>\n",
              "      <td>17.0</td>\n",
              "    </tr>\n",
              "  </tbody>\n",
              "</table>\n",
              "</div>"
            ],
            "text/plain": [
              "  dong  ffnc  ffc  nfnc  nfc  fsnc   fsc  nsnc   nsc\n",
              "0  공덕동   1.0  NaN   NaN  NaN  25.0  10.0   8.0  17.0"
            ]
          },
          "metadata": {},
          "execution_count": 13
        }
      ]
    },
    {
      "cell_type": "code",
      "metadata": {
        "id": "AM7C1rJJpqFt"
      },
      "source": [
        "# dong기준으로 생활인구데이터와 EVstock 데이터를 합쳐줍시다,\n",
        "tdf1 = pd.merge(lpdf1, df, how =  'right')"
      ],
      "execution_count": null,
      "outputs": []
    },
    {
      "cell_type": "code",
      "metadata": {
        "colab": {
          "base_uri": "https://localhost:8080/",
          "height": 203
        },
        "id": "QbfalTufrI_S",
        "outputId": "a33ea01a-71f9-42b5-de8c-16c5dfe44fc4"
      },
      "source": [
        "tdf1.head()"
      ],
      "execution_count": null,
      "outputs": [
        {
          "output_type": "execute_result",
          "data": {
            "text/html": [
              "<div>\n",
              "<style scoped>\n",
              "    .dataframe tbody tr th:only-of-type {\n",
              "        vertical-align: middle;\n",
              "    }\n",
              "\n",
              "    .dataframe tbody tr th {\n",
              "        vertical-align: top;\n",
              "    }\n",
              "\n",
              "    .dataframe thead th {\n",
              "        text-align: right;\n",
              "    }\n",
              "</style>\n",
              "<table border=\"1\" class=\"dataframe\">\n",
              "  <thead>\n",
              "    <tr style=\"text-align: right;\">\n",
              "      <th></th>\n",
              "      <th>dong</th>\n",
              "      <th>총생활인구수</th>\n",
              "      <th>ffnc</th>\n",
              "      <th>ffc</th>\n",
              "      <th>nfnc</th>\n",
              "      <th>nfc</th>\n",
              "      <th>fsnc</th>\n",
              "      <th>fsc</th>\n",
              "      <th>nsnc</th>\n",
              "      <th>nsc</th>\n",
              "    </tr>\n",
              "  </thead>\n",
              "  <tbody>\n",
              "    <tr>\n",
              "      <th>0</th>\n",
              "      <td>공덕동</td>\n",
              "      <td>34963.436019</td>\n",
              "      <td>1.0</td>\n",
              "      <td>NaN</td>\n",
              "      <td>NaN</td>\n",
              "      <td>NaN</td>\n",
              "      <td>25.0</td>\n",
              "      <td>10.0</td>\n",
              "      <td>8.0</td>\n",
              "      <td>17.0</td>\n",
              "    </tr>\n",
              "    <tr>\n",
              "      <th>1</th>\n",
              "      <td>삼성8동</td>\n",
              "      <td>NaN</td>\n",
              "      <td>NaN</td>\n",
              "      <td>NaN</td>\n",
              "      <td>NaN</td>\n",
              "      <td>NaN</td>\n",
              "      <td>1.0</td>\n",
              "      <td>NaN</td>\n",
              "      <td>NaN</td>\n",
              "      <td>NaN</td>\n",
              "    </tr>\n",
              "    <tr>\n",
              "      <th>2</th>\n",
              "      <td>가산동</td>\n",
              "      <td>40838.242876</td>\n",
              "      <td>31.0</td>\n",
              "      <td>NaN</td>\n",
              "      <td>4.0</td>\n",
              "      <td>6.0</td>\n",
              "      <td>164.0</td>\n",
              "      <td>8.0</td>\n",
              "      <td>43.0</td>\n",
              "      <td>21.0</td>\n",
              "    </tr>\n",
              "    <tr>\n",
              "      <th>3</th>\n",
              "      <td>일원1동</td>\n",
              "      <td>14630.722211</td>\n",
              "      <td>1.0</td>\n",
              "      <td>NaN</td>\n",
              "      <td>NaN</td>\n",
              "      <td>NaN</td>\n",
              "      <td>NaN</td>\n",
              "      <td>NaN</td>\n",
              "      <td>1.0</td>\n",
              "      <td>NaN</td>\n",
              "    </tr>\n",
              "    <tr>\n",
              "      <th>4</th>\n",
              "      <td>방이1동</td>\n",
              "      <td>15571.273720</td>\n",
              "      <td>NaN</td>\n",
              "      <td>NaN</td>\n",
              "      <td>NaN</td>\n",
              "      <td>NaN</td>\n",
              "      <td>NaN</td>\n",
              "      <td>4.0</td>\n",
              "      <td>8.0</td>\n",
              "      <td>NaN</td>\n",
              "    </tr>\n",
              "  </tbody>\n",
              "</table>\n",
              "</div>"
            ],
            "text/plain": [
              "   dong        총생활인구수  ffnc  ffc  nfnc  nfc   fsnc   fsc  nsnc   nsc\n",
              "0   공덕동  34963.436019   1.0  NaN   NaN  NaN   25.0  10.0   8.0  17.0\n",
              "1  삼성8동           NaN   NaN  NaN   NaN  NaN    1.0   NaN   NaN   NaN\n",
              "2   가산동  40838.242876  31.0  NaN   4.0  6.0  164.0   8.0  43.0  21.0\n",
              "3  일원1동  14630.722211   1.0  NaN   NaN  NaN    NaN   NaN   1.0   NaN\n",
              "4  방이1동  15571.273720   NaN  NaN   NaN  NaN    NaN   4.0   8.0   NaN"
            ]
          },
          "metadata": {},
          "execution_count": 20
        }
      ]
    },
    {
      "cell_type": "code",
      "metadata": {
        "colab": {
          "base_uri": "https://localhost:8080/"
        },
        "id": "WXTLVdTCrJBh",
        "outputId": "336ca258-286d-4dac-de5e-fc516c7e659a"
      },
      "source": [
        "tdf1.info()"
      ],
      "execution_count": null,
      "outputs": [
        {
          "output_type": "stream",
          "name": "stdout",
          "text": [
            "<class 'pandas.core.frame.DataFrame'>\n",
            "Int64Index: 428 entries, 0 to 427\n",
            "Data columns (total 10 columns):\n",
            " #   Column  Non-Null Count  Dtype  \n",
            "---  ------  --------------  -----  \n",
            " 0   dong    428 non-null    object \n",
            " 1   총생활인구수  415 non-null    float64\n",
            " 2   ffnc    277 non-null    float64\n",
            " 3   ffc     20 non-null     float64\n",
            " 4   nfnc    146 non-null    float64\n",
            " 5   nfc     50 non-null     float64\n",
            " 6   fsnc    336 non-null    float64\n",
            " 7   fsc     287 non-null    float64\n",
            " 8   nsnc    299 non-null    float64\n",
            " 9   nsc     196 non-null    float64\n",
            "dtypes: float64(9), object(1)\n",
            "memory usage: 36.8+ KB\n"
          ]
        }
      ]
    },
    {
      "cell_type": "code",
      "metadata": {
        "id": "fgt5b5o3rJE6"
      },
      "source": [
        "# 총생활인구수랑 행정동수랑 매칭이 안되네요...\n",
        "# 삼성8동같은경우는 행정동도 법정동도 아닌데 왜 이런일이...ㅠ\n",
        "# 그래도 천천히 확인해봅시다.\n"
      ],
      "execution_count": null,
      "outputs": []
    },
    {
      "cell_type": "code",
      "metadata": {
        "id": "O1HfDalfsqb6"
      },
      "source": [
        "tdf1 = tdf1.fillna(0)"
      ],
      "execution_count": null,
      "outputs": []
    },
    {
      "cell_type": "code",
      "metadata": {
        "id": "RA5-FCE-sqf1"
      },
      "source": [
        "testdf = tdf1[tdf1['총생활인구수'] == 0]"
      ],
      "execution_count": null,
      "outputs": []
    },
    {
      "cell_type": "code",
      "metadata": {
        "colab": {
          "base_uri": "https://localhost:8080/"
        },
        "id": "LQBx6jqLtpCV",
        "outputId": "2354c4e0-d40a-459d-dc1e-fdcbd5406515"
      },
      "source": [
        "testdf['dong'].value_counts()"
      ],
      "execution_count": null,
      "outputs": [
        {
          "output_type": "execute_result",
          "data": {
            "text/plain": [
              "항동       1\n",
              "삼성7동     1\n",
              "삼성3동     1\n",
              "당산제2동    1\n",
              "삼성4동     1\n",
              "상일1동     1\n",
              "금호동      1\n",
              "상일2동     1\n",
              "삼성5동     1\n",
              "원료로2동    1\n",
              "삼성6동     1\n",
              "양평동      1\n",
              "삼성8동     1\n",
              "Name: dong, dtype: int64"
            ]
          },
          "metadata": {},
          "execution_count": 45
        }
      ]
    },
    {
      "cell_type": "code",
      "metadata": {
        "id": "c7l_Zj50uasA"
      },
      "source": [
        "# 항동은 행정동인데, 생활인구 데이테에서 항동데이터가 존재하지 않네여..\n",
        "# 당산제2동 -> 당산2동\n",
        "# 상일1동, 상일2동 상일동(법정동)의 행정동은 상일1동 상일2동인데, 생홯인구데이터에서는 법정동으로 존재\n",
        "# 상일동만 예외적으로 법정동으로 표기하겠습니다.\n",
        "# 삼성 7동, 삼성8동, 삼성 5동, 삼성 6동 존재 x # excel입력당시 자동함수로 채워진것 같음\n",
        "# 금호동 <- 법정동 \n",
        "# 원료로동. 원효로동인데 오타남.\n",
        "# 양평동 <- 법정동임. "
      ],
      "execution_count": null,
      "outputs": []
    },
    {
      "cell_type": "code",
      "metadata": {
        "id": "Bbw0rvhHvi7y"
      },
      "source": [
        "#이전에 seoulEVstock 데이터를 수정후 다시 EVstock데이터를 만들겠습니다.\n",
        "# 수작업과 이전에 사용했던 함수를 이용해서 만들었습니다."
      ],
      "execution_count": null,
      "outputs": []
    },
    {
      "cell_type": "code",
      "metadata": {
        "id": "3nvwTLrYvi_P"
      },
      "source": [
        "df = pd.read_excel('EVstock1.xlsx')"
      ],
      "execution_count": null,
      "outputs": []
    },
    {
      "cell_type": "code",
      "metadata": {
        "id": "KcOZ2HaaUvFz"
      },
      "source": [
        ""
      ],
      "execution_count": null,
      "outputs": []
    },
    {
      "cell_type": "code",
      "metadata": {
        "id": "eRKA46USUvJq"
      },
      "source": [
        ""
      ],
      "execution_count": null,
      "outputs": []
    },
    {
      "cell_type": "code",
      "metadata": {
        "colab": {
          "base_uri": "https://localhost:8080/",
          "height": 203
        },
        "id": "vSNTRDdLuavc",
        "outputId": "8ff571b0-98dc-46a3-bd5b-d6aa931a5d03"
      },
      "source": [
        "df.head()"
      ],
      "execution_count": null,
      "outputs": [
        {
          "output_type": "execute_result",
          "data": {
            "text/html": [
              "<div>\n",
              "<style scoped>\n",
              "    .dataframe tbody tr th:only-of-type {\n",
              "        vertical-align: middle;\n",
              "    }\n",
              "\n",
              "    .dataframe tbody tr th {\n",
              "        vertical-align: top;\n",
              "    }\n",
              "\n",
              "    .dataframe thead th {\n",
              "        text-align: right;\n",
              "    }\n",
              "</style>\n",
              "<table border=\"1\" class=\"dataframe\">\n",
              "  <thead>\n",
              "    <tr style=\"text-align: right;\">\n",
              "      <th></th>\n",
              "      <th>Unnamed: 0</th>\n",
              "      <th>ffnc</th>\n",
              "      <th>ffc</th>\n",
              "      <th>nfnc</th>\n",
              "      <th>nfc</th>\n",
              "      <th>fsnc</th>\n",
              "      <th>fsc</th>\n",
              "      <th>nsnc</th>\n",
              "      <th>nsc</th>\n",
              "    </tr>\n",
              "  </thead>\n",
              "  <tbody>\n",
              "    <tr>\n",
              "      <th>0</th>\n",
              "      <td>신대방1동</td>\n",
              "      <td>1.0</td>\n",
              "      <td>NaN</td>\n",
              "      <td>1.0</td>\n",
              "      <td>NaN</td>\n",
              "      <td>5.0</td>\n",
              "      <td>13.0</td>\n",
              "      <td>5.0</td>\n",
              "      <td>13.0</td>\n",
              "    </tr>\n",
              "    <tr>\n",
              "      <th>1</th>\n",
              "      <td>시흥5동</td>\n",
              "      <td>NaN</td>\n",
              "      <td>NaN</td>\n",
              "      <td>NaN</td>\n",
              "      <td>NaN</td>\n",
              "      <td>NaN</td>\n",
              "      <td>2.0</td>\n",
              "      <td>1.0</td>\n",
              "      <td>NaN</td>\n",
              "    </tr>\n",
              "    <tr>\n",
              "      <th>2</th>\n",
              "      <td>청담동</td>\n",
              "      <td>1.0</td>\n",
              "      <td>NaN</td>\n",
              "      <td>NaN</td>\n",
              "      <td>2.0</td>\n",
              "      <td>13.0</td>\n",
              "      <td>19.0</td>\n",
              "      <td>26.0</td>\n",
              "      <td>NaN</td>\n",
              "    </tr>\n",
              "    <tr>\n",
              "      <th>3</th>\n",
              "      <td>신정4동</td>\n",
              "      <td>NaN</td>\n",
              "      <td>NaN</td>\n",
              "      <td>2.0</td>\n",
              "      <td>NaN</td>\n",
              "      <td>9.0</td>\n",
              "      <td>2.0</td>\n",
              "      <td>NaN</td>\n",
              "      <td>NaN</td>\n",
              "    </tr>\n",
              "    <tr>\n",
              "      <th>4</th>\n",
              "      <td>항동</td>\n",
              "      <td>NaN</td>\n",
              "      <td>NaN</td>\n",
              "      <td>NaN</td>\n",
              "      <td>NaN</td>\n",
              "      <td>NaN</td>\n",
              "      <td>11.0</td>\n",
              "      <td>9.0</td>\n",
              "      <td>10.0</td>\n",
              "    </tr>\n",
              "  </tbody>\n",
              "</table>\n",
              "</div>"
            ],
            "text/plain": [
              "  Unnamed: 0  ffnc  ffc  nfnc  nfc  fsnc   fsc  nsnc   nsc\n",
              "0      신대방1동   1.0  NaN   1.0  NaN   5.0  13.0   5.0  13.0\n",
              "1       시흥5동   NaN  NaN   NaN  NaN   NaN   2.0   1.0   NaN\n",
              "2        청담동   1.0  NaN   NaN  2.0  13.0  19.0  26.0   NaN\n",
              "3       신정4동   NaN  NaN   2.0  NaN   9.0   2.0   NaN   NaN\n",
              "4         항동   NaN  NaN   NaN  NaN   NaN  11.0   9.0  10.0"
            ]
          },
          "metadata": {},
          "execution_count": 56
        }
      ]
    },
    {
      "cell_type": "code",
      "metadata": {
        "id": "GNeJjhsX6xwB"
      },
      "source": [
        ""
      ],
      "execution_count": null,
      "outputs": []
    },
    {
      "cell_type": "code",
      "metadata": {
        "id": "jjiXJ5aEtpEt"
      },
      "source": [
        "df = df.rename(columns= {'Unnamed: 0' : 'dong'})"
      ],
      "execution_count": null,
      "outputs": []
    },
    {
      "cell_type": "code",
      "metadata": {
        "id": "AH-Bvmdm2ke3"
      },
      "source": [
        "tdf1 = pd.merge(lpdf1, df, how =  'right')"
      ],
      "execution_count": null,
      "outputs": []
    },
    {
      "cell_type": "code",
      "metadata": {
        "colab": {
          "base_uri": "https://localhost:8080/"
        },
        "id": "ld-s1Dn6Gdu7",
        "outputId": "fe5c3a48-c322-4a2d-ac6b-71a4fdfb2709"
      },
      "source": [
        "tdf1 = tdf1.fillna(0)\n",
        "testdf = tdf1[tdf1['총생활인구수'] == 0]\n",
        "testdf['dong'].value_counts()\n",
        "# 항동은 행정동코드에 누락되었으므로 삭제 하겠습니다.."
      ],
      "execution_count": null,
      "outputs": [
        {
          "output_type": "execute_result",
          "data": {
            "text/plain": [
              "항동    1\n",
              "Name: dong, dtype: int64"
            ]
          },
          "metadata": {},
          "execution_count": 86
        }
      ]
    },
    {
      "cell_type": "code",
      "metadata": {
        "colab": {
          "base_uri": "https://localhost:8080/"
        },
        "id": "OVwjLlU160MJ",
        "outputId": "95c17821-e92f-420a-9b30-cc7e61441cfc"
      },
      "source": [
        "tdf1.info()\n",
        "# 417개네여.. 행정동매칭정보에 있는 행정동 갯수는 424개인데 말이죠...\n",
        "# 전체 행정동은 426개인데, (상일1동 상일2동이 상일동으로 묶여있고, 항동이 누락되어있음)"
      ],
      "execution_count": null,
      "outputs": [
        {
          "output_type": "stream",
          "name": "stdout",
          "text": [
            "<class 'pandas.core.frame.DataFrame'>\n",
            "Int64Index: 417 entries, 0 to 416\n",
            "Data columns (total 10 columns):\n",
            " #   Column  Non-Null Count  Dtype  \n",
            "---  ------  --------------  -----  \n",
            " 0   dong    417 non-null    object \n",
            " 1   총생활인구수  417 non-null    float64\n",
            " 2   ffnc    417 non-null    float64\n",
            " 3   ffc     417 non-null    float64\n",
            " 4   nfnc    417 non-null    float64\n",
            " 5   nfc     417 non-null    float64\n",
            " 6   fsnc    417 non-null    float64\n",
            " 7   fsc     417 non-null    float64\n",
            " 8   nsnc    417 non-null    float64\n",
            " 9   nsc     417 non-null    float64\n",
            "dtypes: float64(9), object(1)\n",
            "memory usage: 35.8+ KB\n"
          ]
        }
      ]
    },
    {
      "cell_type": "code",
      "metadata": {
        "colab": {
          "base_uri": "https://localhost:8080/",
          "height": 203
        },
        "id": "MVwm6Rlw-QG4",
        "outputId": "3288f0d9-7993-4d9e-abc4-c749d78831c1"
      },
      "source": [
        "tdf1.head()"
      ],
      "execution_count": null,
      "outputs": [
        {
          "output_type": "execute_result",
          "data": {
            "text/html": [
              "<div>\n",
              "<style scoped>\n",
              "    .dataframe tbody tr th:only-of-type {\n",
              "        vertical-align: middle;\n",
              "    }\n",
              "\n",
              "    .dataframe tbody tr th {\n",
              "        vertical-align: top;\n",
              "    }\n",
              "\n",
              "    .dataframe thead th {\n",
              "        text-align: right;\n",
              "    }\n",
              "</style>\n",
              "<table border=\"1\" class=\"dataframe\">\n",
              "  <thead>\n",
              "    <tr style=\"text-align: right;\">\n",
              "      <th></th>\n",
              "      <th>dong</th>\n",
              "      <th>총생활인구수</th>\n",
              "      <th>ffnc</th>\n",
              "      <th>ffc</th>\n",
              "      <th>nfnc</th>\n",
              "      <th>nfc</th>\n",
              "      <th>fsnc</th>\n",
              "      <th>fsc</th>\n",
              "      <th>nsnc</th>\n",
              "      <th>nsc</th>\n",
              "    </tr>\n",
              "  </thead>\n",
              "  <tbody>\n",
              "    <tr>\n",
              "      <th>0</th>\n",
              "      <td>신대방1동</td>\n",
              "      <td>15327.106516</td>\n",
              "      <td>1.0</td>\n",
              "      <td>0.0</td>\n",
              "      <td>1.0</td>\n",
              "      <td>0.0</td>\n",
              "      <td>5.0</td>\n",
              "      <td>13.0</td>\n",
              "      <td>5.0</td>\n",
              "      <td>13.0</td>\n",
              "    </tr>\n",
              "    <tr>\n",
              "      <th>1</th>\n",
              "      <td>시흥5동</td>\n",
              "      <td>10758.533521</td>\n",
              "      <td>0.0</td>\n",
              "      <td>0.0</td>\n",
              "      <td>0.0</td>\n",
              "      <td>0.0</td>\n",
              "      <td>0.0</td>\n",
              "      <td>2.0</td>\n",
              "      <td>1.0</td>\n",
              "      <td>0.0</td>\n",
              "    </tr>\n",
              "    <tr>\n",
              "      <th>2</th>\n",
              "      <td>청담동</td>\n",
              "      <td>31961.769501</td>\n",
              "      <td>1.0</td>\n",
              "      <td>0.0</td>\n",
              "      <td>0.0</td>\n",
              "      <td>2.0</td>\n",
              "      <td>13.0</td>\n",
              "      <td>19.0</td>\n",
              "      <td>26.0</td>\n",
              "      <td>0.0</td>\n",
              "    </tr>\n",
              "    <tr>\n",
              "      <th>3</th>\n",
              "      <td>신정4동</td>\n",
              "      <td>28304.621036</td>\n",
              "      <td>0.0</td>\n",
              "      <td>0.0</td>\n",
              "      <td>2.0</td>\n",
              "      <td>0.0</td>\n",
              "      <td>9.0</td>\n",
              "      <td>2.0</td>\n",
              "      <td>0.0</td>\n",
              "      <td>0.0</td>\n",
              "    </tr>\n",
              "    <tr>\n",
              "      <th>4</th>\n",
              "      <td>항동</td>\n",
              "      <td>0.000000</td>\n",
              "      <td>0.0</td>\n",
              "      <td>0.0</td>\n",
              "      <td>0.0</td>\n",
              "      <td>0.0</td>\n",
              "      <td>0.0</td>\n",
              "      <td>11.0</td>\n",
              "      <td>9.0</td>\n",
              "      <td>10.0</td>\n",
              "    </tr>\n",
              "  </tbody>\n",
              "</table>\n",
              "</div>"
            ],
            "text/plain": [
              "    dong        총생활인구수  ffnc  ffc  nfnc  nfc  fsnc   fsc  nsnc   nsc\n",
              "0  신대방1동  15327.106516   1.0  0.0   1.0  0.0   5.0  13.0   5.0  13.0\n",
              "1   시흥5동  10758.533521   0.0  0.0   0.0  0.0   0.0   2.0   1.0   0.0\n",
              "2    청담동  31961.769501   1.0  0.0   0.0  2.0  13.0  19.0  26.0   0.0\n",
              "3   신정4동  28304.621036   0.0  0.0   2.0  0.0   9.0   2.0   0.0   0.0\n",
              "4     항동      0.000000   0.0  0.0   0.0  0.0   0.0  11.0   9.0  10.0"
            ]
          },
          "metadata": {},
          "execution_count": 88
        }
      ]
    },
    {
      "cell_type": "code",
      "metadata": {
        "id": "07pi24RS9JYw"
      },
      "source": [
        "# 행정동코드_매칭정보.xlsx를 불러와 어떤 동이 빠져있는지 확인해봅시다.\n",
        "refdf = pd.read_excel('행정동코드_매칭정보.xlsx')"
      ],
      "execution_count": null,
      "outputs": []
    },
    {
      "cell_type": "code",
      "metadata": {
        "colab": {
          "base_uri": "https://localhost:8080/",
          "height": 110
        },
        "id": "dLznBcfv9Ja_",
        "outputId": "fa9cda6d-81f8-4cb6-c5d5-fa544799f3ec"
      },
      "source": [
        "refdf.head(2)"
      ],
      "execution_count": null,
      "outputs": [
        {
          "output_type": "execute_result",
          "data": {
            "text/html": [
              "<div>\n",
              "<style scoped>\n",
              "    .dataframe tbody tr th:only-of-type {\n",
              "        vertical-align: middle;\n",
              "    }\n",
              "\n",
              "    .dataframe tbody tr th {\n",
              "        vertical-align: top;\n",
              "    }\n",
              "\n",
              "    .dataframe thead th {\n",
              "        text-align: right;\n",
              "    }\n",
              "</style>\n",
              "<table border=\"1\" class=\"dataframe\">\n",
              "  <thead>\n",
              "    <tr style=\"text-align: right;\">\n",
              "      <th></th>\n",
              "      <th>통계청행정동코드</th>\n",
              "      <th>행자부행정동코드</th>\n",
              "      <th>시도명</th>\n",
              "      <th>시군구명</th>\n",
              "      <th>행정동명</th>\n",
              "    </tr>\n",
              "  </thead>\n",
              "  <tbody>\n",
              "    <tr>\n",
              "      <th>0</th>\n",
              "      <td>H_SDNG_CD</td>\n",
              "      <td>H_DNG_CD</td>\n",
              "      <td>DO_NM</td>\n",
              "      <td>CT_NM</td>\n",
              "      <td>H_DNG_NM</td>\n",
              "    </tr>\n",
              "    <tr>\n",
              "      <th>1</th>\n",
              "      <td>1101053</td>\n",
              "      <td>11110530</td>\n",
              "      <td>서울</td>\n",
              "      <td>종로구</td>\n",
              "      <td>사직동</td>\n",
              "    </tr>\n",
              "  </tbody>\n",
              "</table>\n",
              "</div>"
            ],
            "text/plain": [
              "    통계청행정동코드  행자부행정동코드    시도명   시군구명      행정동명\n",
              "0  H_SDNG_CD  H_DNG_CD  DO_NM  CT_NM  H_DNG_NM\n",
              "1    1101053  11110530     서울    종로구       사직동"
            ]
          },
          "metadata": {},
          "execution_count": 90
        }
      ]
    },
    {
      "cell_type": "code",
      "metadata": {
        "colab": {
          "base_uri": "https://localhost:8080/",
          "height": 35
        },
        "id": "JMV78Yjo-Dxp",
        "outputId": "7e1ecfe3-d5cb-43ec-de45-285ef8af2d44"
      },
      "source": [
        "refdf.iloc[1,4]"
      ],
      "execution_count": null,
      "outputs": [
        {
          "output_type": "execute_result",
          "data": {
            "application/vnd.google.colaboratory.intrinsic+json": {
              "type": "string"
            },
            "text/plain": [
              "'사직동'"
            ]
          },
          "metadata": {},
          "execution_count": 91
        }
      ]
    },
    {
      "cell_type": "code",
      "metadata": {
        "colab": {
          "base_uri": "https://localhost:8080/"
        },
        "id": "R1M7oTs89JeW",
        "outputId": "335d1460-e0ab-40ee-e4c6-12114c9c02b0"
      },
      "source": [
        "a = 0\n",
        "for i in range(1,len(refdf)):\n",
        "  b = refdf.iloc[i,4] # 행정동코드의 행정동명\n",
        "  if len(tdf1[tdf1['dong'] == str(b)]) == 1: # 일치하는게 1개 있다면~\n",
        "    a = a + 1\n",
        "  elif len(tdf1[tdf1['dong'] == str(b)]) >= 2: # 만약 중복되는게 있다면~\n",
        "    print('overlap:', b)\n",
        "  else:\n",
        "    print(b) # 하나도 없다면~\n",
        "print(a) # 행정동코드의 동과 tdf1에서의 동이 일치하는 갯수\n",
        "\n",
        "# 아래 동내에는 행정동코드에는 있지만 저희가 만든 데이터에 없는 동 들입니다. 무엇이 문제인지 확인해보겠습니다.\n",
        "# 충격적이게도 아래 동에는 전기차 충전소가 하나도 없네여.."
      ],
      "execution_count": null,
      "outputs": [
        {
          "output_type": "stream",
          "name": "stdout",
          "text": [
            "창신2동\n",
            "방학2동\n",
            "갈현1동\n",
            "독산2동\n",
            "대림2동\n",
            "서림동\n",
            "석촌동\n",
            "417\n"
          ]
        }
      ]
    },
    {
      "cell_type": "code",
      "metadata": {
        "colab": {
          "base_uri": "https://localhost:8080/"
        },
        "id": "MV85SLb8tpIS",
        "outputId": "caaef08a-b9ab-4a25-be6e-0662ca3c5636"
      },
      "source": [
        ""
      ],
      "execution_count": null,
      "outputs": [
        {
          "output_type": "execute_result",
          "data": {
            "text/plain": [
              "항동    1\n",
              "Name: dong, dtype: int64"
            ]
          },
          "metadata": {},
          "execution_count": 85
        }
      ]
    },
    {
      "cell_type": "code",
      "metadata": {
        "id": "uOc-H1113_5Z"
      },
      "source": [
        "# 생활인구 기준으로 데이터를 만듭시다. 그러면 충전기가 아예 없는 동도 확인 가능하기 때문입니다.\n",
        "tdf2 = pd.merge(df,lpdf1, how = 'right')"
      ],
      "execution_count": null,
      "outputs": []
    },
    {
      "cell_type": "code",
      "metadata": {
        "colab": {
          "base_uri": "https://localhost:8080/",
          "height": 203
        },
        "id": "2b7W6xb73_7y",
        "outputId": "58c546bf-f237-49aa-f8eb-3185fbbe13c2"
      },
      "source": [
        "tdf2.head()"
      ],
      "execution_count": null,
      "outputs": [
        {
          "output_type": "execute_result",
          "data": {
            "text/html": [
              "<div>\n",
              "<style scoped>\n",
              "    .dataframe tbody tr th:only-of-type {\n",
              "        vertical-align: middle;\n",
              "    }\n",
              "\n",
              "    .dataframe tbody tr th {\n",
              "        vertical-align: top;\n",
              "    }\n",
              "\n",
              "    .dataframe thead th {\n",
              "        text-align: right;\n",
              "    }\n",
              "</style>\n",
              "<table border=\"1\" class=\"dataframe\">\n",
              "  <thead>\n",
              "    <tr style=\"text-align: right;\">\n",
              "      <th></th>\n",
              "      <th>dong</th>\n",
              "      <th>ffnc</th>\n",
              "      <th>ffc</th>\n",
              "      <th>nfnc</th>\n",
              "      <th>nfc</th>\n",
              "      <th>fsnc</th>\n",
              "      <th>fsc</th>\n",
              "      <th>nsnc</th>\n",
              "      <th>nsc</th>\n",
              "      <th>총생활인구수</th>\n",
              "    </tr>\n",
              "  </thead>\n",
              "  <tbody>\n",
              "    <tr>\n",
              "      <th>0</th>\n",
              "      <td>가락1동</td>\n",
              "      <td>7.0</td>\n",
              "      <td>NaN</td>\n",
              "      <td>NaN</td>\n",
              "      <td>NaN</td>\n",
              "      <td>27.0</td>\n",
              "      <td>NaN</td>\n",
              "      <td>1.0</td>\n",
              "      <td>NaN</td>\n",
              "      <td>25049.834033</td>\n",
              "    </tr>\n",
              "    <tr>\n",
              "      <th>1</th>\n",
              "      <td>가락2동</td>\n",
              "      <td>5.0</td>\n",
              "      <td>1.0</td>\n",
              "      <td>NaN</td>\n",
              "      <td>NaN</td>\n",
              "      <td>4.0</td>\n",
              "      <td>2.0</td>\n",
              "      <td>4.0</td>\n",
              "      <td>NaN</td>\n",
              "      <td>24935.653890</td>\n",
              "    </tr>\n",
              "    <tr>\n",
              "      <th>2</th>\n",
              "      <td>가락본동</td>\n",
              "      <td>1.0</td>\n",
              "      <td>NaN</td>\n",
              "      <td>NaN</td>\n",
              "      <td>NaN</td>\n",
              "      <td>24.0</td>\n",
              "      <td>19.0</td>\n",
              "      <td>2.0</td>\n",
              "      <td>6.0</td>\n",
              "      <td>33157.590517</td>\n",
              "    </tr>\n",
              "    <tr>\n",
              "      <th>3</th>\n",
              "      <td>가리봉동</td>\n",
              "      <td>1.0</td>\n",
              "      <td>NaN</td>\n",
              "      <td>1.0</td>\n",
              "      <td>NaN</td>\n",
              "      <td>1.0</td>\n",
              "      <td>NaN</td>\n",
              "      <td>37.0</td>\n",
              "      <td>NaN</td>\n",
              "      <td>11048.837409</td>\n",
              "    </tr>\n",
              "    <tr>\n",
              "      <th>4</th>\n",
              "      <td>가산동</td>\n",
              "      <td>31.0</td>\n",
              "      <td>NaN</td>\n",
              "      <td>4.0</td>\n",
              "      <td>6.0</td>\n",
              "      <td>164.0</td>\n",
              "      <td>8.0</td>\n",
              "      <td>43.0</td>\n",
              "      <td>21.0</td>\n",
              "      <td>40838.242876</td>\n",
              "    </tr>\n",
              "  </tbody>\n",
              "</table>\n",
              "</div>"
            ],
            "text/plain": [
              "   dong  ffnc  ffc  nfnc  nfc   fsnc   fsc  nsnc   nsc        총생활인구수\n",
              "0  가락1동   7.0  NaN   NaN  NaN   27.0   NaN   1.0   NaN  25049.834033\n",
              "1  가락2동   5.0  1.0   NaN  NaN    4.0   2.0   4.0   NaN  24935.653890\n",
              "2  가락본동   1.0  NaN   NaN  NaN   24.0  19.0   2.0   6.0  33157.590517\n",
              "3  가리봉동   1.0  NaN   1.0  NaN    1.0   NaN  37.0   NaN  11048.837409\n",
              "4   가산동  31.0  NaN   4.0  6.0  164.0   8.0  43.0  21.0  40838.242876"
            ]
          },
          "metadata": {},
          "execution_count": 96
        }
      ]
    },
    {
      "cell_type": "code",
      "metadata": {
        "colab": {
          "base_uri": "https://localhost:8080/"
        },
        "id": "kE4kI_q25Gt9",
        "outputId": "f027d235-14e3-4ffd-c7b6-fdbf2b24611e"
      },
      "source": [
        "tdf2.info()\n",
        "# 행정동 매칭코드에 나와있는 행정동 갯수는 424개인데 1개가 누락이 되었네요,"
      ],
      "execution_count": null,
      "outputs": [
        {
          "output_type": "stream",
          "name": "stdout",
          "text": [
            "<class 'pandas.core.frame.DataFrame'>\n",
            "Int64Index: 423 entries, 0 to 422\n",
            "Data columns (total 10 columns):\n",
            " #   Column  Non-Null Count  Dtype  \n",
            "---  ------  --------------  -----  \n",
            " 0   dong    423 non-null    object \n",
            " 1   ffnc    276 non-null    float64\n",
            " 2   ffc     20 non-null     float64\n",
            " 3   nfnc    146 non-null    float64\n",
            " 4   nfc     50 non-null     float64\n",
            " 5   fsnc    327 non-null    float64\n",
            " 6   fsc     284 non-null    float64\n",
            " 7   nsnc    298 non-null    float64\n",
            " 8   nsc     195 non-null    float64\n",
            " 9   총생활인구수  423 non-null    float64\n",
            "dtypes: float64(9), object(1)\n",
            "memory usage: 36.4+ KB\n"
          ]
        }
      ]
    },
    {
      "cell_type": "code",
      "metadata": {
        "colab": {
          "base_uri": "https://localhost:8080/"
        },
        "id": "CKH77XGI5GwY",
        "outputId": "c8de2dc0-519e-4c0f-dd20-3db570fab5c7"
      },
      "source": [
        "a = 0\n",
        "for i in range(0,len(tdf2)):\n",
        "  b = tdf2.iloc[i,0] # tdf2의 행정동명\n",
        "  if len(refdf[refdf['행정동명'] == str(b)]) == 1: # 일치하는게 1개 있다면~\n",
        "    a = a + 1\n",
        "  elif len(refdf[refdf['행정동명'] == str(b)]) >= 2: # 만약 중복되는게 있다면~\n",
        "    print('overlap:', b)\n",
        "  else:\n",
        "    print(b) # 하나도 없다면~\n",
        "print(a) # 행정동코드의 동과 tdf1에서의 동이 일치하는 갯수"
      ],
      "execution_count": null,
      "outputs": [
        {
          "output_type": "stream",
          "name": "stdout",
          "text": [
            "overlap: 신사동\n",
            "422\n"
          ]
        }
      ]
    },
    {
      "cell_type": "code",
      "metadata": {
        "id": "wFMA953W5Gyx"
      },
      "source": [
        "#신사동은 강남에 1개, 관악에 1개가 있네요....... \n",
        "# 이름이 똑같은 동이 있을 줄이야 ㅠ 다음작업시에는 이런걸 확실히 따져봐야겠습니다.\n",
        "# 신사동을 구분해서 다시 파일을 만들어야겠습니다.ㅠ"
      ],
      "execution_count": null,
      "outputs": []
    },
    {
      "cell_type": "code",
      "metadata": {
        "id": "_ou3RIYD5G2O"
      },
      "source": [
        "# 구분한 파일을 가져옵니다.\n",
        "df = pd.read_excel('EVstock1.xlsx')\n",
        "refdf = pd.read_excel('행정동코드_매칭정보.xlsx')"
      ],
      "execution_count": null,
      "outputs": []
    },
    {
      "cell_type": "code",
      "metadata": {
        "colab": {
          "base_uri": "https://localhost:8080/",
          "height": 203
        },
        "id": "d-HrIEM0RHMT",
        "outputId": "7d58e48f-f6f6-4fb5-be6a-bed110e8cc5c"
      },
      "source": [
        "df.head()"
      ],
      "execution_count": null,
      "outputs": [
        {
          "output_type": "execute_result",
          "data": {
            "text/html": [
              "<div>\n",
              "<style scoped>\n",
              "    .dataframe tbody tr th:only-of-type {\n",
              "        vertical-align: middle;\n",
              "    }\n",
              "\n",
              "    .dataframe tbody tr th {\n",
              "        vertical-align: top;\n",
              "    }\n",
              "\n",
              "    .dataframe thead th {\n",
              "        text-align: right;\n",
              "    }\n",
              "</style>\n",
              "<table border=\"1\" class=\"dataframe\">\n",
              "  <thead>\n",
              "    <tr style=\"text-align: right;\">\n",
              "      <th></th>\n",
              "      <th>Unnamed: 0</th>\n",
              "      <th>ffnc</th>\n",
              "      <th>ffc</th>\n",
              "      <th>nfnc</th>\n",
              "      <th>nfc</th>\n",
              "      <th>fsnc</th>\n",
              "      <th>fsc</th>\n",
              "      <th>nsnc</th>\n",
              "      <th>nsc</th>\n",
              "    </tr>\n",
              "  </thead>\n",
              "  <tbody>\n",
              "    <tr>\n",
              "      <th>0</th>\n",
              "      <td>신대방1동</td>\n",
              "      <td>1.0</td>\n",
              "      <td>NaN</td>\n",
              "      <td>1.0</td>\n",
              "      <td>NaN</td>\n",
              "      <td>5.0</td>\n",
              "      <td>13.0</td>\n",
              "      <td>5.0</td>\n",
              "      <td>13.0</td>\n",
              "    </tr>\n",
              "    <tr>\n",
              "      <th>1</th>\n",
              "      <td>시흥5동</td>\n",
              "      <td>NaN</td>\n",
              "      <td>NaN</td>\n",
              "      <td>NaN</td>\n",
              "      <td>NaN</td>\n",
              "      <td>NaN</td>\n",
              "      <td>2.0</td>\n",
              "      <td>1.0</td>\n",
              "      <td>NaN</td>\n",
              "    </tr>\n",
              "    <tr>\n",
              "      <th>2</th>\n",
              "      <td>청담동</td>\n",
              "      <td>1.0</td>\n",
              "      <td>NaN</td>\n",
              "      <td>NaN</td>\n",
              "      <td>2.0</td>\n",
              "      <td>13.0</td>\n",
              "      <td>19.0</td>\n",
              "      <td>26.0</td>\n",
              "      <td>NaN</td>\n",
              "    </tr>\n",
              "    <tr>\n",
              "      <th>3</th>\n",
              "      <td>신정4동</td>\n",
              "      <td>NaN</td>\n",
              "      <td>NaN</td>\n",
              "      <td>2.0</td>\n",
              "      <td>NaN</td>\n",
              "      <td>9.0</td>\n",
              "      <td>2.0</td>\n",
              "      <td>NaN</td>\n",
              "      <td>NaN</td>\n",
              "    </tr>\n",
              "    <tr>\n",
              "      <th>4</th>\n",
              "      <td>항동</td>\n",
              "      <td>NaN</td>\n",
              "      <td>NaN</td>\n",
              "      <td>NaN</td>\n",
              "      <td>NaN</td>\n",
              "      <td>NaN</td>\n",
              "      <td>11.0</td>\n",
              "      <td>9.0</td>\n",
              "      <td>10.0</td>\n",
              "    </tr>\n",
              "  </tbody>\n",
              "</table>\n",
              "</div>"
            ],
            "text/plain": [
              "  Unnamed: 0  ffnc  ffc  nfnc  nfc  fsnc   fsc  nsnc   nsc\n",
              "0      신대방1동   1.0  NaN   1.0  NaN   5.0  13.0   5.0  13.0\n",
              "1       시흥5동   NaN  NaN   NaN  NaN   NaN   2.0   1.0   NaN\n",
              "2        청담동   1.0  NaN   NaN  2.0  13.0  19.0  26.0   NaN\n",
              "3       신정4동   NaN  NaN   2.0  NaN   9.0   2.0   NaN   NaN\n",
              "4         항동   NaN  NaN   NaN  NaN   NaN  11.0   9.0  10.0"
            ]
          },
          "metadata": {},
          "execution_count": 121
        }
      ]
    },
    {
      "cell_type": "code",
      "metadata": {
        "id": "dYfC3dWmRJZD"
      },
      "source": [
        "df = df.rename(columns = {'Unnamed: 0': 'dong'})"
      ],
      "execution_count": null,
      "outputs": []
    },
    {
      "cell_type": "code",
      "metadata": {
        "id": "Sd-3ouPH3__K"
      },
      "source": [
        "df029 = pd.merge(df, lpdf1, how = 'right')"
      ],
      "execution_count": null,
      "outputs": []
    },
    {
      "cell_type": "code",
      "metadata": {
        "colab": {
          "base_uri": "https://localhost:8080/",
          "height": 203
        },
        "id": "waT42vbeRYgB",
        "outputId": "eb769448-ae0c-42a1-83af-66024b80397b"
      },
      "source": [
        "df029.head()"
      ],
      "execution_count": null,
      "outputs": [
        {
          "output_type": "execute_result",
          "data": {
            "text/html": [
              "<div>\n",
              "<style scoped>\n",
              "    .dataframe tbody tr th:only-of-type {\n",
              "        vertical-align: middle;\n",
              "    }\n",
              "\n",
              "    .dataframe tbody tr th {\n",
              "        vertical-align: top;\n",
              "    }\n",
              "\n",
              "    .dataframe thead th {\n",
              "        text-align: right;\n",
              "    }\n",
              "</style>\n",
              "<table border=\"1\" class=\"dataframe\">\n",
              "  <thead>\n",
              "    <tr style=\"text-align: right;\">\n",
              "      <th></th>\n",
              "      <th>dong</th>\n",
              "      <th>ffnc</th>\n",
              "      <th>ffc</th>\n",
              "      <th>nfnc</th>\n",
              "      <th>nfc</th>\n",
              "      <th>fsnc</th>\n",
              "      <th>fsc</th>\n",
              "      <th>nsnc</th>\n",
              "      <th>nsc</th>\n",
              "      <th>총생활인구수</th>\n",
              "    </tr>\n",
              "  </thead>\n",
              "  <tbody>\n",
              "    <tr>\n",
              "      <th>0</th>\n",
              "      <td>가락1동</td>\n",
              "      <td>7.0</td>\n",
              "      <td>NaN</td>\n",
              "      <td>NaN</td>\n",
              "      <td>NaN</td>\n",
              "      <td>27.0</td>\n",
              "      <td>NaN</td>\n",
              "      <td>1.0</td>\n",
              "      <td>NaN</td>\n",
              "      <td>25049.834033</td>\n",
              "    </tr>\n",
              "    <tr>\n",
              "      <th>1</th>\n",
              "      <td>가락2동</td>\n",
              "      <td>5.0</td>\n",
              "      <td>1.0</td>\n",
              "      <td>NaN</td>\n",
              "      <td>NaN</td>\n",
              "      <td>4.0</td>\n",
              "      <td>2.0</td>\n",
              "      <td>4.0</td>\n",
              "      <td>NaN</td>\n",
              "      <td>24935.653890</td>\n",
              "    </tr>\n",
              "    <tr>\n",
              "      <th>2</th>\n",
              "      <td>가락본동</td>\n",
              "      <td>1.0</td>\n",
              "      <td>NaN</td>\n",
              "      <td>NaN</td>\n",
              "      <td>NaN</td>\n",
              "      <td>24.0</td>\n",
              "      <td>19.0</td>\n",
              "      <td>2.0</td>\n",
              "      <td>6.0</td>\n",
              "      <td>33157.590517</td>\n",
              "    </tr>\n",
              "    <tr>\n",
              "      <th>3</th>\n",
              "      <td>가리봉동</td>\n",
              "      <td>1.0</td>\n",
              "      <td>NaN</td>\n",
              "      <td>1.0</td>\n",
              "      <td>NaN</td>\n",
              "      <td>1.0</td>\n",
              "      <td>NaN</td>\n",
              "      <td>37.0</td>\n",
              "      <td>NaN</td>\n",
              "      <td>11048.837409</td>\n",
              "    </tr>\n",
              "    <tr>\n",
              "      <th>4</th>\n",
              "      <td>가산동</td>\n",
              "      <td>31.0</td>\n",
              "      <td>NaN</td>\n",
              "      <td>4.0</td>\n",
              "      <td>6.0</td>\n",
              "      <td>164.0</td>\n",
              "      <td>8.0</td>\n",
              "      <td>43.0</td>\n",
              "      <td>21.0</td>\n",
              "      <td>40838.242876</td>\n",
              "    </tr>\n",
              "  </tbody>\n",
              "</table>\n",
              "</div>"
            ],
            "text/plain": [
              "   dong  ffnc  ffc  nfnc  nfc   fsnc   fsc  nsnc   nsc        총생활인구수\n",
              "0  가락1동   7.0  NaN   NaN  NaN   27.0   NaN   1.0   NaN  25049.834033\n",
              "1  가락2동   5.0  1.0   NaN  NaN    4.0   2.0   4.0   NaN  24935.653890\n",
              "2  가락본동   1.0  NaN   NaN  NaN   24.0  19.0   2.0   6.0  33157.590517\n",
              "3  가리봉동   1.0  NaN   1.0  NaN    1.0   NaN  37.0   NaN  11048.837409\n",
              "4   가산동  31.0  NaN   4.0  6.0  164.0   8.0  43.0  21.0  40838.242876"
            ]
          },
          "metadata": {},
          "execution_count": 124
        }
      ]
    },
    {
      "cell_type": "code",
      "metadata": {
        "colab": {
          "base_uri": "https://localhost:8080/"
        },
        "id": "RzdoHPxnS4Ki",
        "outputId": "b30c2ceb-ea91-444c-e578-de740bbaa326"
      },
      "source": [
        "df029.info()"
      ],
      "execution_count": null,
      "outputs": [
        {
          "output_type": "stream",
          "name": "stdout",
          "text": [
            "<class 'pandas.core.frame.DataFrame'>\n",
            "Int64Index: 423 entries, 0 to 422\n",
            "Data columns (total 10 columns):\n",
            " #   Column  Non-Null Count  Dtype  \n",
            "---  ------  --------------  -----  \n",
            " 0   dong    423 non-null    object \n",
            " 1   ffnc    275 non-null    float64\n",
            " 2   ffc     20 non-null     float64\n",
            " 3   nfnc    146 non-null    float64\n",
            " 4   nfc     50 non-null     float64\n",
            " 5   fsnc    326 non-null    float64\n",
            " 6   fsc     283 non-null    float64\n",
            " 7   nsnc    298 non-null    float64\n",
            " 8   nsc     195 non-null    float64\n",
            " 9   총생활인구수  423 non-null    float64\n",
            "dtypes: float64(9), object(1)\n",
            "memory usage: 36.4+ KB\n"
          ]
        }
      ]
    },
    {
      "cell_type": "code",
      "metadata": {
        "colab": {
          "base_uri": "https://localhost:8080/"
        },
        "id": "Jfagu831RYjc",
        "outputId": "4269f0e7-c4e2-4504-bd12-7cf2693d33a7"
      },
      "source": [
        "# 아래 코드를 함수로 만들면어도 좋았을것 같네영..ㅎㅎ\n",
        "a = 0\n",
        "for i in range(0,len(df029)):\n",
        "  b = df029.iloc[i,0] \n",
        "  if len(refdf[refdf['행정동명'] == str(b)]) == 1: # 일치하는게 1개 있다면~\n",
        "    a = a + 1\n",
        "  elif len(refdf[refdf['행정동명'] == str(b)]) >= 2: # 만약 중복되는게 있다면~\n",
        "    print('overlap:', b)\n",
        "  else:\n",
        "    print(b) # 하나도 없다면~\n",
        "print(a) # 행정동코드의 동과 tdf1에서의 동이 일치하는 갯수\n",
        "\n",
        "#중복되는게 없는 것을 확인 할 수 있네요!\n",
        "# 424개가 나와야하는데 무슨 문제일까요,,,\n"
      ],
      "execution_count": null,
      "outputs": [
        {
          "output_type": "stream",
          "name": "stdout",
          "text": [
            "423\n"
          ]
        }
      ]
    },
    {
      "cell_type": "code",
      "metadata": {
        "colab": {
          "base_uri": "https://localhost:8080/"
        },
        "id": "y9626hWhTncY",
        "outputId": "b4f4bb6b-18d8-43eb-b395-2a0877a43587"
      },
      "source": [
        "a = 0\n",
        "for i in range(0,len(refdf)):\n",
        "  b = refdf.iloc[i,4] \n",
        "  if len(df029[df029['dong'] == str(b)]) == 1: # 일치하는게 1개 있다면~\n",
        "    a = a + 1\n",
        "  elif len(df029[df029['dong'] == str(b)]) >= 2: # 만약 중복되는게 있다면~\n",
        "    print('overlap:', b)\n",
        "  else:\n",
        "    print(b) # 하나도 없다면~\n",
        "print(a) # 행정동코드의 동과 tdf1에서의 동이 일치하는 갯수\n",
        "\n",
        "# 생활인구 데이터에서 신사동(관악)을 구분해야하는데 그렇지 못했네요 ㅠ"
      ],
      "execution_count": null,
      "outputs": [
        {
          "output_type": "stream",
          "name": "stdout",
          "text": [
            "H_DNG_NM\n",
            "신사동(관악)\n",
            "423\n"
          ]
        }
      ]
    },
    {
      "cell_type": "code",
      "metadata": {
        "id": "UtlQjZ-kU2Vu"
      },
      "source": [
        "# 다시만든 생활인구 데이터를 가져오겠습니다."
      ],
      "execution_count": null,
      "outputs": []
    },
    {
      "cell_type": "code",
      "metadata": {
        "id": "l08aZgl_U2YJ"
      },
      "source": [
        ""
      ],
      "execution_count": null,
      "outputs": []
    },
    {
      "cell_type": "code",
      "metadata": {
        "id": "NcqtXqIwU2br"
      },
      "source": [
        ""
      ],
      "execution_count": null,
      "outputs": []
    }
  ]
}